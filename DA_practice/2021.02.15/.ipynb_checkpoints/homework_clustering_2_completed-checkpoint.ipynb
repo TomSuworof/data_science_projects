{
 "cells": [
  {
   "cell_type": "markdown",
   "metadata": {
    "id": "2YhgOWclqTQF"
   },
   "source": [
    "## <center> Обучение без учителя: кластеризация"
   ]
  },
  {
   "cell_type": "markdown",
   "metadata": {
    "id": "9nds3PI-qTQZ"
   },
   "source": [
    "В этом задании мы разберемся как работают методы кластеризации данных.\n",
    "\n",
    "Мы будем работать с набором данных [Samsung Human Activity Recognition](https://archive.ics.uci.edu/ml/datasets/Human+Activity+Recognition+Using+Smartphones). Скачайте данные [отсюда](https://drive.google.com/file/d/14RukQ0ylM2GCdViUHBBjZ2imCaYcjlux/view?usp=sharing). Данные поступают с акселерометров и гироскопов мобильных телефонов Samsung Galaxy S3 (подробнее про признаки – по ссылке на UCI выше), также известен вид активности человека с телефоном в кармане – ходил ли он, стоял, лежал, сидел или шел вверх/вниз по лестнице. \n",
    "\n",
    "Представим, что вид активности нам неизвестнен, и попробуем кластеризовать людей чисто на основе имеющихся признаков. \n"
   ]
  },
  {
   "cell_type": "code",
   "execution_count": 1,
   "metadata": {
    "id": "HIyNe3QTqTQb"
   },
   "outputs": [],
   "source": [
    "import numpy as np\n",
    "import pandas as pd\n",
    "import seaborn as sns\n",
    "from tqdm import tqdm_notebook\n",
    "\n",
    "%matplotlib inline\n",
    "from matplotlib import pyplot as plt\n",
    "plt.style.use(['seaborn-darkgrid'])\n",
    "plt.rcParams['figure.figsize'] = (12, 9)\n",
    "plt.rcParams['font.family'] = 'DejaVu Sans'\n",
    "\n",
    "from sklearn import metrics\n",
    "from sklearn.cluster import KMeans, AgglomerativeClustering\n",
    "from sklearn.decomposition import PCA\n",
    "from sklearn.model_selection import GridSearchCV\n",
    "from sklearn.preprocessing import StandardScaler\n"
   ]
  },
  {
   "cell_type": "code",
   "execution_count": 2,
   "metadata": {
    "id": "AMZI5v7eqTQc"
   },
   "outputs": [],
   "source": [
    "X_train = np.loadtxt(\"samsung_train.txt\")\n",
    "y_train = np.loadtxt(\"samsung_train_labels.txt\").astype(int)\n",
    "\n",
    "X_test = np.loadtxt(\"samsung_test.txt\")\n",
    "y_test = np.loadtxt(\"samsung_test_labels.txt\").astype(int)"
   ]
  },
  {
   "cell_type": "code",
   "execution_count": 3,
   "metadata": {
    "id": "Scwa_kdoqTQd"
   },
   "outputs": [],
   "source": [
    "# Проверим размерности\n",
    "assert(X_train.shape == (7352, 561) and y_train.shape == (7352,))\n",
    "assert(X_test.shape == (2947, 561) and y_test.shape == (2947,))"
   ]
  },
  {
   "cell_type": "code",
   "execution_count": 4,
   "metadata": {
    "colab": {
     "base_uri": "https://localhost:8080/"
    },
    "id": "bwYCl-57qTQd",
    "outputId": "0f7acd26-76b6-46e7-ac6c-e7ed3a7b6084"
   },
   "outputs": [
    {
     "data": {
      "text/plain": [
       "(7352, 561)"
      ]
     },
     "execution_count": 4,
     "metadata": {
      "tags": []
     },
     "output_type": "execute_result"
    }
   ],
   "source": [
    "X_train.shape"
   ]
  },
  {
   "cell_type": "markdown",
   "metadata": {
    "id": "FKLszhLeqTQf"
   },
   "source": [
    "Для кластеризации нам не нужен вектор ответов, поэтому будем работать с объединением обучающей и тестовой выборок. Объедините *X_train* с *X_test*, а *y_train* – с *y_test*. "
   ]
  },
  {
   "cell_type": "code",
   "execution_count": 5,
   "metadata": {
    "id": "IwIro8cfqTQg"
   },
   "outputs": [],
   "source": [
    "X = np.vstack([X_train,X_test])\n",
    "y = np.hstack([y_train,y_test])"
   ]
  },
  {
   "cell_type": "code",
   "execution_count": 6,
   "metadata": {
    "colab": {
     "base_uri": "https://localhost:8080/"
    },
    "id": "qLdxjpaPqTQh",
    "outputId": "6db115a9-378c-4b02-daea-73d0ad0e967e"
   },
   "outputs": [
    {
     "data": {
      "text/plain": [
       "array([[ 0.28858451, -0.02029417, -0.13290514, ..., -0.84124676,\n",
       "         0.17994061, -0.05862692],\n",
       "       [ 0.27841883, -0.01641057, -0.12352019, ..., -0.8447876 ,\n",
       "         0.18028889, -0.05431672],\n",
       "       [ 0.27965306, -0.01946716, -0.11346169, ..., -0.84893347,\n",
       "         0.18063731, -0.04911782],\n",
       "       ...,\n",
       "       [ 0.34996609,  0.03007744, -0.11578796, ..., -0.65535684,\n",
       "         0.27447878,  0.18118355],\n",
       "       [ 0.23759383,  0.01846687, -0.09649893, ..., -0.65971859,\n",
       "         0.26478161,  0.18756291],\n",
       "       [ 0.15362719, -0.01843651, -0.13701846, ..., -0.66008023,\n",
       "         0.26393619,  0.1881034 ]])"
      ]
     },
     "execution_count": 6,
     "metadata": {
      "tags": []
     },
     "output_type": "execute_result"
    }
   ],
   "source": [
    "X"
   ]
  },
  {
   "cell_type": "markdown",
   "metadata": {
    "id": "4FWFMQL0qTQi"
   },
   "source": [
    "Определим число уникальных значений меток целевого класса."
   ]
  },
  {
   "cell_type": "code",
   "execution_count": 7,
   "metadata": {
    "colab": {
     "base_uri": "https://localhost:8080/"
    },
    "id": "SdnmoCCnqTQi",
    "outputId": "69ee452c-d5ca-484c-fe83-de0f828a480f"
   },
   "outputs": [
    {
     "data": {
      "text/plain": [
       "array([1, 2, 3, 4, 5, 6])"
      ]
     },
     "execution_count": 7,
     "metadata": {
      "tags": []
     },
     "output_type": "execute_result"
    }
   ],
   "source": [
    "np.unique(y)"
   ]
  },
  {
   "cell_type": "code",
   "execution_count": 8,
   "metadata": {
    "colab": {
     "base_uri": "https://localhost:8080/"
    },
    "id": "jVXh6Mq1qTQj",
    "outputId": "3332f3f1-8f6a-41c9-8d41-40900e200242"
   },
   "outputs": [
    {
     "data": {
      "text/plain": [
       "6"
      ]
     },
     "execution_count": 8,
     "metadata": {
      "tags": []
     },
     "output_type": "execute_result"
    }
   ],
   "source": [
    "n_classes = np.unique(y).size\n",
    "n_classes"
   ]
  },
  {
   "cell_type": "markdown",
   "metadata": {
    "id": "72hbOWbuqTQk"
   },
   "source": [
    "[Эти метки соответствуют:](https://archive.ics.uci.edu/ml/machine-learning-databases/00240/UCI%20HAR%20Dataset.names)\n",
    "- 1 - ходьбе\n",
    "- 2 - подъему вверх по лестнице\n",
    "- 3 - спуску по лестнице\n",
    "- 4 - сидению\n",
    "- 5 - стоянию\n",
    "- 6 - лежанию\n"
   ]
  },
  {
   "cell_type": "markdown",
   "metadata": {
    "id": "JOrCRa3CqTQk"
   },
   "source": [
    "Отмасштабируем выборку с помощью `StandardScaler` с параметрами по умолчанию."
   ]
  },
  {
   "cell_type": "code",
   "execution_count": 9,
   "metadata": {
    "id": "DR9slwgdqTQl"
   },
   "outputs": [],
   "source": [
    "scaler = StandardScaler()\n",
    "X_scaled = scaler.fit_transform(X)"
   ]
  },
  {
   "cell_type": "code",
   "execution_count": 10,
   "metadata": {
    "colab": {
     "base_uri": "https://localhost:8080/"
    },
    "id": "VWDgQUlDqTQm",
    "outputId": "04ddc163-5c48-41dc-e67e-505dc16e68b6",
    "scrolled": true
   },
   "outputs": [
    {
     "data": {
      "text/plain": [
       "array([[ 2.10533854e-01, -6.87026385e-02, -4.52194533e-01, ...,\n",
       "        -6.74432366e-01,  3.82007658e-01, -1.61505480e-02],\n",
       "       [ 6.02084832e-02,  3.59023537e-02, -2.75221885e-01, ...,\n",
       "        -6.81359801e-01,  3.83147865e-01, -1.20627169e-04],\n",
       "       [ 7.84597052e-02, -4.64269585e-02, -8.55480582e-02, ...,\n",
       "        -6.89470939e-01,  3.84288531e-01,  1.92144041e-02],\n",
       "       ...,\n",
       "       [ 1.11821625e+00,  1.28805864e+00, -1.29414692e-01, ...,\n",
       "        -3.10750224e-01,  6.91509049e-01,  8.75719123e-01],\n",
       "       [-5.43492722e-01,  9.75327452e-01,  2.34319837e-01, ...,\n",
       "        -3.19283719e-01,  6.59762215e-01,  8.99444350e-01],\n",
       "       [-1.78515253e+00, -1.86663622e-02, -5.29759691e-01, ...,\n",
       "        -3.19991245e-01,  6.56994458e-01,  9.01454465e-01]])"
      ]
     },
     "execution_count": 10,
     "metadata": {
      "tags": []
     },
     "output_type": "execute_result"
    }
   ],
   "source": [
    "X_scaled"
   ]
  },
  {
   "cell_type": "markdown",
   "metadata": {
    "id": "vm42Sj9GqTQm"
   },
   "source": [
    "Сделаем кластеризацию данных методом `KMeans`. В данном случае известно, что нужно искать именно 6 кластеров, но в общем случае мы не будем знать, сколько кластеров надо искать.\n",
    "\n",
    "Параметры:\n",
    "\n",
    "- **n_clusters** = n_classes (число уникальных меток целевого класса)\n",
    "- **n_init** = 100\n",
    "- **random_state** = RANDOM_STATE (для воспроизводимости результата)\n",
    "\n",
    "Остальные параметры со значениями по умолчанию."
   ]
  },
  {
   "cell_type": "code",
   "execution_count": 11,
   "metadata": {
    "id": "CPZ3DDGPqTQn"
   },
   "outputs": [],
   "source": [
    "kmeans = KMeans(n_clusters=6, n_init=100, random_state=123)\n",
    "kmeans.fit(X)\n",
    "cluster_labels = kmeans.labels_"
   ]
  },
  {
   "cell_type": "markdown",
   "metadata": {
    "id": "L3NzOJjMqTQn"
   },
   "source": [
    "Посмотрим на соответствие между метками кластеров и исходными метками классов и на то, какие виды активностей алгоритм `KMeans` путает."
   ]
  },
  {
   "cell_type": "code",
   "execution_count": 12,
   "metadata": {
    "colab": {
     "base_uri": "https://localhost:8080/",
     "height": 254
    },
    "id": "fzuS0DFAqTQo",
    "outputId": "765cb2f0-35e5-4bfa-e2df-8a26ef84c41a"
   },
   "outputs": [
    {
     "data": {
      "text/html": [
       "<div>\n",
       "<style scoped>\n",
       "    .dataframe tbody tr th:only-of-type {\n",
       "        vertical-align: middle;\n",
       "    }\n",
       "\n",
       "    .dataframe tbody tr th {\n",
       "        vertical-align: top;\n",
       "    }\n",
       "\n",
       "    .dataframe thead th {\n",
       "        text-align: right;\n",
       "    }\n",
       "</style>\n",
       "<table border=\"1\" class=\"dataframe\">\n",
       "  <thead>\n",
       "    <tr style=\"text-align: right;\">\n",
       "      <th></th>\n",
       "      <th>cluster1</th>\n",
       "      <th>cluster2</th>\n",
       "      <th>cluster3</th>\n",
       "      <th>cluster4</th>\n",
       "      <th>cluster5</th>\n",
       "      <th>cluster6</th>\n",
       "      <th>все</th>\n",
       "    </tr>\n",
       "  </thead>\n",
       "  <tbody>\n",
       "    <tr>\n",
       "      <th>ходьба</th>\n",
       "      <td>150</td>\n",
       "      <td>0</td>\n",
       "      <td>699</td>\n",
       "      <td>0</td>\n",
       "      <td>873</td>\n",
       "      <td>0</td>\n",
       "      <td>1722</td>\n",
       "    </tr>\n",
       "    <tr>\n",
       "      <th>подъем вверх по лестнице</th>\n",
       "      <td>82</td>\n",
       "      <td>0</td>\n",
       "      <td>1165</td>\n",
       "      <td>0</td>\n",
       "      <td>297</td>\n",
       "      <td>0</td>\n",
       "      <td>1544</td>\n",
       "    </tr>\n",
       "    <tr>\n",
       "      <th>спуск по лестнице</th>\n",
       "      <td>455</td>\n",
       "      <td>0</td>\n",
       "      <td>186</td>\n",
       "      <td>0</td>\n",
       "      <td>765</td>\n",
       "      <td>0</td>\n",
       "      <td>1406</td>\n",
       "    </tr>\n",
       "    <tr>\n",
       "      <th>сидение</th>\n",
       "      <td>0</td>\n",
       "      <td>1253</td>\n",
       "      <td>3</td>\n",
       "      <td>49</td>\n",
       "      <td>0</td>\n",
       "      <td>472</td>\n",
       "      <td>1777</td>\n",
       "    </tr>\n",
       "    <tr>\n",
       "      <th>стояние</th>\n",
       "      <td>0</td>\n",
       "      <td>1232</td>\n",
       "      <td>0</td>\n",
       "      <td>0</td>\n",
       "      <td>0</td>\n",
       "      <td>674</td>\n",
       "      <td>1906</td>\n",
       "    </tr>\n",
       "    <tr>\n",
       "      <th>лежание</th>\n",
       "      <td>0</td>\n",
       "      <td>0</td>\n",
       "      <td>12</td>\n",
       "      <td>1761</td>\n",
       "      <td>0</td>\n",
       "      <td>171</td>\n",
       "      <td>1944</td>\n",
       "    </tr>\n",
       "    <tr>\n",
       "      <th>все</th>\n",
       "      <td>687</td>\n",
       "      <td>2485</td>\n",
       "      <td>2065</td>\n",
       "      <td>1810</td>\n",
       "      <td>1935</td>\n",
       "      <td>1317</td>\n",
       "      <td>10299</td>\n",
       "    </tr>\n",
       "  </tbody>\n",
       "</table>\n",
       "</div>"
      ],
      "text/plain": [
       "                          cluster1  cluster2  ...  cluster6    все\n",
       "ходьба                         150         0  ...         0   1722\n",
       "подъем вверх по лестнице        82         0  ...         0   1544\n",
       "спуск по лестнице              455         0  ...         0   1406\n",
       "сидение                          0      1253  ...       472   1777\n",
       "стояние                          0      1232  ...       674   1906\n",
       "лежание                          0         0  ...       171   1944\n",
       "все                            687      2485  ...      1317  10299\n",
       "\n",
       "[7 rows x 7 columns]"
      ]
     },
     "execution_count": 12,
     "metadata": {
      "tags": []
     },
     "output_type": "execute_result"
    }
   ],
   "source": [
    "tab = pd.crosstab(y, cluster_labels, margins=True)\n",
    "tab.index = ['ходьба', 'подъем вверх по лестнице', \n",
    "             'спуск по лестнице', 'сидение', 'стояние', 'лежание', 'все']\n",
    "tab.columns = ['cluster' + str(i + 1) for i in range(6)] + ['все']\n",
    "tab"
   ]
  },
  {
   "cell_type": "markdown",
   "metadata": {
    "id": "Wft304fkqTQp"
   },
   "source": [
    "Видим, что каждому классу (т.е. каждой активности) соответствуют несколько кластеров. Давайте посмотрим на максимальную долю объектов в классе, отнесенных к какому-то одному кластеру. Это будет простой метрикой, характеризующей, насколько легко класс отделяется от других при кластеризации. \n",
    "\n",
    "Пример: если для класса \"спуск по лестнице\", в котором 1406 объектов,  распределение кластеров такое:\n",
    " - кластер 1 – 900\n",
    " - кластер 3 – 500\n",
    " - кластер 6 – 6,\n",
    " \n",
    "то такая доля будет 900 / 1406 $\\approx$ 0.64.\n",
    " \n",
    "\n",
    "**Вопрос 1:**<br>\n",
    "Какой вид активности отделился от остальных лучше всего в терминах простой  метрики, описанной выше?<br>\n"
   ]
  },
  {
   "cell_type": "code",
   "execution_count": 13,
   "metadata": {
    "colab": {
     "base_uri": "https://localhost:8080/"
    },
    "id": "HfLB7k7BqTQp",
    "outputId": "112004fc-ab51-4ef3-9c32-78a2c67a8da2"
   },
   "outputs": [
    {
     "data": {
      "text/plain": [
       "{'все': array([ 687, 2485, 2065, 1810, 1935, 1317]),\n",
       " 'лежание': array([   0,    0,   12, 1761,    0,  171]),\n",
       " 'подъем вверх по лестнице': array([  82,    0, 1165,    0,  297,    0]),\n",
       " 'сидение': array([   0, 1253,    3,   49,    0,  472]),\n",
       " 'спуск по лестнице': array([455,   0, 186,   0, 765,   0]),\n",
       " 'стояние': array([   0, 1232,    0,    0,    0,  674]),\n",
       " 'ходьба': array([150,   0, 699,   0, 873,   0])}"
      ]
     },
     "execution_count": 13,
     "metadata": {
      "tags": []
     },
     "output_type": "execute_result"
    }
   ],
   "source": [
    "activities = [array[0:-1] for array in tab.values]\n",
    "\n",
    "act_lbls = ['ходьба', 'подъем вверх по лестнице', 'спуск по лестнице', 'сидение', 'стояние', 'лежание', 'все']\n",
    "\n",
    "act_tab = {activity: clusters for activity, clusters in zip(act_lbls, activities)}\n",
    "act_tab"
   ]
  },
  {
   "cell_type": "code",
   "execution_count": 14,
   "metadata": {
    "colab": {
     "base_uri": "https://localhost:8080/"
    },
    "id": "3yUQ-NLmqTQq",
    "outputId": "658a757f-89d9-4d7f-899f-6fb99a5502e6"
   },
   "outputs": [
    {
     "data": {
      "text/plain": [
       "{'все': 0.2412855617050199,\n",
       " 'лежание': 0.9058641975308642,\n",
       " 'подъем вверх по лестнице': 0.7545336787564767,\n",
       " 'сидение': 0.7051209904333146,\n",
       " 'спуск по лестнице': 0.5440967283072546,\n",
       " 'стояние': 0.646379853095488,\n",
       " 'ходьба': 0.5069686411149826}"
      ]
     },
     "execution_count": 14,
     "metadata": {
      "tags": []
     },
     "output_type": "execute_result"
    }
   ],
   "source": [
    "act_tab = {activity: (max(clusters) / sum(clusters)) for activity, clusters in zip(act_lbls, activities)}\n",
    "act_tab"
   ]
  },
  {
   "cell_type": "code",
   "execution_count": 15,
   "metadata": {
    "colab": {
     "base_uri": "https://localhost:8080/"
    },
    "id": "NYpJIMjLqTQr",
    "outputId": "f3461e09-07d6-49cd-f1c3-d02a6fd42011"
   },
   "outputs": [
    {
     "data": {
      "text/plain": [
       "['лежание',\n",
       " 'сидение',\n",
       " 'ходьба',\n",
       " 'подъем вверх по лестнице',\n",
       " 'спуск по лестнице',\n",
       " 'все',\n",
       " 'стояние']"
      ]
     },
     "execution_count": 15,
     "metadata": {
      "tags": []
     },
     "output_type": "execute_result"
    }
   ],
   "source": [
    "sorted(act_tab, key=lambda x: x[1])"
   ]
  },
  {
   "cell_type": "markdown",
   "metadata": {
    "id": "XschYBCGqTQs"
   },
   "source": [
    "Видно, что kMeans не очень хорошо отличает только активности друг от друга. Используйте критерии инерции и силуэта, рассмотренные на практикуме, чтобы определить оптимальное количество кластеров (параметры алгоритма и данные используем те же, что раньше, изменяем только `n_clusters`)"
   ]
  },
  {
   "cell_type": "code",
   "execution_count": 17,
   "metadata": {
    "colab": {
     "base_uri": "https://localhost:8080/",
     "height": 604
    },
    "id": "EF9tCqSZqTQs",
    "outputId": "b355008f-57da-4fb8-999a-530fcf87555c"
   },
   "outputs": [
    {
     "data": {
      "image/png": "[encoded data removed]",
      "text/plain": [
       "<Figure size 432x288 with 1 Axes>"
      ]
     },
     "metadata": {
      "needs_background": "light",
      "tags": []
     },
     "output_type": "display_data"
    },
    {
     "name": "stdout",
     "output_type": "stream",
     "text": [
      "[0.48107627299425504, 0.3242293360389572, 0.1868211411199481, 0.16481206108454222, 0.13287861322748337, 0.11877778513620839, 0.10217296677388678, 0.10974452961732574]\n"
     ]
    },
    {
     "data": {
      "image/png": "[encoded data removed]",
      "text/plain": [
       "<Figure size 432x288 with 1 Axes>"
      ]
     },
     "metadata": {
      "needs_background": "light",
      "tags": []
     },
     "output_type": "display_data"
    }
   ],
   "source": [
    "from sklearn.metrics import silhouette_score\n",
    "\n",
    "inertia = []\n",
    "silhouette = []\n",
    "k = range(2, 10)\n",
    "for k_i in k:\n",
    "    km = KMeans(n_clusters=k_i)\n",
    "    km.fit(X)\n",
    "    inertia.append(km.inertia_)\n",
    "    silhouette.append(silhouette_score(X, km.labels_))\n",
    "    \n",
    "plt.plot(k, inertia)\n",
    "plt.xlabel('x')\n",
    "plt.ylabel('inertia')\n",
    "plt.title('Optimal k by Elbow Method')\n",
    "plt.show()\n",
    "\n",
    "print(silhouette)\n",
    "\n",
    "plt.plot(k, silhouette)\n",
    "plt.xlabel('x')\n",
    "plt.ylabel('silhouette')\n",
    "plt.title('Optimal k by Silhouette')\n",
    "plt.show()"
   ]
  },
  {
   "cell_type": "markdown",
   "metadata": {
    "id": "mP-q_fORqTQu"
   },
   "source": [
    "Попробуем еще один метод кластеризации, агломеративную кластеризацию."
   ]
  },
  {
   "cell_type": "code",
   "execution_count": 18,
   "metadata": {
    "id": "6wLGxKemqTQu"
   },
   "outputs": [],
   "source": [
    "ag = AgglomerativeClustering(n_clusters=n_classes, linkage='ward').fit(X)"
   ]
  },
  {
   "cell_type": "code",
   "execution_count": 19,
   "metadata": {
    "id": "oTkK7ZgnqTQv"
   },
   "outputs": [],
   "source": [
    "km = KMeans(n_clusters=n_classes, n_init=100, random_state=123).fit(X)"
   ]
  },
  {
   "cell_type": "markdown",
   "metadata": {
    "id": "OIRXz0PrqTQv"
   },
   "source": [
    "Посчитайте Adjusted Rand Index для разбиений ag и km, где n_classes = подобранное  оптимальное количество кластеров в предыдущем задании."
   ]
  },
  {
   "cell_type": "code",
   "execution_count": 20,
   "metadata": {
    "colab": {
     "base_uri": "https://localhost:8080/"
    },
    "id": "C7eSUe00qTQw",
    "outputId": "c9779e99-d73c-4990-f3d1-e94ab5b4a8da"
   },
   "outputs": [
    {
     "name": "stdout",
     "output_type": "stream",
     "text": [
      "0.49090734475031733\n",
      "0.4609885711698349\n"
     ]
    }
   ],
   "source": [
    "from sklearn.metrics import adjusted_rand_score\n",
    "\n",
    "print(adjusted_rand_score(ag.labels_, y))\n",
    "\n",
    "print(adjusted_rand_score(km.labels_, y))"
   ]
  },
  {
   "cell_type": "markdown",
   "metadata": {
    "id": "y4I_InkGqTQw"
   },
   "source": [
    "**Вопрос 2:**<br>\n",
    "Отметьте все верные утверждения.<br>\n",
    "\n",
    "**Варианты:**\n",
    "- Согласно ARI, KMeans справился с кластеризацией хуже, чем Agglomerative Clustering\n",
    "    - True\n",
    "- Для ARI не имеет значения какие именно метки присвоены кластерам, имеет значение только разбиение объектов на кластеры\n",
    "    - False\n",
    "- В случае случайного разбиения на кластеры ARI будет близок к нулю\n",
    "    -  True"
   ]
  },
  {
   "cell_type": "markdown",
   "metadata": {
    "id": "ID2iH90aqTQx"
   },
   "source": [
    "## ДЗ БОНУС "
   ]
  },
  {
   "cell_type": "markdown",
   "metadata": {
    "id": "NUlq7bDcqTQx"
   },
   "source": [
    "Попробуйте метод кластеризации DBSCAN c параметрами по умолчанию. Посчитайте для него ARI."
   ]
  },
  {
   "cell_type": "code",
   "execution_count": 21,
   "metadata": {
    "colab": {
     "base_uri": "https://localhost:8080/"
    },
    "id": "NhgpoXjtqTQy",
    "outputId": "58ae5970-77f3-4a58-bb57-ad311ddee3eb"
   },
   "outputs": [
    {
     "name": "stdout",
     "output_type": "stream",
     "text": [
      "[-1 -1 -1 ... -1 -1 -1]\n",
      "0.0\n"
     ]
    }
   ],
   "source": [
    "from sklearn.cluster import DBSCAN\n",
    "\n",
    "ds = DBSCAN().fit(X)\n",
    "\n",
    "print(ds.labels_)\n",
    "print(adjusted_rand_score(ds.labels_, y))"
   ]
  },
  {
   "cell_type": "markdown",
   "metadata": {
    "id": "F9lxLzzMqTQy"
   },
   "source": [
    "Подберите оптимальные параметры min_samples и eps с помощью эвристики. Описание эвристики можно посмотреть здесь https://habr.com/ru/post/322034/.\n",
    "Запустите DBSCAN еще раз и посмотрите как изменился ARI."
   ]
  },
  {
   "cell_type": "code",
   "execution_count": 22,
   "metadata": {
    "colab": {
     "base_uri": "https://localhost:8080/"
    },
    "id": "02sH4q_iqTQz",
    "outputId": "d032d2af-288f-4759-889d-8b6253c83112"
   },
   "outputs": [
    {
     "data": {
      "text/plain": [
       "array([5, 5, 5, ..., 2, 2, 2])"
      ]
     },
     "execution_count": 22,
     "metadata": {
      "tags": []
     },
     "output_type": "execute_result"
    }
   ],
   "source": [
    "y"
   ]
  },
  {
   "cell_type": "code",
   "execution_count": 23,
   "metadata": {
    "colab": {
     "base_uri": "https://localhost:8080/"
    },
    "id": "_cG8vHa2t6TS",
    "outputId": "c941d409-5c87-4cd7-92db-e1773b7b5aa0"
   },
   "outputs": [
    {
     "name": "stdout",
     "output_type": "stream",
     "text": [
      "points: 4; epsilon: 1; score: 0.0\n",
      "points: 4; epsilon: 2; score: 0.0\n",
      "points: 4; epsilon: 3; score: 0.0903478091351429\n",
      "points: 4; epsilon: 4; score: 0.3173282496255651\n",
      "points: 4; epsilon: 5; score: 0.0013043299957547407\n",
      "points: 4; epsilon: 6; score: 0.0002896923832129439\n",
      "points: 4; epsilon: 7; score: 3.5972226251369725e-05\n",
      "points: 4; epsilon: 8; score: 3.0172748775200025e-05\n",
      "points: 4; epsilon: 9; score: 1.5046318408637885e-05\n",
      "points: 5; epsilon: 1; score: 0.0\n",
      "points: 5; epsilon: 2; score: 0.0\n",
      "points: 5; epsilon: 3; score: 0.08071469757459372\n",
      "points: 5; epsilon: 4; score: 0.31901935878705945\n",
      "points: 5; epsilon: 5; score: 0.001379996123745508\n",
      "points: 5; epsilon: 6; score: 0.0003153633484691635\n",
      "points: 5; epsilon: 7; score: 2.6637699755259304e-05\n",
      "points: 5; epsilon: 8; score: 3.0172748775200025e-05\n",
      "points: 5; epsilon: 9; score: 1.5046318408637885e-05\n",
      "points: 6; epsilon: 1; score: 0.0\n",
      "points: 6; epsilon: 2; score: 0.0\n",
      "points: 6; epsilon: 3; score: 0.07283100866257639\n",
      "points: 6; epsilon: 4; score: 0.32028524558670324\n",
      "points: 6; epsilon: 5; score: 0.0015014167421615353\n",
      "points: 6; epsilon: 6; score: 0.0003321351004070299\n",
      "points: 6; epsilon: 7; score: 8.186507585110419e-06\n",
      "points: 6; epsilon: 8; score: 3.0172748775200025e-05\n",
      "points: 6; epsilon: 9; score: 1.5046318408637885e-05\n"
     ]
    }
   ],
   "source": [
    "points = range(4, 7)\n",
    "e = range(1, 10)\n",
    "\n",
    "scores = {}\n",
    "\n",
    "for points_i in points:\n",
    "    for e_i in e:\n",
    "        ds = DBSCAN(eps=e_i, min_samples=points_i).fit(X)\n",
    "        score = adjusted_rand_score(ds.labels_, y)\n",
    "        print(f'points: {points_i}; epsilon: {e_i}; score: {score}')\n",
    "        scores[f'{points_i} {e_i}'] = score"
   ]
  },
  {
   "cell_type": "code",
   "execution_count": null,
   "metadata": {
    "id": "BnaFfKGAxneV"
   },
   "outputs": [],
   "source": []
  }
 ],
 "metadata": {
  "anaconda-cloud": {},
  "colab": {
   "name": "homework_clustering 2.ipynb",
   "provenance": [],
   "toc_visible": true
  },
  "kernelspec": {
   "display_name": "Python 3",
   "language": "python",
   "name": "python3"
  },
  "language_info": {
   "codemirror_mode": {
    "name": "ipython",
    "version": 3
   },
   "file_extension": ".py",
   "mimetype": "text/x-python",
   "name": "python",
   "nbconvert_exporter": "python",
   "pygments_lexer": "ipython3",
   "version": "3.9.5"
  }
 },
 "nbformat": 4,
 "nbformat_minor": 1
}
