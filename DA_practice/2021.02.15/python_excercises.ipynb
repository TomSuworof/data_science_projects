{
 "cells": [
  {
   "cell_type": "markdown",
   "metadata": {},
   "source": [
    "# Palindrome"
   ]
  },
  {
   "cell_type": "code",
   "execution_count": 5,
   "metadata": {},
   "outputs": [],
   "source": [
    "def is_palindrome(n: int) -> bool:\n",
    "    reversed_n = 0\n",
    "    tmp = n\n",
    "    while tmp > 0:\n",
    "        last_dig = tmp % 10\n",
    "        reversed_n = reversed_n * 10 + last_dig\n",
    "        tmp //= 10\n",
    "    return n == reversed_n"
   ]
  },
  {
   "cell_type": "code",
   "execution_count": 6,
   "metadata": {},
   "outputs": [
    {
     "name": "stdout",
     "output_type": "stream",
     "text": [
      "True\n",
      "True\n",
      "True\n",
      "True\n",
      "False\n",
      "False\n"
     ]
    }
   ],
   "source": [
    "print(is_palindrome(12121))\n",
    "print(is_palindrome(121))\n",
    "print(is_palindrome(222))\n",
    "print(is_palindrome(12121))\n",
    "\n",
    "print(is_palindrome(321))\n",
    "print(is_palindrome(1212))"
   ]
  },
  {
   "cell_type": "markdown",
   "metadata": {},
   "source": [
    "# Mini-sudoku"
   ]
  },
  {
   "cell_type": "code",
   "execution_count": 36,
   "metadata": {},
   "outputs": [],
   "source": [
    "def any_duplicates(arr) -> bool:\n",
    "    vals = []\n",
    "    for row in arr:\n",
    "        for n in row:\n",
    "            if n in vals:\n",
    "                return True\n",
    "            else:\n",
    "                vals.append(n)\n",
    "    return False"
   ]
  },
  {
   "cell_type": "code",
   "execution_count": 37,
   "metadata": {},
   "outputs": [
    {
     "name": "stdout",
     "output_type": "stream",
     "text": [
      "False\n",
      "True\n"
     ]
    }
   ],
   "source": [
    "print(any_duplicates([[1,3,2],\n",
    "                      [9,7,8],\n",
    "                      [4,5,6]]))\n",
    "\n",
    "print(any_duplicates([[1,1,2],\n",
    "                      [9,7,8],\n",
    "                      [4,5,6]]))"
   ]
  },
  {
   "cell_type": "code",
   "execution_count": null,
   "metadata": {},
   "outputs": [],
   "source": []
  }
 ],
 "metadata": {
  "anaconda-cloud": {},
  "kernelspec": {
   "display_name": "Python 3",
   "language": "python",
   "name": "python3"
  },
  "language_info": {
   "codemirror_mode": {
    "name": "ipython",
    "version": 3
   },
   "file_extension": ".py",
   "mimetype": "text/x-python",
   "name": "python",
   "nbconvert_exporter": "python",
   "pygments_lexer": "ipython3",
   "version": "3.8.5"
  }
 },
 "nbformat": 4,
 "nbformat_minor": 1
}
