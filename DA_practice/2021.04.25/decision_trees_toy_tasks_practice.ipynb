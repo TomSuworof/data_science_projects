{
 "cells": [
  {
   "cell_type": "markdown",
   "metadata": {},
   "source": [
    "**Рассмотрим задачу бинарной классификации (символ $\\tau$ вместо знака вопроса обозначает неизвестные метки целевого класса тестовых объектов):**\n",
    "<img src='toy_clf_task1.png'>\n",
    "\n"
   ]
  },
  {
   "cell_type": "markdown",
   "metadata": {},
   "source": [
    "### Загрузка данных"
   ]
  },
  {
   "cell_type": "code",
   "execution_count": 12,
   "metadata": {},
   "outputs": [],
   "source": [
    "# Создание датафрейма с dummy variables\n",
    "def create_df(dic, feature_list):\n",
    "    out = pd.DataFrame(dic)\n",
    "    out = pd.concat([out, pd.get_dummies(out[feature_list])], axis = 1)\n",
    "    out.drop(feature_list, axis = 1, inplace = True)\n",
    "    return out\n",
    "\n",
    "# Некоторые значения признаков есть в тесте, но нет в трейне и наоборот\n",
    "def intersect_features(train, test):\n",
    "    f = list( set(train.keys()) & set(test.keys()))\n",
    "    return train[f], test[f]"
   ]
  },
  {
   "cell_type": "code",
   "execution_count": 33,
   "metadata": {},
   "outputs": [],
   "source": [
    "fn_1 = ['Возраст', 'Доход','Внешность','Образование'] # знакомства\n",
    "fn_2 = ['Цвет', 'Тип', 'Производство', 'Повреждения'] # угон\n"
   ]
  },
  {
   "cell_type": "markdown",
   "metadata": {},
   "source": [
    "**Обучающая выборка**"
   ]
  },
  {
   "cell_type": "code",
   "execution_count": 34,
   "metadata": {},
   "outputs": [
    {
     "data": {
      "text/html": [
       "<div>\n",
       "<style scoped>\n",
       "    .dataframe tbody tr th:only-of-type {\n",
       "        vertical-align: middle;\n",
       "    }\n",
       "\n",
       "    .dataframe tbody tr th {\n",
       "        vertical-align: top;\n",
       "    }\n",
       "\n",
       "    .dataframe thead th {\n",
       "        text-align: right;\n",
       "    }\n",
       "</style>\n",
       "<table border=\"1\" class=\"dataframe\">\n",
       "  <thead>\n",
       "    <tr style=\"text-align: right;\">\n",
       "      <th></th>\n",
       "      <th>Составит пару</th>\n",
       "      <th>Возраст_молодой</th>\n",
       "      <th>Возраст_пожилой</th>\n",
       "      <th>Возраст_средний</th>\n",
       "      <th>Доход_высокий</th>\n",
       "      <th>Доход_низкий</th>\n",
       "      <th>Доход_средний</th>\n",
       "      <th>Внешность_отталкивающая</th>\n",
       "      <th>Внешность_приятная</th>\n",
       "      <th>Образование_высшее</th>\n",
       "      <th>Образование_специальное</th>\n",
       "      <th>Образование_среднее</th>\n",
       "    </tr>\n",
       "  </thead>\n",
       "  <tbody>\n",
       "    <tr>\n",
       "      <th>0</th>\n",
       "      <td>0</td>\n",
       "      <td>1</td>\n",
       "      <td>0</td>\n",
       "      <td>0</td>\n",
       "      <td>1</td>\n",
       "      <td>0</td>\n",
       "      <td>0</td>\n",
       "      <td>0</td>\n",
       "      <td>1</td>\n",
       "      <td>0</td>\n",
       "      <td>1</td>\n",
       "      <td>0</td>\n",
       "    </tr>\n",
       "    <tr>\n",
       "      <th>1</th>\n",
       "      <td>0</td>\n",
       "      <td>0</td>\n",
       "      <td>0</td>\n",
       "      <td>1</td>\n",
       "      <td>1</td>\n",
       "      <td>0</td>\n",
       "      <td>0</td>\n",
       "      <td>0</td>\n",
       "      <td>1</td>\n",
       "      <td>1</td>\n",
       "      <td>0</td>\n",
       "      <td>0</td>\n",
       "    </tr>\n",
       "    <tr>\n",
       "      <th>2</th>\n",
       "      <td>0</td>\n",
       "      <td>0</td>\n",
       "      <td>1</td>\n",
       "      <td>0</td>\n",
       "      <td>1</td>\n",
       "      <td>0</td>\n",
       "      <td>0</td>\n",
       "      <td>0</td>\n",
       "      <td>1</td>\n",
       "      <td>1</td>\n",
       "      <td>0</td>\n",
       "      <td>0</td>\n",
       "    </tr>\n",
       "    <tr>\n",
       "      <th>3</th>\n",
       "      <td>0</td>\n",
       "      <td>0</td>\n",
       "      <td>0</td>\n",
       "      <td>1</td>\n",
       "      <td>0</td>\n",
       "      <td>0</td>\n",
       "      <td>1</td>\n",
       "      <td>0</td>\n",
       "      <td>1</td>\n",
       "      <td>1</td>\n",
       "      <td>0</td>\n",
       "      <td>0</td>\n",
       "    </tr>\n",
       "    <tr>\n",
       "      <th>4</th>\n",
       "      <td>1</td>\n",
       "      <td>1</td>\n",
       "      <td>0</td>\n",
       "      <td>0</td>\n",
       "      <td>0</td>\n",
       "      <td>1</td>\n",
       "      <td>0</td>\n",
       "      <td>0</td>\n",
       "      <td>1</td>\n",
       "      <td>0</td>\n",
       "      <td>1</td>\n",
       "      <td>0</td>\n",
       "    </tr>\n",
       "    <tr>\n",
       "      <th>5</th>\n",
       "      <td>1</td>\n",
       "      <td>0</td>\n",
       "      <td>0</td>\n",
       "      <td>1</td>\n",
       "      <td>1</td>\n",
       "      <td>0</td>\n",
       "      <td>0</td>\n",
       "      <td>1</td>\n",
       "      <td>0</td>\n",
       "      <td>1</td>\n",
       "      <td>0</td>\n",
       "      <td>0</td>\n",
       "    </tr>\n",
       "    <tr>\n",
       "      <th>6</th>\n",
       "      <td>1</td>\n",
       "      <td>0</td>\n",
       "      <td>1</td>\n",
       "      <td>0</td>\n",
       "      <td>0</td>\n",
       "      <td>0</td>\n",
       "      <td>1</td>\n",
       "      <td>0</td>\n",
       "      <td>1</td>\n",
       "      <td>0</td>\n",
       "      <td>0</td>\n",
       "      <td>1</td>\n",
       "    </tr>\n",
       "  </tbody>\n",
       "</table>\n",
       "</div>"
      ],
      "text/plain": [
       "   Составит пару  Возраст_молодой  Возраст_пожилой  Возраст_средний  \\\n",
       "0              0                1                0                0   \n",
       "1              0                0                0                1   \n",
       "2              0                0                1                0   \n",
       "3              0                0                0                1   \n",
       "4              1                1                0                0   \n",
       "5              1                0                0                1   \n",
       "6              1                0                1                0   \n",
       "\n",
       "   Доход_высокий  Доход_низкий  Доход_средний  Внешность_отталкивающая  \\\n",
       "0              1             0              0                        0   \n",
       "1              1             0              0                        0   \n",
       "2              1             0              0                        0   \n",
       "3              0             0              1                        0   \n",
       "4              0             1              0                        0   \n",
       "5              1             0              0                        1   \n",
       "6              0             0              1                        0   \n",
       "\n",
       "   Внешность_приятная  Образование_высшее  Образование_специальное  \\\n",
       "0                   1                   0                        1   \n",
       "1                   1                   1                        0   \n",
       "2                   1                   1                        0   \n",
       "3                   1                   1                        0   \n",
       "4                   1                   0                        1   \n",
       "5                   0                   1                        0   \n",
       "6                   1                   0                        0   \n",
       "\n",
       "   Образование_среднее  \n",
       "0                    0  \n",
       "1                    0  \n",
       "2                    0  \n",
       "3                    0  \n",
       "4                    0  \n",
       "5                    0  \n",
       "6                    1  "
      ]
     },
     "execution_count": 34,
     "metadata": {},
     "output_type": "execute_result"
    }
   ],
   "source": [
    "df1_train = {}\n",
    "df1_train['Возраст'] = ['молодой','средний','пожилой','средний','молодой','средний','пожилой'] \n",
    "df1_train['Доход'] = ['высокий','высокий','высокий','средний','низкий','высокий','средний']\n",
    "df1_train['Внешность'] = ['приятная','приятная','приятная','приятная','приятная','отталкивающая','приятная']\n",
    "df1_train['Образование'] = ['специальное','высшее','высшее','высшее','специальное','высшее','среднее']\n",
    "df1_train['Составит пару'] = LabelEncoder().fit_transform(['+','+','+','+','-','-','-'])\n",
    "\n",
    "df1_train = create_df(df1_train, fn_1)\n",
    "df1_train\n"
   ]
  },
  {
   "cell_type": "markdown",
   "metadata": {},
   "source": [
    "**Тестовая выборка**"
   ]
  },
  {
   "cell_type": "code",
   "execution_count": 35,
   "metadata": {},
   "outputs": [
    {
     "data": {
      "text/html": [
       "<div>\n",
       "<style scoped>\n",
       "    .dataframe tbody tr th:only-of-type {\n",
       "        vertical-align: middle;\n",
       "    }\n",
       "\n",
       "    .dataframe tbody tr th {\n",
       "        vertical-align: top;\n",
       "    }\n",
       "\n",
       "    .dataframe thead th {\n",
       "        text-align: right;\n",
       "    }\n",
       "</style>\n",
       "<table border=\"1\" class=\"dataframe\">\n",
       "  <thead>\n",
       "    <tr style=\"text-align: right;\">\n",
       "      <th></th>\n",
       "      <th>Возраст_молодой</th>\n",
       "      <th>Возраст_пожилой</th>\n",
       "      <th>Возраст_средний</th>\n",
       "      <th>Доход_высокий</th>\n",
       "      <th>Доход_низкий</th>\n",
       "      <th>Доход_средний</th>\n",
       "      <th>Внешность_отталкивающая</th>\n",
       "      <th>Внешность_приятная</th>\n",
       "      <th>Образование_высшее</th>\n",
       "      <th>Образование_специальное</th>\n",
       "    </tr>\n",
       "  </thead>\n",
       "  <tbody>\n",
       "    <tr>\n",
       "      <th>0</th>\n",
       "      <td>1</td>\n",
       "      <td>0</td>\n",
       "      <td>0</td>\n",
       "      <td>0</td>\n",
       "      <td>0</td>\n",
       "      <td>1</td>\n",
       "      <td>0</td>\n",
       "      <td>1</td>\n",
       "      <td>1</td>\n",
       "      <td>0</td>\n",
       "    </tr>\n",
       "    <tr>\n",
       "      <th>1</th>\n",
       "      <td>0</td>\n",
       "      <td>0</td>\n",
       "      <td>1</td>\n",
       "      <td>1</td>\n",
       "      <td>0</td>\n",
       "      <td>0</td>\n",
       "      <td>1</td>\n",
       "      <td>0</td>\n",
       "      <td>0</td>\n",
       "      <td>1</td>\n",
       "    </tr>\n",
       "    <tr>\n",
       "      <th>2</th>\n",
       "      <td>0</td>\n",
       "      <td>1</td>\n",
       "      <td>0</td>\n",
       "      <td>0</td>\n",
       "      <td>1</td>\n",
       "      <td>0</td>\n",
       "      <td>0</td>\n",
       "      <td>1</td>\n",
       "      <td>1</td>\n",
       "      <td>0</td>\n",
       "    </tr>\n",
       "  </tbody>\n",
       "</table>\n",
       "</div>"
      ],
      "text/plain": [
       "   Возраст_молодой  Возраст_пожилой  Возраст_средний  Доход_высокий  \\\n",
       "0                1                0                0              0   \n",
       "1                0                0                1              1   \n",
       "2                0                1                0              0   \n",
       "\n",
       "   Доход_низкий  Доход_средний  Внешность_отталкивающая  Внешность_приятная  \\\n",
       "0             0              1                        0                   1   \n",
       "1             0              0                        1                   0   \n",
       "2             1              0                        0                   1   \n",
       "\n",
       "   Образование_высшее  Образование_специальное  \n",
       "0                   1                        0  \n",
       "1                   0                        1  \n",
       "2                   1                        0  "
      ]
     },
     "execution_count": 35,
     "metadata": {},
     "output_type": "execute_result"
    }
   ],
   "source": [
    "df1_test = {}\n",
    "df1_test['Возраст'] = ['молодой','средний','пожилой'] \n",
    "df1_test['Доход'] = ['средний','высокий','низкий']\n",
    "df1_test['Внешность'] = ['приятная','отталкивающая','приятная']\n",
    "df1_test['Образование'] = ['высшее','специальное','высшее']\n",
    "df1_test = create_df(df1_test, fn_1)\n",
    "df1_test\n"
   ]
  },
  {
   "cell_type": "code",
   "execution_count": 36,
   "metadata": {},
   "outputs": [],
   "source": [
    "y_1 = df1_train['Составит пару']"
   ]
  },
  {
   "cell_type": "markdown",
   "metadata": {},
   "source": [
    "**Постройте деревья решений для данных с помощью sklearn (random_state=42). Подберите оптимальные параметры через GridSearch.**"
   ]
  },
  {
   "cell_type": "code",
   "execution_count": 28,
   "metadata": {},
   "outputs": [],
   "source": [
    "from sklearn import tree\n",
    "from sklearn.tree import DecisionTreeClassifier"
   ]
  },
  {
   "cell_type": "code",
   "execution_count": 25,
   "metadata": {},
   "outputs": [],
   "source": [
    "from sklearn.model_selection import GridSearchCV, RandomizedSearchCV, StratifiedKFold"
   ]
  },
  {
   "cell_type": "code",
   "execution_count": 26,
   "metadata": {},
   "outputs": [],
   "source": [
    "skf = StratifiedKFold(n_splits=3, shuffle=True, random_state=5)"
   ]
  },
  {
   "cell_type": "code",
   "execution_count": 57,
   "metadata": {},
   "outputs": [],
   "source": [
    "df1_train = df1_train.iloc[:,1:]"
   ]
  },
  {
   "cell_type": "code",
   "execution_count": 60,
   "metadata": {},
   "outputs": [
    {
     "name": "stdout",
     "output_type": "stream",
     "text": [
      "Fitting 3 folds for each of 25 candidates, totalling 75 fits\n",
      "CPU times: user 105 ms, sys: 9.76 ms, total: 115 ms\n",
      "Wall time: 151 ms\n"
     ]
    },
    {
     "data": {
      "text/plain": [
       "GridSearchCV(cv=StratifiedKFold(n_splits=3, random_state=5, shuffle=True),\n",
       "             estimator=DecisionTreeClassifier(random_state=42), n_jobs=-1,\n",
       "             param_grid={'max_depth': range(1, 6),\n",
       "                         'min_samples_leaf': range(1, 6)},\n",
       "             verbose=1)"
      ]
     },
     "execution_count": 60,
     "metadata": {},
     "output_type": "execute_result"
    }
   ],
   "source": [
    "%%time\n",
    "tree_params = {'max_depth':range(1,6),\n",
    "              'min_samples_leaf':range(1,6)} # Ваш код здесь\n",
    "\n",
    "locally_best_tree0 = GridSearchCV(DecisionTreeClassifier(random_state=42),\n",
    "                                 tree_params, cv=skf, n_jobs=-1, verbose = 1)\n",
    "\n",
    "locally_best_tree0.fit(df1_train,y_1)"
   ]
  },
  {
   "cell_type": "code",
   "execution_count": 61,
   "metadata": {},
   "outputs": [
    {
     "data": {
      "text/plain": [
       "{'max_depth': 1, 'min_samples_leaf': 3}"
      ]
     },
     "execution_count": 61,
     "metadata": {},
     "output_type": "execute_result"
    }
   ],
   "source": [
    "locally_best_tree0.best_params_"
   ]
  },
  {
   "cell_type": "code",
   "execution_count": 62,
   "metadata": {},
   "outputs": [
    {
     "data": {
      "text/plain": [
       "0.5555555555555555"
      ]
     },
     "execution_count": 62,
     "metadata": {},
     "output_type": "execute_result"
    }
   ],
   "source": [
    "locally_best_tree0.best_score_"
   ]
  },
  {
   "cell_type": "code",
   "execution_count": 63,
   "metadata": {},
   "outputs": [
    {
     "name": "stdout",
     "output_type": "stream",
     "text": [
      "Fitting 3 folds for each of 10 candidates, totalling 30 fits\n",
      "CPU times: user 50.8 ms, sys: 6.08 ms, total: 56.9 ms\n",
      "Wall time: 91.1 ms\n"
     ]
    },
    {
     "data": {
      "text/plain": [
       "RandomizedSearchCV(cv=StratifiedKFold(n_splits=3, random_state=5, shuffle=True),\n",
       "                   estimator=DecisionTreeClassifier(random_state=42), n_jobs=-1,\n",
       "                   param_distributions={'max_depth': range(2, 6),\n",
       "                                        'min_samples_leaf': range(2, 5)},\n",
       "                   verbose=1)"
      ]
     },
     "execution_count": 63,
     "metadata": {},
     "output_type": "execute_result"
    }
   ],
   "source": [
    "%%time\n",
    "tree_params = {'max_depth':range(2,6),\n",
    "              'min_samples_leaf':range(2,5)} # Ваш код здесь\n",
    "\n",
    "locally_best_tree = RandomizedSearchCV(DecisionTreeClassifier(random_state=42),\n",
    "                                 tree_params,n_iter=10, cv=skf, n_jobs=-1, verbose = 1)\n",
    "\n",
    "locally_best_tree.fit(df1_train,y_1)"
   ]
  },
  {
   "cell_type": "code",
   "execution_count": 64,
   "metadata": {},
   "outputs": [
    {
     "data": {
      "text/plain": [
       "DecisionTreeClassifier(max_depth=3, min_samples_leaf=3, random_state=42)"
      ]
     },
     "execution_count": 64,
     "metadata": {},
     "output_type": "execute_result"
    }
   ],
   "source": [
    "locally_best_tree.best_estimator_"
   ]
  },
  {
   "cell_type": "code",
   "execution_count": 65,
   "metadata": {},
   "outputs": [
    {
     "data": {
      "text/plain": [
       "0.5555555555555555"
      ]
     },
     "execution_count": 65,
     "metadata": {},
     "output_type": "execute_result"
    }
   ],
   "source": [
    "locally_best_tree.best_score_"
   ]
  },
  {
   "cell_type": "markdown",
   "metadata": {},
   "source": [
    "**Отобразите полученные деревья с помощью graphviz.**"
   ]
  },
  {
   "cell_type": "code",
   "execution_count": 54,
   "metadata": {},
   "outputs": [],
   "source": [
    "import sklearn\n",
    "from graphviz import Source"
   ]
  },
  {
   "cell_type": "code",
   "execution_count": 66,
   "metadata": {},
   "outputs": [
    {
     "data": {
      "image/png": "[encoded data removed]",
      "text/plain": [
       "<IPython.core.display.Image object>"
      ]
     },
     "execution_count": 66,
     "metadata": {},
     "output_type": "execute_result"
    }
   ],
   "source": [
    "graph = Source(sklearn.tree.export_graphviz(locally_best_tree.best_estimator_, out_file=None, feature_names=df1_train.columns.values))\n",
    "png_bytes = graph.pipe(format='png')\n",
    "with open('dtree1_pipe.png','wb') as f:\n",
    "    f.write(png_bytes)\n",
    "\n",
    "from IPython.display import Image\n",
    "Image(png_bytes)"
   ]
  },
  {
   "cell_type": "code",
   "execution_count": 67,
   "metadata": {},
   "outputs": [
    {
     "data": {
      "image/png": "[encoded data removed]",
      "text/plain": [
       "<IPython.core.display.Image object>"
      ]
     },
     "execution_count": 67,
     "metadata": {},
     "output_type": "execute_result"
    }
   ],
   "source": [
    "graph = Source(sklearn.tree.export_graphviz(locally_best_tree0.best_estimator_, out_file=None, feature_names=df1_train.columns.values))\n",
    "png_bytes = graph.pipe(format='png')\n",
    "with open('dtree0_pipe.png','wb') as f:\n",
    "    f.write(png_bytes)\n",
    "\n",
    "from IPython.display import Image\n",
    "Image(png_bytes)"
   ]
  }
 ],
 "metadata": {
  "anaconda-cloud": {},
  "kernelspec": {
   "display_name": "Python 3",
   "language": "python",
   "name": "python3"
  },
  "language_info": {
   "codemirror_mode": {
    "name": "ipython",
    "version": 3
   },
   "file_extension": ".py",
   "mimetype": "text/x-python",
   "name": "python",
   "nbconvert_exporter": "python",
   "pygments_lexer": "ipython3",
   "version": "3.8.5"
  }
 },
 "nbformat": 4,
 "nbformat_minor": 1
}
