{
 "cells": [
  {
   "cell_type": "markdown",
   "metadata": {
    "id": "yGt3aG2-2klQ"
   },
   "source": [
    "**Kaggle \"Titanic: Machine Learning from Disaster\".**"
   ]
  },
  {
   "cell_type": "code",
   "execution_count": 4,
   "metadata": {
    "colab": {
     "base_uri": "https://localhost:8080/"
    },
    "executionInfo": {
     "elapsed": 762,
     "status": "ok",
     "timestamp": 1619339185889,
     "user": {
      "displayName": "Tom Suworof",
      "photoUrl": "https://lh3.googleusercontent.com/a-/AOh14Ggz-eIopveajJbioEojrq84AjmkCQrwddGWHYymFA=s64",
      "userId": "12283177417914164151"
     },
     "user_tz": -180
    },
    "id": "-TFticwB2klQ",
    "outputId": "46fd2e8b-1b1b-46a8-97b8-d801c38540cc"
   },
   "outputs": [
    {
     "name": "stdout",
     "output_type": "stream",
     "text": [
      "Populating the interactive namespace from numpy and matplotlib\n"
     ]
    }
   ],
   "source": [
    "# отключим предупреждения Anaconda\n",
    "import warnings\n",
    "warnings.simplefilter('ignore')\n",
    "import pandas as pd\n",
    "import numpy as np\n",
    "%pylab inline\n",
    "import seaborn as sns\n",
    "import matplotlib.pyplot as plt\n",
    " \n",
    "from sklearn.preprocessing import StandardScaler\n",
    "from sklearn.model_selection import train_test_split\n",
    "from sklearn.model_selection import GridSearchCV, StratifiedKFold\n",
    "from sklearn.linear_model import LogisticRegression"
   ]
  },
  {
   "cell_type": "code",
   "execution_count": 5,
   "metadata": {
    "executionInfo": {
     "elapsed": 1183,
     "status": "ok",
     "timestamp": 1619339186331,
     "user": {
      "displayName": "Tom Suworof",
      "photoUrl": "https://lh3.googleusercontent.com/a-/AOh14Ggz-eIopveajJbioEojrq84AjmkCQrwddGWHYymFA=s64",
      "userId": "12283177417914164151"
     },
     "user_tz": -180
    },
    "id": "_EDq3om02klU"
   },
   "outputs": [],
   "source": [
    "df = pd.read_csv(\"https://raw.githubusercontent.com/agconti/kaggle-titanic/master/data/train.csv\",index_col='PassengerId')"
   ]
  },
  {
   "cell_type": "code",
   "execution_count": 6,
   "metadata": {
    "executionInfo": {
     "elapsed": 1172,
     "status": "ok",
     "timestamp": 1619339186333,
     "user": {
      "displayName": "Tom Suworof",
      "photoUrl": "https://lh3.googleusercontent.com/a-/AOh14Ggz-eIopveajJbioEojrq84AjmkCQrwddGWHYymFA=s64",
      "userId": "12283177417914164151"
     },
     "user_tz": -180
    },
    "id": "BNAMJoa22klY"
   },
   "outputs": [],
   "source": [
    "df=df.drop(['Ticket','Cabin','Embarked','Name'],axis=1)"
   ]
  },
  {
   "cell_type": "code",
   "execution_count": 7,
   "metadata": {
    "executionInfo": {
     "elapsed": 1497,
     "status": "ok",
     "timestamp": 1619339186666,
     "user": {
      "displayName": "Tom Suworof",
      "photoUrl": "https://lh3.googleusercontent.com/a-/AOh14Ggz-eIopveajJbioEojrq84AjmkCQrwddGWHYymFA=s64",
      "userId": "12283177417914164151"
     },
     "user_tz": -180
    },
    "id": "7EAbuhPU2klb"
   },
   "outputs": [],
   "source": [
    "holdout = df.sample(100) # рандомная отложенная часть\n",
    "df = df.loc[~df.index.isin(holdout.index)] #наш датасет без отложенной части"
   ]
  },
  {
   "cell_type": "code",
   "execution_count": 8,
   "metadata": {
    "executionInfo": {
     "elapsed": 1492,
     "status": "ok",
     "timestamp": 1619339186669,
     "user": {
      "displayName": "Tom Suworof",
      "photoUrl": "https://lh3.googleusercontent.com/a-/AOh14Ggz-eIopveajJbioEojrq84AjmkCQrwddGWHYymFA=s64",
      "userId": "12283177417914164151"
     },
     "user_tz": -180
    },
    "id": "hsCXwQqfXuWN"
   },
   "outputs": [],
   "source": [
    "#целевое событие\n",
    "y = df.Survived"
   ]
  },
  {
   "cell_type": "code",
   "execution_count": 9,
   "metadata": {
    "executionInfo": {
     "elapsed": 1488,
     "status": "ok",
     "timestamp": 1619339186672,
     "user": {
      "displayName": "Tom Suworof",
      "photoUrl": "https://lh3.googleusercontent.com/a-/AOh14Ggz-eIopveajJbioEojrq84AjmkCQrwddGWHYymFA=s64",
      "userId": "12283177417914164151"
     },
     "user_tz": -180
    },
    "id": "oSs-QcqnXsOW"
   },
   "outputs": [],
   "source": [
    "#датасет без целевого события\n",
    "df= df.drop(['Survived'],axis=1)"
   ]
  },
  {
   "cell_type": "code",
   "execution_count": 10,
   "metadata": {
    "colab": {
     "base_uri": "https://localhost:8080/",
     "height": 254
    },
    "executionInfo": {
     "elapsed": 1472,
     "status": "ok",
     "timestamp": 1619339186674,
     "user": {
      "displayName": "Tom Suworof",
      "photoUrl": "https://lh3.googleusercontent.com/a-/AOh14Ggz-eIopveajJbioEojrq84AjmkCQrwddGWHYymFA=s64",
      "userId": "12283177417914164151"
     },
     "user_tz": -180
    },
    "id": "lSlcfqX5X_YC",
    "outputId": "e7634afd-aff8-4cdc-c8a1-6fc57c2b9b15"
   },
   "outputs": [
    {
     "data": {
      "text/html": [
       "<div>\n",
       "<style scoped>\n",
       "    .dataframe tbody tr th:only-of-type {\n",
       "        vertical-align: middle;\n",
       "    }\n",
       "\n",
       "    .dataframe tbody tr th {\n",
       "        vertical-align: top;\n",
       "    }\n",
       "\n",
       "    .dataframe thead th {\n",
       "        text-align: right;\n",
       "    }\n",
       "</style>\n",
       "<table border=\"1\" class=\"dataframe\">\n",
       "  <thead>\n",
       "    <tr style=\"text-align: right;\">\n",
       "      <th></th>\n",
       "      <th>Pclass</th>\n",
       "      <th>Sex</th>\n",
       "      <th>Age</th>\n",
       "      <th>SibSp</th>\n",
       "      <th>Parch</th>\n",
       "      <th>Fare</th>\n",
       "    </tr>\n",
       "    <tr>\n",
       "      <th>PassengerId</th>\n",
       "      <th></th>\n",
       "      <th></th>\n",
       "      <th></th>\n",
       "      <th></th>\n",
       "      <th></th>\n",
       "      <th></th>\n",
       "    </tr>\n",
       "  </thead>\n",
       "  <tbody>\n",
       "    <tr>\n",
       "      <th>1</th>\n",
       "      <td>3</td>\n",
       "      <td>male</td>\n",
       "      <td>22.0</td>\n",
       "      <td>1</td>\n",
       "      <td>0</td>\n",
       "      <td>7.2500</td>\n",
       "    </tr>\n",
       "    <tr>\n",
       "      <th>2</th>\n",
       "      <td>1</td>\n",
       "      <td>female</td>\n",
       "      <td>38.0</td>\n",
       "      <td>1</td>\n",
       "      <td>0</td>\n",
       "      <td>71.2833</td>\n",
       "    </tr>\n",
       "    <tr>\n",
       "      <th>3</th>\n",
       "      <td>3</td>\n",
       "      <td>female</td>\n",
       "      <td>26.0</td>\n",
       "      <td>0</td>\n",
       "      <td>0</td>\n",
       "      <td>7.9250</td>\n",
       "    </tr>\n",
       "    <tr>\n",
       "      <th>4</th>\n",
       "      <td>1</td>\n",
       "      <td>female</td>\n",
       "      <td>35.0</td>\n",
       "      <td>1</td>\n",
       "      <td>0</td>\n",
       "      <td>53.1000</td>\n",
       "    </tr>\n",
       "    <tr>\n",
       "      <th>5</th>\n",
       "      <td>3</td>\n",
       "      <td>male</td>\n",
       "      <td>35.0</td>\n",
       "      <td>0</td>\n",
       "      <td>0</td>\n",
       "      <td>8.0500</td>\n",
       "    </tr>\n",
       "  </tbody>\n",
       "</table>\n",
       "</div>"
      ],
      "text/plain": [
       "             Pclass     Sex   Age  SibSp  Parch     Fare\n",
       "PassengerId                                             \n",
       "1                 3    male  22.0      1      0   7.2500\n",
       "2                 1  female  38.0      1      0  71.2833\n",
       "3                 3  female  26.0      0      0   7.9250\n",
       "4                 1  female  35.0      1      0  53.1000\n",
       "5                 3    male  35.0      0      0   8.0500"
      ]
     },
     "execution_count": 10,
     "metadata": {
      "tags": []
     },
     "output_type": "execute_result"
    }
   ],
   "source": [
    "df.head()"
   ]
  },
  {
   "cell_type": "markdown",
   "metadata": {
    "id": "m8PfE0d_wz90"
   },
   "source": [
    "**ЗАДАНИЕ**"
   ]
  },
  {
   "cell_type": "markdown",
   "metadata": {
    "id": "CeJWBaoyBG_L"
   },
   "source": [
    "1) Разбейте данные на train и test (пропорция 80/20, укажите в параметрах random_state = 17 и stratify = y)"
   ]
  },
  {
   "cell_type": "code",
   "execution_count": 11,
   "metadata": {
    "executionInfo": {
     "elapsed": 1464,
     "status": "ok",
     "timestamp": 1619339186676,
     "user": {
      "displayName": "Tom Suworof",
      "photoUrl": "https://lh3.googleusercontent.com/a-/AOh14Ggz-eIopveajJbioEojrq84AjmkCQrwddGWHYymFA=s64",
      "userId": "12283177417914164151"
     },
     "user_tz": -180
    },
    "id": "rAsj6ENjXROs"
   },
   "outputs": [],
   "source": [
    "X_train, X_test, y_train, y_test = train_test_split(df, y, test_size=0.2, train_size=0.8, random_state=17, stratify=y)"
   ]
  },
  {
   "cell_type": "code",
   "execution_count": 12,
   "metadata": {
    "colab": {
     "base_uri": "https://localhost:8080/"
    },
    "executionInfo": {
     "elapsed": 1446,
     "status": "ok",
     "timestamp": 1619339186678,
     "user": {
      "displayName": "Tom Suworof",
      "photoUrl": "https://lh3.googleusercontent.com/a-/AOh14Ggz-eIopveajJbioEojrq84AjmkCQrwddGWHYymFA=s64",
      "userId": "12283177417914164151"
     },
     "user_tz": -180
    },
    "id": "Z61ulENUBG_O",
    "outputId": "a0d73ada-449f-4de1-a967-844c6803eed8"
   },
   "outputs": [
    {
     "data": {
      "text/plain": [
       "0    97\n",
       "1    62\n",
       "Name: Survived, dtype: int64"
      ]
     },
     "execution_count": 12,
     "metadata": {
      "tags": []
     },
     "output_type": "execute_result"
    }
   ],
   "source": [
    "y_test.value_counts()"
   ]
  },
  {
   "cell_type": "markdown",
   "metadata": {
    "id": "lHQn4DbQYprq"
   },
   "source": [
    "2) Примените к обеим частям выборки пайплайн vec(задан ниже) "
   ]
  },
  {
   "cell_type": "code",
   "execution_count": 13,
   "metadata": {
    "executionInfo": {
     "elapsed": 1441,
     "status": "ok",
     "timestamp": 1619339186681,
     "user": {
      "displayName": "Tom Suworof",
      "photoUrl": "https://lh3.googleusercontent.com/a-/AOh14Ggz-eIopveajJbioEojrq84AjmkCQrwddGWHYymFA=s64",
      "userId": "12283177417914164151"
     },
     "user_tz": -180
    },
    "id": "WFf_qyGq2klf"
   },
   "outputs": [],
   "source": [
    "from sklearn.pipeline import make_union, make_pipeline\n",
    "from sklearn.preprocessing import StandardScaler, OneHotEncoder, FunctionTransformer\n",
    "from sklearn.impute import SimpleImputer\n",
    "from sklearn.feature_extraction import DictVectorizer\n",
    " \n",
    "def get_categ_col(df):\n",
    "    return df[['Sex','Pclass']]\n",
    " \n",
    "def get_num_cols(df):\n",
    "    return df[['Age', 'Fare', 'SibSp', 'Parch']]\n",
    " \n",
    "vec = make_union(*[\n",
    "   make_pipeline(FunctionTransformer(get_categ_col, validate=False),  OneHotEncoder(sparse=False)),\n",
    "   make_pipeline(FunctionTransformer(get_num_cols, validate=False), SimpleImputer(strategy='median'), StandardScaler()),\n",
    "])"
   ]
  },
  {
   "cell_type": "code",
   "execution_count": 14,
   "metadata": {
    "executionInfo": {
     "elapsed": 1435,
     "status": "ok",
     "timestamp": 1619339186683,
     "user": {
      "displayName": "Tom Suworof",
      "photoUrl": "https://lh3.googleusercontent.com/a-/AOh14Ggz-eIopveajJbioEojrq84AjmkCQrwddGWHYymFA=s64",
      "userId": "12283177417914164151"
     },
     "user_tz": -180
    },
    "id": "DqAFnqwHBG_U"
   },
   "outputs": [],
   "source": [
    "vec.fit(X_train)\n",
    " \n",
    "X_train_transformed = pd.DataFrame(vec.transform(X_train))\n",
    "X_test_transformed = pd.DataFrame(vec.transform(X_test))"
   ]
  },
  {
   "cell_type": "code",
   "execution_count": 15,
   "metadata": {
    "colab": {
     "base_uri": "https://localhost:8080/",
     "height": 437
    },
    "executionInfo": {
     "elapsed": 1418,
     "status": "ok",
     "timestamp": 1619339186685,
     "user": {
      "displayName": "Tom Suworof",
      "photoUrl": "https://lh3.googleusercontent.com/a-/AOh14Ggz-eIopveajJbioEojrq84AjmkCQrwddGWHYymFA=s64",
      "userId": "12283177417914164151"
     },
     "user_tz": -180
    },
    "id": "dFOGGCi0BG_W",
    "outputId": "384b2a99-17d5-45fd-f7f8-a02f64b2e5cf"
   },
   "outputs": [
    {
     "data": {
      "text/html": [
       "<div>\n",
       "<style scoped>\n",
       "    .dataframe tbody tr th:only-of-type {\n",
       "        vertical-align: middle;\n",
       "    }\n",
       "\n",
       "    .dataframe tbody tr th {\n",
       "        vertical-align: top;\n",
       "    }\n",
       "\n",
       "    .dataframe thead th {\n",
       "        text-align: right;\n",
       "    }\n",
       "</style>\n",
       "<table border=\"1\" class=\"dataframe\">\n",
       "  <thead>\n",
       "    <tr style=\"text-align: right;\">\n",
       "      <th></th>\n",
       "      <th>0</th>\n",
       "      <th>1</th>\n",
       "      <th>2</th>\n",
       "      <th>3</th>\n",
       "      <th>4</th>\n",
       "      <th>5</th>\n",
       "      <th>6</th>\n",
       "      <th>7</th>\n",
       "      <th>8</th>\n",
       "    </tr>\n",
       "  </thead>\n",
       "  <tbody>\n",
       "    <tr>\n",
       "      <th>0</th>\n",
       "      <td>0.0</td>\n",
       "      <td>1.0</td>\n",
       "      <td>0.0</td>\n",
       "      <td>0.0</td>\n",
       "      <td>1.0</td>\n",
       "      <td>-0.626216</td>\n",
       "      <td>-0.502150</td>\n",
       "      <td>-0.482365</td>\n",
       "      <td>-0.483733</td>\n",
       "    </tr>\n",
       "    <tr>\n",
       "      <th>1</th>\n",
       "      <td>0.0</td>\n",
       "      <td>1.0</td>\n",
       "      <td>1.0</td>\n",
       "      <td>0.0</td>\n",
       "      <td>0.0</td>\n",
       "      <td>0.519335</td>\n",
       "      <td>-0.093357</td>\n",
       "      <td>-0.482365</td>\n",
       "      <td>-0.483733</td>\n",
       "    </tr>\n",
       "    <tr>\n",
       "      <th>2</th>\n",
       "      <td>1.0</td>\n",
       "      <td>0.0</td>\n",
       "      <td>1.0</td>\n",
       "      <td>0.0</td>\n",
       "      <td>0.0</td>\n",
       "      <td>0.901185</td>\n",
       "      <td>2.315710</td>\n",
       "      <td>-0.482365</td>\n",
       "      <td>-0.483733</td>\n",
       "    </tr>\n",
       "    <tr>\n",
       "      <th>3</th>\n",
       "      <td>0.0</td>\n",
       "      <td>1.0</td>\n",
       "      <td>0.0</td>\n",
       "      <td>0.0</td>\n",
       "      <td>1.0</td>\n",
       "      <td>-0.778957</td>\n",
       "      <td>-0.508272</td>\n",
       "      <td>-0.482365</td>\n",
       "      <td>-0.483733</td>\n",
       "    </tr>\n",
       "    <tr>\n",
       "      <th>4</th>\n",
       "      <td>1.0</td>\n",
       "      <td>0.0</td>\n",
       "      <td>1.0</td>\n",
       "      <td>0.0</td>\n",
       "      <td>0.0</td>\n",
       "      <td>-1.084437</td>\n",
       "      <td>4.026295</td>\n",
       "      <td>-0.482365</td>\n",
       "      <td>0.828366</td>\n",
       "    </tr>\n",
       "    <tr>\n",
       "      <th>...</th>\n",
       "      <td>...</td>\n",
       "      <td>...</td>\n",
       "      <td>...</td>\n",
       "      <td>...</td>\n",
       "      <td>...</td>\n",
       "      <td>...</td>\n",
       "      <td>...</td>\n",
       "      <td>...</td>\n",
       "      <td>...</td>\n",
       "    </tr>\n",
       "    <tr>\n",
       "      <th>627</th>\n",
       "      <td>0.0</td>\n",
       "      <td>1.0</td>\n",
       "      <td>0.0</td>\n",
       "      <td>0.0</td>\n",
       "      <td>1.0</td>\n",
       "      <td>-0.091626</td>\n",
       "      <td>-0.160979</td>\n",
       "      <td>1.471830</td>\n",
       "      <td>-0.483733</td>\n",
       "    </tr>\n",
       "    <tr>\n",
       "      <th>628</th>\n",
       "      <td>0.0</td>\n",
       "      <td>1.0</td>\n",
       "      <td>0.0</td>\n",
       "      <td>1.0</td>\n",
       "      <td>0.0</td>\n",
       "      <td>-0.397106</td>\n",
       "      <td>-0.389168</td>\n",
       "      <td>-0.482365</td>\n",
       "      <td>-0.483733</td>\n",
       "    </tr>\n",
       "    <tr>\n",
       "      <th>629</th>\n",
       "      <td>0.0</td>\n",
       "      <td>1.0</td>\n",
       "      <td>0.0</td>\n",
       "      <td>1.0</td>\n",
       "      <td>0.0</td>\n",
       "      <td>1.283035</td>\n",
       "      <td>-0.099758</td>\n",
       "      <td>-0.482365</td>\n",
       "      <td>-0.483733</td>\n",
       "    </tr>\n",
       "    <tr>\n",
       "      <th>630</th>\n",
       "      <td>0.0</td>\n",
       "      <td>1.0</td>\n",
       "      <td>1.0</td>\n",
       "      <td>0.0</td>\n",
       "      <td>0.0</td>\n",
       "      <td>3.115917</td>\n",
       "      <td>0.902049</td>\n",
       "      <td>0.494733</td>\n",
       "      <td>0.828366</td>\n",
       "    </tr>\n",
       "    <tr>\n",
       "      <th>631</th>\n",
       "      <td>0.0</td>\n",
       "      <td>1.0</td>\n",
       "      <td>0.0</td>\n",
       "      <td>1.0</td>\n",
       "      <td>0.0</td>\n",
       "      <td>-2.166601</td>\n",
       "      <td>-0.261160</td>\n",
       "      <td>0.494733</td>\n",
       "      <td>0.828366</td>\n",
       "    </tr>\n",
       "  </tbody>\n",
       "</table>\n",
       "<p>632 rows × 9 columns</p>\n",
       "</div>"
      ],
      "text/plain": [
       "       0    1    2    3    4         5         6         7         8\n",
       "0    0.0  1.0  0.0  0.0  1.0 -0.626216 -0.502150 -0.482365 -0.483733\n",
       "1    0.0  1.0  1.0  0.0  0.0  0.519335 -0.093357 -0.482365 -0.483733\n",
       "2    1.0  0.0  1.0  0.0  0.0  0.901185  2.315710 -0.482365 -0.483733\n",
       "3    0.0  1.0  0.0  0.0  1.0 -0.778957 -0.508272 -0.482365 -0.483733\n",
       "4    1.0  0.0  1.0  0.0  0.0 -1.084437  4.026295 -0.482365  0.828366\n",
       "..   ...  ...  ...  ...  ...       ...       ...       ...       ...\n",
       "627  0.0  1.0  0.0  0.0  1.0 -0.091626 -0.160979  1.471830 -0.483733\n",
       "628  0.0  1.0  0.0  1.0  0.0 -0.397106 -0.389168 -0.482365 -0.483733\n",
       "629  0.0  1.0  0.0  1.0  0.0  1.283035 -0.099758 -0.482365 -0.483733\n",
       "630  0.0  1.0  1.0  0.0  0.0  3.115917  0.902049  0.494733  0.828366\n",
       "631  0.0  1.0  0.0  1.0  0.0 -2.166601 -0.261160  0.494733  0.828366\n",
       "\n",
       "[632 rows x 9 columns]"
      ]
     },
     "execution_count": 15,
     "metadata": {
      "tags": []
     },
     "output_type": "execute_result"
    }
   ],
   "source": [
    "X_train_transformed"
   ]
  },
  {
   "cell_type": "markdown",
   "metadata": {
    "id": "7kaODi-4BG_Y"
   },
   "source": [
    "3) С помощью GridSearchCV обучите модель LogisticRegression: сбалансируйте классы, переберите значения параметра С [0.01, 0.05, 0.1, 0.5, 1, 5, 10], задайте 3 фолда на кроссвалидации\n",
    "\n",
    "Посчитайте средний roc_auc на тестовых фолдах (возьмите 3 значения из cv_results)."
   ]
  },
  {
   "cell_type": "code",
   "execution_count": 16,
   "metadata": {
    "executionInfo": {
     "elapsed": 1877,
     "status": "ok",
     "timestamp": 1619339187152,
     "user": {
      "displayName": "Tom Suworof",
      "photoUrl": "https://lh3.googleusercontent.com/a-/AOh14Ggz-eIopveajJbioEojrq84AjmkCQrwddGWHYymFA=s64",
      "userId": "12283177417914164151"
     },
     "user_tz": -180
    },
    "id": "TPKG8dirYolA"
   },
   "outputs": [],
   "source": [
    "cv = GridSearchCV(\n",
    "    estimator=LogisticRegression(),\n",
    "    param_grid={\n",
    "        'C' : [0.01, 0.05, 0.1, 0.5, 1, 5, 10],\n",
    "        'class_weight': ['balanced']\n",
    "    },\n",
    "    cv=3\n",
    ").fit(X_train_transformed, y_train)"
   ]
  },
  {
   "cell_type": "code",
   "execution_count": 17,
   "metadata": {
    "colab": {
     "base_uri": "https://localhost:8080/"
    },
    "executionInfo": {
     "elapsed": 1861,
     "status": "ok",
     "timestamp": 1619339187154,
     "user": {
      "displayName": "Tom Suworof",
      "photoUrl": "https://lh3.googleusercontent.com/a-/AOh14Ggz-eIopveajJbioEojrq84AjmkCQrwddGWHYymFA=s64",
      "userId": "12283177417914164151"
     },
     "user_tz": -180
    },
    "id": "Q_LcBuqVBG_b",
    "outputId": "9bae7003-b088-4558-f17e-563bbe525030"
   },
   "outputs": [
    {
     "data": {
      "text/plain": [
       "0.7768288357997228"
      ]
     },
     "execution_count": 17,
     "metadata": {
      "tags": []
     },
     "output_type": "execute_result"
    }
   ],
   "source": [
    "np.mean(cv.cv_results_['mean_test_score'])"
   ]
  },
  {
   "cell_type": "markdown",
   "metadata": {
    "id": "oD8p_jb7BG_d"
   },
   "source": [
    "4) Посчитайте roc_auc для выборки holdout."
   ]
  },
  {
   "cell_type": "code",
   "execution_count": 18,
   "metadata": {
    "colab": {
     "base_uri": "https://localhost:8080/"
    },
    "executionInfo": {
     "elapsed": 1846,
     "status": "ok",
     "timestamp": 1619339187157,
     "user": {
      "displayName": "Tom Suworof",
      "photoUrl": "https://lh3.googleusercontent.com/a-/AOh14Ggz-eIopveajJbioEojrq84AjmkCQrwddGWHYymFA=s64",
      "userId": "12283177417914164151"
     },
     "user_tz": -180
    },
    "id": "lI-9tJeqZ07S",
    "outputId": "5585840b-2bec-4368-8655-905b1c04f948"
   },
   "outputs": [
    {
     "data": {
      "text/plain": [
       "0.8419117647058824"
      ]
     },
     "execution_count": 18,
     "metadata": {
      "tags": []
     },
     "output_type": "execute_result"
    }
   ],
   "source": [
    "from sklearn.metrics import roc_auc_score\n",
    " \n",
    "holdout_X = holdout.drop(axis=1, labels=['Survived'])\n",
    "holdout_y = holdout[['Survived']]\n",
    "holdout_X_transformed = pd.DataFrame(vec.transform(holdout_X))\n",
    " \n",
    "roc_auc_score(holdout_y, cv.best_estimator_.predict(holdout_X_transformed))"
   ]
  },
  {
   "cell_type": "markdown",
   "metadata": {
    "id": "Nodb8UpiBG_i"
   },
   "source": [
    "5) Посчитайте долю влияния фичи Pclass на итоговое предсказание."
   ]
  },
  {
   "cell_type": "code",
   "execution_count": 19,
   "metadata": {
    "colab": {
     "base_uri": "https://localhost:8080/",
     "height": 468
    },
    "executionInfo": {
     "elapsed": 1828,
     "status": "ok",
     "timestamp": 1619339187159,
     "user": {
      "displayName": "Tom Suworof",
      "photoUrl": "https://lh3.googleusercontent.com/a-/AOh14Ggz-eIopveajJbioEojrq84AjmkCQrwddGWHYymFA=s64",
      "userId": "12283177417914164151"
     },
     "user_tz": -180
    },
    "id": "WGgLs2e2BG_j",
    "outputId": "b3a07633-2222-4dee-bd0c-2a14657386d9"
   },
   "outputs": [
    {
     "data": {
      "text/html": [
       "<div>\n",
       "<style scoped>\n",
       "    .dataframe tbody tr th:only-of-type {\n",
       "        vertical-align: middle;\n",
       "    }\n",
       "\n",
       "    .dataframe tbody tr th {\n",
       "        vertical-align: top;\n",
       "    }\n",
       "\n",
       "    .dataframe thead th {\n",
       "        text-align: right;\n",
       "    }\n",
       "</style>\n",
       "<table border=\"1\" class=\"dataframe\">\n",
       "  <thead>\n",
       "    <tr style=\"text-align: right;\">\n",
       "      <th></th>\n",
       "      <th>Pclass</th>\n",
       "      <th>Sex</th>\n",
       "      <th>Age</th>\n",
       "      <th>SibSp</th>\n",
       "      <th>Parch</th>\n",
       "      <th>Fare</th>\n",
       "    </tr>\n",
       "    <tr>\n",
       "      <th>PassengerId</th>\n",
       "      <th></th>\n",
       "      <th></th>\n",
       "      <th></th>\n",
       "      <th></th>\n",
       "      <th></th>\n",
       "      <th></th>\n",
       "    </tr>\n",
       "  </thead>\n",
       "  <tbody>\n",
       "    <tr>\n",
       "      <th>122</th>\n",
       "      <td>3</td>\n",
       "      <td>male</td>\n",
       "      <td>NaN</td>\n",
       "      <td>0</td>\n",
       "      <td>0</td>\n",
       "      <td>8.0500</td>\n",
       "    </tr>\n",
       "    <tr>\n",
       "      <th>774</th>\n",
       "      <td>3</td>\n",
       "      <td>male</td>\n",
       "      <td>NaN</td>\n",
       "      <td>0</td>\n",
       "      <td>0</td>\n",
       "      <td>7.2250</td>\n",
       "    </tr>\n",
       "    <tr>\n",
       "      <th>849</th>\n",
       "      <td>2</td>\n",
       "      <td>male</td>\n",
       "      <td>28.0</td>\n",
       "      <td>0</td>\n",
       "      <td>1</td>\n",
       "      <td>33.0000</td>\n",
       "    </tr>\n",
       "    <tr>\n",
       "      <th>364</th>\n",
       "      <td>3</td>\n",
       "      <td>male</td>\n",
       "      <td>35.0</td>\n",
       "      <td>0</td>\n",
       "      <td>0</td>\n",
       "      <td>7.0500</td>\n",
       "    </tr>\n",
       "    <tr>\n",
       "      <th>433</th>\n",
       "      <td>2</td>\n",
       "      <td>female</td>\n",
       "      <td>42.0</td>\n",
       "      <td>1</td>\n",
       "      <td>0</td>\n",
       "      <td>26.0000</td>\n",
       "    </tr>\n",
       "    <tr>\n",
       "      <th>...</th>\n",
       "      <td>...</td>\n",
       "      <td>...</td>\n",
       "      <td>...</td>\n",
       "      <td>...</td>\n",
       "      <td>...</td>\n",
       "      <td>...</td>\n",
       "    </tr>\n",
       "    <tr>\n",
       "      <th>87</th>\n",
       "      <td>3</td>\n",
       "      <td>male</td>\n",
       "      <td>16.0</td>\n",
       "      <td>1</td>\n",
       "      <td>3</td>\n",
       "      <td>34.3750</td>\n",
       "    </tr>\n",
       "    <tr>\n",
       "      <th>788</th>\n",
       "      <td>3</td>\n",
       "      <td>male</td>\n",
       "      <td>8.0</td>\n",
       "      <td>4</td>\n",
       "      <td>1</td>\n",
       "      <td>29.1250</td>\n",
       "    </tr>\n",
       "    <tr>\n",
       "      <th>626</th>\n",
       "      <td>1</td>\n",
       "      <td>male</td>\n",
       "      <td>61.0</td>\n",
       "      <td>0</td>\n",
       "      <td>0</td>\n",
       "      <td>32.3208</td>\n",
       "    </tr>\n",
       "    <tr>\n",
       "      <th>780</th>\n",
       "      <td>1</td>\n",
       "      <td>female</td>\n",
       "      <td>43.0</td>\n",
       "      <td>0</td>\n",
       "      <td>1</td>\n",
       "      <td>211.3375</td>\n",
       "    </tr>\n",
       "    <tr>\n",
       "      <th>399</th>\n",
       "      <td>2</td>\n",
       "      <td>male</td>\n",
       "      <td>23.0</td>\n",
       "      <td>0</td>\n",
       "      <td>0</td>\n",
       "      <td>10.5000</td>\n",
       "    </tr>\n",
       "  </tbody>\n",
       "</table>\n",
       "<p>100 rows × 6 columns</p>\n",
       "</div>"
      ],
      "text/plain": [
       "             Pclass     Sex   Age  SibSp  Parch      Fare\n",
       "PassengerId                                              \n",
       "122               3    male   NaN      0      0    8.0500\n",
       "774               3    male   NaN      0      0    7.2250\n",
       "849               2    male  28.0      0      1   33.0000\n",
       "364               3    male  35.0      0      0    7.0500\n",
       "433               2  female  42.0      1      0   26.0000\n",
       "...             ...     ...   ...    ...    ...       ...\n",
       "87                3    male  16.0      1      3   34.3750\n",
       "788               3    male   8.0      4      1   29.1250\n",
       "626               1    male  61.0      0      0   32.3208\n",
       "780               1  female  43.0      0      1  211.3375\n",
       "399               2    male  23.0      0      0   10.5000\n",
       "\n",
       "[100 rows x 6 columns]"
      ]
     },
     "execution_count": 19,
     "metadata": {
      "tags": []
     },
     "output_type": "execute_result"
    }
   ],
   "source": [
    "holdout_X"
   ]
  },
  {
   "cell_type": "code",
   "execution_count": 20,
   "metadata": {
    "colab": {
     "base_uri": "https://localhost:8080/",
     "height": 437
    },
    "executionInfo": {
     "elapsed": 1811,
     "status": "ok",
     "timestamp": 1619339187161,
     "user": {
      "displayName": "Tom Suworof",
      "photoUrl": "https://lh3.googleusercontent.com/a-/AOh14Ggz-eIopveajJbioEojrq84AjmkCQrwddGWHYymFA=s64",
      "userId": "12283177417914164151"
     },
     "user_tz": -180
    },
    "id": "Hrl1IKgbBG_m",
    "outputId": "ece81386-217c-4da5-bec9-6550bfa52497"
   },
   "outputs": [
    {
     "data": {
      "text/html": [
       "<div>\n",
       "<style scoped>\n",
       "    .dataframe tbody tr th:only-of-type {\n",
       "        vertical-align: middle;\n",
       "    }\n",
       "\n",
       "    .dataframe tbody tr th {\n",
       "        vertical-align: top;\n",
       "    }\n",
       "\n",
       "    .dataframe thead th {\n",
       "        text-align: right;\n",
       "    }\n",
       "</style>\n",
       "<table border=\"1\" class=\"dataframe\">\n",
       "  <thead>\n",
       "    <tr style=\"text-align: right;\">\n",
       "      <th></th>\n",
       "      <th>is_female</th>\n",
       "      <th>is_male</th>\n",
       "      <th>pclass_1</th>\n",
       "      <th>pclass_2</th>\n",
       "      <th>pclass_3</th>\n",
       "      <th>age</th>\n",
       "      <th>sibsp</th>\n",
       "      <th>parch</th>\n",
       "      <th>fare</th>\n",
       "    </tr>\n",
       "  </thead>\n",
       "  <tbody>\n",
       "    <tr>\n",
       "      <th>0</th>\n",
       "      <td>0.0</td>\n",
       "      <td>1.0</td>\n",
       "      <td>0.0</td>\n",
       "      <td>0.0</td>\n",
       "      <td>1.0</td>\n",
       "      <td>-0.091626</td>\n",
       "      <td>-0.499367</td>\n",
       "      <td>-0.482365</td>\n",
       "      <td>-0.483733</td>\n",
       "    </tr>\n",
       "    <tr>\n",
       "      <th>1</th>\n",
       "      <td>0.0</td>\n",
       "      <td>1.0</td>\n",
       "      <td>0.0</td>\n",
       "      <td>0.0</td>\n",
       "      <td>1.0</td>\n",
       "      <td>-0.091626</td>\n",
       "      <td>-0.517734</td>\n",
       "      <td>-0.482365</td>\n",
       "      <td>-0.483733</td>\n",
       "    </tr>\n",
       "    <tr>\n",
       "      <th>2</th>\n",
       "      <td>0.0</td>\n",
       "      <td>1.0</td>\n",
       "      <td>0.0</td>\n",
       "      <td>1.0</td>\n",
       "      <td>0.0</td>\n",
       "      <td>-0.091626</td>\n",
       "      <td>0.056079</td>\n",
       "      <td>-0.482365</td>\n",
       "      <td>0.828366</td>\n",
       "    </tr>\n",
       "    <tr>\n",
       "      <th>3</th>\n",
       "      <td>0.0</td>\n",
       "      <td>1.0</td>\n",
       "      <td>0.0</td>\n",
       "      <td>0.0</td>\n",
       "      <td>1.0</td>\n",
       "      <td>0.442965</td>\n",
       "      <td>-0.521630</td>\n",
       "      <td>-0.482365</td>\n",
       "      <td>-0.483733</td>\n",
       "    </tr>\n",
       "    <tr>\n",
       "      <th>4</th>\n",
       "      <td>1.0</td>\n",
       "      <td>0.0</td>\n",
       "      <td>0.0</td>\n",
       "      <td>1.0</td>\n",
       "      <td>0.0</td>\n",
       "      <td>0.977555</td>\n",
       "      <td>-0.099758</td>\n",
       "      <td>0.494733</td>\n",
       "      <td>-0.483733</td>\n",
       "    </tr>\n",
       "    <tr>\n",
       "      <th>...</th>\n",
       "      <td>...</td>\n",
       "      <td>...</td>\n",
       "      <td>...</td>\n",
       "      <td>...</td>\n",
       "      <td>...</td>\n",
       "      <td>...</td>\n",
       "      <td>...</td>\n",
       "      <td>...</td>\n",
       "      <td>...</td>\n",
       "    </tr>\n",
       "    <tr>\n",
       "      <th>95</th>\n",
       "      <td>0.0</td>\n",
       "      <td>1.0</td>\n",
       "      <td>0.0</td>\n",
       "      <td>0.0</td>\n",
       "      <td>1.0</td>\n",
       "      <td>-1.008067</td>\n",
       "      <td>0.086690</td>\n",
       "      <td>0.494733</td>\n",
       "      <td>3.452564</td>\n",
       "    </tr>\n",
       "    <tr>\n",
       "      <th>96</th>\n",
       "      <td>0.0</td>\n",
       "      <td>1.0</td>\n",
       "      <td>0.0</td>\n",
       "      <td>0.0</td>\n",
       "      <td>1.0</td>\n",
       "      <td>-1.619027</td>\n",
       "      <td>-0.030188</td>\n",
       "      <td>3.426025</td>\n",
       "      <td>0.828366</td>\n",
       "    </tr>\n",
       "    <tr>\n",
       "      <th>97</th>\n",
       "      <td>0.0</td>\n",
       "      <td>1.0</td>\n",
       "      <td>1.0</td>\n",
       "      <td>0.0</td>\n",
       "      <td>0.0</td>\n",
       "      <td>2.428587</td>\n",
       "      <td>0.040959</td>\n",
       "      <td>-0.482365</td>\n",
       "      <td>-0.483733</td>\n",
       "    </tr>\n",
       "    <tr>\n",
       "      <th>98</th>\n",
       "      <td>1.0</td>\n",
       "      <td>0.0</td>\n",
       "      <td>1.0</td>\n",
       "      <td>0.0</td>\n",
       "      <td>0.0</td>\n",
       "      <td>1.053925</td>\n",
       "      <td>4.026295</td>\n",
       "      <td>-0.482365</td>\n",
       "      <td>0.828366</td>\n",
       "    </tr>\n",
       "    <tr>\n",
       "      <th>99</th>\n",
       "      <td>0.0</td>\n",
       "      <td>1.0</td>\n",
       "      <td>0.0</td>\n",
       "      <td>1.0</td>\n",
       "      <td>0.0</td>\n",
       "      <td>-0.473476</td>\n",
       "      <td>-0.444824</td>\n",
       "      <td>-0.482365</td>\n",
       "      <td>-0.483733</td>\n",
       "    </tr>\n",
       "  </tbody>\n",
       "</table>\n",
       "<p>100 rows × 9 columns</p>\n",
       "</div>"
      ],
      "text/plain": [
       "    is_female  is_male  pclass_1  ...     sibsp     parch      fare\n",
       "0         0.0      1.0       0.0  ... -0.499367 -0.482365 -0.483733\n",
       "1         0.0      1.0       0.0  ... -0.517734 -0.482365 -0.483733\n",
       "2         0.0      1.0       0.0  ...  0.056079 -0.482365  0.828366\n",
       "3         0.0      1.0       0.0  ... -0.521630 -0.482365 -0.483733\n",
       "4         1.0      0.0       0.0  ... -0.099758  0.494733 -0.483733\n",
       "..        ...      ...       ...  ...       ...       ...       ...\n",
       "95        0.0      1.0       0.0  ...  0.086690  0.494733  3.452564\n",
       "96        0.0      1.0       0.0  ... -0.030188  3.426025  0.828366\n",
       "97        0.0      1.0       1.0  ...  0.040959 -0.482365 -0.483733\n",
       "98        1.0      0.0       1.0  ...  4.026295 -0.482365  0.828366\n",
       "99        0.0      1.0       0.0  ... -0.444824 -0.482365 -0.483733\n",
       "\n",
       "[100 rows x 9 columns]"
      ]
     },
     "execution_count": 20,
     "metadata": {
      "tags": []
     },
     "output_type": "execute_result"
    }
   ],
   "source": [
    "holdout_X_transformed.columns = cols = ['is_female', 'is_male', 'pclass_1', 'pclass_2', 'pclass_3', 'age', 'sibsp', 'parch', 'fare']\n",
    "holdout_X_transformed"
   ]
  },
  {
   "cell_type": "code",
   "execution_count": 21,
   "metadata": {
    "colab": {
     "base_uri": "https://localhost:8080/",
     "height": 99
    },
    "executionInfo": {
     "elapsed": 1794,
     "status": "ok",
     "timestamp": 1619339187164,
     "user": {
      "displayName": "Tom Suworof",
      "photoUrl": "https://lh3.googleusercontent.com/a-/AOh14Ggz-eIopveajJbioEojrq84AjmkCQrwddGWHYymFA=s64",
      "userId": "12283177417914164151"
     },
     "user_tz": -180
    },
    "id": "zje6n_b_BG_o",
    "outputId": "5f4c056d-eb01-4c3c-8488-bb50a30c00dc"
   },
   "outputs": [
    {
     "data": {
      "text/html": [
       "<div>\n",
       "<style scoped>\n",
       "    .dataframe tbody tr th:only-of-type {\n",
       "        vertical-align: middle;\n",
       "    }\n",
       "\n",
       "    .dataframe tbody tr th {\n",
       "        vertical-align: top;\n",
       "    }\n",
       "\n",
       "    .dataframe thead th {\n",
       "        text-align: right;\n",
       "    }\n",
       "</style>\n",
       "<table border=\"1\" class=\"dataframe\">\n",
       "  <thead>\n",
       "    <tr style=\"text-align: right;\">\n",
       "      <th></th>\n",
       "      <th>is_female</th>\n",
       "      <th>is_male</th>\n",
       "      <th>pclass_1</th>\n",
       "      <th>pclass_2</th>\n",
       "      <th>pclass_3</th>\n",
       "      <th>age</th>\n",
       "      <th>sibsp</th>\n",
       "      <th>parch</th>\n",
       "      <th>fare</th>\n",
       "    </tr>\n",
       "  </thead>\n",
       "  <tbody>\n",
       "    <tr>\n",
       "      <th>0</th>\n",
       "      <td>0.314994</td>\n",
       "      <td>0.024182</td>\n",
       "      <td>0.246598</td>\n",
       "      <td>0.083781</td>\n",
       "      <td>0.032163</td>\n",
       "      <td>0.055592</td>\n",
       "      <td>0.095235</td>\n",
       "      <td>0.065133</td>\n",
       "      <td>0.082322</td>\n",
       "    </tr>\n",
       "  </tbody>\n",
       "</table>\n",
       "</div>"
      ],
      "text/plain": [
       "   is_female   is_male  pclass_1  ...     sibsp     parch      fare\n",
       "0   0.314994  0.024182  0.246598  ...  0.095235  0.065133  0.082322\n",
       "\n",
       "[1 rows x 9 columns]"
      ]
     },
     "execution_count": 21,
     "metadata": {
      "tags": []
     },
     "output_type": "execute_result"
    }
   ],
   "source": [
    "contribution = pd.DataFrame((np.exp(cv.best_estimator_.coef_) / np.exp(cv.best_estimator_.coef_).sum()), columns=holdout_X_transformed.columns)\n",
    "contribution"
   ]
  },
  {
   "cell_type": "code",
   "execution_count": 22,
   "metadata": {
    "colab": {
     "base_uri": "https://localhost:8080/"
    },
    "executionInfo": {
     "elapsed": 1779,
     "status": "ok",
     "timestamp": 1619339187166,
     "user": {
      "displayName": "Tom Suworof",
      "photoUrl": "https://lh3.googleusercontent.com/a-/AOh14Ggz-eIopveajJbioEojrq84AjmkCQrwddGWHYymFA=s64",
      "userId": "12283177417914164151"
     },
     "user_tz": -180
    },
    "id": "o4soh3izBG_s",
    "outputId": "81267beb-a6c8-40ca-da57-10b8d4d34e8e"
   },
   "outputs": [
    {
     "data": {
      "text/plain": [
       "0.3625419706363904"
      ]
     },
     "execution_count": 22,
     "metadata": {
      "tags": []
     },
     "output_type": "execute_result"
    }
   ],
   "source": [
    "contribution[['pclass_1', 'pclass_2', 'pclass_3']].iloc[0].sum()"
   ]
  },
  {
   "cell_type": "markdown",
   "metadata": {
    "id": "cyVM6MgQ4dsF"
   },
   "source": [
    "6) Теперь попробуйте применить к тем же данным дерево решений. \n",
    "Переберите значения для 5 разных параметров дерева решений (глубина, число листьев и т.д.) с помощью RandomizedSearch(n_iter = 100). Посчитайте roc_auc"
   ]
  },
  {
   "cell_type": "code",
   "execution_count": 23,
   "metadata": {
    "colab": {
     "base_uri": "https://localhost:8080/",
     "height": 437
    },
    "executionInfo": {
     "elapsed": 1762,
     "status": "ok",
     "timestamp": 1619339187168,
     "user": {
      "displayName": "Tom Suworof",
      "photoUrl": "https://lh3.googleusercontent.com/a-/AOh14Ggz-eIopveajJbioEojrq84AjmkCQrwddGWHYymFA=s64",
      "userId": "12283177417914164151"
     },
     "user_tz": -180
    },
    "id": "jgdBhNr-BG_w",
    "outputId": "2735f87a-2e35-4d2c-f95a-6a52313dc04c"
   },
   "outputs": [
    {
     "data": {
      "text/html": [
       "<div>\n",
       "<style scoped>\n",
       "    .dataframe tbody tr th:only-of-type {\n",
       "        vertical-align: middle;\n",
       "    }\n",
       "\n",
       "    .dataframe tbody tr th {\n",
       "        vertical-align: top;\n",
       "    }\n",
       "\n",
       "    .dataframe thead th {\n",
       "        text-align: right;\n",
       "    }\n",
       "</style>\n",
       "<table border=\"1\" class=\"dataframe\">\n",
       "  <thead>\n",
       "    <tr style=\"text-align: right;\">\n",
       "      <th></th>\n",
       "      <th>is_female</th>\n",
       "      <th>is_male</th>\n",
       "      <th>pclass_1</th>\n",
       "      <th>pclass_2</th>\n",
       "      <th>pclass_3</th>\n",
       "      <th>age</th>\n",
       "      <th>sibsp</th>\n",
       "      <th>parch</th>\n",
       "      <th>fare</th>\n",
       "    </tr>\n",
       "  </thead>\n",
       "  <tbody>\n",
       "    <tr>\n",
       "      <th>0</th>\n",
       "      <td>0.0</td>\n",
       "      <td>1.0</td>\n",
       "      <td>0.0</td>\n",
       "      <td>0.0</td>\n",
       "      <td>1.0</td>\n",
       "      <td>-0.626216</td>\n",
       "      <td>-0.502150</td>\n",
       "      <td>-0.482365</td>\n",
       "      <td>-0.483733</td>\n",
       "    </tr>\n",
       "    <tr>\n",
       "      <th>1</th>\n",
       "      <td>0.0</td>\n",
       "      <td>1.0</td>\n",
       "      <td>1.0</td>\n",
       "      <td>0.0</td>\n",
       "      <td>0.0</td>\n",
       "      <td>0.519335</td>\n",
       "      <td>-0.093357</td>\n",
       "      <td>-0.482365</td>\n",
       "      <td>-0.483733</td>\n",
       "    </tr>\n",
       "    <tr>\n",
       "      <th>2</th>\n",
       "      <td>1.0</td>\n",
       "      <td>0.0</td>\n",
       "      <td>1.0</td>\n",
       "      <td>0.0</td>\n",
       "      <td>0.0</td>\n",
       "      <td>0.901185</td>\n",
       "      <td>2.315710</td>\n",
       "      <td>-0.482365</td>\n",
       "      <td>-0.483733</td>\n",
       "    </tr>\n",
       "    <tr>\n",
       "      <th>3</th>\n",
       "      <td>0.0</td>\n",
       "      <td>1.0</td>\n",
       "      <td>0.0</td>\n",
       "      <td>0.0</td>\n",
       "      <td>1.0</td>\n",
       "      <td>-0.778957</td>\n",
       "      <td>-0.508272</td>\n",
       "      <td>-0.482365</td>\n",
       "      <td>-0.483733</td>\n",
       "    </tr>\n",
       "    <tr>\n",
       "      <th>4</th>\n",
       "      <td>1.0</td>\n",
       "      <td>0.0</td>\n",
       "      <td>1.0</td>\n",
       "      <td>0.0</td>\n",
       "      <td>0.0</td>\n",
       "      <td>-1.084437</td>\n",
       "      <td>4.026295</td>\n",
       "      <td>-0.482365</td>\n",
       "      <td>0.828366</td>\n",
       "    </tr>\n",
       "    <tr>\n",
       "      <th>...</th>\n",
       "      <td>...</td>\n",
       "      <td>...</td>\n",
       "      <td>...</td>\n",
       "      <td>...</td>\n",
       "      <td>...</td>\n",
       "      <td>...</td>\n",
       "      <td>...</td>\n",
       "      <td>...</td>\n",
       "      <td>...</td>\n",
       "    </tr>\n",
       "    <tr>\n",
       "      <th>627</th>\n",
       "      <td>0.0</td>\n",
       "      <td>1.0</td>\n",
       "      <td>0.0</td>\n",
       "      <td>0.0</td>\n",
       "      <td>1.0</td>\n",
       "      <td>-0.091626</td>\n",
       "      <td>-0.160979</td>\n",
       "      <td>1.471830</td>\n",
       "      <td>-0.483733</td>\n",
       "    </tr>\n",
       "    <tr>\n",
       "      <th>628</th>\n",
       "      <td>0.0</td>\n",
       "      <td>1.0</td>\n",
       "      <td>0.0</td>\n",
       "      <td>1.0</td>\n",
       "      <td>0.0</td>\n",
       "      <td>-0.397106</td>\n",
       "      <td>-0.389168</td>\n",
       "      <td>-0.482365</td>\n",
       "      <td>-0.483733</td>\n",
       "    </tr>\n",
       "    <tr>\n",
       "      <th>629</th>\n",
       "      <td>0.0</td>\n",
       "      <td>1.0</td>\n",
       "      <td>0.0</td>\n",
       "      <td>1.0</td>\n",
       "      <td>0.0</td>\n",
       "      <td>1.283035</td>\n",
       "      <td>-0.099758</td>\n",
       "      <td>-0.482365</td>\n",
       "      <td>-0.483733</td>\n",
       "    </tr>\n",
       "    <tr>\n",
       "      <th>630</th>\n",
       "      <td>0.0</td>\n",
       "      <td>1.0</td>\n",
       "      <td>1.0</td>\n",
       "      <td>0.0</td>\n",
       "      <td>0.0</td>\n",
       "      <td>3.115917</td>\n",
       "      <td>0.902049</td>\n",
       "      <td>0.494733</td>\n",
       "      <td>0.828366</td>\n",
       "    </tr>\n",
       "    <tr>\n",
       "      <th>631</th>\n",
       "      <td>0.0</td>\n",
       "      <td>1.0</td>\n",
       "      <td>0.0</td>\n",
       "      <td>1.0</td>\n",
       "      <td>0.0</td>\n",
       "      <td>-2.166601</td>\n",
       "      <td>-0.261160</td>\n",
       "      <td>0.494733</td>\n",
       "      <td>0.828366</td>\n",
       "    </tr>\n",
       "  </tbody>\n",
       "</table>\n",
       "<p>632 rows × 9 columns</p>\n",
       "</div>"
      ],
      "text/plain": [
       "     is_female  is_male  pclass_1  ...     sibsp     parch      fare\n",
       "0          0.0      1.0       0.0  ... -0.502150 -0.482365 -0.483733\n",
       "1          0.0      1.0       1.0  ... -0.093357 -0.482365 -0.483733\n",
       "2          1.0      0.0       1.0  ...  2.315710 -0.482365 -0.483733\n",
       "3          0.0      1.0       0.0  ... -0.508272 -0.482365 -0.483733\n",
       "4          1.0      0.0       1.0  ...  4.026295 -0.482365  0.828366\n",
       "..         ...      ...       ...  ...       ...       ...       ...\n",
       "627        0.0      1.0       0.0  ... -0.160979  1.471830 -0.483733\n",
       "628        0.0      1.0       0.0  ... -0.389168 -0.482365 -0.483733\n",
       "629        0.0      1.0       0.0  ... -0.099758 -0.482365 -0.483733\n",
       "630        0.0      1.0       1.0  ...  0.902049  0.494733  0.828366\n",
       "631        0.0      1.0       0.0  ... -0.261160  0.494733  0.828366\n",
       "\n",
       "[632 rows x 9 columns]"
      ]
     },
     "execution_count": 23,
     "metadata": {
      "tags": []
     },
     "output_type": "execute_result"
    }
   ],
   "source": [
    "X_train_transformed.columns = cols\n",
    "X_train_transformed"
   ]
  },
  {
   "cell_type": "code",
   "execution_count": 24,
   "metadata": {
    "executionInfo": {
     "elapsed": 3443,
     "status": "ok",
     "timestamp": 1619339188857,
     "user": {
      "displayName": "Tom Suworof",
      "photoUrl": "https://lh3.googleusercontent.com/a-/AOh14Ggz-eIopveajJbioEojrq84AjmkCQrwddGWHYymFA=s64",
      "userId": "12283177417914164151"
     },
     "user_tz": -180
    },
    "id": "QuBD21k7BG_y"
   },
   "outputs": [],
   "source": [
    "from sklearn.model_selection import RandomizedSearchCV\n",
    "from sklearn.tree import DecisionTreeClassifier\n",
    " \n",
    "tree_params = {\n",
    "    'max_depth': range(2, 6),\n",
    "    'min_samples_leaf': range(2, 5),\n",
    "    'criterion': ['gini', 'entropy'],\n",
    "    'splitter': ['best', 'random'],\n",
    "    'max_features': ['auto', 'sqrt', 'log2']\n",
    "}\n",
    " \n",
    "locally_best_tree = RandomizedSearchCV(\n",
    "    DecisionTreeClassifier(random_state=42),\n",
    "    tree_params,\n",
    "    n_iter=100,\n",
    ").fit(X_train_transformed, y_train)"
   ]
  },
  {
   "cell_type": "code",
   "execution_count": 25,
   "metadata": {
    "colab": {
     "base_uri": "https://localhost:8080/"
    },
    "executionInfo": {
     "elapsed": 3451,
     "status": "ok",
     "timestamp": 1619339188882,
     "user": {
      "displayName": "Tom Suworof",
      "photoUrl": "https://lh3.googleusercontent.com/a-/AOh14Ggz-eIopveajJbioEojrq84AjmkCQrwddGWHYymFA=s64",
      "userId": "12283177417914164151"
     },
     "user_tz": -180
    },
    "id": "uRwoAfrOBG_0",
    "outputId": "858fe9a0-582e-4c88-dd24-15273f4b7eeb"
   },
   "outputs": [
    {
     "data": {
      "text/plain": [
       "0.7895469316335456"
      ]
     },
     "execution_count": 25,
     "metadata": {
      "tags": []
     },
     "output_type": "execute_result"
    }
   ],
   "source": [
    "np.mean(locally_best_tree.cv_results_['mean_test_score'])"
   ]
  },
  {
   "cell_type": "markdown",
   "metadata": {
    "id": "9HNryBrSCX2H"
   },
   "source": [
    "7) Возьмите лучшее дерево из п.6 и визуализируйте его с помощью graphviz "
   ]
  },
  {
   "cell_type": "code",
   "execution_count": 26,
   "metadata": {
    "colab": {
     "base_uri": "https://localhost:8080/",
     "height": 107
    },
    "executionInfo": {
     "elapsed": 4345,
     "status": "ok",
     "timestamp": 1619339189796,
     "user": {
      "displayName": "Tom Suworof",
      "photoUrl": "https://lh3.googleusercontent.com/a-/AOh14Ggz-eIopveajJbioEojrq84AjmkCQrwddGWHYymFA=s64",
      "userId": "12283177417914164151"
     },
     "user_tz": -180
    },
    "id": "U7T7xBwRBG_3",
    "outputId": "d8fddb7e-932c-45fe-9e67-82c690f3f5f9"
   },
   "outputs": [
    {
     "data": {
      "image/png": "[encoded data removed]",
      "text/plain": [
       "<IPython.core.display.Image object>"
      ]
     },
     "execution_count": 26,
     "metadata": {
      "tags": []
     },
     "output_type": "execute_result"
    }
   ],
   "source": [
    "import sklearn\n",
    "from graphviz import Source\n",
    "from IPython.display import Image\n",
    " \n",
    "best = locally_best_tree.best_estimator_\n",
    " \n",
    "graph = Source(sklearn.tree.export_graphviz(locally_best_tree.best_estimator_, out_file=None, feature_names=X_train_transformed.columns.values))\n",
    "png_bytes = graph.pipe(format='png')\n",
    " \n",
    "Image(png_bytes)"
   ]
  },
  {
   "cell_type": "markdown",
   "metadata": {
    "id": "3enI8nEd8ffo"
   },
   "source": [
    "8) Запустите в цикле обучение дерева решений для X_train с разными значениями max_depth от 1 до 10. \n",
    "Нарисуйте график как меняется roc auc в зависимости от max_depth для выборок X_train и X_test, сравните насколько графики похожи."
   ]
  },
  {
   "cell_type": "code",
   "execution_count": 27,
   "metadata": {
    "colab": {
     "base_uri": "https://localhost:8080/",
     "height": 437
    },
    "executionInfo": {
     "elapsed": 4330,
     "status": "ok",
     "timestamp": 1619339189799,
     "user": {
      "displayName": "Tom Suworof",
      "photoUrl": "https://lh3.googleusercontent.com/a-/AOh14Ggz-eIopveajJbioEojrq84AjmkCQrwddGWHYymFA=s64",
      "userId": "12283177417914164151"
     },
     "user_tz": -180
    },
    "id": "VS5APg5uDvf5",
    "outputId": "9d2c7afd-6470-4348-9f36-87d99ce95d17"
   },
   "outputs": [
    {
     "data": {
      "text/html": [
       "<div>\n",
       "<style scoped>\n",
       "    .dataframe tbody tr th:only-of-type {\n",
       "        vertical-align: middle;\n",
       "    }\n",
       "\n",
       "    .dataframe tbody tr th {\n",
       "        vertical-align: top;\n",
       "    }\n",
       "\n",
       "    .dataframe thead th {\n",
       "        text-align: right;\n",
       "    }\n",
       "</style>\n",
       "<table border=\"1\" class=\"dataframe\">\n",
       "  <thead>\n",
       "    <tr style=\"text-align: right;\">\n",
       "      <th></th>\n",
       "      <th>is_female</th>\n",
       "      <th>is_male</th>\n",
       "      <th>pclass_1</th>\n",
       "      <th>pclass_2</th>\n",
       "      <th>pclass_3</th>\n",
       "      <th>age</th>\n",
       "      <th>sibsp</th>\n",
       "      <th>parch</th>\n",
       "      <th>fare</th>\n",
       "    </tr>\n",
       "  </thead>\n",
       "  <tbody>\n",
       "    <tr>\n",
       "      <th>0</th>\n",
       "      <td>1.0</td>\n",
       "      <td>0.0</td>\n",
       "      <td>0.0</td>\n",
       "      <td>0.0</td>\n",
       "      <td>1.0</td>\n",
       "      <td>0.061114</td>\n",
       "      <td>-0.140943</td>\n",
       "      <td>0.494733</td>\n",
       "      <td>0.828366</td>\n",
       "    </tr>\n",
       "    <tr>\n",
       "      <th>1</th>\n",
       "      <td>0.0</td>\n",
       "      <td>1.0</td>\n",
       "      <td>0.0</td>\n",
       "      <td>0.0</td>\n",
       "      <td>1.0</td>\n",
       "      <td>1.130295</td>\n",
       "      <td>-0.499367</td>\n",
       "      <td>-0.482365</td>\n",
       "      <td>-0.483733</td>\n",
       "    </tr>\n",
       "    <tr>\n",
       "      <th>2</th>\n",
       "      <td>0.0</td>\n",
       "      <td>1.0</td>\n",
       "      <td>1.0</td>\n",
       "      <td>0.0</td>\n",
       "      <td>0.0</td>\n",
       "      <td>0.442965</td>\n",
       "      <td>10.727086</td>\n",
       "      <td>-0.482365</td>\n",
       "      <td>-0.483733</td>\n",
       "    </tr>\n",
       "    <tr>\n",
       "      <th>3</th>\n",
       "      <td>0.0</td>\n",
       "      <td>1.0</td>\n",
       "      <td>1.0</td>\n",
       "      <td>0.0</td>\n",
       "      <td>0.0</td>\n",
       "      <td>1.206665</td>\n",
       "      <td>1.179773</td>\n",
       "      <td>0.494733</td>\n",
       "      <td>-0.483733</td>\n",
       "    </tr>\n",
       "    <tr>\n",
       "      <th>4</th>\n",
       "      <td>1.0</td>\n",
       "      <td>0.0</td>\n",
       "      <td>0.0</td>\n",
       "      <td>0.0</td>\n",
       "      <td>1.0</td>\n",
       "      <td>-0.091626</td>\n",
       "      <td>-0.320155</td>\n",
       "      <td>0.494733</td>\n",
       "      <td>-0.483733</td>\n",
       "    </tr>\n",
       "    <tr>\n",
       "      <th>...</th>\n",
       "      <td>...</td>\n",
       "      <td>...</td>\n",
       "      <td>...</td>\n",
       "      <td>...</td>\n",
       "      <td>...</td>\n",
       "      <td>...</td>\n",
       "      <td>...</td>\n",
       "      <td>...</td>\n",
       "      <td>...</td>\n",
       "    </tr>\n",
       "    <tr>\n",
       "      <th>154</th>\n",
       "      <td>0.0</td>\n",
       "      <td>1.0</td>\n",
       "      <td>0.0</td>\n",
       "      <td>0.0</td>\n",
       "      <td>1.0</td>\n",
       "      <td>-0.549846</td>\n",
       "      <td>-0.470426</td>\n",
       "      <td>-0.482365</td>\n",
       "      <td>-0.483733</td>\n",
       "    </tr>\n",
       "    <tr>\n",
       "      <th>155</th>\n",
       "      <td>1.0</td>\n",
       "      <td>0.0</td>\n",
       "      <td>0.0</td>\n",
       "      <td>1.0</td>\n",
       "      <td>0.0</td>\n",
       "      <td>0.442965</td>\n",
       "      <td>-0.211069</td>\n",
       "      <td>-0.482365</td>\n",
       "      <td>-0.483733</td>\n",
       "    </tr>\n",
       "    <tr>\n",
       "      <th>156</th>\n",
       "      <td>0.0</td>\n",
       "      <td>1.0</td>\n",
       "      <td>0.0</td>\n",
       "      <td>0.0</td>\n",
       "      <td>1.0</td>\n",
       "      <td>-0.015256</td>\n",
       "      <td>-0.502800</td>\n",
       "      <td>-0.482365</td>\n",
       "      <td>-0.483733</td>\n",
       "    </tr>\n",
       "    <tr>\n",
       "      <th>157</th>\n",
       "      <td>1.0</td>\n",
       "      <td>0.0</td>\n",
       "      <td>0.0</td>\n",
       "      <td>1.0</td>\n",
       "      <td>0.0</td>\n",
       "      <td>-0.855327</td>\n",
       "      <td>-0.389168</td>\n",
       "      <td>-0.482365</td>\n",
       "      <td>2.140465</td>\n",
       "    </tr>\n",
       "    <tr>\n",
       "      <th>158</th>\n",
       "      <td>1.0</td>\n",
       "      <td>0.0</td>\n",
       "      <td>0.0</td>\n",
       "      <td>1.0</td>\n",
       "      <td>0.0</td>\n",
       "      <td>0.366594</td>\n",
       "      <td>-0.389168</td>\n",
       "      <td>-0.482365</td>\n",
       "      <td>-0.483733</td>\n",
       "    </tr>\n",
       "  </tbody>\n",
       "</table>\n",
       "<p>159 rows × 9 columns</p>\n",
       "</div>"
      ],
      "text/plain": [
       "     is_female  is_male  pclass_1  ...      sibsp     parch      fare\n",
       "0          1.0      0.0       0.0  ...  -0.140943  0.494733  0.828366\n",
       "1          0.0      1.0       0.0  ...  -0.499367 -0.482365 -0.483733\n",
       "2          0.0      1.0       1.0  ...  10.727086 -0.482365 -0.483733\n",
       "3          0.0      1.0       1.0  ...   1.179773  0.494733 -0.483733\n",
       "4          1.0      0.0       0.0  ...  -0.320155  0.494733 -0.483733\n",
       "..         ...      ...       ...  ...        ...       ...       ...\n",
       "154        0.0      1.0       0.0  ...  -0.470426 -0.482365 -0.483733\n",
       "155        1.0      0.0       0.0  ...  -0.211069 -0.482365 -0.483733\n",
       "156        0.0      1.0       0.0  ...  -0.502800 -0.482365 -0.483733\n",
       "157        1.0      0.0       0.0  ...  -0.389168 -0.482365  2.140465\n",
       "158        1.0      0.0       0.0  ...  -0.389168 -0.482365 -0.483733\n",
       "\n",
       "[159 rows x 9 columns]"
      ]
     },
     "execution_count": 27,
     "metadata": {
      "tags": []
     },
     "output_type": "execute_result"
    }
   ],
   "source": [
    "X_test_transformed.columns = cols\n",
    "X_test_transformed"
   ]
  },
  {
   "cell_type": "code",
   "execution_count": 28,
   "metadata": {
    "executionInfo": {
     "elapsed": 4324,
     "status": "ok",
     "timestamp": 1619339189801,
     "user": {
      "displayName": "Tom Suworof",
      "photoUrl": "https://lh3.googleusercontent.com/a-/AOh14Ggz-eIopveajJbioEojrq84AjmkCQrwddGWHYymFA=s64",
      "userId": "12283177417914164151"
     },
     "user_tz": -180
    },
    "id": "6x52h_HHBHAI"
   },
   "outputs": [],
   "source": [
    "max_depths = range(1, 11)\n",
    "rocs_train = []\n",
    "rocs_test = []\n",
    " \n",
    "for i in max_depths:\n",
    "    tree_ = DecisionTreeClassifier(max_depth=i).fit(X_train_transformed, y_train)\n",
    "    prediction_train = tree_.predict(X_train_transformed)\n",
    "    rocs_train.append(roc_auc_score(y_train, prediction_train))\n",
    "    prediction_test = tree_.predict(X_test_transformed)\n",
    "    rocs_test.append(roc_auc_score(y_test, prediction_test))"
   ]
  },
  {
   "cell_type": "code",
   "execution_count": 29,
   "metadata": {
    "colab": {
     "base_uri": "https://localhost:8080/",
     "height": 263
    },
    "executionInfo": {
     "elapsed": 4969,
     "status": "ok",
     "timestamp": 1619339190466,
     "user": {
      "displayName": "Tom Suworof",
      "photoUrl": "https://lh3.googleusercontent.com/a-/AOh14Ggz-eIopveajJbioEojrq84AjmkCQrwddGWHYymFA=s64",
      "userId": "12283177417914164151"
     },
     "user_tz": -180
    },
    "id": "3cFdr-crIaf7",
    "outputId": "5c042ccf-ddf0-4210-9e9e-9d6f05bf8a28"
   },
   "outputs": [
    {
     "data": {
      "text/plain": [
       "<matplotlib.legend.Legend at 0x7fd8c844f6d0>"
      ]
     },
     "execution_count": 29,
     "metadata": {
      "tags": []
     },
     "output_type": "execute_result"
    },
    {
     "data": {
      "image/png": "[encoded data removed]",
      "text/plain": [
       "<Figure size 432x288 with 1 Axes>"
      ]
     },
     "metadata": {
      "needs_background": "light",
      "tags": []
     },
     "output_type": "display_data"
    }
   ],
   "source": [
    "plt.plot(max_depths, rocs_train, color='green', label='train')\n",
    "plt.plot(max_depths, rocs_test, color='red', label='test')\n",
    "plt.legend()"
   ]
  },
  {
   "cell_type": "markdown",
   "metadata": {
    "id": "IA_EcKrVJcjl"
   },
   "source": [
    "Графики значительно отличаются друг от друга"
   ]
  }
 ],
 "metadata": {
  "colab": {
   "collapsed_sections": [],
   "name": "titanic.ipynb",
   "provenance": []
  },
  "kernelspec": {
   "display_name": "Python 3",
   "language": "python",
   "name": "python3"
  },
  "language_info": {
   "codemirror_mode": {
    "name": "ipython",
    "version": 3
   },
   "file_extension": ".py",
   "mimetype": "text/x-python",
   "name": "python",
   "nbconvert_exporter": "python",
   "pygments_lexer": "ipython3",
   "version": "3.9.5"
  },
  "name": "seminar13_optional_practice_trees_titanic.ipynb"
 },
 "nbformat": 4,
 "nbformat_minor": 1
}
