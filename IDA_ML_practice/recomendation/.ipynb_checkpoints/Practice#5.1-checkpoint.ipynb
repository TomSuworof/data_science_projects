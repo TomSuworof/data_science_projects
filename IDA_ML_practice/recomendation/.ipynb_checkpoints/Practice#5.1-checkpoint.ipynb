{
 "cells": [
  {
   "cell_type": "markdown",
   "metadata": {},
   "source": [
    "dataset:\n",
    "\n",
    "original: \n",
    "- all - http://files.grouplens.org/datasets/movielens/ml-25m.zip\n",
    "- small - http://files.grouplens.org/datasets/movielens/ml-latest-small.zip"
   ]
  },
  {
   "cell_type": "markdown",
   "metadata": {},
   "source": [
    "1. Exploratory analysis.\n",
    "\n",
    "    Perform EDA:\n",
    "    - number of users\n",
    "    - number of items\n",
    "    - number of tags\n",
    "    - number of ratings\n",
    "    - summary statistics of number of ratings per user (mean, median, quantiles)\n",
    "    - rating sparcity\n",
    "    - summary statistics of number of tags per user\n",
    "\n",
    "2. Evaluation metrics report \n",
    "\n",
    "    Implement evaluation metrics to assess recommender performance\n",
    "    - MAP score\n",
    "    - Precision@k\n",
    "    - Mean percentage ranking\n",
    "\n",
    "3. Train-test split\n",
    "    - Build a function for splitting data into two dataset:train and test\n",
    "    - Garther stats for train vs. test: number of user and items and cold-user and new items in the test \n",
    "    \n",
    "4. Base transformation for data\n",
    "    - aggregation\n",
    "    - implicit feedback\n",
    "\n",
    "5. Collaborative filtering based recommenders \n",
    "\n",
    "    3.1. Most popular items (MP) recommender\n",
    "    Build Most popular items (MP) recommender, evaluate performance of this baseline\n",
    "\n",
    "    3.2. Build User2User and Item2Item CF approach\n"
   ]
  },
  {
   "cell_type": "code",
   "execution_count": 17,
   "metadata": {},
   "outputs": [],
   "source": [
    "import pandas as pd\n",
    "import numpy as np\n",
    "from pathlib import Path"
   ]
  },
  {
   "cell_type": "code",
   "execution_count": 18,
   "metadata": {},
   "outputs": [],
   "source": [
    "DATA_FOLDER = Path('./data/ml-latest-small/')"
   ]
  },
  {
   "cell_type": "markdown",
   "metadata": {},
   "source": [
    "### Exploratory analysis"
   ]
  },
  {
   "cell_type": "code",
   "execution_count": 19,
   "metadata": {},
   "outputs": [
    {
     "data": {
      "text/plain": [
       "[WindowsPath('data/ml-latest-small/links.csv'),\n",
       " WindowsPath('data/ml-latest-small/movies.csv'),\n",
       " WindowsPath('data/ml-latest-small/ratings.csv'),\n",
       " WindowsPath('data/ml-latest-small/tags.csv')]"
      ]
     },
     "execution_count": 19,
     "metadata": {},
     "output_type": "execute_result"
    }
   ],
   "source": [
    "list(DATA_FOLDER.glob('*.csv'))"
   ]
  },
  {
   "cell_type": "code",
   "execution_count": 20,
   "metadata": {},
   "outputs": [],
   "source": [
    "links = pd.read_csv(DATA_FOLDER / 'links.csv')\n",
    "movies = pd.read_csv(DATA_FOLDER / 'movies.csv')\n",
    "ratings = pd.read_csv(DATA_FOLDER / 'ratings.csv')\n",
    "tags = pd.read_csv(DATA_FOLDER / 'tags.csv')"
   ]
  },
  {
   "cell_type": "code",
   "execution_count": 21,
   "metadata": {},
   "outputs": [
    {
     "data": {
      "text/html": [
       "<div>\n",
       "<style scoped>\n",
       "    .dataframe tbody tr th:only-of-type {\n",
       "        vertical-align: middle;\n",
       "    }\n",
       "\n",
       "    .dataframe tbody tr th {\n",
       "        vertical-align: top;\n",
       "    }\n",
       "\n",
       "    .dataframe thead th {\n",
       "        text-align: right;\n",
       "    }\n",
       "</style>\n",
       "<table border=\"1\" class=\"dataframe\">\n",
       "  <thead>\n",
       "    <tr style=\"text-align: right;\">\n",
       "      <th></th>\n",
       "      <th>movieId</th>\n",
       "      <th>imdbId</th>\n",
       "      <th>tmdbId</th>\n",
       "    </tr>\n",
       "  </thead>\n",
       "  <tbody>\n",
       "    <tr>\n",
       "      <th>0</th>\n",
       "      <td>1</td>\n",
       "      <td>114709</td>\n",
       "      <td>862.0</td>\n",
       "    </tr>\n",
       "    <tr>\n",
       "      <th>1</th>\n",
       "      <td>2</td>\n",
       "      <td>113497</td>\n",
       "      <td>8844.0</td>\n",
       "    </tr>\n",
       "    <tr>\n",
       "      <th>2</th>\n",
       "      <td>3</td>\n",
       "      <td>113228</td>\n",
       "      <td>15602.0</td>\n",
       "    </tr>\n",
       "    <tr>\n",
       "      <th>3</th>\n",
       "      <td>4</td>\n",
       "      <td>114885</td>\n",
       "      <td>31357.0</td>\n",
       "    </tr>\n",
       "    <tr>\n",
       "      <th>4</th>\n",
       "      <td>5</td>\n",
       "      <td>113041</td>\n",
       "      <td>11862.0</td>\n",
       "    </tr>\n",
       "  </tbody>\n",
       "</table>\n",
       "</div>"
      ],
      "text/plain": [
       "   movieId  imdbId   tmdbId\n",
       "0        1  114709    862.0\n",
       "1        2  113497   8844.0\n",
       "2        3  113228  15602.0\n",
       "3        4  114885  31357.0\n",
       "4        5  113041  11862.0"
      ]
     },
     "execution_count": 21,
     "metadata": {},
     "output_type": "execute_result"
    }
   ],
   "source": [
    "links.head()"
   ]
  },
  {
   "cell_type": "code",
   "execution_count": 22,
   "metadata": {},
   "outputs": [
    {
     "data": {
      "text/html": [
       "<div>\n",
       "<style scoped>\n",
       "    .dataframe tbody tr th:only-of-type {\n",
       "        vertical-align: middle;\n",
       "    }\n",
       "\n",
       "    .dataframe tbody tr th {\n",
       "        vertical-align: top;\n",
       "    }\n",
       "\n",
       "    .dataframe thead th {\n",
       "        text-align: right;\n",
       "    }\n",
       "</style>\n",
       "<table border=\"1\" class=\"dataframe\">\n",
       "  <thead>\n",
       "    <tr style=\"text-align: right;\">\n",
       "      <th></th>\n",
       "      <th>movieId</th>\n",
       "      <th>title</th>\n",
       "      <th>genres</th>\n",
       "    </tr>\n",
       "  </thead>\n",
       "  <tbody>\n",
       "    <tr>\n",
       "      <th>0</th>\n",
       "      <td>1</td>\n",
       "      <td>Toy Story (1995)</td>\n",
       "      <td>Adventure|Animation|Children|Comedy|Fantasy</td>\n",
       "    </tr>\n",
       "    <tr>\n",
       "      <th>1</th>\n",
       "      <td>2</td>\n",
       "      <td>Jumanji (1995)</td>\n",
       "      <td>Adventure|Children|Fantasy</td>\n",
       "    </tr>\n",
       "    <tr>\n",
       "      <th>2</th>\n",
       "      <td>3</td>\n",
       "      <td>Grumpier Old Men (1995)</td>\n",
       "      <td>Comedy|Romance</td>\n",
       "    </tr>\n",
       "    <tr>\n",
       "      <th>3</th>\n",
       "      <td>4</td>\n",
       "      <td>Waiting to Exhale (1995)</td>\n",
       "      <td>Comedy|Drama|Romance</td>\n",
       "    </tr>\n",
       "    <tr>\n",
       "      <th>4</th>\n",
       "      <td>5</td>\n",
       "      <td>Father of the Bride Part II (1995)</td>\n",
       "      <td>Comedy</td>\n",
       "    </tr>\n",
       "  </tbody>\n",
       "</table>\n",
       "</div>"
      ],
      "text/plain": [
       "   movieId                               title  \\\n",
       "0        1                    Toy Story (1995)   \n",
       "1        2                      Jumanji (1995)   \n",
       "2        3             Grumpier Old Men (1995)   \n",
       "3        4            Waiting to Exhale (1995)   \n",
       "4        5  Father of the Bride Part II (1995)   \n",
       "\n",
       "                                        genres  \n",
       "0  Adventure|Animation|Children|Comedy|Fantasy  \n",
       "1                   Adventure|Children|Fantasy  \n",
       "2                               Comedy|Romance  \n",
       "3                         Comedy|Drama|Romance  \n",
       "4                                       Comedy  "
      ]
     },
     "execution_count": 22,
     "metadata": {},
     "output_type": "execute_result"
    }
   ],
   "source": [
    "movies.head()"
   ]
  },
  {
   "cell_type": "code",
   "execution_count": 23,
   "metadata": {},
   "outputs": [
    {
     "data": {
      "text/html": [
       "<div>\n",
       "<style scoped>\n",
       "    .dataframe tbody tr th:only-of-type {\n",
       "        vertical-align: middle;\n",
       "    }\n",
       "\n",
       "    .dataframe tbody tr th {\n",
       "        vertical-align: top;\n",
       "    }\n",
       "\n",
       "    .dataframe thead th {\n",
       "        text-align: right;\n",
       "    }\n",
       "</style>\n",
       "<table border=\"1\" class=\"dataframe\">\n",
       "  <thead>\n",
       "    <tr style=\"text-align: right;\">\n",
       "      <th></th>\n",
       "      <th>userId</th>\n",
       "      <th>movieId</th>\n",
       "      <th>rating</th>\n",
       "      <th>timestamp</th>\n",
       "    </tr>\n",
       "  </thead>\n",
       "  <tbody>\n",
       "    <tr>\n",
       "      <th>0</th>\n",
       "      <td>1</td>\n",
       "      <td>1</td>\n",
       "      <td>4.0</td>\n",
       "      <td>964982703</td>\n",
       "    </tr>\n",
       "    <tr>\n",
       "      <th>1</th>\n",
       "      <td>1</td>\n",
       "      <td>3</td>\n",
       "      <td>4.0</td>\n",
       "      <td>964981247</td>\n",
       "    </tr>\n",
       "    <tr>\n",
       "      <th>2</th>\n",
       "      <td>1</td>\n",
       "      <td>6</td>\n",
       "      <td>4.0</td>\n",
       "      <td>964982224</td>\n",
       "    </tr>\n",
       "    <tr>\n",
       "      <th>3</th>\n",
       "      <td>1</td>\n",
       "      <td>47</td>\n",
       "      <td>5.0</td>\n",
       "      <td>964983815</td>\n",
       "    </tr>\n",
       "    <tr>\n",
       "      <th>4</th>\n",
       "      <td>1</td>\n",
       "      <td>50</td>\n",
       "      <td>5.0</td>\n",
       "      <td>964982931</td>\n",
       "    </tr>\n",
       "  </tbody>\n",
       "</table>\n",
       "</div>"
      ],
      "text/plain": [
       "   userId  movieId  rating  timestamp\n",
       "0       1        1     4.0  964982703\n",
       "1       1        3     4.0  964981247\n",
       "2       1        6     4.0  964982224\n",
       "3       1       47     5.0  964983815\n",
       "4       1       50     5.0  964982931"
      ]
     },
     "execution_count": 23,
     "metadata": {},
     "output_type": "execute_result"
    }
   ],
   "source": [
    "ratings.head()"
   ]
  },
  {
   "cell_type": "code",
   "execution_count": 24,
   "metadata": {},
   "outputs": [
    {
     "data": {
      "text/html": [
       "<div>\n",
       "<style scoped>\n",
       "    .dataframe tbody tr th:only-of-type {\n",
       "        vertical-align: middle;\n",
       "    }\n",
       "\n",
       "    .dataframe tbody tr th {\n",
       "        vertical-align: top;\n",
       "    }\n",
       "\n",
       "    .dataframe thead th {\n",
       "        text-align: right;\n",
       "    }\n",
       "</style>\n",
       "<table border=\"1\" class=\"dataframe\">\n",
       "  <thead>\n",
       "    <tr style=\"text-align: right;\">\n",
       "      <th></th>\n",
       "      <th>userId</th>\n",
       "      <th>movieId</th>\n",
       "      <th>tag</th>\n",
       "      <th>timestamp</th>\n",
       "    </tr>\n",
       "  </thead>\n",
       "  <tbody>\n",
       "    <tr>\n",
       "      <th>0</th>\n",
       "      <td>2</td>\n",
       "      <td>60756</td>\n",
       "      <td>funny</td>\n",
       "      <td>1445714994</td>\n",
       "    </tr>\n",
       "    <tr>\n",
       "      <th>1</th>\n",
       "      <td>2</td>\n",
       "      <td>60756</td>\n",
       "      <td>Highly quotable</td>\n",
       "      <td>1445714996</td>\n",
       "    </tr>\n",
       "    <tr>\n",
       "      <th>2</th>\n",
       "      <td>2</td>\n",
       "      <td>60756</td>\n",
       "      <td>will ferrell</td>\n",
       "      <td>1445714992</td>\n",
       "    </tr>\n",
       "    <tr>\n",
       "      <th>3</th>\n",
       "      <td>2</td>\n",
       "      <td>89774</td>\n",
       "      <td>Boxing story</td>\n",
       "      <td>1445715207</td>\n",
       "    </tr>\n",
       "    <tr>\n",
       "      <th>4</th>\n",
       "      <td>2</td>\n",
       "      <td>89774</td>\n",
       "      <td>MMA</td>\n",
       "      <td>1445715200</td>\n",
       "    </tr>\n",
       "  </tbody>\n",
       "</table>\n",
       "</div>"
      ],
      "text/plain": [
       "   userId  movieId              tag   timestamp\n",
       "0       2    60756            funny  1445714994\n",
       "1       2    60756  Highly quotable  1445714996\n",
       "2       2    60756     will ferrell  1445714992\n",
       "3       2    89774     Boxing story  1445715207\n",
       "4       2    89774              MMA  1445715200"
      ]
     },
     "execution_count": 24,
     "metadata": {},
     "output_type": "execute_result"
    }
   ],
   "source": [
    "tags.head()"
   ]
  },
  {
   "cell_type": "code",
   "execution_count": 29,
   "metadata": {},
   "outputs": [
    {
     "name": "stdout",
     "output_type": "stream",
     "text": [
      "count unique users 610\n"
     ]
    }
   ],
   "source": [
    "print('count unique users', ratings.userId.nunique())"
   ]
  },
  {
   "cell_type": "code",
   "execution_count": 30,
   "metadata": {},
   "outputs": [
    {
     "name": "stdout",
     "output_type": "stream",
     "text": [
      "count unique item 9724\n"
     ]
    }
   ],
   "source": [
    "print('count unique item', ratings.movieId.nunique())"
   ]
  },
  {
   "cell_type": "code",
   "execution_count": 31,
   "metadata": {},
   "outputs": [
    {
     "name": "stdout",
     "output_type": "stream",
     "text": [
      "count tags 1589\n"
     ]
    }
   ],
   "source": [
    "print('count tags', tags.tag.nunique())"
   ]
  },
  {
   "cell_type": "code",
   "execution_count": 32,
   "metadata": {},
   "outputs": [
    {
     "name": "stdout",
     "output_type": "stream",
     "text": [
      "count ratings 100836\n"
     ]
    }
   ],
   "source": [
    "print('count ratings', ratings.shape[0])"
   ]
  },
  {
   "cell_type": "code",
   "execution_count": 34,
   "metadata": {},
   "outputs": [
    {
     "name": "stdout",
     "output_type": "stream",
     "text": [
      "sparcity of rating matrix 0.9830003169443864\n"
     ]
    }
   ],
   "source": [
    "# количество незаполненных пар юзер-рейтинг\n",
    "\n",
    "print('sparcity of rating matrix', \n",
    "      1-ratings.shape[0]/(ratings.movieId.nunique()*ratings.userId.nunique()))"
   ]
  },
  {
   "cell_type": "code",
   "execution_count": 35,
   "metadata": {},
   "outputs": [],
   "source": [
    "#summary statistics of number of ratings per user (mean, median, quantiles)\n",
    "stats = ratings.groupby('userId')['rating']\\\n",
    "    .agg([np.mean, np.median, max, min, len, np.std])"
   ]
  },
  {
   "cell_type": "code",
   "execution_count": 36,
   "metadata": {},
   "outputs": [],
   "source": [
    "stats_tags = tags.groupby('userId')['tag'].agg(len)"
   ]
  },
  {
   "cell_type": "code",
   "execution_count": 37,
   "metadata": {},
   "outputs": [],
   "source": [
    "stats = stats.join(stats_tags)"
   ]
  },
  {
   "cell_type": "code",
   "execution_count": 45,
   "metadata": {},
   "outputs": [
    {
     "data": {
      "text/html": [
       "<div>\n",
       "<style scoped>\n",
       "    .dataframe tbody tr th:only-of-type {\n",
       "        vertical-align: middle;\n",
       "    }\n",
       "\n",
       "    .dataframe tbody tr th {\n",
       "        vertical-align: top;\n",
       "    }\n",
       "\n",
       "    .dataframe thead th {\n",
       "        text-align: right;\n",
       "    }\n",
       "</style>\n",
       "<table border=\"1\" class=\"dataframe\">\n",
       "  <thead>\n",
       "    <tr style=\"text-align: right;\">\n",
       "      <th></th>\n",
       "      <th>mean</th>\n",
       "      <th>median</th>\n",
       "      <th>max</th>\n",
       "      <th>min</th>\n",
       "      <th>len</th>\n",
       "      <th>std</th>\n",
       "      <th>tag</th>\n",
       "      <th>is_null_tag</th>\n",
       "    </tr>\n",
       "    <tr>\n",
       "      <th>userId</th>\n",
       "      <th></th>\n",
       "      <th></th>\n",
       "      <th></th>\n",
       "      <th></th>\n",
       "      <th></th>\n",
       "      <th></th>\n",
       "      <th></th>\n",
       "      <th></th>\n",
       "    </tr>\n",
       "  </thead>\n",
       "  <tbody>\n",
       "    <tr>\n",
       "      <th>1</th>\n",
       "      <td>4.366379</td>\n",
       "      <td>5.0</td>\n",
       "      <td>5.0</td>\n",
       "      <td>1.0</td>\n",
       "      <td>232.0</td>\n",
       "      <td>0.800048</td>\n",
       "      <td>NaN</td>\n",
       "      <td>True</td>\n",
       "    </tr>\n",
       "    <tr>\n",
       "      <th>2</th>\n",
       "      <td>3.948276</td>\n",
       "      <td>4.0</td>\n",
       "      <td>5.0</td>\n",
       "      <td>2.0</td>\n",
       "      <td>29.0</td>\n",
       "      <td>0.805615</td>\n",
       "      <td>9.0</td>\n",
       "      <td>False</td>\n",
       "    </tr>\n",
       "    <tr>\n",
       "      <th>3</th>\n",
       "      <td>2.435897</td>\n",
       "      <td>0.5</td>\n",
       "      <td>5.0</td>\n",
       "      <td>0.5</td>\n",
       "      <td>39.0</td>\n",
       "      <td>2.090642</td>\n",
       "      <td>NaN</td>\n",
       "      <td>True</td>\n",
       "    </tr>\n",
       "    <tr>\n",
       "      <th>4</th>\n",
       "      <td>3.555556</td>\n",
       "      <td>4.0</td>\n",
       "      <td>5.0</td>\n",
       "      <td>1.0</td>\n",
       "      <td>216.0</td>\n",
       "      <td>1.314204</td>\n",
       "      <td>NaN</td>\n",
       "      <td>True</td>\n",
       "    </tr>\n",
       "    <tr>\n",
       "      <th>5</th>\n",
       "      <td>3.636364</td>\n",
       "      <td>4.0</td>\n",
       "      <td>5.0</td>\n",
       "      <td>1.0</td>\n",
       "      <td>44.0</td>\n",
       "      <td>0.990441</td>\n",
       "      <td>NaN</td>\n",
       "      <td>True</td>\n",
       "    </tr>\n",
       "    <tr>\n",
       "      <th>6</th>\n",
       "      <td>3.493631</td>\n",
       "      <td>3.0</td>\n",
       "      <td>5.0</td>\n",
       "      <td>1.0</td>\n",
       "      <td>314.0</td>\n",
       "      <td>0.850648</td>\n",
       "      <td>NaN</td>\n",
       "      <td>True</td>\n",
       "    </tr>\n",
       "    <tr>\n",
       "      <th>7</th>\n",
       "      <td>3.230263</td>\n",
       "      <td>3.5</td>\n",
       "      <td>5.0</td>\n",
       "      <td>0.5</td>\n",
       "      <td>152.0</td>\n",
       "      <td>1.329594</td>\n",
       "      <td>1.0</td>\n",
       "      <td>False</td>\n",
       "    </tr>\n",
       "    <tr>\n",
       "      <th>8</th>\n",
       "      <td>3.574468</td>\n",
       "      <td>3.0</td>\n",
       "      <td>5.0</td>\n",
       "      <td>1.0</td>\n",
       "      <td>47.0</td>\n",
       "      <td>0.972328</td>\n",
       "      <td>NaN</td>\n",
       "      <td>True</td>\n",
       "    </tr>\n",
       "    <tr>\n",
       "      <th>9</th>\n",
       "      <td>3.260870</td>\n",
       "      <td>3.0</td>\n",
       "      <td>5.0</td>\n",
       "      <td>1.0</td>\n",
       "      <td>46.0</td>\n",
       "      <td>1.272526</td>\n",
       "      <td>NaN</td>\n",
       "      <td>True</td>\n",
       "    </tr>\n",
       "    <tr>\n",
       "      <th>10</th>\n",
       "      <td>3.278571</td>\n",
       "      <td>3.5</td>\n",
       "      <td>5.0</td>\n",
       "      <td>0.5</td>\n",
       "      <td>140.0</td>\n",
       "      <td>1.175700</td>\n",
       "      <td>NaN</td>\n",
       "      <td>True</td>\n",
       "    </tr>\n",
       "  </tbody>\n",
       "</table>\n",
       "</div>"
      ],
      "text/plain": [
       "            mean  median  max  min    len       std  tag  is_null_tag\n",
       "userId                                                               \n",
       "1       4.366379     5.0  5.0  1.0  232.0  0.800048  NaN         True\n",
       "2       3.948276     4.0  5.0  2.0   29.0  0.805615  9.0        False\n",
       "3       2.435897     0.5  5.0  0.5   39.0  2.090642  NaN         True\n",
       "4       3.555556     4.0  5.0  1.0  216.0  1.314204  NaN         True\n",
       "5       3.636364     4.0  5.0  1.0   44.0  0.990441  NaN         True\n",
       "6       3.493631     3.0  5.0  1.0  314.0  0.850648  NaN         True\n",
       "7       3.230263     3.5  5.0  0.5  152.0  1.329594  1.0        False\n",
       "8       3.574468     3.0  5.0  1.0   47.0  0.972328  NaN         True\n",
       "9       3.260870     3.0  5.0  1.0   46.0  1.272526  NaN         True\n",
       "10      3.278571     3.5  5.0  0.5  140.0  1.175700  NaN         True"
      ]
     },
     "execution_count": 45,
     "metadata": {},
     "output_type": "execute_result"
    }
   ],
   "source": [
    "stats.head(10)"
   ]
  },
  {
   "cell_type": "code",
   "execution_count": 50,
   "metadata": {},
   "outputs": [
    {
     "data": {
      "text/html": [
       "<div>\n",
       "<style scoped>\n",
       "    .dataframe tbody tr th:only-of-type {\n",
       "        vertical-align: middle;\n",
       "    }\n",
       "\n",
       "    .dataframe tbody tr th {\n",
       "        vertical-align: top;\n",
       "    }\n",
       "\n",
       "    .dataframe thead th {\n",
       "        text-align: right;\n",
       "    }\n",
       "</style>\n",
       "<table border=\"1\" class=\"dataframe\">\n",
       "  <thead>\n",
       "    <tr style=\"text-align: right;\">\n",
       "      <th></th>\n",
       "      <th>count</th>\n",
       "      <th>mean</th>\n",
       "      <th>std</th>\n",
       "      <th>min</th>\n",
       "      <th>5%</th>\n",
       "      <th>25%</th>\n",
       "      <th>50%</th>\n",
       "      <th>75%</th>\n",
       "      <th>95%</th>\n",
       "      <th>max</th>\n",
       "    </tr>\n",
       "    <tr>\n",
       "      <th>userId</th>\n",
       "      <th></th>\n",
       "      <th></th>\n",
       "      <th></th>\n",
       "      <th></th>\n",
       "      <th></th>\n",
       "      <th></th>\n",
       "      <th></th>\n",
       "      <th></th>\n",
       "      <th></th>\n",
       "      <th></th>\n",
       "    </tr>\n",
       "  </thead>\n",
       "  <tbody>\n",
       "    <tr>\n",
       "      <th>1</th>\n",
       "      <td>232.0</td>\n",
       "      <td>4.366379</td>\n",
       "      <td>0.800048</td>\n",
       "      <td>1.0</td>\n",
       "      <td>3.0</td>\n",
       "      <td>4.00</td>\n",
       "      <td>5.0</td>\n",
       "      <td>5.00</td>\n",
       "      <td>5.0</td>\n",
       "      <td>5.0</td>\n",
       "    </tr>\n",
       "    <tr>\n",
       "      <th>2</th>\n",
       "      <td>29.0</td>\n",
       "      <td>3.948276</td>\n",
       "      <td>0.805615</td>\n",
       "      <td>2.0</td>\n",
       "      <td>2.7</td>\n",
       "      <td>3.50</td>\n",
       "      <td>4.0</td>\n",
       "      <td>4.50</td>\n",
       "      <td>5.0</td>\n",
       "      <td>5.0</td>\n",
       "    </tr>\n",
       "    <tr>\n",
       "      <th>3</th>\n",
       "      <td>39.0</td>\n",
       "      <td>2.435897</td>\n",
       "      <td>2.090642</td>\n",
       "      <td>0.5</td>\n",
       "      <td>0.5</td>\n",
       "      <td>0.50</td>\n",
       "      <td>0.5</td>\n",
       "      <td>4.75</td>\n",
       "      <td>5.0</td>\n",
       "      <td>5.0</td>\n",
       "    </tr>\n",
       "    <tr>\n",
       "      <th>4</th>\n",
       "      <td>216.0</td>\n",
       "      <td>3.555556</td>\n",
       "      <td>1.314204</td>\n",
       "      <td>1.0</td>\n",
       "      <td>1.0</td>\n",
       "      <td>3.00</td>\n",
       "      <td>4.0</td>\n",
       "      <td>5.00</td>\n",
       "      <td>5.0</td>\n",
       "      <td>5.0</td>\n",
       "    </tr>\n",
       "    <tr>\n",
       "      <th>5</th>\n",
       "      <td>44.0</td>\n",
       "      <td>3.636364</td>\n",
       "      <td>0.990441</td>\n",
       "      <td>1.0</td>\n",
       "      <td>2.0</td>\n",
       "      <td>3.00</td>\n",
       "      <td>4.0</td>\n",
       "      <td>4.00</td>\n",
       "      <td>5.0</td>\n",
       "      <td>5.0</td>\n",
       "    </tr>\n",
       "    <tr>\n",
       "      <th>6</th>\n",
       "      <td>314.0</td>\n",
       "      <td>3.493631</td>\n",
       "      <td>0.850648</td>\n",
       "      <td>1.0</td>\n",
       "      <td>2.0</td>\n",
       "      <td>3.00</td>\n",
       "      <td>3.0</td>\n",
       "      <td>4.00</td>\n",
       "      <td>5.0</td>\n",
       "      <td>5.0</td>\n",
       "    </tr>\n",
       "    <tr>\n",
       "      <th>7</th>\n",
       "      <td>152.0</td>\n",
       "      <td>3.230263</td>\n",
       "      <td>1.329594</td>\n",
       "      <td>0.5</td>\n",
       "      <td>1.0</td>\n",
       "      <td>2.00</td>\n",
       "      <td>3.5</td>\n",
       "      <td>4.50</td>\n",
       "      <td>5.0</td>\n",
       "      <td>5.0</td>\n",
       "    </tr>\n",
       "    <tr>\n",
       "      <th>8</th>\n",
       "      <td>47.0</td>\n",
       "      <td>3.574468</td>\n",
       "      <td>0.972328</td>\n",
       "      <td>1.0</td>\n",
       "      <td>2.0</td>\n",
       "      <td>3.00</td>\n",
       "      <td>3.0</td>\n",
       "      <td>4.00</td>\n",
       "      <td>5.0</td>\n",
       "      <td>5.0</td>\n",
       "    </tr>\n",
       "    <tr>\n",
       "      <th>9</th>\n",
       "      <td>46.0</td>\n",
       "      <td>3.260870</td>\n",
       "      <td>1.272526</td>\n",
       "      <td>1.0</td>\n",
       "      <td>1.0</td>\n",
       "      <td>2.25</td>\n",
       "      <td>3.0</td>\n",
       "      <td>4.00</td>\n",
       "      <td>5.0</td>\n",
       "      <td>5.0</td>\n",
       "    </tr>\n",
       "    <tr>\n",
       "      <th>10</th>\n",
       "      <td>140.0</td>\n",
       "      <td>3.278571</td>\n",
       "      <td>1.175700</td>\n",
       "      <td>0.5</td>\n",
       "      <td>0.5</td>\n",
       "      <td>3.00</td>\n",
       "      <td>3.5</td>\n",
       "      <td>4.00</td>\n",
       "      <td>5.0</td>\n",
       "      <td>5.0</td>\n",
       "    </tr>\n",
       "  </tbody>\n",
       "</table>\n",
       "</div>"
      ],
      "text/plain": [
       "        count      mean       std  min   5%   25%  50%   75%  95%  max\n",
       "userId                                                                \n",
       "1       232.0  4.366379  0.800048  1.0  3.0  4.00  5.0  5.00  5.0  5.0\n",
       "2        29.0  3.948276  0.805615  2.0  2.7  3.50  4.0  4.50  5.0  5.0\n",
       "3        39.0  2.435897  2.090642  0.5  0.5  0.50  0.5  4.75  5.0  5.0\n",
       "4       216.0  3.555556  1.314204  1.0  1.0  3.00  4.0  5.00  5.0  5.0\n",
       "5        44.0  3.636364  0.990441  1.0  2.0  3.00  4.0  4.00  5.0  5.0\n",
       "6       314.0  3.493631  0.850648  1.0  2.0  3.00  3.0  4.00  5.0  5.0\n",
       "7       152.0  3.230263  1.329594  0.5  1.0  2.00  3.5  4.50  5.0  5.0\n",
       "8        47.0  3.574468  0.972328  1.0  2.0  3.00  3.0  4.00  5.0  5.0\n",
       "9        46.0  3.260870  1.272526  1.0  1.0  2.25  3.0  4.00  5.0  5.0\n",
       "10      140.0  3.278571  1.175700  0.5  0.5  3.00  3.5  4.00  5.0  5.0"
      ]
     },
     "execution_count": 50,
     "metadata": {},
     "output_type": "execute_result"
    }
   ],
   "source": [
    "ratings.groupby('userId')['rating'].describe(percentiles=[0.05, 0.25, 0.75, .95]).head(10)"
   ]
  },
  {
   "cell_type": "code",
   "execution_count": 51,
   "metadata": {},
   "outputs": [],
   "source": [
    "stats['is_null_tag'] = stats.tag.isnull()"
   ]
  },
  {
   "cell_type": "code",
   "execution_count": 52,
   "metadata": {},
   "outputs": [
    {
     "data": {
      "text/plain": [
       "552"
      ]
     },
     "execution_count": 52,
     "metadata": {},
     "output_type": "execute_result"
    }
   ],
   "source": [
    "stats['is_null_tag'].sum()"
   ]
  },
  {
   "cell_type": "code",
   "execution_count": 53,
   "metadata": {},
   "outputs": [],
   "source": [
    "import plotly.express as px"
   ]
  },
  {
   "cell_type": "code",
   "execution_count": 54,
   "metadata": {},
   "outputs": [
    {
     "data": {
      "application/vnd.plotly.v1+json": {
       "config": {
        "plotlyServerURL": "https://plot.ly"
       },
       "data": [
        {
         "alignmentgroup": "True",
         "bingroup": "x",
         "histfunc": "sum",
         "hovertemplate": "is_null_tag=True<br>mean=%{x}<br>sum of len=%{y}<extra></extra>",
         "legendgroup": "True",
         "marker": {
          "color": "#636efa"
         },
         "name": "True",
         "offsetgroup": "True",
         "orientation": "v",
         "showlegend": true,
         "type": "histogram",
         "x": [
          4.366379310344827,
          2.4358974358974357,
          3.5555555555555554,
          3.6363636363636362,
          3.4936305732484074,
          3.574468085106383,
          3.260869565217391,
          3.2785714285714285,
          3.78125,
          4.390625,
          3.6451612903225805,
          3.3958333333333335,
          3.448148148148148,
          3.7244897959183674,
          4.20952380952381,
          2.607396870554765,
          3.590909090909091,
          2.5714285714285716,
          3.6487603305785123,
          3.65,
          4.8076923076923075,
          3.238095238095238,
          3.5481481481481483,
          3.020175438596491,
          4.1419753086419755,
          4.735294117647059,
          3.92,
          3.7549019607843137,
          3.7884615384615383,
          3.4186046511627906,
          4.086956521739131,
          2.6333333333333333,
          4.142857142857143,
          3.217948717948718,
          4,
          3.766990291262136,
          3.2534562211981566,
          3.565909090909091,
          4.552631578947368,
          3.3541666666666665,
          3.8759398496240602,
          4,
          3.0535714285714284,
          4.03030303030303,
          2.7806451612903227,
          3.7757660167130918,
          4.476923076923077,
          5,
          3.0303030303030303,
          2.84,
          3.8043478260869565,
          3.392857142857143,
          3.9017857142857144,
          4.355140186915888,
          3.727272727272727,
          4.051282051282051,
          3.7688588007736943,
          4.029411764705882,
          4.0202898550724635,
          3.9722222222222223,
          3.233730158730159,
          4.369565217391305,
          4.32258064516129,
          3.6,
          4.155555555555556,
          3.711904761904762,
          4.271186440677966,
          3.2318840579710146,
          4,
          3.1639344262295084,
          4.203125,
          4.2604790419161676,
          2.769230769230769,
          3.381057268722467,
          3.309322033898305,
          3.689419795221843,
          3.7058823529411766,
          3.9285714285714284,
          3.9523809523809526,
          4.035714285714286,
          3.472972972972973,
          4.074074074074074,
          3.3956521739130436,
          3.9375,
          4.288659793814433,
          3.0357142857142856,
          4.0625,
          3.8846153846153846,
          4.194444444444445,
          3.9130434782608696,
          3.8679245283018866,
          3.945945945945946,
          3.557377049180328,
          3.357142857142857,
          3.5073260073260073,
          4.116343490304709,
          3.911764705882353,
          3.986842105263158,
          3.220472440944882,
          3.7254901960784315,
          3.3397832817337463,
          3.6466666666666665,
          3.435483870967742,
          3.767857142857143,
          3.4367816091954024,
          3.3393939393939394,
          3.8181818181818183,
          3.409090909090909,
          3.293103448275862,
          4.546232876712328,
          4.035714285714286,
          3.99,
          3.289473684210526,
          3.1136363636363638,
          4.363636363636363,
          3.9214285714285713,
          3.5357142857142856,
          3.4420289855072466,
          3,
          3.5714285714285716,
          3.630824372759857,
          3.315315315315315,
          3.978723404255319,
          2.1443298969072164,
          3.4991776315789473,
          3.5386904761904763,
          3.8157894736842106,
          3.323943661971831,
          3.62890625,
          3.347826086956522,
          3.140625,
          3.375,
          3.7395833333333335,
          2.7241379310344827,
          3.576923076923077,
          3.542372881355932,
          4.023809523809524,
          2.217877094972067,
          4.382352941176471,
          3.608695652173913,
          3.692211055276382,
          3.4761904761904763,
          3.423076923076923,
          3.2731958762886597,
          2.708237986270023,
          4.2368421052631575,
          3,
          4.25,
          3.5384615384615383,
          4.462765957446808,
          4.24907063197026,
          3.34,
          4.634146341463414,
          3.826923076923077,
          3.48,
          3.656716417910448,
          3.5416666666666665,
          4.055555555555555,
          4.090909090909091,
          3.782608695652174,
          3.5625,
          2.940677966101695,
          3.5112589559877176,
          3.824561403508772,
          3.5319148936170213,
          4.079646017699115,
          3.7751937984496124,
          4.395833333333333,
          4.1,
          3.909090909090909,
          3.7411764705882353,
          4.045454545454546,
          3.475,
          3.5294117647058822,
          3.9375,
          3.857142857142857,
          3.491304347826087,
          3.3953168044077136,
          3.809880239520958,
          4.1,
          3.8188585607940446,
          3.8444444444444446,
          3.9578313253012047,
          4.04,
          2.875,
          3.3076923076923075,
          4.242857142857143,
          4.079710144927536,
          3.904494382022472,
          3.590725806451613,
          3.8273809523809526,
          2.8636363636363638,
          3.9081632653061225,
          3.6646341463414633,
          2.761827079934747,
          3.3653846153846154,
          3.165719696969697,
          3.963768115942029,
          4.126888217522659,
          3.166,
          3.2733333333333334,
          4.2592592592592595,
          3.6533333333333333,
          4.202127659574468,
          3.74,
          3.7384615384615385,
          2.8597122302158273,
          3.8541666666666665,
          3.2505800464037122,
          3.3,
          3.504950495049505,
          3.646153846153846,
          3.966666666666667,
          3.36,
          3.6818181818181817,
          4.026881720430108,
          3.9140625,
          3.9802631578947367,
          3.6,
          4.138888888888889,
          3.774193548387097,
          2.7142857142857144,
          4.252450980392157,
          3.7466666666666666,
          3.7450980392156863,
          3.6964627151051626,
          4.222222222222222,
          4.869565217391305,
          4.197368421052632,
          4.351063829787234,
          3.9803149606299213,
          2.5681818181818183,
          3.2,
          4.2,
          3.1206896551724137,
          3.7598684210526314,
          3.858490566037736,
          3.1052631578947367,
          3.716666666666667,
          3.5625,
          3.3496932515337425,
          3.5,
          4.175438596491228,
          3.2713178294573644,
          3.6206896551724137,
          3.2,
          3.186046511627907,
          3.629032258064516,
          4,
          4.086848635235732,
          4.390243902439025,
          3.5714285714285716,
          3.875,
          3.647727272727273,
          3.9005102040816326,
          3.2142857142857144,
          4.033755274261603,
          3.3142857142857145,
          3.715909090909091,
          3.9583333333333335,
          3.7877358490566038,
          2.6217105263157894,
          4.142322097378277,
          3.3015695067264574,
          2.619047619047619,
          2.610983981693364,
          3.7439024390243905,
          4.166666666666667,
          2.5972222222222223,
          2.363684771033014,
          3.652173913043478,
          3.3201754385964914,
          4,
          3.9056603773584904,
          3.8703703703703702,
          3.3169642857142856,
          2.6656410256410257,
          2.4260869565217393,
          3.8398058252427183,
          3.53125,
          2.3392857142857144,
          3.708520179372197,
          3.4323529411764704,
          3.046875,
          3.3636363636363638,
          3,
          3.7301587301587302,
          3.525,
          3.5714285714285716,
          3.411214953271028,
          3.173469387755102,
          3.142857142857143,
          3.5444444444444443,
          4.016447368421052,
          3.2254901960784315,
          2.869565217391304,
          3.6902834008097165,
          3.6279761904761907,
          3.599250936329588,
          2.64,
          3.418831168831169,
          3.6785714285714284,
          4.207792207792208,
          2.9358974358974357,
          4.070080862533692,
          4.214285714285714,
          2.9393939393939394,
          4.059322033898305,
          3.7681159420289854,
          3.903225806451613,
          3.682926829268293,
          3.5555555555555554,
          4.672727272727273,
          3.72972972972973,
          3.25,
          3.6666666666666665,
          3.7806122448979593,
          3.488888888888889,
          3.734513274336283,
          3.8846153846153846,
          3.2560975609756095,
          3.418918918918919,
          3.36,
          3.1804123711340204,
          4.243119266055046,
          3.3,
          4.190476190476191,
          2.7509025270758123,
          3.9516129032258065,
          3.8594594594594596,
          2.8422174840085286,
          3.391472868217054,
          3.5483870967741935,
          4.548780487804878,
          3.3559322033898304,
          3.19,
          3.6363636363636362,
          3.909090909090909,
          4.06390977443609,
          3.9122137404580153,
          4,
          3.388888888888889,
          3.6732348111658455,
          3.542194092827004,
          3.508591065292096,
          3.7941176470588234,
          3.085714285714286,
          3.4029850746268657,
          2.75,
          3.2585199610516065,
          3.6206896551724137,
          4.117647058823529,
          3.8395061728395063,
          3.715025906735751,
          3.2,
          3.841463414634146,
          2.9565217391304346,
          3.0491803278688523,
          3.142857142857143,
          3.9565217391304346,
          4.25,
          3.9444444444444446,
          4.511627906976744,
          3.5277777777777777,
          3.8541666666666665,
          3.764705882352941,
          3.4,
          4.008333333333334,
          3.25,
          4.113636363636363,
          4.092198581560283,
          3.8412698412698414,
          4.059880239520958,
          3.2598425196850394,
          3.892156862745098,
          4.410714285714286,
          3.391957005189029,
          4.085106382978723,
          3.0686274509803924,
          4.462686567164179,
          3.639784946236559,
          3.8226950354609928,
          4.108108108108108,
          3.3225806451612905,
          3.717391304347826,
          3.5326797385620914,
          3.6818181818181817,
          3.1011904761904763,
          2.64,
          3.9827586206896552,
          3.7413793103448274,
          2.725,
          3.646153846153846,
          3.772727272727273,
          3.781115879828326,
          3.1792452830188678,
          3.80327868852459,
          3.3551181102362206,
          3.893939393939394,
          4.522222222222222,
          1.275,
          4.121621621621622,
          3.8095238095238093,
          3.857142857142857,
          3.2142857142857144,
          3.871794871794872,
          2.8473712446351933,
          3.289473684210526,
          4,
          3.7941176470588234,
          4.556930693069307,
          3.942122186495177,
          3.7666666666666666,
          3.456140350877193,
          3.813953488372093,
          3.46,
          4.1525423728813555,
          4.346153846153846,
          4.201219512195122,
          2.9444444444444446,
          3.787878787878788,
          3.753623188405797,
          4.156521739130435,
          3.9292035398230087,
          3.409090909090909,
          3.393939393939394,
          3.6731182795698927,
          3.5125,
          3.875,
          4.120689655172414,
          3.418918918918919,
          4.409677419354839,
          3.681159420289855,
          2.8181818181818183,
          3.320441988950276,
          3.27511961722488,
          2.806451612903226,
          3.40625,
          3.618818681318681,
          3.8145454545454545,
          3.869565217391304,
          4.017857142857143,
          3.8828828828828827,
          3.017746913580247,
          3.15929203539823,
          4.15625,
          3.8677685950413223,
          3.6885245901639343,
          4.2272727272727275,
          4.009433962264151,
          3.413793103448276,
          3.5686274509803924,
          4.057142857142857,
          3.8333333333333335,
          3.244186046511628,
          3.2,
          3.4285714285714284,
          3.3421052631578947,
          3.82183908045977,
          4.17741935483871,
          3.380952380952381,
          2.1458333333333335,
          2.9027777777777777,
          4.125,
          3.78,
          3.3110831234256928,
          4.846153846153846,
          3.6923076923076925,
          2.38625,
          3.5416666666666665,
          4.326923076923077,
          3.6,
          3.83,
          4.693333333333333,
          3.4580152671755724,
          3.542,
          4.189655172413793,
          4.119760479041916,
          3.4726027397260273,
          3.2,
          3.7777777777777777,
          3.772727272727273,
          4.28,
          3.8048076923076923,
          2.6666666666666665,
          3.4,
          4.472972972972973,
          3.8026315789473686,
          4,
          3.3908045977011496,
          3.5088495575221237,
          4.363636363636363,
          3.369565217391304,
          3.4375,
          4.142857142857143,
          4.096153846153846,
          3.6666666666666665,
          4.107142857142857,
          3.7154471544715446,
          3.11968085106383,
          4.337349397590361,
          4,
          3.4550173010380623,
          4.078125,
          3.8518518518518516,
          3.9285714285714284,
          3.2857142857142856,
          3.567685589519651,
          3.372277227722772,
          4.093073593073593,
          3.300469483568075,
          3.5796178343949046,
          3.6551724137931036,
          3.5405405405405403,
          4.130434782608695,
          4,
          3.4162303664921465,
          2.5714285714285716,
          4.122580645161291,
          3.9565217391304346,
          3.1666666666666665,
          3.1,
          3.5652173913043477,
          3.962962962962963,
          3.9726027397260273,
          3.529816513761468,
          4.375,
          4.026785714285714,
          3.294642857142857,
          4.108433734939759,
          4.336065573770492,
          4.365384615384615,
          3.9757575757575756,
          3.25,
          4.025,
          3.355769230769231,
          3.2777777777777777,
          3.5851063829787235,
          3.266990291262136,
          3.9245689655172415,
          4.2,
          3.495133819951338,
          3.9774266365688487,
          3.8095238095238093,
          4.425742574257426,
          3.3925925925925924,
          3.5079533404029695,
          3.48,
          3.2104072398190047,
          3.786096256684492,
          3.1341756919374246,
          3.27027027027027
         ],
         "xaxis": "x",
         "y": [
          232,
          39,
          216,
          44,
          314,
          47,
          46,
          140,
          64,
          32,
          31,
          48,
          135,
          98,
          105,
          703,
          242,
          119,
          121,
          110,
          26,
          21,
          135,
          570,
          81,
          34,
          50,
          102,
          156,
          86,
          23,
          60,
          21,
          78,
          100,
          103,
          217,
          440,
          114,
          48,
          399,
          42,
          140,
          33,
          310,
          359,
          130,
          20,
          33,
          25,
          46,
          476,
          112,
          107,
          22,
          39,
          517,
          34,
          345,
          36,
          1260,
          46,
          62,
          35,
          45,
          210,
          177,
          69,
          29,
          61,
          64,
          167,
          26,
          227,
          118,
          293,
          34,
          70,
          21,
          56,
          518,
          54,
          575,
          24,
          97,
          56,
          168,
          78,
          36,
          92,
          53,
          148,
          61,
          56,
          273,
          722,
          34,
          76,
          127,
          51,
          646,
          150,
          31,
          112,
          87,
          165,
          22,
          22,
          58,
          292,
          56,
          50,
          38,
          22,
          33,
          140,
          28,
          69,
          35,
          35,
          279,
          111,
          141,
          194,
          608,
          168,
          38,
          71,
          128,
          23,
          32,
          20,
          48,
          58,
          26,
          59,
          63,
          179,
          34,
          46,
          398,
          21,
          26,
          97,
          437,
          38,
          23,
          36,
          65,
          94,
          269,
          50,
          82,
          26,
          25,
          67,
          24,
          36,
          77,
          69,
          24,
          118,
          977,
          57,
          47,
          226,
          258,
          48,
          20,
          66,
          85,
          22,
          20,
          187,
          32,
          35,
          230,
          363,
          334,
          110,
          403,
          45,
          83,
          25,
          20,
          26,
          35,
          138,
          89,
          248,
          84,
          22,
          98,
          164,
          613,
          26,
          528,
          207,
          331,
          250,
          75,
          54,
          75,
          94,
          25,
          65,
          139,
          24,
          862,
          150,
          202,
          65,
          30,
          50,
          44,
          279,
          128,
          76,
          35,
          36,
          93,
          21,
          204,
          150,
          51,
          1046,
          27,
          23,
          38,
          47,
          127,
          44,
          20,
          25,
          29,
          152,
          53,
          57,
          210,
          56,
          163,
          180,
          57,
          129,
          29,
          40,
          43,
          31,
          55,
          403,
          41,
          28,
          20,
          176,
          196,
          21,
          237,
          35,
          88,
          36,
          106,
          152,
          267,
          446,
          21,
          437,
          41,
          27,
          72,
          939,
          23,
          114,
          32,
          53,
          216,
          112,
          975,
          115,
          103,
          64,
          28,
          223,
          340,
          128,
          33,
          53,
          189,
          20,
          56,
          107,
          98,
          21,
          270,
          152,
          255,
          23,
          247,
          168,
          267,
          25,
          154,
          28,
          77,
          39,
          371,
          28,
          66,
          59,
          69,
          62,
          164,
          45,
          55,
          37,
          40,
          141,
          294,
          90,
          226,
          26,
          41,
          74,
          25,
          97,
          109,
          30,
          21,
          277,
          31,
          185,
          469,
          129,
          93,
          41,
          236,
          100,
          33,
          33,
          133,
          131,
          48,
          36,
          1218,
          474,
          291,
          34,
          70,
          201,
          68,
          1027,
          29,
          34,
          81,
          386,
          25,
          123,
          23,
          61,
          28,
          23,
          46,
          36,
          43,
          72,
          48,
          34,
          60,
          120,
          20,
          22,
          141,
          126,
          167,
          127,
          102,
          56,
          2698,
          94,
          51,
          67,
          93,
          141,
          37,
          93,
          23,
          306,
          88,
          84,
          300,
          58,
          58,
          20,
          260,
          22,
          233,
          106,
          122,
          635,
          33,
          45,
          20,
          37,
          42,
          77,
          84,
          78,
          1864,
          38,
          51,
          34,
          202,
          311,
          45,
          57,
          43,
          50,
          59,
          26,
          82,
          27,
          33,
          138,
          115,
          113,
          22,
          33,
          465,
          80,
          28,
          29,
          37,
          155,
          69,
          22,
          181,
          836,
          31,
          128,
          728,
          275,
          23,
          56,
          111,
          648,
          113,
          64,
          121,
          61,
          22,
          265,
          29,
          51,
          35,
          27,
          86,
          45,
          35,
          95,
          87,
          31,
          21,
          24,
          108,
          52,
          50,
          397,
          26,
          26,
          400,
          24,
          26,
          40,
          200,
          75,
          131,
          500,
          58,
          167,
          73,
          25,
          27,
          22,
          50,
          520,
          30,
          40,
          37,
          38,
          42,
          87,
          113,
          22,
          23,
          64,
          21,
          26,
          21,
          28,
          123,
          188,
          83,
          89,
          578,
          32,
          27,
          56,
          140,
          458,
          505,
          231,
          213,
          157,
          29,
          74,
          23,
          20,
          191,
          112,
          155,
          23,
          36,
          20,
          161,
          27,
          73,
          436,
          40,
          56,
          56,
          83,
          61,
          208,
          165,
          56,
          40,
          728,
          54,
          94,
          103,
          232,
          20,
          411,
          443,
          21,
          101,
          135,
          943,
          100,
          221,
          187,
          831,
          37
         ],
         "yaxis": "y"
        },
        {
         "alignmentgroup": "True",
         "boxpoints": "all",
         "fillcolor": "rgba(255,255,255,0)",
         "hoveron": "points",
         "hovertemplate": "is_null_tag=True<br>mean=%{x}<extra></extra>",
         "jitter": 0,
         "legendgroup": "True",
         "line": {
          "color": "rgba(255,255,255,0)"
         },
         "marker": {
          "color": "#636efa",
          "symbol": "line-ns-open"
         },
         "name": "True",
         "offsetgroup": "True",
         "showlegend": false,
         "type": "box",
         "x": [
          4.366379310344827,
          2.4358974358974357,
          3.5555555555555554,
          3.6363636363636362,
          3.4936305732484074,
          3.574468085106383,
          3.260869565217391,
          3.2785714285714285,
          3.78125,
          4.390625,
          3.6451612903225805,
          3.3958333333333335,
          3.448148148148148,
          3.7244897959183674,
          4.20952380952381,
          2.607396870554765,
          3.590909090909091,
          2.5714285714285716,
          3.6487603305785123,
          3.65,
          4.8076923076923075,
          3.238095238095238,
          3.5481481481481483,
          3.020175438596491,
          4.1419753086419755,
          4.735294117647059,
          3.92,
          3.7549019607843137,
          3.7884615384615383,
          3.4186046511627906,
          4.086956521739131,
          2.6333333333333333,
          4.142857142857143,
          3.217948717948718,
          4,
          3.766990291262136,
          3.2534562211981566,
          3.565909090909091,
          4.552631578947368,
          3.3541666666666665,
          3.8759398496240602,
          4,
          3.0535714285714284,
          4.03030303030303,
          2.7806451612903227,
          3.7757660167130918,
          4.476923076923077,
          5,
          3.0303030303030303,
          2.84,
          3.8043478260869565,
          3.392857142857143,
          3.9017857142857144,
          4.355140186915888,
          3.727272727272727,
          4.051282051282051,
          3.7688588007736943,
          4.029411764705882,
          4.0202898550724635,
          3.9722222222222223,
          3.233730158730159,
          4.369565217391305,
          4.32258064516129,
          3.6,
          4.155555555555556,
          3.711904761904762,
          4.271186440677966,
          3.2318840579710146,
          4,
          3.1639344262295084,
          4.203125,
          4.2604790419161676,
          2.769230769230769,
          3.381057268722467,
          3.309322033898305,
          3.689419795221843,
          3.7058823529411766,
          3.9285714285714284,
          3.9523809523809526,
          4.035714285714286,
          3.472972972972973,
          4.074074074074074,
          3.3956521739130436,
          3.9375,
          4.288659793814433,
          3.0357142857142856,
          4.0625,
          3.8846153846153846,
          4.194444444444445,
          3.9130434782608696,
          3.8679245283018866,
          3.945945945945946,
          3.557377049180328,
          3.357142857142857,
          3.5073260073260073,
          4.116343490304709,
          3.911764705882353,
          3.986842105263158,
          3.220472440944882,
          3.7254901960784315,
          3.3397832817337463,
          3.6466666666666665,
          3.435483870967742,
          3.767857142857143,
          3.4367816091954024,
          3.3393939393939394,
          3.8181818181818183,
          3.409090909090909,
          3.293103448275862,
          4.546232876712328,
          4.035714285714286,
          3.99,
          3.289473684210526,
          3.1136363636363638,
          4.363636363636363,
          3.9214285714285713,
          3.5357142857142856,
          3.4420289855072466,
          3,
          3.5714285714285716,
          3.630824372759857,
          3.315315315315315,
          3.978723404255319,
          2.1443298969072164,
          3.4991776315789473,
          3.5386904761904763,
          3.8157894736842106,
          3.323943661971831,
          3.62890625,
          3.347826086956522,
          3.140625,
          3.375,
          3.7395833333333335,
          2.7241379310344827,
          3.576923076923077,
          3.542372881355932,
          4.023809523809524,
          2.217877094972067,
          4.382352941176471,
          3.608695652173913,
          3.692211055276382,
          3.4761904761904763,
          3.423076923076923,
          3.2731958762886597,
          2.708237986270023,
          4.2368421052631575,
          3,
          4.25,
          3.5384615384615383,
          4.462765957446808,
          4.24907063197026,
          3.34,
          4.634146341463414,
          3.826923076923077,
          3.48,
          3.656716417910448,
          3.5416666666666665,
          4.055555555555555,
          4.090909090909091,
          3.782608695652174,
          3.5625,
          2.940677966101695,
          3.5112589559877176,
          3.824561403508772,
          3.5319148936170213,
          4.079646017699115,
          3.7751937984496124,
          4.395833333333333,
          4.1,
          3.909090909090909,
          3.7411764705882353,
          4.045454545454546,
          3.475,
          3.5294117647058822,
          3.9375,
          3.857142857142857,
          3.491304347826087,
          3.3953168044077136,
          3.809880239520958,
          4.1,
          3.8188585607940446,
          3.8444444444444446,
          3.9578313253012047,
          4.04,
          2.875,
          3.3076923076923075,
          4.242857142857143,
          4.079710144927536,
          3.904494382022472,
          3.590725806451613,
          3.8273809523809526,
          2.8636363636363638,
          3.9081632653061225,
          3.6646341463414633,
          2.761827079934747,
          3.3653846153846154,
          3.165719696969697,
          3.963768115942029,
          4.126888217522659,
          3.166,
          3.2733333333333334,
          4.2592592592592595,
          3.6533333333333333,
          4.202127659574468,
          3.74,
          3.7384615384615385,
          2.8597122302158273,
          3.8541666666666665,
          3.2505800464037122,
          3.3,
          3.504950495049505,
          3.646153846153846,
          3.966666666666667,
          3.36,
          3.6818181818181817,
          4.026881720430108,
          3.9140625,
          3.9802631578947367,
          3.6,
          4.138888888888889,
          3.774193548387097,
          2.7142857142857144,
          4.252450980392157,
          3.7466666666666666,
          3.7450980392156863,
          3.6964627151051626,
          4.222222222222222,
          4.869565217391305,
          4.197368421052632,
          4.351063829787234,
          3.9803149606299213,
          2.5681818181818183,
          3.2,
          4.2,
          3.1206896551724137,
          3.7598684210526314,
          3.858490566037736,
          3.1052631578947367,
          3.716666666666667,
          3.5625,
          3.3496932515337425,
          3.5,
          4.175438596491228,
          3.2713178294573644,
          3.6206896551724137,
          3.2,
          3.186046511627907,
          3.629032258064516,
          4,
          4.086848635235732,
          4.390243902439025,
          3.5714285714285716,
          3.875,
          3.647727272727273,
          3.9005102040816326,
          3.2142857142857144,
          4.033755274261603,
          3.3142857142857145,
          3.715909090909091,
          3.9583333333333335,
          3.7877358490566038,
          2.6217105263157894,
          4.142322097378277,
          3.3015695067264574,
          2.619047619047619,
          2.610983981693364,
          3.7439024390243905,
          4.166666666666667,
          2.5972222222222223,
          2.363684771033014,
          3.652173913043478,
          3.3201754385964914,
          4,
          3.9056603773584904,
          3.8703703703703702,
          3.3169642857142856,
          2.6656410256410257,
          2.4260869565217393,
          3.8398058252427183,
          3.53125,
          2.3392857142857144,
          3.708520179372197,
          3.4323529411764704,
          3.046875,
          3.3636363636363638,
          3,
          3.7301587301587302,
          3.525,
          3.5714285714285716,
          3.411214953271028,
          3.173469387755102,
          3.142857142857143,
          3.5444444444444443,
          4.016447368421052,
          3.2254901960784315,
          2.869565217391304,
          3.6902834008097165,
          3.6279761904761907,
          3.599250936329588,
          2.64,
          3.418831168831169,
          3.6785714285714284,
          4.207792207792208,
          2.9358974358974357,
          4.070080862533692,
          4.214285714285714,
          2.9393939393939394,
          4.059322033898305,
          3.7681159420289854,
          3.903225806451613,
          3.682926829268293,
          3.5555555555555554,
          4.672727272727273,
          3.72972972972973,
          3.25,
          3.6666666666666665,
          3.7806122448979593,
          3.488888888888889,
          3.734513274336283,
          3.8846153846153846,
          3.2560975609756095,
          3.418918918918919,
          3.36,
          3.1804123711340204,
          4.243119266055046,
          3.3,
          4.190476190476191,
          2.7509025270758123,
          3.9516129032258065,
          3.8594594594594596,
          2.8422174840085286,
          3.391472868217054,
          3.5483870967741935,
          4.548780487804878,
          3.3559322033898304,
          3.19,
          3.6363636363636362,
          3.909090909090909,
          4.06390977443609,
          3.9122137404580153,
          4,
          3.388888888888889,
          3.6732348111658455,
          3.542194092827004,
          3.508591065292096,
          3.7941176470588234,
          3.085714285714286,
          3.4029850746268657,
          2.75,
          3.2585199610516065,
          3.6206896551724137,
          4.117647058823529,
          3.8395061728395063,
          3.715025906735751,
          3.2,
          3.841463414634146,
          2.9565217391304346,
          3.0491803278688523,
          3.142857142857143,
          3.9565217391304346,
          4.25,
          3.9444444444444446,
          4.511627906976744,
          3.5277777777777777,
          3.8541666666666665,
          3.764705882352941,
          3.4,
          4.008333333333334,
          3.25,
          4.113636363636363,
          4.092198581560283,
          3.8412698412698414,
          4.059880239520958,
          3.2598425196850394,
          3.892156862745098,
          4.410714285714286,
          3.391957005189029,
          4.085106382978723,
          3.0686274509803924,
          4.462686567164179,
          3.639784946236559,
          3.8226950354609928,
          4.108108108108108,
          3.3225806451612905,
          3.717391304347826,
          3.5326797385620914,
          3.6818181818181817,
          3.1011904761904763,
          2.64,
          3.9827586206896552,
          3.7413793103448274,
          2.725,
          3.646153846153846,
          3.772727272727273,
          3.781115879828326,
          3.1792452830188678,
          3.80327868852459,
          3.3551181102362206,
          3.893939393939394,
          4.522222222222222,
          1.275,
          4.121621621621622,
          3.8095238095238093,
          3.857142857142857,
          3.2142857142857144,
          3.871794871794872,
          2.8473712446351933,
          3.289473684210526,
          4,
          3.7941176470588234,
          4.556930693069307,
          3.942122186495177,
          3.7666666666666666,
          3.456140350877193,
          3.813953488372093,
          3.46,
          4.1525423728813555,
          4.346153846153846,
          4.201219512195122,
          2.9444444444444446,
          3.787878787878788,
          3.753623188405797,
          4.156521739130435,
          3.9292035398230087,
          3.409090909090909,
          3.393939393939394,
          3.6731182795698927,
          3.5125,
          3.875,
          4.120689655172414,
          3.418918918918919,
          4.409677419354839,
          3.681159420289855,
          2.8181818181818183,
          3.320441988950276,
          3.27511961722488,
          2.806451612903226,
          3.40625,
          3.618818681318681,
          3.8145454545454545,
          3.869565217391304,
          4.017857142857143,
          3.8828828828828827,
          3.017746913580247,
          3.15929203539823,
          4.15625,
          3.8677685950413223,
          3.6885245901639343,
          4.2272727272727275,
          4.009433962264151,
          3.413793103448276,
          3.5686274509803924,
          4.057142857142857,
          3.8333333333333335,
          3.244186046511628,
          3.2,
          3.4285714285714284,
          3.3421052631578947,
          3.82183908045977,
          4.17741935483871,
          3.380952380952381,
          2.1458333333333335,
          2.9027777777777777,
          4.125,
          3.78,
          3.3110831234256928,
          4.846153846153846,
          3.6923076923076925,
          2.38625,
          3.5416666666666665,
          4.326923076923077,
          3.6,
          3.83,
          4.693333333333333,
          3.4580152671755724,
          3.542,
          4.189655172413793,
          4.119760479041916,
          3.4726027397260273,
          3.2,
          3.7777777777777777,
          3.772727272727273,
          4.28,
          3.8048076923076923,
          2.6666666666666665,
          3.4,
          4.472972972972973,
          3.8026315789473686,
          4,
          3.3908045977011496,
          3.5088495575221237,
          4.363636363636363,
          3.369565217391304,
          3.4375,
          4.142857142857143,
          4.096153846153846,
          3.6666666666666665,
          4.107142857142857,
          3.7154471544715446,
          3.11968085106383,
          4.337349397590361,
          4,
          3.4550173010380623,
          4.078125,
          3.8518518518518516,
          3.9285714285714284,
          3.2857142857142856,
          3.567685589519651,
          3.372277227722772,
          4.093073593073593,
          3.300469483568075,
          3.5796178343949046,
          3.6551724137931036,
          3.5405405405405403,
          4.130434782608695,
          4,
          3.4162303664921465,
          2.5714285714285716,
          4.122580645161291,
          3.9565217391304346,
          3.1666666666666665,
          3.1,
          3.5652173913043477,
          3.962962962962963,
          3.9726027397260273,
          3.529816513761468,
          4.375,
          4.026785714285714,
          3.294642857142857,
          4.108433734939759,
          4.336065573770492,
          4.365384615384615,
          3.9757575757575756,
          3.25,
          4.025,
          3.355769230769231,
          3.2777777777777777,
          3.5851063829787235,
          3.266990291262136,
          3.9245689655172415,
          4.2,
          3.495133819951338,
          3.9774266365688487,
          3.8095238095238093,
          4.425742574257426,
          3.3925925925925924,
          3.5079533404029695,
          3.48,
          3.2104072398190047,
          3.786096256684492,
          3.1341756919374246,
          3.27027027027027
         ],
         "xaxis": "x2",
         "yaxis": "y2"
        },
        {
         "alignmentgroup": "True",
         "bingroup": "x",
         "histfunc": "sum",
         "hovertemplate": "is_null_tag=False<br>mean=%{x}<br>sum of len=%{y}<extra></extra>",
         "legendgroup": "False",
         "marker": {
          "color": "#EF553B"
         },
         "name": "False",
         "offsetgroup": "False",
         "orientation": "v",
         "showlegend": true,
         "type": "histogram",
         "x": [
          3.9482758620689653,
          3.2302631578947367,
          3.7320717131474104,
          3.260722347629797,
          4.261904761904762,
          4.081967213114754,
          3.6309963099630997,
          3.0840336134453783,
          3.907161803713528,
          4.4393939393939394,
          3.5923076923076924,
          4.176744186046512,
          3.859722222222222,
          3.0389048991354466,
          3.522727272727273,
          3.8333333333333335,
          4.073684210526316,
          3.439306358381503,
          3.375553097345133,
          3.705223880597015,
          3.8,
          3.8703703703703702,
          3.4763313609467454,
          3.9454022988505746,
          3.235884101040119,
          3.1459715639810426,
          3.625,
          4.258064516129032,
          4.296875,
          3.9246676514032495,
          3.755972696245734,
          4.428571428571429,
          4.104166666666667,
          4.321428571428571,
          3.798076923076923,
          4.02076124567474,
          3.9569190600522193,
          3.803225806451613,
          3.6739130434782608,
          4.321428571428571,
          4.119047619047619,
          3.4065934065934065,
          3.398956356736243,
          3.736666666666667,
          3.142857142857143,
          3.261904761904762,
          3.21627408993576,
          3.890625,
          3.881720430107527,
          4.381578947368421,
          4.0638297872340425,
          4.453947368421052,
          2.2454545454545456,
          4.212374581939799,
          2.6420500403551253,
          2.991480996068152,
          3.6573991031390136,
          3.6885560675883258
         ],
         "xaxis": "x",
         "y": [
          29,
          152,
          502,
          443,
          21,
          366,
          271,
          119,
          377,
          33,
          65,
          215,
          360,
          347,
          22,
          39,
          190,
          173,
          904,
          134,
          35,
          27,
          507,
          174,
          1346,
          1055,
          24,
          31,
          32,
          677,
          879,
          35,
          48,
          56,
          52,
          289,
          383,
          155,
          138,
          42,
          21,
          455,
          2108,
          600,
          56,
          42,
          467,
          32,
          186,
          38,
          47,
          76,
          385,
          299,
          2478,
          763,
          1115,
          1302
         ],
         "yaxis": "y"
        },
        {
         "alignmentgroup": "True",
         "boxpoints": "all",
         "fillcolor": "rgba(255,255,255,0)",
         "hoveron": "points",
         "hovertemplate": "is_null_tag=False<br>mean=%{x}<extra></extra>",
         "jitter": 0,
         "legendgroup": "False",
         "line": {
          "color": "rgba(255,255,255,0)"
         },
         "marker": {
          "color": "#EF553B",
          "symbol": "line-ns-open"
         },
         "name": "False",
         "offsetgroup": "False",
         "showlegend": false,
         "type": "box",
         "x": [
          3.9482758620689653,
          3.2302631578947367,
          3.7320717131474104,
          3.260722347629797,
          4.261904761904762,
          4.081967213114754,
          3.6309963099630997,
          3.0840336134453783,
          3.907161803713528,
          4.4393939393939394,
          3.5923076923076924,
          4.176744186046512,
          3.859722222222222,
          3.0389048991354466,
          3.522727272727273,
          3.8333333333333335,
          4.073684210526316,
          3.439306358381503,
          3.375553097345133,
          3.705223880597015,
          3.8,
          3.8703703703703702,
          3.4763313609467454,
          3.9454022988505746,
          3.235884101040119,
          3.1459715639810426,
          3.625,
          4.258064516129032,
          4.296875,
          3.9246676514032495,
          3.755972696245734,
          4.428571428571429,
          4.104166666666667,
          4.321428571428571,
          3.798076923076923,
          4.02076124567474,
          3.9569190600522193,
          3.803225806451613,
          3.6739130434782608,
          4.321428571428571,
          4.119047619047619,
          3.4065934065934065,
          3.398956356736243,
          3.736666666666667,
          3.142857142857143,
          3.261904761904762,
          3.21627408993576,
          3.890625,
          3.881720430107527,
          4.381578947368421,
          4.0638297872340425,
          4.453947368421052,
          2.2454545454545456,
          4.212374581939799,
          2.6420500403551253,
          2.991480996068152,
          3.6573991031390136,
          3.6885560675883258
         ],
         "xaxis": "x2",
         "yaxis": "y2"
        }
       ],
       "layout": {
        "barmode": "relative",
        "legend": {
         "title": {
          "text": "is_null_tag"
         },
         "tracegroupgap": 0
        },
        "template": {
         "data": {
          "bar": [
           {
            "error_x": {
             "color": "#2a3f5f"
            },
            "error_y": {
             "color": "#2a3f5f"
            },
            "marker": {
             "line": {
              "color": "#E5ECF6",
              "width": 0.5
             }
            },
            "type": "bar"
           }
          ],
          "barpolar": [
           {
            "marker": {
             "line": {
              "color": "#E5ECF6",
              "width": 0.5
             }
            },
            "type": "barpolar"
           }
          ],
          "carpet": [
           {
            "aaxis": {
             "endlinecolor": "#2a3f5f",
             "gridcolor": "white",
             "linecolor": "white",
             "minorgridcolor": "white",
             "startlinecolor": "#2a3f5f"
            },
            "baxis": {
             "endlinecolor": "#2a3f5f",
             "gridcolor": "white",
             "linecolor": "white",
             "minorgridcolor": "white",
             "startlinecolor": "#2a3f5f"
            },
            "type": "carpet"
           }
          ],
          "choropleth": [
           {
            "colorbar": {
             "outlinewidth": 0,
             "ticks": ""
            },
            "type": "choropleth"
           }
          ],
          "contour": [
           {
            "colorbar": {
             "outlinewidth": 0,
             "ticks": ""
            },
            "colorscale": [
             [
              0,
              "#0d0887"
             ],
             [
              0.1111111111111111,
              "#46039f"
             ],
             [
              0.2222222222222222,
              "#7201a8"
             ],
             [
              0.3333333333333333,
              "#9c179e"
             ],
             [
              0.4444444444444444,
              "#bd3786"
             ],
             [
              0.5555555555555556,
              "#d8576b"
             ],
             [
              0.6666666666666666,
              "#ed7953"
             ],
             [
              0.7777777777777778,
              "#fb9f3a"
             ],
             [
              0.8888888888888888,
              "#fdca26"
             ],
             [
              1,
              "#f0f921"
             ]
            ],
            "type": "contour"
           }
          ],
          "contourcarpet": [
           {
            "colorbar": {
             "outlinewidth": 0,
             "ticks": ""
            },
            "type": "contourcarpet"
           }
          ],
          "heatmap": [
           {
            "colorbar": {
             "outlinewidth": 0,
             "ticks": ""
            },
            "colorscale": [
             [
              0,
              "#0d0887"
             ],
             [
              0.1111111111111111,
              "#46039f"
             ],
             [
              0.2222222222222222,
              "#7201a8"
             ],
             [
              0.3333333333333333,
              "#9c179e"
             ],
             [
              0.4444444444444444,
              "#bd3786"
             ],
             [
              0.5555555555555556,
              "#d8576b"
             ],
             [
              0.6666666666666666,
              "#ed7953"
             ],
             [
              0.7777777777777778,
              "#fb9f3a"
             ],
             [
              0.8888888888888888,
              "#fdca26"
             ],
             [
              1,
              "#f0f921"
             ]
            ],
            "type": "heatmap"
           }
          ],
          "heatmapgl": [
           {
            "colorbar": {
             "outlinewidth": 0,
             "ticks": ""
            },
            "colorscale": [
             [
              0,
              "#0d0887"
             ],
             [
              0.1111111111111111,
              "#46039f"
             ],
             [
              0.2222222222222222,
              "#7201a8"
             ],
             [
              0.3333333333333333,
              "#9c179e"
             ],
             [
              0.4444444444444444,
              "#bd3786"
             ],
             [
              0.5555555555555556,
              "#d8576b"
             ],
             [
              0.6666666666666666,
              "#ed7953"
             ],
             [
              0.7777777777777778,
              "#fb9f3a"
             ],
             [
              0.8888888888888888,
              "#fdca26"
             ],
             [
              1,
              "#f0f921"
             ]
            ],
            "type": "heatmapgl"
           }
          ],
          "histogram": [
           {
            "marker": {
             "colorbar": {
              "outlinewidth": 0,
              "ticks": ""
             }
            },
            "type": "histogram"
           }
          ],
          "histogram2d": [
           {
            "colorbar": {
             "outlinewidth": 0,
             "ticks": ""
            },
            "colorscale": [
             [
              0,
              "#0d0887"
             ],
             [
              0.1111111111111111,
              "#46039f"
             ],
             [
              0.2222222222222222,
              "#7201a8"
             ],
             [
              0.3333333333333333,
              "#9c179e"
             ],
             [
              0.4444444444444444,
              "#bd3786"
             ],
             [
              0.5555555555555556,
              "#d8576b"
             ],
             [
              0.6666666666666666,
              "#ed7953"
             ],
             [
              0.7777777777777778,
              "#fb9f3a"
             ],
             [
              0.8888888888888888,
              "#fdca26"
             ],
             [
              1,
              "#f0f921"
             ]
            ],
            "type": "histogram2d"
           }
          ],
          "histogram2dcontour": [
           {
            "colorbar": {
             "outlinewidth": 0,
             "ticks": ""
            },
            "colorscale": [
             [
              0,
              "#0d0887"
             ],
             [
              0.1111111111111111,
              "#46039f"
             ],
             [
              0.2222222222222222,
              "#7201a8"
             ],
             [
              0.3333333333333333,
              "#9c179e"
             ],
             [
              0.4444444444444444,
              "#bd3786"
             ],
             [
              0.5555555555555556,
              "#d8576b"
             ],
             [
              0.6666666666666666,
              "#ed7953"
             ],
             [
              0.7777777777777778,
              "#fb9f3a"
             ],
             [
              0.8888888888888888,
              "#fdca26"
             ],
             [
              1,
              "#f0f921"
             ]
            ],
            "type": "histogram2dcontour"
           }
          ],
          "mesh3d": [
           {
            "colorbar": {
             "outlinewidth": 0,
             "ticks": ""
            },
            "type": "mesh3d"
           }
          ],
          "parcoords": [
           {
            "line": {
             "colorbar": {
              "outlinewidth": 0,
              "ticks": ""
             }
            },
            "type": "parcoords"
           }
          ],
          "pie": [
           {
            "automargin": true,
            "type": "pie"
           }
          ],
          "scatter": [
           {
            "marker": {
             "colorbar": {
              "outlinewidth": 0,
              "ticks": ""
             }
            },
            "type": "scatter"
           }
          ],
          "scatter3d": [
           {
            "line": {
             "colorbar": {
              "outlinewidth": 0,
              "ticks": ""
             }
            },
            "marker": {
             "colorbar": {
              "outlinewidth": 0,
              "ticks": ""
             }
            },
            "type": "scatter3d"
           }
          ],
          "scattercarpet": [
           {
            "marker": {
             "colorbar": {
              "outlinewidth": 0,
              "ticks": ""
             }
            },
            "type": "scattercarpet"
           }
          ],
          "scattergeo": [
           {
            "marker": {
             "colorbar": {
              "outlinewidth": 0,
              "ticks": ""
             }
            },
            "type": "scattergeo"
           }
          ],
          "scattergl": [
           {
            "marker": {
             "colorbar": {
              "outlinewidth": 0,
              "ticks": ""
             }
            },
            "type": "scattergl"
           }
          ],
          "scattermapbox": [
           {
            "marker": {
             "colorbar": {
              "outlinewidth": 0,
              "ticks": ""
             }
            },
            "type": "scattermapbox"
           }
          ],
          "scatterpolar": [
           {
            "marker": {
             "colorbar": {
              "outlinewidth": 0,
              "ticks": ""
             }
            },
            "type": "scatterpolar"
           }
          ],
          "scatterpolargl": [
           {
            "marker": {
             "colorbar": {
              "outlinewidth": 0,
              "ticks": ""
             }
            },
            "type": "scatterpolargl"
           }
          ],
          "scatterternary": [
           {
            "marker": {
             "colorbar": {
              "outlinewidth": 0,
              "ticks": ""
             }
            },
            "type": "scatterternary"
           }
          ],
          "surface": [
           {
            "colorbar": {
             "outlinewidth": 0,
             "ticks": ""
            },
            "colorscale": [
             [
              0,
              "#0d0887"
             ],
             [
              0.1111111111111111,
              "#46039f"
             ],
             [
              0.2222222222222222,
              "#7201a8"
             ],
             [
              0.3333333333333333,
              "#9c179e"
             ],
             [
              0.4444444444444444,
              "#bd3786"
             ],
             [
              0.5555555555555556,
              "#d8576b"
             ],
             [
              0.6666666666666666,
              "#ed7953"
             ],
             [
              0.7777777777777778,
              "#fb9f3a"
             ],
             [
              0.8888888888888888,
              "#fdca26"
             ],
             [
              1,
              "#f0f921"
             ]
            ],
            "type": "surface"
           }
          ],
          "table": [
           {
            "cells": {
             "fill": {
              "color": "#EBF0F8"
             },
             "line": {
              "color": "white"
             }
            },
            "header": {
             "fill": {
              "color": "#C8D4E3"
             },
             "line": {
              "color": "white"
             }
            },
            "type": "table"
           }
          ]
         },
         "layout": {
          "annotationdefaults": {
           "arrowcolor": "#2a3f5f",
           "arrowhead": 0,
           "arrowwidth": 1
          },
          "autotypenumbers": "strict",
          "coloraxis": {
           "colorbar": {
            "outlinewidth": 0,
            "ticks": ""
           }
          },
          "colorscale": {
           "diverging": [
            [
             0,
             "#8e0152"
            ],
            [
             0.1,
             "#c51b7d"
            ],
            [
             0.2,
             "#de77ae"
            ],
            [
             0.3,
             "#f1b6da"
            ],
            [
             0.4,
             "#fde0ef"
            ],
            [
             0.5,
             "#f7f7f7"
            ],
            [
             0.6,
             "#e6f5d0"
            ],
            [
             0.7,
             "#b8e186"
            ],
            [
             0.8,
             "#7fbc41"
            ],
            [
             0.9,
             "#4d9221"
            ],
            [
             1,
             "#276419"
            ]
           ],
           "sequential": [
            [
             0,
             "#0d0887"
            ],
            [
             0.1111111111111111,
             "#46039f"
            ],
            [
             0.2222222222222222,
             "#7201a8"
            ],
            [
             0.3333333333333333,
             "#9c179e"
            ],
            [
             0.4444444444444444,
             "#bd3786"
            ],
            [
             0.5555555555555556,
             "#d8576b"
            ],
            [
             0.6666666666666666,
             "#ed7953"
            ],
            [
             0.7777777777777778,
             "#fb9f3a"
            ],
            [
             0.8888888888888888,
             "#fdca26"
            ],
            [
             1,
             "#f0f921"
            ]
           ],
           "sequentialminus": [
            [
             0,
             "#0d0887"
            ],
            [
             0.1111111111111111,
             "#46039f"
            ],
            [
             0.2222222222222222,
             "#7201a8"
            ],
            [
             0.3333333333333333,
             "#9c179e"
            ],
            [
             0.4444444444444444,
             "#bd3786"
            ],
            [
             0.5555555555555556,
             "#d8576b"
            ],
            [
             0.6666666666666666,
             "#ed7953"
            ],
            [
             0.7777777777777778,
             "#fb9f3a"
            ],
            [
             0.8888888888888888,
             "#fdca26"
            ],
            [
             1,
             "#f0f921"
            ]
           ]
          },
          "colorway": [
           "#636efa",
           "#EF553B",
           "#00cc96",
           "#ab63fa",
           "#FFA15A",
           "#19d3f3",
           "#FF6692",
           "#B6E880",
           "#FF97FF",
           "#FECB52"
          ],
          "font": {
           "color": "#2a3f5f"
          },
          "geo": {
           "bgcolor": "white",
           "lakecolor": "white",
           "landcolor": "#E5ECF6",
           "showlakes": true,
           "showland": true,
           "subunitcolor": "white"
          },
          "hoverlabel": {
           "align": "left"
          },
          "hovermode": "closest",
          "mapbox": {
           "style": "light"
          },
          "paper_bgcolor": "white",
          "plot_bgcolor": "#E5ECF6",
          "polar": {
           "angularaxis": {
            "gridcolor": "white",
            "linecolor": "white",
            "ticks": ""
           },
           "bgcolor": "#E5ECF6",
           "radialaxis": {
            "gridcolor": "white",
            "linecolor": "white",
            "ticks": ""
           }
          },
          "scene": {
           "xaxis": {
            "backgroundcolor": "#E5ECF6",
            "gridcolor": "white",
            "gridwidth": 2,
            "linecolor": "white",
            "showbackground": true,
            "ticks": "",
            "zerolinecolor": "white"
           },
           "yaxis": {
            "backgroundcolor": "#E5ECF6",
            "gridcolor": "white",
            "gridwidth": 2,
            "linecolor": "white",
            "showbackground": true,
            "ticks": "",
            "zerolinecolor": "white"
           },
           "zaxis": {
            "backgroundcolor": "#E5ECF6",
            "gridcolor": "white",
            "gridwidth": 2,
            "linecolor": "white",
            "showbackground": true,
            "ticks": "",
            "zerolinecolor": "white"
           }
          },
          "shapedefaults": {
           "line": {
            "color": "#2a3f5f"
           }
          },
          "ternary": {
           "aaxis": {
            "gridcolor": "white",
            "linecolor": "white",
            "ticks": ""
           },
           "baxis": {
            "gridcolor": "white",
            "linecolor": "white",
            "ticks": ""
           },
           "bgcolor": "#E5ECF6",
           "caxis": {
            "gridcolor": "white",
            "linecolor": "white",
            "ticks": ""
           }
          },
          "title": {
           "x": 0.05
          },
          "xaxis": {
           "automargin": true,
           "gridcolor": "white",
           "linecolor": "white",
           "ticks": "",
           "title": {
            "standoff": 15
           },
           "zerolinecolor": "white",
           "zerolinewidth": 2
          },
          "yaxis": {
           "automargin": true,
           "gridcolor": "white",
           "linecolor": "white",
           "ticks": "",
           "title": {
            "standoff": 15
           },
           "zerolinecolor": "white",
           "zerolinewidth": 2
          }
         }
        },
        "title": {
         "text": "Mean rating distribution"
        },
        "xaxis": {
         "anchor": "y",
         "domain": [
          0,
          1
         ],
         "title": {
          "text": "mean"
         }
        },
        "xaxis2": {
         "anchor": "y2",
         "domain": [
          0,
          1
         ],
         "matches": "x",
         "showgrid": true,
         "showticklabels": false
        },
        "yaxis": {
         "anchor": "x",
         "domain": [
          0,
          0.7326
         ],
         "title": {
          "text": "sum of len"
         }
        },
        "yaxis2": {
         "anchor": "x2",
         "domain": [
          0.7426,
          1
         ],
         "matches": "y2",
         "showgrid": false,
         "showline": false,
         "showticklabels": false,
         "ticks": ""
        }
       }
      },
      "text/html": [
       "<div>                            <div id=\"be442201-760c-4cf7-aabe-9d74bdd3139f\" class=\"plotly-graph-div\" style=\"height:525px; width:100%;\"></div>            <script type=\"text/javascript\">                require([\"plotly\"], function(Plotly) {                    window.PLOTLYENV=window.PLOTLYENV || {};                                    if (document.getElementById(\"be442201-760c-4cf7-aabe-9d74bdd3139f\")) {                    Plotly.newPlot(                        \"be442201-760c-4cf7-aabe-9d74bdd3139f\",                        [{\"alignmentgroup\": \"True\", \"bingroup\": \"x\", \"histfunc\": \"sum\", \"hovertemplate\": \"is_null_tag=True<br>mean=%{x}<br>sum of len=%{y}<extra></extra>\", \"legendgroup\": \"True\", \"marker\": {\"color\": \"#636efa\"}, \"name\": \"True\", \"offsetgroup\": \"True\", \"orientation\": \"v\", \"showlegend\": true, \"type\": \"histogram\", \"x\": [4.366379310344827, 2.4358974358974357, 3.5555555555555554, 3.6363636363636362, 3.4936305732484074, 3.574468085106383, 3.260869565217391, 3.2785714285714285, 3.78125, 4.390625, 3.6451612903225805, 3.3958333333333335, 3.448148148148148, 3.7244897959183674, 4.20952380952381, 2.607396870554765, 3.590909090909091, 2.5714285714285716, 3.6487603305785123, 3.65, 4.8076923076923075, 3.238095238095238, 3.5481481481481483, 3.020175438596491, 4.1419753086419755, 4.735294117647059, 3.92, 3.7549019607843137, 3.7884615384615383, 3.4186046511627906, 4.086956521739131, 2.6333333333333333, 4.142857142857143, 3.217948717948718, 4.0, 3.766990291262136, 3.2534562211981566, 3.565909090909091, 4.552631578947368, 3.3541666666666665, 3.8759398496240602, 4.0, 3.0535714285714284, 4.03030303030303, 2.7806451612903227, 3.7757660167130918, 4.476923076923077, 5.0, 3.0303030303030303, 2.84, 3.8043478260869565, 3.392857142857143, 3.9017857142857144, 4.355140186915888, 3.727272727272727, 4.051282051282051, 3.7688588007736943, 4.029411764705882, 4.0202898550724635, 3.9722222222222223, 3.233730158730159, 4.369565217391305, 4.32258064516129, 3.6, 4.155555555555556, 3.711904761904762, 4.271186440677966, 3.2318840579710146, 4.0, 3.1639344262295084, 4.203125, 4.2604790419161676, 2.769230769230769, 3.381057268722467, 3.309322033898305, 3.689419795221843, 3.7058823529411766, 3.9285714285714284, 3.9523809523809526, 4.035714285714286, 3.472972972972973, 4.074074074074074, 3.3956521739130436, 3.9375, 4.288659793814433, 3.0357142857142856, 4.0625, 3.8846153846153846, 4.194444444444445, 3.9130434782608696, 3.8679245283018866, 3.945945945945946, 3.557377049180328, 3.357142857142857, 3.5073260073260073, 4.116343490304709, 3.911764705882353, 3.986842105263158, 3.220472440944882, 3.7254901960784315, 3.3397832817337463, 3.6466666666666665, 3.435483870967742, 3.767857142857143, 3.4367816091954024, 3.3393939393939394, 3.8181818181818183, 3.409090909090909, 3.293103448275862, 4.546232876712328, 4.035714285714286, 3.99, 3.289473684210526, 3.1136363636363638, 4.363636363636363, 3.9214285714285713, 3.5357142857142856, 3.4420289855072466, 3.0, 3.5714285714285716, 3.630824372759857, 3.315315315315315, 3.978723404255319, 2.1443298969072164, 3.4991776315789473, 3.5386904761904763, 3.8157894736842106, 3.323943661971831, 3.62890625, 3.347826086956522, 3.140625, 3.375, 3.7395833333333335, 2.7241379310344827, 3.576923076923077, 3.542372881355932, 4.023809523809524, 2.217877094972067, 4.382352941176471, 3.608695652173913, 3.692211055276382, 3.4761904761904763, 3.423076923076923, 3.2731958762886597, 2.708237986270023, 4.2368421052631575, 3.0, 4.25, 3.5384615384615383, 4.462765957446808, 4.24907063197026, 3.34, 4.634146341463414, 3.826923076923077, 3.48, 3.656716417910448, 3.5416666666666665, 4.055555555555555, 4.090909090909091, 3.782608695652174, 3.5625, 2.940677966101695, 3.5112589559877176, 3.824561403508772, 3.5319148936170213, 4.079646017699115, 3.7751937984496124, 4.395833333333333, 4.1, 3.909090909090909, 3.7411764705882353, 4.045454545454546, 3.475, 3.5294117647058822, 3.9375, 3.857142857142857, 3.491304347826087, 3.3953168044077136, 3.809880239520958, 4.1, 3.8188585607940446, 3.8444444444444446, 3.9578313253012047, 4.04, 2.875, 3.3076923076923075, 4.242857142857143, 4.079710144927536, 3.904494382022472, 3.590725806451613, 3.8273809523809526, 2.8636363636363638, 3.9081632653061225, 3.6646341463414633, 2.761827079934747, 3.3653846153846154, 3.165719696969697, 3.963768115942029, 4.126888217522659, 3.166, 3.2733333333333334, 4.2592592592592595, 3.6533333333333333, 4.202127659574468, 3.74, 3.7384615384615385, 2.8597122302158273, 3.8541666666666665, 3.2505800464037122, 3.3, 3.504950495049505, 3.646153846153846, 3.966666666666667, 3.36, 3.6818181818181817, 4.026881720430108, 3.9140625, 3.9802631578947367, 3.6, 4.138888888888889, 3.774193548387097, 2.7142857142857144, 4.252450980392157, 3.7466666666666666, 3.7450980392156863, 3.6964627151051626, 4.222222222222222, 4.869565217391305, 4.197368421052632, 4.351063829787234, 3.9803149606299213, 2.5681818181818183, 3.2, 4.2, 3.1206896551724137, 3.7598684210526314, 3.858490566037736, 3.1052631578947367, 3.716666666666667, 3.5625, 3.3496932515337425, 3.5, 4.175438596491228, 3.2713178294573644, 3.6206896551724137, 3.2, 3.186046511627907, 3.629032258064516, 4.0, 4.086848635235732, 4.390243902439025, 3.5714285714285716, 3.875, 3.647727272727273, 3.9005102040816326, 3.2142857142857144, 4.033755274261603, 3.3142857142857145, 3.715909090909091, 3.9583333333333335, 3.7877358490566038, 2.6217105263157894, 4.142322097378277, 3.3015695067264574, 2.619047619047619, 2.610983981693364, 3.7439024390243905, 4.166666666666667, 2.5972222222222223, 2.363684771033014, 3.652173913043478, 3.3201754385964914, 4.0, 3.9056603773584904, 3.8703703703703702, 3.3169642857142856, 2.6656410256410257, 2.4260869565217393, 3.8398058252427183, 3.53125, 2.3392857142857144, 3.708520179372197, 3.4323529411764704, 3.046875, 3.3636363636363638, 3.0, 3.7301587301587302, 3.525, 3.5714285714285716, 3.411214953271028, 3.173469387755102, 3.142857142857143, 3.5444444444444443, 4.016447368421052, 3.2254901960784315, 2.869565217391304, 3.6902834008097165, 3.6279761904761907, 3.599250936329588, 2.64, 3.418831168831169, 3.6785714285714284, 4.207792207792208, 2.9358974358974357, 4.070080862533692, 4.214285714285714, 2.9393939393939394, 4.059322033898305, 3.7681159420289854, 3.903225806451613, 3.682926829268293, 3.5555555555555554, 4.672727272727273, 3.72972972972973, 3.25, 3.6666666666666665, 3.7806122448979593, 3.488888888888889, 3.734513274336283, 3.8846153846153846, 3.2560975609756095, 3.418918918918919, 3.36, 3.1804123711340204, 4.243119266055046, 3.3, 4.190476190476191, 2.7509025270758123, 3.9516129032258065, 3.8594594594594596, 2.8422174840085286, 3.391472868217054, 3.5483870967741935, 4.548780487804878, 3.3559322033898304, 3.19, 3.6363636363636362, 3.909090909090909, 4.06390977443609, 3.9122137404580153, 4.0, 3.388888888888889, 3.6732348111658455, 3.542194092827004, 3.508591065292096, 3.7941176470588234, 3.085714285714286, 3.4029850746268657, 2.75, 3.2585199610516065, 3.6206896551724137, 4.117647058823529, 3.8395061728395063, 3.715025906735751, 3.2, 3.841463414634146, 2.9565217391304346, 3.0491803278688523, 3.142857142857143, 3.9565217391304346, 4.25, 3.9444444444444446, 4.511627906976744, 3.5277777777777777, 3.8541666666666665, 3.764705882352941, 3.4, 4.008333333333334, 3.25, 4.113636363636363, 4.092198581560283, 3.8412698412698414, 4.059880239520958, 3.2598425196850394, 3.892156862745098, 4.410714285714286, 3.391957005189029, 4.085106382978723, 3.0686274509803924, 4.462686567164179, 3.639784946236559, 3.8226950354609928, 4.108108108108108, 3.3225806451612905, 3.717391304347826, 3.5326797385620914, 3.6818181818181817, 3.1011904761904763, 2.64, 3.9827586206896552, 3.7413793103448274, 2.725, 3.646153846153846, 3.772727272727273, 3.781115879828326, 3.1792452830188678, 3.80327868852459, 3.3551181102362206, 3.893939393939394, 4.522222222222222, 1.275, 4.121621621621622, 3.8095238095238093, 3.857142857142857, 3.2142857142857144, 3.871794871794872, 2.8473712446351933, 3.289473684210526, 4.0, 3.7941176470588234, 4.556930693069307, 3.942122186495177, 3.7666666666666666, 3.456140350877193, 3.813953488372093, 3.46, 4.1525423728813555, 4.346153846153846, 4.201219512195122, 2.9444444444444446, 3.787878787878788, 3.753623188405797, 4.156521739130435, 3.9292035398230087, 3.409090909090909, 3.393939393939394, 3.6731182795698927, 3.5125, 3.875, 4.120689655172414, 3.418918918918919, 4.409677419354839, 3.681159420289855, 2.8181818181818183, 3.320441988950276, 3.27511961722488, 2.806451612903226, 3.40625, 3.618818681318681, 3.8145454545454545, 3.869565217391304, 4.017857142857143, 3.8828828828828827, 3.017746913580247, 3.15929203539823, 4.15625, 3.8677685950413223, 3.6885245901639343, 4.2272727272727275, 4.009433962264151, 3.413793103448276, 3.5686274509803924, 4.057142857142857, 3.8333333333333335, 3.244186046511628, 3.2, 3.4285714285714284, 3.3421052631578947, 3.82183908045977, 4.17741935483871, 3.380952380952381, 2.1458333333333335, 2.9027777777777777, 4.125, 3.78, 3.3110831234256928, 4.846153846153846, 3.6923076923076925, 2.38625, 3.5416666666666665, 4.326923076923077, 3.6, 3.83, 4.693333333333333, 3.4580152671755724, 3.542, 4.189655172413793, 4.119760479041916, 3.4726027397260273, 3.2, 3.7777777777777777, 3.772727272727273, 4.28, 3.8048076923076923, 2.6666666666666665, 3.4, 4.472972972972973, 3.8026315789473686, 4.0, 3.3908045977011496, 3.5088495575221237, 4.363636363636363, 3.369565217391304, 3.4375, 4.142857142857143, 4.096153846153846, 3.6666666666666665, 4.107142857142857, 3.7154471544715446, 3.11968085106383, 4.337349397590361, 4.0, 3.4550173010380623, 4.078125, 3.8518518518518516, 3.9285714285714284, 3.2857142857142856, 3.567685589519651, 3.372277227722772, 4.093073593073593, 3.300469483568075, 3.5796178343949046, 3.6551724137931036, 3.5405405405405403, 4.130434782608695, 4.0, 3.4162303664921465, 2.5714285714285716, 4.122580645161291, 3.9565217391304346, 3.1666666666666665, 3.1, 3.5652173913043477, 3.962962962962963, 3.9726027397260273, 3.529816513761468, 4.375, 4.026785714285714, 3.294642857142857, 4.108433734939759, 4.336065573770492, 4.365384615384615, 3.9757575757575756, 3.25, 4.025, 3.355769230769231, 3.2777777777777777, 3.5851063829787235, 3.266990291262136, 3.9245689655172415, 4.2, 3.495133819951338, 3.9774266365688487, 3.8095238095238093, 4.425742574257426, 3.3925925925925924, 3.5079533404029695, 3.48, 3.2104072398190047, 3.786096256684492, 3.1341756919374246, 3.27027027027027], \"xaxis\": \"x\", \"y\": [232.0, 39.0, 216.0, 44.0, 314.0, 47.0, 46.0, 140.0, 64.0, 32.0, 31.0, 48.0, 135.0, 98.0, 105.0, 703.0, 242.0, 119.0, 121.0, 110.0, 26.0, 21.0, 135.0, 570.0, 81.0, 34.0, 50.0, 102.0, 156.0, 86.0, 23.0, 60.0, 21.0, 78.0, 100.0, 103.0, 217.0, 440.0, 114.0, 48.0, 399.0, 42.0, 140.0, 33.0, 310.0, 359.0, 130.0, 20.0, 33.0, 25.0, 46.0, 476.0, 112.0, 107.0, 22.0, 39.0, 517.0, 34.0, 345.0, 36.0, 1260.0, 46.0, 62.0, 35.0, 45.0, 210.0, 177.0, 69.0, 29.0, 61.0, 64.0, 167.0, 26.0, 227.0, 118.0, 293.0, 34.0, 70.0, 21.0, 56.0, 518.0, 54.0, 575.0, 24.0, 97.0, 56.0, 168.0, 78.0, 36.0, 92.0, 53.0, 148.0, 61.0, 56.0, 273.0, 722.0, 34.0, 76.0, 127.0, 51.0, 646.0, 150.0, 31.0, 112.0, 87.0, 165.0, 22.0, 22.0, 58.0, 292.0, 56.0, 50.0, 38.0, 22.0, 33.0, 140.0, 28.0, 69.0, 35.0, 35.0, 279.0, 111.0, 141.0, 194.0, 608.0, 168.0, 38.0, 71.0, 128.0, 23.0, 32.0, 20.0, 48.0, 58.0, 26.0, 59.0, 63.0, 179.0, 34.0, 46.0, 398.0, 21.0, 26.0, 97.0, 437.0, 38.0, 23.0, 36.0, 65.0, 94.0, 269.0, 50.0, 82.0, 26.0, 25.0, 67.0, 24.0, 36.0, 77.0, 69.0, 24.0, 118.0, 977.0, 57.0, 47.0, 226.0, 258.0, 48.0, 20.0, 66.0, 85.0, 22.0, 20.0, 187.0, 32.0, 35.0, 230.0, 363.0, 334.0, 110.0, 403.0, 45.0, 83.0, 25.0, 20.0, 26.0, 35.0, 138.0, 89.0, 248.0, 84.0, 22.0, 98.0, 164.0, 613.0, 26.0, 528.0, 207.0, 331.0, 250.0, 75.0, 54.0, 75.0, 94.0, 25.0, 65.0, 139.0, 24.0, 862.0, 150.0, 202.0, 65.0, 30.0, 50.0, 44.0, 279.0, 128.0, 76.0, 35.0, 36.0, 93.0, 21.0, 204.0, 150.0, 51.0, 1046.0, 27.0, 23.0, 38.0, 47.0, 127.0, 44.0, 20.0, 25.0, 29.0, 152.0, 53.0, 57.0, 210.0, 56.0, 163.0, 180.0, 57.0, 129.0, 29.0, 40.0, 43.0, 31.0, 55.0, 403.0, 41.0, 28.0, 20.0, 176.0, 196.0, 21.0, 237.0, 35.0, 88.0, 36.0, 106.0, 152.0, 267.0, 446.0, 21.0, 437.0, 41.0, 27.0, 72.0, 939.0, 23.0, 114.0, 32.0, 53.0, 216.0, 112.0, 975.0, 115.0, 103.0, 64.0, 28.0, 223.0, 340.0, 128.0, 33.0, 53.0, 189.0, 20.0, 56.0, 107.0, 98.0, 21.0, 270.0, 152.0, 255.0, 23.0, 247.0, 168.0, 267.0, 25.0, 154.0, 28.0, 77.0, 39.0, 371.0, 28.0, 66.0, 59.0, 69.0, 62.0, 164.0, 45.0, 55.0, 37.0, 40.0, 141.0, 294.0, 90.0, 226.0, 26.0, 41.0, 74.0, 25.0, 97.0, 109.0, 30.0, 21.0, 277.0, 31.0, 185.0, 469.0, 129.0, 93.0, 41.0, 236.0, 100.0, 33.0, 33.0, 133.0, 131.0, 48.0, 36.0, 1218.0, 474.0, 291.0, 34.0, 70.0, 201.0, 68.0, 1027.0, 29.0, 34.0, 81.0, 386.0, 25.0, 123.0, 23.0, 61.0, 28.0, 23.0, 46.0, 36.0, 43.0, 72.0, 48.0, 34.0, 60.0, 120.0, 20.0, 22.0, 141.0, 126.0, 167.0, 127.0, 102.0, 56.0, 2698.0, 94.0, 51.0, 67.0, 93.0, 141.0, 37.0, 93.0, 23.0, 306.0, 88.0, 84.0, 300.0, 58.0, 58.0, 20.0, 260.0, 22.0, 233.0, 106.0, 122.0, 635.0, 33.0, 45.0, 20.0, 37.0, 42.0, 77.0, 84.0, 78.0, 1864.0, 38.0, 51.0, 34.0, 202.0, 311.0, 45.0, 57.0, 43.0, 50.0, 59.0, 26.0, 82.0, 27.0, 33.0, 138.0, 115.0, 113.0, 22.0, 33.0, 465.0, 80.0, 28.0, 29.0, 37.0, 155.0, 69.0, 22.0, 181.0, 836.0, 31.0, 128.0, 728.0, 275.0, 23.0, 56.0, 111.0, 648.0, 113.0, 64.0, 121.0, 61.0, 22.0, 265.0, 29.0, 51.0, 35.0, 27.0, 86.0, 45.0, 35.0, 95.0, 87.0, 31.0, 21.0, 24.0, 108.0, 52.0, 50.0, 397.0, 26.0, 26.0, 400.0, 24.0, 26.0, 40.0, 200.0, 75.0, 131.0, 500.0, 58.0, 167.0, 73.0, 25.0, 27.0, 22.0, 50.0, 520.0, 30.0, 40.0, 37.0, 38.0, 42.0, 87.0, 113.0, 22.0, 23.0, 64.0, 21.0, 26.0, 21.0, 28.0, 123.0, 188.0, 83.0, 89.0, 578.0, 32.0, 27.0, 56.0, 140.0, 458.0, 505.0, 231.0, 213.0, 157.0, 29.0, 74.0, 23.0, 20.0, 191.0, 112.0, 155.0, 23.0, 36.0, 20.0, 161.0, 27.0, 73.0, 436.0, 40.0, 56.0, 56.0, 83.0, 61.0, 208.0, 165.0, 56.0, 40.0, 728.0, 54.0, 94.0, 103.0, 232.0, 20.0, 411.0, 443.0, 21.0, 101.0, 135.0, 943.0, 100.0, 221.0, 187.0, 831.0, 37.0], \"yaxis\": \"y\"}, {\"alignmentgroup\": \"True\", \"boxpoints\": \"all\", \"fillcolor\": \"rgba(255,255,255,0)\", \"hoveron\": \"points\", \"hovertemplate\": \"is_null_tag=True<br>mean=%{x}<extra></extra>\", \"jitter\": 0, \"legendgroup\": \"True\", \"line\": {\"color\": \"rgba(255,255,255,0)\"}, \"marker\": {\"color\": \"#636efa\", \"symbol\": \"line-ns-open\"}, \"name\": \"True\", \"offsetgroup\": \"True\", \"showlegend\": false, \"type\": \"box\", \"x\": [4.366379310344827, 2.4358974358974357, 3.5555555555555554, 3.6363636363636362, 3.4936305732484074, 3.574468085106383, 3.260869565217391, 3.2785714285714285, 3.78125, 4.390625, 3.6451612903225805, 3.3958333333333335, 3.448148148148148, 3.7244897959183674, 4.20952380952381, 2.607396870554765, 3.590909090909091, 2.5714285714285716, 3.6487603305785123, 3.65, 4.8076923076923075, 3.238095238095238, 3.5481481481481483, 3.020175438596491, 4.1419753086419755, 4.735294117647059, 3.92, 3.7549019607843137, 3.7884615384615383, 3.4186046511627906, 4.086956521739131, 2.6333333333333333, 4.142857142857143, 3.217948717948718, 4.0, 3.766990291262136, 3.2534562211981566, 3.565909090909091, 4.552631578947368, 3.3541666666666665, 3.8759398496240602, 4.0, 3.0535714285714284, 4.03030303030303, 2.7806451612903227, 3.7757660167130918, 4.476923076923077, 5.0, 3.0303030303030303, 2.84, 3.8043478260869565, 3.392857142857143, 3.9017857142857144, 4.355140186915888, 3.727272727272727, 4.051282051282051, 3.7688588007736943, 4.029411764705882, 4.0202898550724635, 3.9722222222222223, 3.233730158730159, 4.369565217391305, 4.32258064516129, 3.6, 4.155555555555556, 3.711904761904762, 4.271186440677966, 3.2318840579710146, 4.0, 3.1639344262295084, 4.203125, 4.2604790419161676, 2.769230769230769, 3.381057268722467, 3.309322033898305, 3.689419795221843, 3.7058823529411766, 3.9285714285714284, 3.9523809523809526, 4.035714285714286, 3.472972972972973, 4.074074074074074, 3.3956521739130436, 3.9375, 4.288659793814433, 3.0357142857142856, 4.0625, 3.8846153846153846, 4.194444444444445, 3.9130434782608696, 3.8679245283018866, 3.945945945945946, 3.557377049180328, 3.357142857142857, 3.5073260073260073, 4.116343490304709, 3.911764705882353, 3.986842105263158, 3.220472440944882, 3.7254901960784315, 3.3397832817337463, 3.6466666666666665, 3.435483870967742, 3.767857142857143, 3.4367816091954024, 3.3393939393939394, 3.8181818181818183, 3.409090909090909, 3.293103448275862, 4.546232876712328, 4.035714285714286, 3.99, 3.289473684210526, 3.1136363636363638, 4.363636363636363, 3.9214285714285713, 3.5357142857142856, 3.4420289855072466, 3.0, 3.5714285714285716, 3.630824372759857, 3.315315315315315, 3.978723404255319, 2.1443298969072164, 3.4991776315789473, 3.5386904761904763, 3.8157894736842106, 3.323943661971831, 3.62890625, 3.347826086956522, 3.140625, 3.375, 3.7395833333333335, 2.7241379310344827, 3.576923076923077, 3.542372881355932, 4.023809523809524, 2.217877094972067, 4.382352941176471, 3.608695652173913, 3.692211055276382, 3.4761904761904763, 3.423076923076923, 3.2731958762886597, 2.708237986270023, 4.2368421052631575, 3.0, 4.25, 3.5384615384615383, 4.462765957446808, 4.24907063197026, 3.34, 4.634146341463414, 3.826923076923077, 3.48, 3.656716417910448, 3.5416666666666665, 4.055555555555555, 4.090909090909091, 3.782608695652174, 3.5625, 2.940677966101695, 3.5112589559877176, 3.824561403508772, 3.5319148936170213, 4.079646017699115, 3.7751937984496124, 4.395833333333333, 4.1, 3.909090909090909, 3.7411764705882353, 4.045454545454546, 3.475, 3.5294117647058822, 3.9375, 3.857142857142857, 3.491304347826087, 3.3953168044077136, 3.809880239520958, 4.1, 3.8188585607940446, 3.8444444444444446, 3.9578313253012047, 4.04, 2.875, 3.3076923076923075, 4.242857142857143, 4.079710144927536, 3.904494382022472, 3.590725806451613, 3.8273809523809526, 2.8636363636363638, 3.9081632653061225, 3.6646341463414633, 2.761827079934747, 3.3653846153846154, 3.165719696969697, 3.963768115942029, 4.126888217522659, 3.166, 3.2733333333333334, 4.2592592592592595, 3.6533333333333333, 4.202127659574468, 3.74, 3.7384615384615385, 2.8597122302158273, 3.8541666666666665, 3.2505800464037122, 3.3, 3.504950495049505, 3.646153846153846, 3.966666666666667, 3.36, 3.6818181818181817, 4.026881720430108, 3.9140625, 3.9802631578947367, 3.6, 4.138888888888889, 3.774193548387097, 2.7142857142857144, 4.252450980392157, 3.7466666666666666, 3.7450980392156863, 3.6964627151051626, 4.222222222222222, 4.869565217391305, 4.197368421052632, 4.351063829787234, 3.9803149606299213, 2.5681818181818183, 3.2, 4.2, 3.1206896551724137, 3.7598684210526314, 3.858490566037736, 3.1052631578947367, 3.716666666666667, 3.5625, 3.3496932515337425, 3.5, 4.175438596491228, 3.2713178294573644, 3.6206896551724137, 3.2, 3.186046511627907, 3.629032258064516, 4.0, 4.086848635235732, 4.390243902439025, 3.5714285714285716, 3.875, 3.647727272727273, 3.9005102040816326, 3.2142857142857144, 4.033755274261603, 3.3142857142857145, 3.715909090909091, 3.9583333333333335, 3.7877358490566038, 2.6217105263157894, 4.142322097378277, 3.3015695067264574, 2.619047619047619, 2.610983981693364, 3.7439024390243905, 4.166666666666667, 2.5972222222222223, 2.363684771033014, 3.652173913043478, 3.3201754385964914, 4.0, 3.9056603773584904, 3.8703703703703702, 3.3169642857142856, 2.6656410256410257, 2.4260869565217393, 3.8398058252427183, 3.53125, 2.3392857142857144, 3.708520179372197, 3.4323529411764704, 3.046875, 3.3636363636363638, 3.0, 3.7301587301587302, 3.525, 3.5714285714285716, 3.411214953271028, 3.173469387755102, 3.142857142857143, 3.5444444444444443, 4.016447368421052, 3.2254901960784315, 2.869565217391304, 3.6902834008097165, 3.6279761904761907, 3.599250936329588, 2.64, 3.418831168831169, 3.6785714285714284, 4.207792207792208, 2.9358974358974357, 4.070080862533692, 4.214285714285714, 2.9393939393939394, 4.059322033898305, 3.7681159420289854, 3.903225806451613, 3.682926829268293, 3.5555555555555554, 4.672727272727273, 3.72972972972973, 3.25, 3.6666666666666665, 3.7806122448979593, 3.488888888888889, 3.734513274336283, 3.8846153846153846, 3.2560975609756095, 3.418918918918919, 3.36, 3.1804123711340204, 4.243119266055046, 3.3, 4.190476190476191, 2.7509025270758123, 3.9516129032258065, 3.8594594594594596, 2.8422174840085286, 3.391472868217054, 3.5483870967741935, 4.548780487804878, 3.3559322033898304, 3.19, 3.6363636363636362, 3.909090909090909, 4.06390977443609, 3.9122137404580153, 4.0, 3.388888888888889, 3.6732348111658455, 3.542194092827004, 3.508591065292096, 3.7941176470588234, 3.085714285714286, 3.4029850746268657, 2.75, 3.2585199610516065, 3.6206896551724137, 4.117647058823529, 3.8395061728395063, 3.715025906735751, 3.2, 3.841463414634146, 2.9565217391304346, 3.0491803278688523, 3.142857142857143, 3.9565217391304346, 4.25, 3.9444444444444446, 4.511627906976744, 3.5277777777777777, 3.8541666666666665, 3.764705882352941, 3.4, 4.008333333333334, 3.25, 4.113636363636363, 4.092198581560283, 3.8412698412698414, 4.059880239520958, 3.2598425196850394, 3.892156862745098, 4.410714285714286, 3.391957005189029, 4.085106382978723, 3.0686274509803924, 4.462686567164179, 3.639784946236559, 3.8226950354609928, 4.108108108108108, 3.3225806451612905, 3.717391304347826, 3.5326797385620914, 3.6818181818181817, 3.1011904761904763, 2.64, 3.9827586206896552, 3.7413793103448274, 2.725, 3.646153846153846, 3.772727272727273, 3.781115879828326, 3.1792452830188678, 3.80327868852459, 3.3551181102362206, 3.893939393939394, 4.522222222222222, 1.275, 4.121621621621622, 3.8095238095238093, 3.857142857142857, 3.2142857142857144, 3.871794871794872, 2.8473712446351933, 3.289473684210526, 4.0, 3.7941176470588234, 4.556930693069307, 3.942122186495177, 3.7666666666666666, 3.456140350877193, 3.813953488372093, 3.46, 4.1525423728813555, 4.346153846153846, 4.201219512195122, 2.9444444444444446, 3.787878787878788, 3.753623188405797, 4.156521739130435, 3.9292035398230087, 3.409090909090909, 3.393939393939394, 3.6731182795698927, 3.5125, 3.875, 4.120689655172414, 3.418918918918919, 4.409677419354839, 3.681159420289855, 2.8181818181818183, 3.320441988950276, 3.27511961722488, 2.806451612903226, 3.40625, 3.618818681318681, 3.8145454545454545, 3.869565217391304, 4.017857142857143, 3.8828828828828827, 3.017746913580247, 3.15929203539823, 4.15625, 3.8677685950413223, 3.6885245901639343, 4.2272727272727275, 4.009433962264151, 3.413793103448276, 3.5686274509803924, 4.057142857142857, 3.8333333333333335, 3.244186046511628, 3.2, 3.4285714285714284, 3.3421052631578947, 3.82183908045977, 4.17741935483871, 3.380952380952381, 2.1458333333333335, 2.9027777777777777, 4.125, 3.78, 3.3110831234256928, 4.846153846153846, 3.6923076923076925, 2.38625, 3.5416666666666665, 4.326923076923077, 3.6, 3.83, 4.693333333333333, 3.4580152671755724, 3.542, 4.189655172413793, 4.119760479041916, 3.4726027397260273, 3.2, 3.7777777777777777, 3.772727272727273, 4.28, 3.8048076923076923, 2.6666666666666665, 3.4, 4.472972972972973, 3.8026315789473686, 4.0, 3.3908045977011496, 3.5088495575221237, 4.363636363636363, 3.369565217391304, 3.4375, 4.142857142857143, 4.096153846153846, 3.6666666666666665, 4.107142857142857, 3.7154471544715446, 3.11968085106383, 4.337349397590361, 4.0, 3.4550173010380623, 4.078125, 3.8518518518518516, 3.9285714285714284, 3.2857142857142856, 3.567685589519651, 3.372277227722772, 4.093073593073593, 3.300469483568075, 3.5796178343949046, 3.6551724137931036, 3.5405405405405403, 4.130434782608695, 4.0, 3.4162303664921465, 2.5714285714285716, 4.122580645161291, 3.9565217391304346, 3.1666666666666665, 3.1, 3.5652173913043477, 3.962962962962963, 3.9726027397260273, 3.529816513761468, 4.375, 4.026785714285714, 3.294642857142857, 4.108433734939759, 4.336065573770492, 4.365384615384615, 3.9757575757575756, 3.25, 4.025, 3.355769230769231, 3.2777777777777777, 3.5851063829787235, 3.266990291262136, 3.9245689655172415, 4.2, 3.495133819951338, 3.9774266365688487, 3.8095238095238093, 4.425742574257426, 3.3925925925925924, 3.5079533404029695, 3.48, 3.2104072398190047, 3.786096256684492, 3.1341756919374246, 3.27027027027027], \"xaxis\": \"x2\", \"yaxis\": \"y2\"}, {\"alignmentgroup\": \"True\", \"bingroup\": \"x\", \"histfunc\": \"sum\", \"hovertemplate\": \"is_null_tag=False<br>mean=%{x}<br>sum of len=%{y}<extra></extra>\", \"legendgroup\": \"False\", \"marker\": {\"color\": \"#EF553B\"}, \"name\": \"False\", \"offsetgroup\": \"False\", \"orientation\": \"v\", \"showlegend\": true, \"type\": \"histogram\", \"x\": [3.9482758620689653, 3.2302631578947367, 3.7320717131474104, 3.260722347629797, 4.261904761904762, 4.081967213114754, 3.6309963099630997, 3.0840336134453783, 3.907161803713528, 4.4393939393939394, 3.5923076923076924, 4.176744186046512, 3.859722222222222, 3.0389048991354466, 3.522727272727273, 3.8333333333333335, 4.073684210526316, 3.439306358381503, 3.375553097345133, 3.705223880597015, 3.8, 3.8703703703703702, 3.4763313609467454, 3.9454022988505746, 3.235884101040119, 3.1459715639810426, 3.625, 4.258064516129032, 4.296875, 3.9246676514032495, 3.755972696245734, 4.428571428571429, 4.104166666666667, 4.321428571428571, 3.798076923076923, 4.02076124567474, 3.9569190600522193, 3.803225806451613, 3.6739130434782608, 4.321428571428571, 4.119047619047619, 3.4065934065934065, 3.398956356736243, 3.736666666666667, 3.142857142857143, 3.261904761904762, 3.21627408993576, 3.890625, 3.881720430107527, 4.381578947368421, 4.0638297872340425, 4.453947368421052, 2.2454545454545456, 4.212374581939799, 2.6420500403551253, 2.991480996068152, 3.6573991031390136, 3.6885560675883258], \"xaxis\": \"x\", \"y\": [29.0, 152.0, 502.0, 443.0, 21.0, 366.0, 271.0, 119.0, 377.0, 33.0, 65.0, 215.0, 360.0, 347.0, 22.0, 39.0, 190.0, 173.0, 904.0, 134.0, 35.0, 27.0, 507.0, 174.0, 1346.0, 1055.0, 24.0, 31.0, 32.0, 677.0, 879.0, 35.0, 48.0, 56.0, 52.0, 289.0, 383.0, 155.0, 138.0, 42.0, 21.0, 455.0, 2108.0, 600.0, 56.0, 42.0, 467.0, 32.0, 186.0, 38.0, 47.0, 76.0, 385.0, 299.0, 2478.0, 763.0, 1115.0, 1302.0], \"yaxis\": \"y\"}, {\"alignmentgroup\": \"True\", \"boxpoints\": \"all\", \"fillcolor\": \"rgba(255,255,255,0)\", \"hoveron\": \"points\", \"hovertemplate\": \"is_null_tag=False<br>mean=%{x}<extra></extra>\", \"jitter\": 0, \"legendgroup\": \"False\", \"line\": {\"color\": \"rgba(255,255,255,0)\"}, \"marker\": {\"color\": \"#EF553B\", \"symbol\": \"line-ns-open\"}, \"name\": \"False\", \"offsetgroup\": \"False\", \"showlegend\": false, \"type\": \"box\", \"x\": [3.9482758620689653, 3.2302631578947367, 3.7320717131474104, 3.260722347629797, 4.261904761904762, 4.081967213114754, 3.6309963099630997, 3.0840336134453783, 3.907161803713528, 4.4393939393939394, 3.5923076923076924, 4.176744186046512, 3.859722222222222, 3.0389048991354466, 3.522727272727273, 3.8333333333333335, 4.073684210526316, 3.439306358381503, 3.375553097345133, 3.705223880597015, 3.8, 3.8703703703703702, 3.4763313609467454, 3.9454022988505746, 3.235884101040119, 3.1459715639810426, 3.625, 4.258064516129032, 4.296875, 3.9246676514032495, 3.755972696245734, 4.428571428571429, 4.104166666666667, 4.321428571428571, 3.798076923076923, 4.02076124567474, 3.9569190600522193, 3.803225806451613, 3.6739130434782608, 4.321428571428571, 4.119047619047619, 3.4065934065934065, 3.398956356736243, 3.736666666666667, 3.142857142857143, 3.261904761904762, 3.21627408993576, 3.890625, 3.881720430107527, 4.381578947368421, 4.0638297872340425, 4.453947368421052, 2.2454545454545456, 4.212374581939799, 2.6420500403551253, 2.991480996068152, 3.6573991031390136, 3.6885560675883258], \"xaxis\": \"x2\", \"yaxis\": \"y2\"}],                        {\"barmode\": \"relative\", \"legend\": {\"title\": {\"text\": \"is_null_tag\"}, \"tracegroupgap\": 0}, \"template\": {\"data\": {\"bar\": [{\"error_x\": {\"color\": \"#2a3f5f\"}, \"error_y\": {\"color\": \"#2a3f5f\"}, \"marker\": {\"line\": {\"color\": \"#E5ECF6\", \"width\": 0.5}}, \"type\": \"bar\"}], \"barpolar\": [{\"marker\": {\"line\": {\"color\": \"#E5ECF6\", \"width\": 0.5}}, \"type\": \"barpolar\"}], \"carpet\": [{\"aaxis\": {\"endlinecolor\": \"#2a3f5f\", \"gridcolor\": \"white\", \"linecolor\": \"white\", \"minorgridcolor\": \"white\", \"startlinecolor\": \"#2a3f5f\"}, \"baxis\": {\"endlinecolor\": \"#2a3f5f\", \"gridcolor\": \"white\", \"linecolor\": \"white\", \"minorgridcolor\": \"white\", \"startlinecolor\": \"#2a3f5f\"}, \"type\": \"carpet\"}], \"choropleth\": [{\"colorbar\": {\"outlinewidth\": 0, \"ticks\": \"\"}, \"type\": \"choropleth\"}], \"contour\": [{\"colorbar\": {\"outlinewidth\": 0, \"ticks\": \"\"}, \"colorscale\": [[0.0, \"#0d0887\"], [0.1111111111111111, \"#46039f\"], [0.2222222222222222, \"#7201a8\"], [0.3333333333333333, \"#9c179e\"], [0.4444444444444444, \"#bd3786\"], [0.5555555555555556, \"#d8576b\"], [0.6666666666666666, \"#ed7953\"], [0.7777777777777778, \"#fb9f3a\"], [0.8888888888888888, \"#fdca26\"], [1.0, \"#f0f921\"]], \"type\": \"contour\"}], \"contourcarpet\": [{\"colorbar\": {\"outlinewidth\": 0, \"ticks\": \"\"}, \"type\": \"contourcarpet\"}], \"heatmap\": [{\"colorbar\": {\"outlinewidth\": 0, \"ticks\": \"\"}, \"colorscale\": [[0.0, \"#0d0887\"], [0.1111111111111111, \"#46039f\"], [0.2222222222222222, \"#7201a8\"], [0.3333333333333333, \"#9c179e\"], [0.4444444444444444, \"#bd3786\"], [0.5555555555555556, \"#d8576b\"], [0.6666666666666666, \"#ed7953\"], [0.7777777777777778, \"#fb9f3a\"], [0.8888888888888888, \"#fdca26\"], [1.0, \"#f0f921\"]], \"type\": \"heatmap\"}], \"heatmapgl\": [{\"colorbar\": {\"outlinewidth\": 0, \"ticks\": \"\"}, \"colorscale\": [[0.0, \"#0d0887\"], [0.1111111111111111, \"#46039f\"], [0.2222222222222222, \"#7201a8\"], [0.3333333333333333, \"#9c179e\"], [0.4444444444444444, \"#bd3786\"], [0.5555555555555556, \"#d8576b\"], [0.6666666666666666, \"#ed7953\"], [0.7777777777777778, \"#fb9f3a\"], [0.8888888888888888, \"#fdca26\"], [1.0, \"#f0f921\"]], \"type\": \"heatmapgl\"}], \"histogram\": [{\"marker\": {\"colorbar\": {\"outlinewidth\": 0, \"ticks\": \"\"}}, \"type\": \"histogram\"}], \"histogram2d\": [{\"colorbar\": {\"outlinewidth\": 0, \"ticks\": \"\"}, \"colorscale\": [[0.0, \"#0d0887\"], [0.1111111111111111, \"#46039f\"], [0.2222222222222222, \"#7201a8\"], [0.3333333333333333, \"#9c179e\"], [0.4444444444444444, \"#bd3786\"], [0.5555555555555556, \"#d8576b\"], [0.6666666666666666, \"#ed7953\"], [0.7777777777777778, \"#fb9f3a\"], [0.8888888888888888, \"#fdca26\"], [1.0, \"#f0f921\"]], \"type\": \"histogram2d\"}], \"histogram2dcontour\": [{\"colorbar\": {\"outlinewidth\": 0, \"ticks\": \"\"}, \"colorscale\": [[0.0, \"#0d0887\"], [0.1111111111111111, \"#46039f\"], [0.2222222222222222, \"#7201a8\"], [0.3333333333333333, \"#9c179e\"], [0.4444444444444444, \"#bd3786\"], [0.5555555555555556, \"#d8576b\"], [0.6666666666666666, \"#ed7953\"], [0.7777777777777778, \"#fb9f3a\"], [0.8888888888888888, \"#fdca26\"], [1.0, \"#f0f921\"]], \"type\": \"histogram2dcontour\"}], \"mesh3d\": [{\"colorbar\": {\"outlinewidth\": 0, \"ticks\": \"\"}, \"type\": \"mesh3d\"}], \"parcoords\": [{\"line\": {\"colorbar\": {\"outlinewidth\": 0, \"ticks\": \"\"}}, \"type\": \"parcoords\"}], \"pie\": [{\"automargin\": true, \"type\": \"pie\"}], \"scatter\": [{\"marker\": {\"colorbar\": {\"outlinewidth\": 0, \"ticks\": \"\"}}, \"type\": \"scatter\"}], \"scatter3d\": [{\"line\": {\"colorbar\": {\"outlinewidth\": 0, \"ticks\": \"\"}}, \"marker\": {\"colorbar\": {\"outlinewidth\": 0, \"ticks\": \"\"}}, \"type\": \"scatter3d\"}], \"scattercarpet\": [{\"marker\": {\"colorbar\": {\"outlinewidth\": 0, \"ticks\": \"\"}}, \"type\": \"scattercarpet\"}], \"scattergeo\": [{\"marker\": {\"colorbar\": {\"outlinewidth\": 0, \"ticks\": \"\"}}, \"type\": \"scattergeo\"}], \"scattergl\": [{\"marker\": {\"colorbar\": {\"outlinewidth\": 0, \"ticks\": \"\"}}, \"type\": \"scattergl\"}], \"scattermapbox\": [{\"marker\": {\"colorbar\": {\"outlinewidth\": 0, \"ticks\": \"\"}}, \"type\": \"scattermapbox\"}], \"scatterpolar\": [{\"marker\": {\"colorbar\": {\"outlinewidth\": 0, \"ticks\": \"\"}}, \"type\": \"scatterpolar\"}], \"scatterpolargl\": [{\"marker\": {\"colorbar\": {\"outlinewidth\": 0, \"ticks\": \"\"}}, \"type\": \"scatterpolargl\"}], \"scatterternary\": [{\"marker\": {\"colorbar\": {\"outlinewidth\": 0, \"ticks\": \"\"}}, \"type\": \"scatterternary\"}], \"surface\": [{\"colorbar\": {\"outlinewidth\": 0, \"ticks\": \"\"}, \"colorscale\": [[0.0, \"#0d0887\"], [0.1111111111111111, \"#46039f\"], [0.2222222222222222, \"#7201a8\"], [0.3333333333333333, \"#9c179e\"], [0.4444444444444444, \"#bd3786\"], [0.5555555555555556, \"#d8576b\"], [0.6666666666666666, \"#ed7953\"], [0.7777777777777778, \"#fb9f3a\"], [0.8888888888888888, \"#fdca26\"], [1.0, \"#f0f921\"]], \"type\": \"surface\"}], \"table\": [{\"cells\": {\"fill\": {\"color\": \"#EBF0F8\"}, \"line\": {\"color\": \"white\"}}, \"header\": {\"fill\": {\"color\": \"#C8D4E3\"}, \"line\": {\"color\": \"white\"}}, \"type\": \"table\"}]}, \"layout\": {\"annotationdefaults\": {\"arrowcolor\": \"#2a3f5f\", \"arrowhead\": 0, \"arrowwidth\": 1}, \"autotypenumbers\": \"strict\", \"coloraxis\": {\"colorbar\": {\"outlinewidth\": 0, \"ticks\": \"\"}}, \"colorscale\": {\"diverging\": [[0, \"#8e0152\"], [0.1, \"#c51b7d\"], [0.2, \"#de77ae\"], [0.3, \"#f1b6da\"], [0.4, \"#fde0ef\"], [0.5, \"#f7f7f7\"], [0.6, \"#e6f5d0\"], [0.7, \"#b8e186\"], [0.8, \"#7fbc41\"], [0.9, \"#4d9221\"], [1, \"#276419\"]], \"sequential\": [[0.0, \"#0d0887\"], [0.1111111111111111, \"#46039f\"], [0.2222222222222222, \"#7201a8\"], [0.3333333333333333, \"#9c179e\"], [0.4444444444444444, \"#bd3786\"], [0.5555555555555556, \"#d8576b\"], [0.6666666666666666, \"#ed7953\"], [0.7777777777777778, \"#fb9f3a\"], [0.8888888888888888, \"#fdca26\"], [1.0, \"#f0f921\"]], \"sequentialminus\": [[0.0, \"#0d0887\"], [0.1111111111111111, \"#46039f\"], [0.2222222222222222, \"#7201a8\"], [0.3333333333333333, \"#9c179e\"], [0.4444444444444444, \"#bd3786\"], [0.5555555555555556, \"#d8576b\"], [0.6666666666666666, \"#ed7953\"], [0.7777777777777778, \"#fb9f3a\"], [0.8888888888888888, \"#fdca26\"], [1.0, \"#f0f921\"]]}, \"colorway\": [\"#636efa\", \"#EF553B\", \"#00cc96\", \"#ab63fa\", \"#FFA15A\", \"#19d3f3\", \"#FF6692\", \"#B6E880\", \"#FF97FF\", \"#FECB52\"], \"font\": {\"color\": \"#2a3f5f\"}, \"geo\": {\"bgcolor\": \"white\", \"lakecolor\": \"white\", \"landcolor\": \"#E5ECF6\", \"showlakes\": true, \"showland\": true, \"subunitcolor\": \"white\"}, \"hoverlabel\": {\"align\": \"left\"}, \"hovermode\": \"closest\", \"mapbox\": {\"style\": \"light\"}, \"paper_bgcolor\": \"white\", \"plot_bgcolor\": \"#E5ECF6\", \"polar\": {\"angularaxis\": {\"gridcolor\": \"white\", \"linecolor\": \"white\", \"ticks\": \"\"}, \"bgcolor\": \"#E5ECF6\", \"radialaxis\": {\"gridcolor\": \"white\", \"linecolor\": \"white\", \"ticks\": \"\"}}, \"scene\": {\"xaxis\": {\"backgroundcolor\": \"#E5ECF6\", \"gridcolor\": \"white\", \"gridwidth\": 2, \"linecolor\": \"white\", \"showbackground\": true, \"ticks\": \"\", \"zerolinecolor\": \"white\"}, \"yaxis\": {\"backgroundcolor\": \"#E5ECF6\", \"gridcolor\": \"white\", \"gridwidth\": 2, \"linecolor\": \"white\", \"showbackground\": true, \"ticks\": \"\", \"zerolinecolor\": \"white\"}, \"zaxis\": {\"backgroundcolor\": \"#E5ECF6\", \"gridcolor\": \"white\", \"gridwidth\": 2, \"linecolor\": \"white\", \"showbackground\": true, \"ticks\": \"\", \"zerolinecolor\": \"white\"}}, \"shapedefaults\": {\"line\": {\"color\": \"#2a3f5f\"}}, \"ternary\": {\"aaxis\": {\"gridcolor\": \"white\", \"linecolor\": \"white\", \"ticks\": \"\"}, \"baxis\": {\"gridcolor\": \"white\", \"linecolor\": \"white\", \"ticks\": \"\"}, \"bgcolor\": \"#E5ECF6\", \"caxis\": {\"gridcolor\": \"white\", \"linecolor\": \"white\", \"ticks\": \"\"}}, \"title\": {\"x\": 0.05}, \"xaxis\": {\"automargin\": true, \"gridcolor\": \"white\", \"linecolor\": \"white\", \"ticks\": \"\", \"title\": {\"standoff\": 15}, \"zerolinecolor\": \"white\", \"zerolinewidth\": 2}, \"yaxis\": {\"automargin\": true, \"gridcolor\": \"white\", \"linecolor\": \"white\", \"ticks\": \"\", \"title\": {\"standoff\": 15}, \"zerolinecolor\": \"white\", \"zerolinewidth\": 2}}}, \"title\": {\"text\": \"Mean rating distribution\"}, \"xaxis\": {\"anchor\": \"y\", \"domain\": [0.0, 1.0], \"title\": {\"text\": \"mean\"}}, \"xaxis2\": {\"anchor\": \"y2\", \"domain\": [0.0, 1.0], \"matches\": \"x\", \"showgrid\": true, \"showticklabels\": false}, \"yaxis\": {\"anchor\": \"x\", \"domain\": [0.0, 0.7326], \"title\": {\"text\": \"sum of len\"}}, \"yaxis2\": {\"anchor\": \"x2\", \"domain\": [0.7426, 1.0], \"matches\": \"y2\", \"showgrid\": false, \"showline\": false, \"showticklabels\": false, \"ticks\": \"\"}},                        {\"responsive\": true}                    ).then(function(){\n",
       "                            \n",
       "var gd = document.getElementById('be442201-760c-4cf7-aabe-9d74bdd3139f');\n",
       "var x = new MutationObserver(function (mutations, observer) {{\n",
       "        var display = window.getComputedStyle(gd).display;\n",
       "        if (!display || display === 'none') {{\n",
       "            console.log([gd, 'removed!']);\n",
       "            Plotly.purge(gd);\n",
       "            observer.disconnect();\n",
       "        }}\n",
       "}});\n",
       "\n",
       "// Listen for the removal of the full notebook cells\n",
       "var notebookContainer = gd.closest('#notebook-container');\n",
       "if (notebookContainer) {{\n",
       "    x.observe(notebookContainer, {childList: true});\n",
       "}}\n",
       "\n",
       "// Listen for the clearing of the current output cell\n",
       "var outputEl = gd.closest('.output');\n",
       "if (outputEl) {{\n",
       "    x.observe(outputEl, {childList: true});\n",
       "}}\n",
       "\n",
       "                        })                };                });            </script>        </div>"
      ]
     },
     "metadata": {},
     "output_type": "display_data"
    }
   ],
   "source": [
    "fig = px.histogram(stats, x=\"mean\", y=\"len\", color='is_null_tag',\n",
    "                   marginal=\"rug\", title = 'Mean rating distribution')\n",
    "fig.show()"
   ]
  },
  {
   "cell_type": "code",
   "execution_count": 55,
   "metadata": {},
   "outputs": [
    {
     "data": {
      "application/vnd.plotly.v1+json": {
       "config": {
        "plotlyServerURL": "https://plot.ly"
       },
       "data": [
        {
         "alignmentgroup": "True",
         "bingroup": "x",
         "histfunc": "sum",
         "hovertemplate": "is_null_tag=True<br>median=%{x}<br>sum of len=%{y}<extra></extra>",
         "legendgroup": "True",
         "marker": {
          "color": "#636efa"
         },
         "name": "True",
         "offsetgroup": "True",
         "orientation": "v",
         "showlegend": true,
         "type": "histogram",
         "x": [
          5,
          0.5,
          4,
          4,
          3,
          3,
          3,
          3.5,
          4,
          4.75,
          4,
          3,
          3.5,
          4,
          4,
          3,
          3.75,
          3,
          3.5,
          3.5,
          5,
          3,
          4,
          3,
          4,
          5,
          4,
          4,
          4,
          4,
          4,
          2.5,
          4,
          3,
          4,
          4,
          3.5,
          4,
          5,
          3,
          4,
          4,
          3,
          4,
          3,
          4,
          5,
          5,
          3,
          3,
          4,
          4,
          4,
          5,
          4,
          4,
          4,
          4,
          4,
          4,
          3.25,
          5,
          4.5,
          4,
          4.5,
          4,
          4,
          4,
          5,
          3,
          4,
          4,
          3,
          3.5,
          3.5,
          4,
          4,
          4,
          4,
          4.5,
          3.5,
          4,
          3.5,
          4,
          4,
          3,
          4,
          4,
          4,
          4,
          4,
          4,
          4,
          3,
          3.5,
          4,
          4,
          4,
          3,
          4,
          3.5,
          4,
          3.5,
          4,
          3.5,
          3,
          4,
          3,
          3,
          4.5,
          4,
          4,
          3,
          3.5,
          4,
          4,
          3.5,
          3.5,
          3,
          3,
          4,
          3,
          4,
          2,
          3.5,
          3.5,
          4,
          3.5,
          3.5,
          3,
          3,
          4,
          4,
          3,
          3,
          4,
          4,
          2,
          5,
          4,
          4,
          3,
          3.5,
          3.5,
          3,
          4,
          3,
          5,
          3,
          4.5,
          4.5,
          3,
          5,
          4,
          3,
          3,
          4,
          4,
          4.5,
          4,
          3.75,
          3,
          3.5,
          4,
          4,
          4,
          4,
          5,
          4,
          4,
          4,
          4,
          3.5,
          4,
          4,
          4,
          4,
          3.5,
          4,
          4,
          4,
          4,
          4,
          4,
          3.5,
          3.5,
          4.5,
          4.5,
          4,
          3.5,
          4,
          3,
          4,
          4,
          3,
          4,
          3.5,
          4,
          4.5,
          3,
          3.5,
          5,
          4,
          4,
          4,
          4,
          3,
          4,
          3,
          3.5,
          4,
          4,
          5,
          3.5,
          4,
          4,
          4,
          4,
          3,
          4,
          4,
          3,
          4.5,
          4,
          3.5,
          3.5,
          4.5,
          5,
          4,
          4.5,
          4,
          2,
          3.5,
          5,
          4,
          4,
          4,
          3,
          4,
          3.75,
          3,
          4,
          5,
          3,
          4,
          3,
          3,
          4,
          4,
          4,
          5,
          3.5,
          4,
          3.5,
          4,
          3.5,
          4,
          3,
          4,
          4,
          4,
          2.5,
          4,
          3.5,
          2,
          3,
          4.5,
          4.5,
          3,
          2.5,
          4,
          4,
          4,
          3.5,
          4,
          3.25,
          2.5,
          2.5,
          4,
          4,
          2.75,
          4,
          4,
          3,
          3,
          3,
          4,
          3.5,
          3,
          3.5,
          3,
          3,
          4,
          4,
          3,
          2,
          4,
          4,
          3.5,
          3,
          3.5,
          4,
          4,
          3,
          4,
          4,
          3,
          4,
          4,
          4,
          4,
          4,
          5,
          4,
          3,
          3.5,
          4,
          3,
          4,
          4,
          4,
          3.5,
          4,
          3.5,
          4,
          3.25,
          4,
          3,
          4,
          4,
          3,
          3.5,
          3.5,
          4.5,
          3,
          3,
          4,
          4,
          4,
          4,
          4,
          3,
          4,
          3.5,
          3.5,
          4,
          3,
          3,
          3,
          3.5,
          4,
          4,
          4,
          4,
          3,
          5,
          3,
          3,
          3.5,
          4,
          4.5,
          4.5,
          4.5,
          3.5,
          4,
          3.75,
          3,
          4,
          3.5,
          4,
          4,
          4,
          4,
          3,
          4,
          5,
          3.5,
          4,
          3.5,
          5,
          4,
          4,
          4.5,
          4,
          4,
          3.5,
          4,
          3,
          3,
          4,
          4,
          2.75,
          4,
          4,
          4,
          3,
          4,
          3.5,
          4,
          5,
          1,
          4,
          4,
          4,
          3,
          4,
          3,
          3.5,
          4,
          4,
          5,
          4,
          3.5,
          3,
          4,
          3.5,
          4,
          4.5,
          4.5,
          4,
          4,
          4,
          4,
          4,
          4,
          3,
          4,
          3,
          4,
          4,
          3.5,
          4.5,
          4,
          2.75,
          3,
          3.5,
          3,
          4,
          4,
          4,
          4,
          4,
          4,
          3.5,
          3.5,
          4,
          4,
          4,
          5,
          4.5,
          3.5,
          4,
          4,
          4,
          4,
          3,
          4,
          3.5,
          4,
          4.5,
          3,
          2,
          3,
          4,
          4,
          3.5,
          5,
          4,
          2.5,
          4,
          4,
          4,
          4,
          5,
          3,
          3.5,
          4,
          4,
          3.5,
          3,
          4,
          4,
          4,
          4,
          3,
          3,
          4.5,
          3.75,
          4,
          3,
          4,
          5,
          3.5,
          4,
          4,
          4.5,
          4,
          4,
          4,
          3.5,
          4.5,
          4,
          3,
          4,
          4,
          4,
          3,
          3.5,
          3.5,
          4,
          3.5,
          3.5,
          4,
          4,
          4,
          4,
          3.5,
          2,
          4,
          4,
          3,
          3.25,
          4,
          4.5,
          4,
          4,
          4.5,
          4,
          3.25,
          4,
          4.5,
          4.5,
          4,
          3,
          4,
          3.5,
          3,
          3,
          3.5,
          4.5,
          4,
          3.5,
          4,
          5,
          4.5,
          3,
          4,
          3,
          3,
          4,
          3,
          3
         ],
         "xaxis": "x",
         "y": [
          232,
          39,
          216,
          44,
          314,
          47,
          46,
          140,
          64,
          32,
          31,
          48,
          135,
          98,
          105,
          703,
          242,
          119,
          121,
          110,
          26,
          21,
          135,
          570,
          81,
          34,
          50,
          102,
          156,
          86,
          23,
          60,
          21,
          78,
          100,
          103,
          217,
          440,
          114,
          48,
          399,
          42,
          140,
          33,
          310,
          359,
          130,
          20,
          33,
          25,
          46,
          476,
          112,
          107,
          22,
          39,
          517,
          34,
          345,
          36,
          1260,
          46,
          62,
          35,
          45,
          210,
          177,
          69,
          29,
          61,
          64,
          167,
          26,
          227,
          118,
          293,
          34,
          70,
          21,
          56,
          518,
          54,
          575,
          24,
          97,
          56,
          168,
          78,
          36,
          92,
          53,
          148,
          61,
          56,
          273,
          722,
          34,
          76,
          127,
          51,
          646,
          150,
          31,
          112,
          87,
          165,
          22,
          22,
          58,
          292,
          56,
          50,
          38,
          22,
          33,
          140,
          28,
          69,
          35,
          35,
          279,
          111,
          141,
          194,
          608,
          168,
          38,
          71,
          128,
          23,
          32,
          20,
          48,
          58,
          26,
          59,
          63,
          179,
          34,
          46,
          398,
          21,
          26,
          97,
          437,
          38,
          23,
          36,
          65,
          94,
          269,
          50,
          82,
          26,
          25,
          67,
          24,
          36,
          77,
          69,
          24,
          118,
          977,
          57,
          47,
          226,
          258,
          48,
          20,
          66,
          85,
          22,
          20,
          187,
          32,
          35,
          230,
          363,
          334,
          110,
          403,
          45,
          83,
          25,
          20,
          26,
          35,
          138,
          89,
          248,
          84,
          22,
          98,
          164,
          613,
          26,
          528,
          207,
          331,
          250,
          75,
          54,
          75,
          94,
          25,
          65,
          139,
          24,
          862,
          150,
          202,
          65,
          30,
          50,
          44,
          279,
          128,
          76,
          35,
          36,
          93,
          21,
          204,
          150,
          51,
          1046,
          27,
          23,
          38,
          47,
          127,
          44,
          20,
          25,
          29,
          152,
          53,
          57,
          210,
          56,
          163,
          180,
          57,
          129,
          29,
          40,
          43,
          31,
          55,
          403,
          41,
          28,
          20,
          176,
          196,
          21,
          237,
          35,
          88,
          36,
          106,
          152,
          267,
          446,
          21,
          437,
          41,
          27,
          72,
          939,
          23,
          114,
          32,
          53,
          216,
          112,
          975,
          115,
          103,
          64,
          28,
          223,
          340,
          128,
          33,
          53,
          189,
          20,
          56,
          107,
          98,
          21,
          270,
          152,
          255,
          23,
          247,
          168,
          267,
          25,
          154,
          28,
          77,
          39,
          371,
          28,
          66,
          59,
          69,
          62,
          164,
          45,
          55,
          37,
          40,
          141,
          294,
          90,
          226,
          26,
          41,
          74,
          25,
          97,
          109,
          30,
          21,
          277,
          31,
          185,
          469,
          129,
          93,
          41,
          236,
          100,
          33,
          33,
          133,
          131,
          48,
          36,
          1218,
          474,
          291,
          34,
          70,
          201,
          68,
          1027,
          29,
          34,
          81,
          386,
          25,
          123,
          23,
          61,
          28,
          23,
          46,
          36,
          43,
          72,
          48,
          34,
          60,
          120,
          20,
          22,
          141,
          126,
          167,
          127,
          102,
          56,
          2698,
          94,
          51,
          67,
          93,
          141,
          37,
          93,
          23,
          306,
          88,
          84,
          300,
          58,
          58,
          20,
          260,
          22,
          233,
          106,
          122,
          635,
          33,
          45,
          20,
          37,
          42,
          77,
          84,
          78,
          1864,
          38,
          51,
          34,
          202,
          311,
          45,
          57,
          43,
          50,
          59,
          26,
          82,
          27,
          33,
          138,
          115,
          113,
          22,
          33,
          465,
          80,
          28,
          29,
          37,
          155,
          69,
          22,
          181,
          836,
          31,
          128,
          728,
          275,
          23,
          56,
          111,
          648,
          113,
          64,
          121,
          61,
          22,
          265,
          29,
          51,
          35,
          27,
          86,
          45,
          35,
          95,
          87,
          31,
          21,
          24,
          108,
          52,
          50,
          397,
          26,
          26,
          400,
          24,
          26,
          40,
          200,
          75,
          131,
          500,
          58,
          167,
          73,
          25,
          27,
          22,
          50,
          520,
          30,
          40,
          37,
          38,
          42,
          87,
          113,
          22,
          23,
          64,
          21,
          26,
          21,
          28,
          123,
          188,
          83,
          89,
          578,
          32,
          27,
          56,
          140,
          458,
          505,
          231,
          213,
          157,
          29,
          74,
          23,
          20,
          191,
          112,
          155,
          23,
          36,
          20,
          161,
          27,
          73,
          436,
          40,
          56,
          56,
          83,
          61,
          208,
          165,
          56,
          40,
          728,
          54,
          94,
          103,
          232,
          20,
          411,
          443,
          21,
          101,
          135,
          943,
          100,
          221,
          187,
          831,
          37
         ],
         "yaxis": "y"
        },
        {
         "alignmentgroup": "True",
         "boxpoints": "all",
         "fillcolor": "rgba(255,255,255,0)",
         "hoveron": "points",
         "hovertemplate": "is_null_tag=True<br>median=%{x}<extra></extra>",
         "jitter": 0,
         "legendgroup": "True",
         "line": {
          "color": "rgba(255,255,255,0)"
         },
         "marker": {
          "color": "#636efa",
          "symbol": "line-ns-open"
         },
         "name": "True",
         "offsetgroup": "True",
         "showlegend": false,
         "type": "box",
         "x": [
          5,
          0.5,
          4,
          4,
          3,
          3,
          3,
          3.5,
          4,
          4.75,
          4,
          3,
          3.5,
          4,
          4,
          3,
          3.75,
          3,
          3.5,
          3.5,
          5,
          3,
          4,
          3,
          4,
          5,
          4,
          4,
          4,
          4,
          4,
          2.5,
          4,
          3,
          4,
          4,
          3.5,
          4,
          5,
          3,
          4,
          4,
          3,
          4,
          3,
          4,
          5,
          5,
          3,
          3,
          4,
          4,
          4,
          5,
          4,
          4,
          4,
          4,
          4,
          4,
          3.25,
          5,
          4.5,
          4,
          4.5,
          4,
          4,
          4,
          5,
          3,
          4,
          4,
          3,
          3.5,
          3.5,
          4,
          4,
          4,
          4,
          4.5,
          3.5,
          4,
          3.5,
          4,
          4,
          3,
          4,
          4,
          4,
          4,
          4,
          4,
          4,
          3,
          3.5,
          4,
          4,
          4,
          3,
          4,
          3.5,
          4,
          3.5,
          4,
          3.5,
          3,
          4,
          3,
          3,
          4.5,
          4,
          4,
          3,
          3.5,
          4,
          4,
          3.5,
          3.5,
          3,
          3,
          4,
          3,
          4,
          2,
          3.5,
          3.5,
          4,
          3.5,
          3.5,
          3,
          3,
          4,
          4,
          3,
          3,
          4,
          4,
          2,
          5,
          4,
          4,
          3,
          3.5,
          3.5,
          3,
          4,
          3,
          5,
          3,
          4.5,
          4.5,
          3,
          5,
          4,
          3,
          3,
          4,
          4,
          4.5,
          4,
          3.75,
          3,
          3.5,
          4,
          4,
          4,
          4,
          5,
          4,
          4,
          4,
          4,
          3.5,
          4,
          4,
          4,
          4,
          3.5,
          4,
          4,
          4,
          4,
          4,
          4,
          3.5,
          3.5,
          4.5,
          4.5,
          4,
          3.5,
          4,
          3,
          4,
          4,
          3,
          4,
          3.5,
          4,
          4.5,
          3,
          3.5,
          5,
          4,
          4,
          4,
          4,
          3,
          4,
          3,
          3.5,
          4,
          4,
          5,
          3.5,
          4,
          4,
          4,
          4,
          3,
          4,
          4,
          3,
          4.5,
          4,
          3.5,
          3.5,
          4.5,
          5,
          4,
          4.5,
          4,
          2,
          3.5,
          5,
          4,
          4,
          4,
          3,
          4,
          3.75,
          3,
          4,
          5,
          3,
          4,
          3,
          3,
          4,
          4,
          4,
          5,
          3.5,
          4,
          3.5,
          4,
          3.5,
          4,
          3,
          4,
          4,
          4,
          2.5,
          4,
          3.5,
          2,
          3,
          4.5,
          4.5,
          3,
          2.5,
          4,
          4,
          4,
          3.5,
          4,
          3.25,
          2.5,
          2.5,
          4,
          4,
          2.75,
          4,
          4,
          3,
          3,
          3,
          4,
          3.5,
          3,
          3.5,
          3,
          3,
          4,
          4,
          3,
          2,
          4,
          4,
          3.5,
          3,
          3.5,
          4,
          4,
          3,
          4,
          4,
          3,
          4,
          4,
          4,
          4,
          4,
          5,
          4,
          3,
          3.5,
          4,
          3,
          4,
          4,
          4,
          3.5,
          4,
          3.5,
          4,
          3.25,
          4,
          3,
          4,
          4,
          3,
          3.5,
          3.5,
          4.5,
          3,
          3,
          4,
          4,
          4,
          4,
          4,
          3,
          4,
          3.5,
          3.5,
          4,
          3,
          3,
          3,
          3.5,
          4,
          4,
          4,
          4,
          3,
          5,
          3,
          3,
          3.5,
          4,
          4.5,
          4.5,
          4.5,
          3.5,
          4,
          3.75,
          3,
          4,
          3.5,
          4,
          4,
          4,
          4,
          3,
          4,
          5,
          3.5,
          4,
          3.5,
          5,
          4,
          4,
          4.5,
          4,
          4,
          3.5,
          4,
          3,
          3,
          4,
          4,
          2.75,
          4,
          4,
          4,
          3,
          4,
          3.5,
          4,
          5,
          1,
          4,
          4,
          4,
          3,
          4,
          3,
          3.5,
          4,
          4,
          5,
          4,
          3.5,
          3,
          4,
          3.5,
          4,
          4.5,
          4.5,
          4,
          4,
          4,
          4,
          4,
          4,
          3,
          4,
          3,
          4,
          4,
          3.5,
          4.5,
          4,
          2.75,
          3,
          3.5,
          3,
          4,
          4,
          4,
          4,
          4,
          4,
          3.5,
          3.5,
          4,
          4,
          4,
          5,
          4.5,
          3.5,
          4,
          4,
          4,
          4,
          3,
          4,
          3.5,
          4,
          4.5,
          3,
          2,
          3,
          4,
          4,
          3.5,
          5,
          4,
          2.5,
          4,
          4,
          4,
          4,
          5,
          3,
          3.5,
          4,
          4,
          3.5,
          3,
          4,
          4,
          4,
          4,
          3,
          3,
          4.5,
          3.75,
          4,
          3,
          4,
          5,
          3.5,
          4,
          4,
          4.5,
          4,
          4,
          4,
          3.5,
          4.5,
          4,
          3,
          4,
          4,
          4,
          3,
          3.5,
          3.5,
          4,
          3.5,
          3.5,
          4,
          4,
          4,
          4,
          3.5,
          2,
          4,
          4,
          3,
          3.25,
          4,
          4.5,
          4,
          4,
          4.5,
          4,
          3.25,
          4,
          4.5,
          4.5,
          4,
          3,
          4,
          3.5,
          3,
          3,
          3.5,
          4.5,
          4,
          3.5,
          4,
          5,
          4.5,
          3,
          4,
          3,
          3,
          4,
          3,
          3
         ],
         "xaxis": "x2",
         "yaxis": "y2"
        },
        {
         "alignmentgroup": "True",
         "bingroup": "x",
         "histfunc": "sum",
         "hovertemplate": "is_null_tag=False<br>median=%{x}<br>sum of len=%{y}<extra></extra>",
         "legendgroup": "False",
         "marker": {
          "color": "#EF553B"
         },
         "name": "False",
         "offsetgroup": "False",
         "orientation": "v",
         "showlegend": true,
         "type": "histogram",
         "x": [
          4,
          3.5,
          4,
          3.5,
          4.5,
          4,
          4,
          3.5,
          4,
          5,
          4,
          4,
          4,
          3,
          4.25,
          4,
          4,
          3.5,
          3.5,
          4,
          4,
          4,
          3.5,
          4,
          3.5,
          3,
          3.5,
          4,
          4,
          4,
          4,
          4.5,
          4.25,
          4.5,
          4,
          4,
          4,
          4,
          3.5,
          4.5,
          4,
          3.5,
          3.5,
          4,
          3.25,
          3,
          3.5,
          4,
          4,
          5,
          4.5,
          5,
          2,
          4.5,
          2.5,
          3,
          4,
          3.5
         ],
         "xaxis": "x",
         "y": [
          29,
          152,
          502,
          443,
          21,
          366,
          271,
          119,
          377,
          33,
          65,
          215,
          360,
          347,
          22,
          39,
          190,
          173,
          904,
          134,
          35,
          27,
          507,
          174,
          1346,
          1055,
          24,
          31,
          32,
          677,
          879,
          35,
          48,
          56,
          52,
          289,
          383,
          155,
          138,
          42,
          21,
          455,
          2108,
          600,
          56,
          42,
          467,
          32,
          186,
          38,
          47,
          76,
          385,
          299,
          2478,
          763,
          1115,
          1302
         ],
         "yaxis": "y"
        },
        {
         "alignmentgroup": "True",
         "boxpoints": "all",
         "fillcolor": "rgba(255,255,255,0)",
         "hoveron": "points",
         "hovertemplate": "is_null_tag=False<br>median=%{x}<extra></extra>",
         "jitter": 0,
         "legendgroup": "False",
         "line": {
          "color": "rgba(255,255,255,0)"
         },
         "marker": {
          "color": "#EF553B",
          "symbol": "line-ns-open"
         },
         "name": "False",
         "offsetgroup": "False",
         "showlegend": false,
         "type": "box",
         "x": [
          4,
          3.5,
          4,
          3.5,
          4.5,
          4,
          4,
          3.5,
          4,
          5,
          4,
          4,
          4,
          3,
          4.25,
          4,
          4,
          3.5,
          3.5,
          4,
          4,
          4,
          3.5,
          4,
          3.5,
          3,
          3.5,
          4,
          4,
          4,
          4,
          4.5,
          4.25,
          4.5,
          4,
          4,
          4,
          4,
          3.5,
          4.5,
          4,
          3.5,
          3.5,
          4,
          3.25,
          3,
          3.5,
          4,
          4,
          5,
          4.5,
          5,
          2,
          4.5,
          2.5,
          3,
          4,
          3.5
         ],
         "xaxis": "x2",
         "yaxis": "y2"
        }
       ],
       "layout": {
        "barmode": "relative",
        "legend": {
         "title": {
          "text": "is_null_tag"
         },
         "tracegroupgap": 0
        },
        "template": {
         "data": {
          "bar": [
           {
            "error_x": {
             "color": "#2a3f5f"
            },
            "error_y": {
             "color": "#2a3f5f"
            },
            "marker": {
             "line": {
              "color": "#E5ECF6",
              "width": 0.5
             }
            },
            "type": "bar"
           }
          ],
          "barpolar": [
           {
            "marker": {
             "line": {
              "color": "#E5ECF6",
              "width": 0.5
             }
            },
            "type": "barpolar"
           }
          ],
          "carpet": [
           {
            "aaxis": {
             "endlinecolor": "#2a3f5f",
             "gridcolor": "white",
             "linecolor": "white",
             "minorgridcolor": "white",
             "startlinecolor": "#2a3f5f"
            },
            "baxis": {
             "endlinecolor": "#2a3f5f",
             "gridcolor": "white",
             "linecolor": "white",
             "minorgridcolor": "white",
             "startlinecolor": "#2a3f5f"
            },
            "type": "carpet"
           }
          ],
          "choropleth": [
           {
            "colorbar": {
             "outlinewidth": 0,
             "ticks": ""
            },
            "type": "choropleth"
           }
          ],
          "contour": [
           {
            "colorbar": {
             "outlinewidth": 0,
             "ticks": ""
            },
            "colorscale": [
             [
              0,
              "#0d0887"
             ],
             [
              0.1111111111111111,
              "#46039f"
             ],
             [
              0.2222222222222222,
              "#7201a8"
             ],
             [
              0.3333333333333333,
              "#9c179e"
             ],
             [
              0.4444444444444444,
              "#bd3786"
             ],
             [
              0.5555555555555556,
              "#d8576b"
             ],
             [
              0.6666666666666666,
              "#ed7953"
             ],
             [
              0.7777777777777778,
              "#fb9f3a"
             ],
             [
              0.8888888888888888,
              "#fdca26"
             ],
             [
              1,
              "#f0f921"
             ]
            ],
            "type": "contour"
           }
          ],
          "contourcarpet": [
           {
            "colorbar": {
             "outlinewidth": 0,
             "ticks": ""
            },
            "type": "contourcarpet"
           }
          ],
          "heatmap": [
           {
            "colorbar": {
             "outlinewidth": 0,
             "ticks": ""
            },
            "colorscale": [
             [
              0,
              "#0d0887"
             ],
             [
              0.1111111111111111,
              "#46039f"
             ],
             [
              0.2222222222222222,
              "#7201a8"
             ],
             [
              0.3333333333333333,
              "#9c179e"
             ],
             [
              0.4444444444444444,
              "#bd3786"
             ],
             [
              0.5555555555555556,
              "#d8576b"
             ],
             [
              0.6666666666666666,
              "#ed7953"
             ],
             [
              0.7777777777777778,
              "#fb9f3a"
             ],
             [
              0.8888888888888888,
              "#fdca26"
             ],
             [
              1,
              "#f0f921"
             ]
            ],
            "type": "heatmap"
           }
          ],
          "heatmapgl": [
           {
            "colorbar": {
             "outlinewidth": 0,
             "ticks": ""
            },
            "colorscale": [
             [
              0,
              "#0d0887"
             ],
             [
              0.1111111111111111,
              "#46039f"
             ],
             [
              0.2222222222222222,
              "#7201a8"
             ],
             [
              0.3333333333333333,
              "#9c179e"
             ],
             [
              0.4444444444444444,
              "#bd3786"
             ],
             [
              0.5555555555555556,
              "#d8576b"
             ],
             [
              0.6666666666666666,
              "#ed7953"
             ],
             [
              0.7777777777777778,
              "#fb9f3a"
             ],
             [
              0.8888888888888888,
              "#fdca26"
             ],
             [
              1,
              "#f0f921"
             ]
            ],
            "type": "heatmapgl"
           }
          ],
          "histogram": [
           {
            "marker": {
             "colorbar": {
              "outlinewidth": 0,
              "ticks": ""
             }
            },
            "type": "histogram"
           }
          ],
          "histogram2d": [
           {
            "colorbar": {
             "outlinewidth": 0,
             "ticks": ""
            },
            "colorscale": [
             [
              0,
              "#0d0887"
             ],
             [
              0.1111111111111111,
              "#46039f"
             ],
             [
              0.2222222222222222,
              "#7201a8"
             ],
             [
              0.3333333333333333,
              "#9c179e"
             ],
             [
              0.4444444444444444,
              "#bd3786"
             ],
             [
              0.5555555555555556,
              "#d8576b"
             ],
             [
              0.6666666666666666,
              "#ed7953"
             ],
             [
              0.7777777777777778,
              "#fb9f3a"
             ],
             [
              0.8888888888888888,
              "#fdca26"
             ],
             [
              1,
              "#f0f921"
             ]
            ],
            "type": "histogram2d"
           }
          ],
          "histogram2dcontour": [
           {
            "colorbar": {
             "outlinewidth": 0,
             "ticks": ""
            },
            "colorscale": [
             [
              0,
              "#0d0887"
             ],
             [
              0.1111111111111111,
              "#46039f"
             ],
             [
              0.2222222222222222,
              "#7201a8"
             ],
             [
              0.3333333333333333,
              "#9c179e"
             ],
             [
              0.4444444444444444,
              "#bd3786"
             ],
             [
              0.5555555555555556,
              "#d8576b"
             ],
             [
              0.6666666666666666,
              "#ed7953"
             ],
             [
              0.7777777777777778,
              "#fb9f3a"
             ],
             [
              0.8888888888888888,
              "#fdca26"
             ],
             [
              1,
              "#f0f921"
             ]
            ],
            "type": "histogram2dcontour"
           }
          ],
          "mesh3d": [
           {
            "colorbar": {
             "outlinewidth": 0,
             "ticks": ""
            },
            "type": "mesh3d"
           }
          ],
          "parcoords": [
           {
            "line": {
             "colorbar": {
              "outlinewidth": 0,
              "ticks": ""
             }
            },
            "type": "parcoords"
           }
          ],
          "pie": [
           {
            "automargin": true,
            "type": "pie"
           }
          ],
          "scatter": [
           {
            "marker": {
             "colorbar": {
              "outlinewidth": 0,
              "ticks": ""
             }
            },
            "type": "scatter"
           }
          ],
          "scatter3d": [
           {
            "line": {
             "colorbar": {
              "outlinewidth": 0,
              "ticks": ""
             }
            },
            "marker": {
             "colorbar": {
              "outlinewidth": 0,
              "ticks": ""
             }
            },
            "type": "scatter3d"
           }
          ],
          "scattercarpet": [
           {
            "marker": {
             "colorbar": {
              "outlinewidth": 0,
              "ticks": ""
             }
            },
            "type": "scattercarpet"
           }
          ],
          "scattergeo": [
           {
            "marker": {
             "colorbar": {
              "outlinewidth": 0,
              "ticks": ""
             }
            },
            "type": "scattergeo"
           }
          ],
          "scattergl": [
           {
            "marker": {
             "colorbar": {
              "outlinewidth": 0,
              "ticks": ""
             }
            },
            "type": "scattergl"
           }
          ],
          "scattermapbox": [
           {
            "marker": {
             "colorbar": {
              "outlinewidth": 0,
              "ticks": ""
             }
            },
            "type": "scattermapbox"
           }
          ],
          "scatterpolar": [
           {
            "marker": {
             "colorbar": {
              "outlinewidth": 0,
              "ticks": ""
             }
            },
            "type": "scatterpolar"
           }
          ],
          "scatterpolargl": [
           {
            "marker": {
             "colorbar": {
              "outlinewidth": 0,
              "ticks": ""
             }
            },
            "type": "scatterpolargl"
           }
          ],
          "scatterternary": [
           {
            "marker": {
             "colorbar": {
              "outlinewidth": 0,
              "ticks": ""
             }
            },
            "type": "scatterternary"
           }
          ],
          "surface": [
           {
            "colorbar": {
             "outlinewidth": 0,
             "ticks": ""
            },
            "colorscale": [
             [
              0,
              "#0d0887"
             ],
             [
              0.1111111111111111,
              "#46039f"
             ],
             [
              0.2222222222222222,
              "#7201a8"
             ],
             [
              0.3333333333333333,
              "#9c179e"
             ],
             [
              0.4444444444444444,
              "#bd3786"
             ],
             [
              0.5555555555555556,
              "#d8576b"
             ],
             [
              0.6666666666666666,
              "#ed7953"
             ],
             [
              0.7777777777777778,
              "#fb9f3a"
             ],
             [
              0.8888888888888888,
              "#fdca26"
             ],
             [
              1,
              "#f0f921"
             ]
            ],
            "type": "surface"
           }
          ],
          "table": [
           {
            "cells": {
             "fill": {
              "color": "#EBF0F8"
             },
             "line": {
              "color": "white"
             }
            },
            "header": {
             "fill": {
              "color": "#C8D4E3"
             },
             "line": {
              "color": "white"
             }
            },
            "type": "table"
           }
          ]
         },
         "layout": {
          "annotationdefaults": {
           "arrowcolor": "#2a3f5f",
           "arrowhead": 0,
           "arrowwidth": 1
          },
          "autotypenumbers": "strict",
          "coloraxis": {
           "colorbar": {
            "outlinewidth": 0,
            "ticks": ""
           }
          },
          "colorscale": {
           "diverging": [
            [
             0,
             "#8e0152"
            ],
            [
             0.1,
             "#c51b7d"
            ],
            [
             0.2,
             "#de77ae"
            ],
            [
             0.3,
             "#f1b6da"
            ],
            [
             0.4,
             "#fde0ef"
            ],
            [
             0.5,
             "#f7f7f7"
            ],
            [
             0.6,
             "#e6f5d0"
            ],
            [
             0.7,
             "#b8e186"
            ],
            [
             0.8,
             "#7fbc41"
            ],
            [
             0.9,
             "#4d9221"
            ],
            [
             1,
             "#276419"
            ]
           ],
           "sequential": [
            [
             0,
             "#0d0887"
            ],
            [
             0.1111111111111111,
             "#46039f"
            ],
            [
             0.2222222222222222,
             "#7201a8"
            ],
            [
             0.3333333333333333,
             "#9c179e"
            ],
            [
             0.4444444444444444,
             "#bd3786"
            ],
            [
             0.5555555555555556,
             "#d8576b"
            ],
            [
             0.6666666666666666,
             "#ed7953"
            ],
            [
             0.7777777777777778,
             "#fb9f3a"
            ],
            [
             0.8888888888888888,
             "#fdca26"
            ],
            [
             1,
             "#f0f921"
            ]
           ],
           "sequentialminus": [
            [
             0,
             "#0d0887"
            ],
            [
             0.1111111111111111,
             "#46039f"
            ],
            [
             0.2222222222222222,
             "#7201a8"
            ],
            [
             0.3333333333333333,
             "#9c179e"
            ],
            [
             0.4444444444444444,
             "#bd3786"
            ],
            [
             0.5555555555555556,
             "#d8576b"
            ],
            [
             0.6666666666666666,
             "#ed7953"
            ],
            [
             0.7777777777777778,
             "#fb9f3a"
            ],
            [
             0.8888888888888888,
             "#fdca26"
            ],
            [
             1,
             "#f0f921"
            ]
           ]
          },
          "colorway": [
           "#636efa",
           "#EF553B",
           "#00cc96",
           "#ab63fa",
           "#FFA15A",
           "#19d3f3",
           "#FF6692",
           "#B6E880",
           "#FF97FF",
           "#FECB52"
          ],
          "font": {
           "color": "#2a3f5f"
          },
          "geo": {
           "bgcolor": "white",
           "lakecolor": "white",
           "landcolor": "#E5ECF6",
           "showlakes": true,
           "showland": true,
           "subunitcolor": "white"
          },
          "hoverlabel": {
           "align": "left"
          },
          "hovermode": "closest",
          "mapbox": {
           "style": "light"
          },
          "paper_bgcolor": "white",
          "plot_bgcolor": "#E5ECF6",
          "polar": {
           "angularaxis": {
            "gridcolor": "white",
            "linecolor": "white",
            "ticks": ""
           },
           "bgcolor": "#E5ECF6",
           "radialaxis": {
            "gridcolor": "white",
            "linecolor": "white",
            "ticks": ""
           }
          },
          "scene": {
           "xaxis": {
            "backgroundcolor": "#E5ECF6",
            "gridcolor": "white",
            "gridwidth": 2,
            "linecolor": "white",
            "showbackground": true,
            "ticks": "",
            "zerolinecolor": "white"
           },
           "yaxis": {
            "backgroundcolor": "#E5ECF6",
            "gridcolor": "white",
            "gridwidth": 2,
            "linecolor": "white",
            "showbackground": true,
            "ticks": "",
            "zerolinecolor": "white"
           },
           "zaxis": {
            "backgroundcolor": "#E5ECF6",
            "gridcolor": "white",
            "gridwidth": 2,
            "linecolor": "white",
            "showbackground": true,
            "ticks": "",
            "zerolinecolor": "white"
           }
          },
          "shapedefaults": {
           "line": {
            "color": "#2a3f5f"
           }
          },
          "ternary": {
           "aaxis": {
            "gridcolor": "white",
            "linecolor": "white",
            "ticks": ""
           },
           "baxis": {
            "gridcolor": "white",
            "linecolor": "white",
            "ticks": ""
           },
           "bgcolor": "#E5ECF6",
           "caxis": {
            "gridcolor": "white",
            "linecolor": "white",
            "ticks": ""
           }
          },
          "title": {
           "x": 0.05
          },
          "xaxis": {
           "automargin": true,
           "gridcolor": "white",
           "linecolor": "white",
           "ticks": "",
           "title": {
            "standoff": 15
           },
           "zerolinecolor": "white",
           "zerolinewidth": 2
          },
          "yaxis": {
           "automargin": true,
           "gridcolor": "white",
           "linecolor": "white",
           "ticks": "",
           "title": {
            "standoff": 15
           },
           "zerolinecolor": "white",
           "zerolinewidth": 2
          }
         }
        },
        "title": {
         "text": "Median rating distribution"
        },
        "xaxis": {
         "anchor": "y",
         "domain": [
          0,
          1
         ],
         "title": {
          "text": "median"
         }
        },
        "xaxis2": {
         "anchor": "y2",
         "domain": [
          0,
          1
         ],
         "matches": "x",
         "showgrid": true,
         "showticklabels": false
        },
        "yaxis": {
         "anchor": "x",
         "domain": [
          0,
          0.7326
         ],
         "title": {
          "text": "sum of len"
         }
        },
        "yaxis2": {
         "anchor": "x2",
         "domain": [
          0.7426,
          1
         ],
         "matches": "y2",
         "showgrid": false,
         "showline": false,
         "showticklabels": false,
         "ticks": ""
        }
       }
      },
      "text/html": [
       "<div>                            <div id=\"c309c4a1-13b3-415b-8472-a45ed92fb0d3\" class=\"plotly-graph-div\" style=\"height:525px; width:100%;\"></div>            <script type=\"text/javascript\">                require([\"plotly\"], function(Plotly) {                    window.PLOTLYENV=window.PLOTLYENV || {};                                    if (document.getElementById(\"c309c4a1-13b3-415b-8472-a45ed92fb0d3\")) {                    Plotly.newPlot(                        \"c309c4a1-13b3-415b-8472-a45ed92fb0d3\",                        [{\"alignmentgroup\": \"True\", \"bingroup\": \"x\", \"histfunc\": \"sum\", \"hovertemplate\": \"is_null_tag=True<br>median=%{x}<br>sum of len=%{y}<extra></extra>\", \"legendgroup\": \"True\", \"marker\": {\"color\": \"#636efa\"}, \"name\": \"True\", \"offsetgroup\": \"True\", \"orientation\": \"v\", \"showlegend\": true, \"type\": \"histogram\", \"x\": [5.0, 0.5, 4.0, 4.0, 3.0, 3.0, 3.0, 3.5, 4.0, 4.75, 4.0, 3.0, 3.5, 4.0, 4.0, 3.0, 3.75, 3.0, 3.5, 3.5, 5.0, 3.0, 4.0, 3.0, 4.0, 5.0, 4.0, 4.0, 4.0, 4.0, 4.0, 2.5, 4.0, 3.0, 4.0, 4.0, 3.5, 4.0, 5.0, 3.0, 4.0, 4.0, 3.0, 4.0, 3.0, 4.0, 5.0, 5.0, 3.0, 3.0, 4.0, 4.0, 4.0, 5.0, 4.0, 4.0, 4.0, 4.0, 4.0, 4.0, 3.25, 5.0, 4.5, 4.0, 4.5, 4.0, 4.0, 4.0, 5.0, 3.0, 4.0, 4.0, 3.0, 3.5, 3.5, 4.0, 4.0, 4.0, 4.0, 4.5, 3.5, 4.0, 3.5, 4.0, 4.0, 3.0, 4.0, 4.0, 4.0, 4.0, 4.0, 4.0, 4.0, 3.0, 3.5, 4.0, 4.0, 4.0, 3.0, 4.0, 3.5, 4.0, 3.5, 4.0, 3.5, 3.0, 4.0, 3.0, 3.0, 4.5, 4.0, 4.0, 3.0, 3.5, 4.0, 4.0, 3.5, 3.5, 3.0, 3.0, 4.0, 3.0, 4.0, 2.0, 3.5, 3.5, 4.0, 3.5, 3.5, 3.0, 3.0, 4.0, 4.0, 3.0, 3.0, 4.0, 4.0, 2.0, 5.0, 4.0, 4.0, 3.0, 3.5, 3.5, 3.0, 4.0, 3.0, 5.0, 3.0, 4.5, 4.5, 3.0, 5.0, 4.0, 3.0, 3.0, 4.0, 4.0, 4.5, 4.0, 3.75, 3.0, 3.5, 4.0, 4.0, 4.0, 4.0, 5.0, 4.0, 4.0, 4.0, 4.0, 3.5, 4.0, 4.0, 4.0, 4.0, 3.5, 4.0, 4.0, 4.0, 4.0, 4.0, 4.0, 3.5, 3.5, 4.5, 4.5, 4.0, 3.5, 4.0, 3.0, 4.0, 4.0, 3.0, 4.0, 3.5, 4.0, 4.5, 3.0, 3.5, 5.0, 4.0, 4.0, 4.0, 4.0, 3.0, 4.0, 3.0, 3.5, 4.0, 4.0, 5.0, 3.5, 4.0, 4.0, 4.0, 4.0, 3.0, 4.0, 4.0, 3.0, 4.5, 4.0, 3.5, 3.5, 4.5, 5.0, 4.0, 4.5, 4.0, 2.0, 3.5, 5.0, 4.0, 4.0, 4.0, 3.0, 4.0, 3.75, 3.0, 4.0, 5.0, 3.0, 4.0, 3.0, 3.0, 4.0, 4.0, 4.0, 5.0, 3.5, 4.0, 3.5, 4.0, 3.5, 4.0, 3.0, 4.0, 4.0, 4.0, 2.5, 4.0, 3.5, 2.0, 3.0, 4.5, 4.5, 3.0, 2.5, 4.0, 4.0, 4.0, 3.5, 4.0, 3.25, 2.5, 2.5, 4.0, 4.0, 2.75, 4.0, 4.0, 3.0, 3.0, 3.0, 4.0, 3.5, 3.0, 3.5, 3.0, 3.0, 4.0, 4.0, 3.0, 2.0, 4.0, 4.0, 3.5, 3.0, 3.5, 4.0, 4.0, 3.0, 4.0, 4.0, 3.0, 4.0, 4.0, 4.0, 4.0, 4.0, 5.0, 4.0, 3.0, 3.5, 4.0, 3.0, 4.0, 4.0, 4.0, 3.5, 4.0, 3.5, 4.0, 3.25, 4.0, 3.0, 4.0, 4.0, 3.0, 3.5, 3.5, 4.5, 3.0, 3.0, 4.0, 4.0, 4.0, 4.0, 4.0, 3.0, 4.0, 3.5, 3.5, 4.0, 3.0, 3.0, 3.0, 3.5, 4.0, 4.0, 4.0, 4.0, 3.0, 5.0, 3.0, 3.0, 3.5, 4.0, 4.5, 4.5, 4.5, 3.5, 4.0, 3.75, 3.0, 4.0, 3.5, 4.0, 4.0, 4.0, 4.0, 3.0, 4.0, 5.0, 3.5, 4.0, 3.5, 5.0, 4.0, 4.0, 4.5, 4.0, 4.0, 3.5, 4.0, 3.0, 3.0, 4.0, 4.0, 2.75, 4.0, 4.0, 4.0, 3.0, 4.0, 3.5, 4.0, 5.0, 1.0, 4.0, 4.0, 4.0, 3.0, 4.0, 3.0, 3.5, 4.0, 4.0, 5.0, 4.0, 3.5, 3.0, 4.0, 3.5, 4.0, 4.5, 4.5, 4.0, 4.0, 4.0, 4.0, 4.0, 4.0, 3.0, 4.0, 3.0, 4.0, 4.0, 3.5, 4.5, 4.0, 2.75, 3.0, 3.5, 3.0, 4.0, 4.0, 4.0, 4.0, 4.0, 4.0, 3.5, 3.5, 4.0, 4.0, 4.0, 5.0, 4.5, 3.5, 4.0, 4.0, 4.0, 4.0, 3.0, 4.0, 3.5, 4.0, 4.5, 3.0, 2.0, 3.0, 4.0, 4.0, 3.5, 5.0, 4.0, 2.5, 4.0, 4.0, 4.0, 4.0, 5.0, 3.0, 3.5, 4.0, 4.0, 3.5, 3.0, 4.0, 4.0, 4.0, 4.0, 3.0, 3.0, 4.5, 3.75, 4.0, 3.0, 4.0, 5.0, 3.5, 4.0, 4.0, 4.5, 4.0, 4.0, 4.0, 3.5, 4.5, 4.0, 3.0, 4.0, 4.0, 4.0, 3.0, 3.5, 3.5, 4.0, 3.5, 3.5, 4.0, 4.0, 4.0, 4.0, 3.5, 2.0, 4.0, 4.0, 3.0, 3.25, 4.0, 4.5, 4.0, 4.0, 4.5, 4.0, 3.25, 4.0, 4.5, 4.5, 4.0, 3.0, 4.0, 3.5, 3.0, 3.0, 3.5, 4.5, 4.0, 3.5, 4.0, 5.0, 4.5, 3.0, 4.0, 3.0, 3.0, 4.0, 3.0, 3.0], \"xaxis\": \"x\", \"y\": [232.0, 39.0, 216.0, 44.0, 314.0, 47.0, 46.0, 140.0, 64.0, 32.0, 31.0, 48.0, 135.0, 98.0, 105.0, 703.0, 242.0, 119.0, 121.0, 110.0, 26.0, 21.0, 135.0, 570.0, 81.0, 34.0, 50.0, 102.0, 156.0, 86.0, 23.0, 60.0, 21.0, 78.0, 100.0, 103.0, 217.0, 440.0, 114.0, 48.0, 399.0, 42.0, 140.0, 33.0, 310.0, 359.0, 130.0, 20.0, 33.0, 25.0, 46.0, 476.0, 112.0, 107.0, 22.0, 39.0, 517.0, 34.0, 345.0, 36.0, 1260.0, 46.0, 62.0, 35.0, 45.0, 210.0, 177.0, 69.0, 29.0, 61.0, 64.0, 167.0, 26.0, 227.0, 118.0, 293.0, 34.0, 70.0, 21.0, 56.0, 518.0, 54.0, 575.0, 24.0, 97.0, 56.0, 168.0, 78.0, 36.0, 92.0, 53.0, 148.0, 61.0, 56.0, 273.0, 722.0, 34.0, 76.0, 127.0, 51.0, 646.0, 150.0, 31.0, 112.0, 87.0, 165.0, 22.0, 22.0, 58.0, 292.0, 56.0, 50.0, 38.0, 22.0, 33.0, 140.0, 28.0, 69.0, 35.0, 35.0, 279.0, 111.0, 141.0, 194.0, 608.0, 168.0, 38.0, 71.0, 128.0, 23.0, 32.0, 20.0, 48.0, 58.0, 26.0, 59.0, 63.0, 179.0, 34.0, 46.0, 398.0, 21.0, 26.0, 97.0, 437.0, 38.0, 23.0, 36.0, 65.0, 94.0, 269.0, 50.0, 82.0, 26.0, 25.0, 67.0, 24.0, 36.0, 77.0, 69.0, 24.0, 118.0, 977.0, 57.0, 47.0, 226.0, 258.0, 48.0, 20.0, 66.0, 85.0, 22.0, 20.0, 187.0, 32.0, 35.0, 230.0, 363.0, 334.0, 110.0, 403.0, 45.0, 83.0, 25.0, 20.0, 26.0, 35.0, 138.0, 89.0, 248.0, 84.0, 22.0, 98.0, 164.0, 613.0, 26.0, 528.0, 207.0, 331.0, 250.0, 75.0, 54.0, 75.0, 94.0, 25.0, 65.0, 139.0, 24.0, 862.0, 150.0, 202.0, 65.0, 30.0, 50.0, 44.0, 279.0, 128.0, 76.0, 35.0, 36.0, 93.0, 21.0, 204.0, 150.0, 51.0, 1046.0, 27.0, 23.0, 38.0, 47.0, 127.0, 44.0, 20.0, 25.0, 29.0, 152.0, 53.0, 57.0, 210.0, 56.0, 163.0, 180.0, 57.0, 129.0, 29.0, 40.0, 43.0, 31.0, 55.0, 403.0, 41.0, 28.0, 20.0, 176.0, 196.0, 21.0, 237.0, 35.0, 88.0, 36.0, 106.0, 152.0, 267.0, 446.0, 21.0, 437.0, 41.0, 27.0, 72.0, 939.0, 23.0, 114.0, 32.0, 53.0, 216.0, 112.0, 975.0, 115.0, 103.0, 64.0, 28.0, 223.0, 340.0, 128.0, 33.0, 53.0, 189.0, 20.0, 56.0, 107.0, 98.0, 21.0, 270.0, 152.0, 255.0, 23.0, 247.0, 168.0, 267.0, 25.0, 154.0, 28.0, 77.0, 39.0, 371.0, 28.0, 66.0, 59.0, 69.0, 62.0, 164.0, 45.0, 55.0, 37.0, 40.0, 141.0, 294.0, 90.0, 226.0, 26.0, 41.0, 74.0, 25.0, 97.0, 109.0, 30.0, 21.0, 277.0, 31.0, 185.0, 469.0, 129.0, 93.0, 41.0, 236.0, 100.0, 33.0, 33.0, 133.0, 131.0, 48.0, 36.0, 1218.0, 474.0, 291.0, 34.0, 70.0, 201.0, 68.0, 1027.0, 29.0, 34.0, 81.0, 386.0, 25.0, 123.0, 23.0, 61.0, 28.0, 23.0, 46.0, 36.0, 43.0, 72.0, 48.0, 34.0, 60.0, 120.0, 20.0, 22.0, 141.0, 126.0, 167.0, 127.0, 102.0, 56.0, 2698.0, 94.0, 51.0, 67.0, 93.0, 141.0, 37.0, 93.0, 23.0, 306.0, 88.0, 84.0, 300.0, 58.0, 58.0, 20.0, 260.0, 22.0, 233.0, 106.0, 122.0, 635.0, 33.0, 45.0, 20.0, 37.0, 42.0, 77.0, 84.0, 78.0, 1864.0, 38.0, 51.0, 34.0, 202.0, 311.0, 45.0, 57.0, 43.0, 50.0, 59.0, 26.0, 82.0, 27.0, 33.0, 138.0, 115.0, 113.0, 22.0, 33.0, 465.0, 80.0, 28.0, 29.0, 37.0, 155.0, 69.0, 22.0, 181.0, 836.0, 31.0, 128.0, 728.0, 275.0, 23.0, 56.0, 111.0, 648.0, 113.0, 64.0, 121.0, 61.0, 22.0, 265.0, 29.0, 51.0, 35.0, 27.0, 86.0, 45.0, 35.0, 95.0, 87.0, 31.0, 21.0, 24.0, 108.0, 52.0, 50.0, 397.0, 26.0, 26.0, 400.0, 24.0, 26.0, 40.0, 200.0, 75.0, 131.0, 500.0, 58.0, 167.0, 73.0, 25.0, 27.0, 22.0, 50.0, 520.0, 30.0, 40.0, 37.0, 38.0, 42.0, 87.0, 113.0, 22.0, 23.0, 64.0, 21.0, 26.0, 21.0, 28.0, 123.0, 188.0, 83.0, 89.0, 578.0, 32.0, 27.0, 56.0, 140.0, 458.0, 505.0, 231.0, 213.0, 157.0, 29.0, 74.0, 23.0, 20.0, 191.0, 112.0, 155.0, 23.0, 36.0, 20.0, 161.0, 27.0, 73.0, 436.0, 40.0, 56.0, 56.0, 83.0, 61.0, 208.0, 165.0, 56.0, 40.0, 728.0, 54.0, 94.0, 103.0, 232.0, 20.0, 411.0, 443.0, 21.0, 101.0, 135.0, 943.0, 100.0, 221.0, 187.0, 831.0, 37.0], \"yaxis\": \"y\"}, {\"alignmentgroup\": \"True\", \"boxpoints\": \"all\", \"fillcolor\": \"rgba(255,255,255,0)\", \"hoveron\": \"points\", \"hovertemplate\": \"is_null_tag=True<br>median=%{x}<extra></extra>\", \"jitter\": 0, \"legendgroup\": \"True\", \"line\": {\"color\": \"rgba(255,255,255,0)\"}, \"marker\": {\"color\": \"#636efa\", \"symbol\": \"line-ns-open\"}, \"name\": \"True\", \"offsetgroup\": \"True\", \"showlegend\": false, \"type\": \"box\", \"x\": [5.0, 0.5, 4.0, 4.0, 3.0, 3.0, 3.0, 3.5, 4.0, 4.75, 4.0, 3.0, 3.5, 4.0, 4.0, 3.0, 3.75, 3.0, 3.5, 3.5, 5.0, 3.0, 4.0, 3.0, 4.0, 5.0, 4.0, 4.0, 4.0, 4.0, 4.0, 2.5, 4.0, 3.0, 4.0, 4.0, 3.5, 4.0, 5.0, 3.0, 4.0, 4.0, 3.0, 4.0, 3.0, 4.0, 5.0, 5.0, 3.0, 3.0, 4.0, 4.0, 4.0, 5.0, 4.0, 4.0, 4.0, 4.0, 4.0, 4.0, 3.25, 5.0, 4.5, 4.0, 4.5, 4.0, 4.0, 4.0, 5.0, 3.0, 4.0, 4.0, 3.0, 3.5, 3.5, 4.0, 4.0, 4.0, 4.0, 4.5, 3.5, 4.0, 3.5, 4.0, 4.0, 3.0, 4.0, 4.0, 4.0, 4.0, 4.0, 4.0, 4.0, 3.0, 3.5, 4.0, 4.0, 4.0, 3.0, 4.0, 3.5, 4.0, 3.5, 4.0, 3.5, 3.0, 4.0, 3.0, 3.0, 4.5, 4.0, 4.0, 3.0, 3.5, 4.0, 4.0, 3.5, 3.5, 3.0, 3.0, 4.0, 3.0, 4.0, 2.0, 3.5, 3.5, 4.0, 3.5, 3.5, 3.0, 3.0, 4.0, 4.0, 3.0, 3.0, 4.0, 4.0, 2.0, 5.0, 4.0, 4.0, 3.0, 3.5, 3.5, 3.0, 4.0, 3.0, 5.0, 3.0, 4.5, 4.5, 3.0, 5.0, 4.0, 3.0, 3.0, 4.0, 4.0, 4.5, 4.0, 3.75, 3.0, 3.5, 4.0, 4.0, 4.0, 4.0, 5.0, 4.0, 4.0, 4.0, 4.0, 3.5, 4.0, 4.0, 4.0, 4.0, 3.5, 4.0, 4.0, 4.0, 4.0, 4.0, 4.0, 3.5, 3.5, 4.5, 4.5, 4.0, 3.5, 4.0, 3.0, 4.0, 4.0, 3.0, 4.0, 3.5, 4.0, 4.5, 3.0, 3.5, 5.0, 4.0, 4.0, 4.0, 4.0, 3.0, 4.0, 3.0, 3.5, 4.0, 4.0, 5.0, 3.5, 4.0, 4.0, 4.0, 4.0, 3.0, 4.0, 4.0, 3.0, 4.5, 4.0, 3.5, 3.5, 4.5, 5.0, 4.0, 4.5, 4.0, 2.0, 3.5, 5.0, 4.0, 4.0, 4.0, 3.0, 4.0, 3.75, 3.0, 4.0, 5.0, 3.0, 4.0, 3.0, 3.0, 4.0, 4.0, 4.0, 5.0, 3.5, 4.0, 3.5, 4.0, 3.5, 4.0, 3.0, 4.0, 4.0, 4.0, 2.5, 4.0, 3.5, 2.0, 3.0, 4.5, 4.5, 3.0, 2.5, 4.0, 4.0, 4.0, 3.5, 4.0, 3.25, 2.5, 2.5, 4.0, 4.0, 2.75, 4.0, 4.0, 3.0, 3.0, 3.0, 4.0, 3.5, 3.0, 3.5, 3.0, 3.0, 4.0, 4.0, 3.0, 2.0, 4.0, 4.0, 3.5, 3.0, 3.5, 4.0, 4.0, 3.0, 4.0, 4.0, 3.0, 4.0, 4.0, 4.0, 4.0, 4.0, 5.0, 4.0, 3.0, 3.5, 4.0, 3.0, 4.0, 4.0, 4.0, 3.5, 4.0, 3.5, 4.0, 3.25, 4.0, 3.0, 4.0, 4.0, 3.0, 3.5, 3.5, 4.5, 3.0, 3.0, 4.0, 4.0, 4.0, 4.0, 4.0, 3.0, 4.0, 3.5, 3.5, 4.0, 3.0, 3.0, 3.0, 3.5, 4.0, 4.0, 4.0, 4.0, 3.0, 5.0, 3.0, 3.0, 3.5, 4.0, 4.5, 4.5, 4.5, 3.5, 4.0, 3.75, 3.0, 4.0, 3.5, 4.0, 4.0, 4.0, 4.0, 3.0, 4.0, 5.0, 3.5, 4.0, 3.5, 5.0, 4.0, 4.0, 4.5, 4.0, 4.0, 3.5, 4.0, 3.0, 3.0, 4.0, 4.0, 2.75, 4.0, 4.0, 4.0, 3.0, 4.0, 3.5, 4.0, 5.0, 1.0, 4.0, 4.0, 4.0, 3.0, 4.0, 3.0, 3.5, 4.0, 4.0, 5.0, 4.0, 3.5, 3.0, 4.0, 3.5, 4.0, 4.5, 4.5, 4.0, 4.0, 4.0, 4.0, 4.0, 4.0, 3.0, 4.0, 3.0, 4.0, 4.0, 3.5, 4.5, 4.0, 2.75, 3.0, 3.5, 3.0, 4.0, 4.0, 4.0, 4.0, 4.0, 4.0, 3.5, 3.5, 4.0, 4.0, 4.0, 5.0, 4.5, 3.5, 4.0, 4.0, 4.0, 4.0, 3.0, 4.0, 3.5, 4.0, 4.5, 3.0, 2.0, 3.0, 4.0, 4.0, 3.5, 5.0, 4.0, 2.5, 4.0, 4.0, 4.0, 4.0, 5.0, 3.0, 3.5, 4.0, 4.0, 3.5, 3.0, 4.0, 4.0, 4.0, 4.0, 3.0, 3.0, 4.5, 3.75, 4.0, 3.0, 4.0, 5.0, 3.5, 4.0, 4.0, 4.5, 4.0, 4.0, 4.0, 3.5, 4.5, 4.0, 3.0, 4.0, 4.0, 4.0, 3.0, 3.5, 3.5, 4.0, 3.5, 3.5, 4.0, 4.0, 4.0, 4.0, 3.5, 2.0, 4.0, 4.0, 3.0, 3.25, 4.0, 4.5, 4.0, 4.0, 4.5, 4.0, 3.25, 4.0, 4.5, 4.5, 4.0, 3.0, 4.0, 3.5, 3.0, 3.0, 3.5, 4.5, 4.0, 3.5, 4.0, 5.0, 4.5, 3.0, 4.0, 3.0, 3.0, 4.0, 3.0, 3.0], \"xaxis\": \"x2\", \"yaxis\": \"y2\"}, {\"alignmentgroup\": \"True\", \"bingroup\": \"x\", \"histfunc\": \"sum\", \"hovertemplate\": \"is_null_tag=False<br>median=%{x}<br>sum of len=%{y}<extra></extra>\", \"legendgroup\": \"False\", \"marker\": {\"color\": \"#EF553B\"}, \"name\": \"False\", \"offsetgroup\": \"False\", \"orientation\": \"v\", \"showlegend\": true, \"type\": \"histogram\", \"x\": [4.0, 3.5, 4.0, 3.5, 4.5, 4.0, 4.0, 3.5, 4.0, 5.0, 4.0, 4.0, 4.0, 3.0, 4.25, 4.0, 4.0, 3.5, 3.5, 4.0, 4.0, 4.0, 3.5, 4.0, 3.5, 3.0, 3.5, 4.0, 4.0, 4.0, 4.0, 4.5, 4.25, 4.5, 4.0, 4.0, 4.0, 4.0, 3.5, 4.5, 4.0, 3.5, 3.5, 4.0, 3.25, 3.0, 3.5, 4.0, 4.0, 5.0, 4.5, 5.0, 2.0, 4.5, 2.5, 3.0, 4.0, 3.5], \"xaxis\": \"x\", \"y\": [29.0, 152.0, 502.0, 443.0, 21.0, 366.0, 271.0, 119.0, 377.0, 33.0, 65.0, 215.0, 360.0, 347.0, 22.0, 39.0, 190.0, 173.0, 904.0, 134.0, 35.0, 27.0, 507.0, 174.0, 1346.0, 1055.0, 24.0, 31.0, 32.0, 677.0, 879.0, 35.0, 48.0, 56.0, 52.0, 289.0, 383.0, 155.0, 138.0, 42.0, 21.0, 455.0, 2108.0, 600.0, 56.0, 42.0, 467.0, 32.0, 186.0, 38.0, 47.0, 76.0, 385.0, 299.0, 2478.0, 763.0, 1115.0, 1302.0], \"yaxis\": \"y\"}, {\"alignmentgroup\": \"True\", \"boxpoints\": \"all\", \"fillcolor\": \"rgba(255,255,255,0)\", \"hoveron\": \"points\", \"hovertemplate\": \"is_null_tag=False<br>median=%{x}<extra></extra>\", \"jitter\": 0, \"legendgroup\": \"False\", \"line\": {\"color\": \"rgba(255,255,255,0)\"}, \"marker\": {\"color\": \"#EF553B\", \"symbol\": \"line-ns-open\"}, \"name\": \"False\", \"offsetgroup\": \"False\", \"showlegend\": false, \"type\": \"box\", \"x\": [4.0, 3.5, 4.0, 3.5, 4.5, 4.0, 4.0, 3.5, 4.0, 5.0, 4.0, 4.0, 4.0, 3.0, 4.25, 4.0, 4.0, 3.5, 3.5, 4.0, 4.0, 4.0, 3.5, 4.0, 3.5, 3.0, 3.5, 4.0, 4.0, 4.0, 4.0, 4.5, 4.25, 4.5, 4.0, 4.0, 4.0, 4.0, 3.5, 4.5, 4.0, 3.5, 3.5, 4.0, 3.25, 3.0, 3.5, 4.0, 4.0, 5.0, 4.5, 5.0, 2.0, 4.5, 2.5, 3.0, 4.0, 3.5], \"xaxis\": \"x2\", \"yaxis\": \"y2\"}],                        {\"barmode\": \"relative\", \"legend\": {\"title\": {\"text\": \"is_null_tag\"}, \"tracegroupgap\": 0}, \"template\": {\"data\": {\"bar\": [{\"error_x\": {\"color\": \"#2a3f5f\"}, \"error_y\": {\"color\": \"#2a3f5f\"}, \"marker\": {\"line\": {\"color\": \"#E5ECF6\", \"width\": 0.5}}, \"type\": \"bar\"}], \"barpolar\": [{\"marker\": {\"line\": {\"color\": \"#E5ECF6\", \"width\": 0.5}}, \"type\": \"barpolar\"}], \"carpet\": [{\"aaxis\": {\"endlinecolor\": \"#2a3f5f\", \"gridcolor\": \"white\", \"linecolor\": \"white\", \"minorgridcolor\": \"white\", \"startlinecolor\": \"#2a3f5f\"}, \"baxis\": {\"endlinecolor\": \"#2a3f5f\", \"gridcolor\": \"white\", \"linecolor\": \"white\", \"minorgridcolor\": \"white\", \"startlinecolor\": \"#2a3f5f\"}, \"type\": \"carpet\"}], \"choropleth\": [{\"colorbar\": {\"outlinewidth\": 0, \"ticks\": \"\"}, \"type\": \"choropleth\"}], \"contour\": [{\"colorbar\": {\"outlinewidth\": 0, \"ticks\": \"\"}, \"colorscale\": [[0.0, \"#0d0887\"], [0.1111111111111111, \"#46039f\"], [0.2222222222222222, \"#7201a8\"], [0.3333333333333333, \"#9c179e\"], [0.4444444444444444, \"#bd3786\"], [0.5555555555555556, \"#d8576b\"], [0.6666666666666666, \"#ed7953\"], [0.7777777777777778, \"#fb9f3a\"], [0.8888888888888888, \"#fdca26\"], [1.0, \"#f0f921\"]], \"type\": \"contour\"}], \"contourcarpet\": [{\"colorbar\": {\"outlinewidth\": 0, \"ticks\": \"\"}, \"type\": \"contourcarpet\"}], \"heatmap\": [{\"colorbar\": {\"outlinewidth\": 0, \"ticks\": \"\"}, \"colorscale\": [[0.0, \"#0d0887\"], [0.1111111111111111, \"#46039f\"], [0.2222222222222222, \"#7201a8\"], [0.3333333333333333, \"#9c179e\"], [0.4444444444444444, \"#bd3786\"], [0.5555555555555556, \"#d8576b\"], [0.6666666666666666, \"#ed7953\"], [0.7777777777777778, \"#fb9f3a\"], [0.8888888888888888, \"#fdca26\"], [1.0, \"#f0f921\"]], \"type\": \"heatmap\"}], \"heatmapgl\": [{\"colorbar\": {\"outlinewidth\": 0, \"ticks\": \"\"}, \"colorscale\": [[0.0, \"#0d0887\"], [0.1111111111111111, \"#46039f\"], [0.2222222222222222, \"#7201a8\"], [0.3333333333333333, \"#9c179e\"], [0.4444444444444444, \"#bd3786\"], [0.5555555555555556, \"#d8576b\"], [0.6666666666666666, \"#ed7953\"], [0.7777777777777778, \"#fb9f3a\"], [0.8888888888888888, \"#fdca26\"], [1.0, \"#f0f921\"]], \"type\": \"heatmapgl\"}], \"histogram\": [{\"marker\": {\"colorbar\": {\"outlinewidth\": 0, \"ticks\": \"\"}}, \"type\": \"histogram\"}], \"histogram2d\": [{\"colorbar\": {\"outlinewidth\": 0, \"ticks\": \"\"}, \"colorscale\": [[0.0, \"#0d0887\"], [0.1111111111111111, \"#46039f\"], [0.2222222222222222, \"#7201a8\"], [0.3333333333333333, \"#9c179e\"], [0.4444444444444444, \"#bd3786\"], [0.5555555555555556, \"#d8576b\"], [0.6666666666666666, \"#ed7953\"], [0.7777777777777778, \"#fb9f3a\"], [0.8888888888888888, \"#fdca26\"], [1.0, \"#f0f921\"]], \"type\": \"histogram2d\"}], \"histogram2dcontour\": [{\"colorbar\": {\"outlinewidth\": 0, \"ticks\": \"\"}, \"colorscale\": [[0.0, \"#0d0887\"], [0.1111111111111111, \"#46039f\"], [0.2222222222222222, \"#7201a8\"], [0.3333333333333333, \"#9c179e\"], [0.4444444444444444, \"#bd3786\"], [0.5555555555555556, \"#d8576b\"], [0.6666666666666666, \"#ed7953\"], [0.7777777777777778, \"#fb9f3a\"], [0.8888888888888888, \"#fdca26\"], [1.0, \"#f0f921\"]], \"type\": \"histogram2dcontour\"}], \"mesh3d\": [{\"colorbar\": {\"outlinewidth\": 0, \"ticks\": \"\"}, \"type\": \"mesh3d\"}], \"parcoords\": [{\"line\": {\"colorbar\": {\"outlinewidth\": 0, \"ticks\": \"\"}}, \"type\": \"parcoords\"}], \"pie\": [{\"automargin\": true, \"type\": \"pie\"}], \"scatter\": [{\"marker\": {\"colorbar\": {\"outlinewidth\": 0, \"ticks\": \"\"}}, \"type\": \"scatter\"}], \"scatter3d\": [{\"line\": {\"colorbar\": {\"outlinewidth\": 0, \"ticks\": \"\"}}, \"marker\": {\"colorbar\": {\"outlinewidth\": 0, \"ticks\": \"\"}}, \"type\": \"scatter3d\"}], \"scattercarpet\": [{\"marker\": {\"colorbar\": {\"outlinewidth\": 0, \"ticks\": \"\"}}, \"type\": \"scattercarpet\"}], \"scattergeo\": [{\"marker\": {\"colorbar\": {\"outlinewidth\": 0, \"ticks\": \"\"}}, \"type\": \"scattergeo\"}], \"scattergl\": [{\"marker\": {\"colorbar\": {\"outlinewidth\": 0, \"ticks\": \"\"}}, \"type\": \"scattergl\"}], \"scattermapbox\": [{\"marker\": {\"colorbar\": {\"outlinewidth\": 0, \"ticks\": \"\"}}, \"type\": \"scattermapbox\"}], \"scatterpolar\": [{\"marker\": {\"colorbar\": {\"outlinewidth\": 0, \"ticks\": \"\"}}, \"type\": \"scatterpolar\"}], \"scatterpolargl\": [{\"marker\": {\"colorbar\": {\"outlinewidth\": 0, \"ticks\": \"\"}}, \"type\": \"scatterpolargl\"}], \"scatterternary\": [{\"marker\": {\"colorbar\": {\"outlinewidth\": 0, \"ticks\": \"\"}}, \"type\": \"scatterternary\"}], \"surface\": [{\"colorbar\": {\"outlinewidth\": 0, \"ticks\": \"\"}, \"colorscale\": [[0.0, \"#0d0887\"], [0.1111111111111111, \"#46039f\"], [0.2222222222222222, \"#7201a8\"], [0.3333333333333333, \"#9c179e\"], [0.4444444444444444, \"#bd3786\"], [0.5555555555555556, \"#d8576b\"], [0.6666666666666666, \"#ed7953\"], [0.7777777777777778, \"#fb9f3a\"], [0.8888888888888888, \"#fdca26\"], [1.0, \"#f0f921\"]], \"type\": \"surface\"}], \"table\": [{\"cells\": {\"fill\": {\"color\": \"#EBF0F8\"}, \"line\": {\"color\": \"white\"}}, \"header\": {\"fill\": {\"color\": \"#C8D4E3\"}, \"line\": {\"color\": \"white\"}}, \"type\": \"table\"}]}, \"layout\": {\"annotationdefaults\": {\"arrowcolor\": \"#2a3f5f\", \"arrowhead\": 0, \"arrowwidth\": 1}, \"autotypenumbers\": \"strict\", \"coloraxis\": {\"colorbar\": {\"outlinewidth\": 0, \"ticks\": \"\"}}, \"colorscale\": {\"diverging\": [[0, \"#8e0152\"], [0.1, \"#c51b7d\"], [0.2, \"#de77ae\"], [0.3, \"#f1b6da\"], [0.4, \"#fde0ef\"], [0.5, \"#f7f7f7\"], [0.6, \"#e6f5d0\"], [0.7, \"#b8e186\"], [0.8, \"#7fbc41\"], [0.9, \"#4d9221\"], [1, \"#276419\"]], \"sequential\": [[0.0, \"#0d0887\"], [0.1111111111111111, \"#46039f\"], [0.2222222222222222, \"#7201a8\"], [0.3333333333333333, \"#9c179e\"], [0.4444444444444444, \"#bd3786\"], [0.5555555555555556, \"#d8576b\"], [0.6666666666666666, \"#ed7953\"], [0.7777777777777778, \"#fb9f3a\"], [0.8888888888888888, \"#fdca26\"], [1.0, \"#f0f921\"]], \"sequentialminus\": [[0.0, \"#0d0887\"], [0.1111111111111111, \"#46039f\"], [0.2222222222222222, \"#7201a8\"], [0.3333333333333333, \"#9c179e\"], [0.4444444444444444, \"#bd3786\"], [0.5555555555555556, \"#d8576b\"], [0.6666666666666666, \"#ed7953\"], [0.7777777777777778, \"#fb9f3a\"], [0.8888888888888888, \"#fdca26\"], [1.0, \"#f0f921\"]]}, \"colorway\": [\"#636efa\", \"#EF553B\", \"#00cc96\", \"#ab63fa\", \"#FFA15A\", \"#19d3f3\", \"#FF6692\", \"#B6E880\", \"#FF97FF\", \"#FECB52\"], \"font\": {\"color\": \"#2a3f5f\"}, \"geo\": {\"bgcolor\": \"white\", \"lakecolor\": \"white\", \"landcolor\": \"#E5ECF6\", \"showlakes\": true, \"showland\": true, \"subunitcolor\": \"white\"}, \"hoverlabel\": {\"align\": \"left\"}, \"hovermode\": \"closest\", \"mapbox\": {\"style\": \"light\"}, \"paper_bgcolor\": \"white\", \"plot_bgcolor\": \"#E5ECF6\", \"polar\": {\"angularaxis\": {\"gridcolor\": \"white\", \"linecolor\": \"white\", \"ticks\": \"\"}, \"bgcolor\": \"#E5ECF6\", \"radialaxis\": {\"gridcolor\": \"white\", \"linecolor\": \"white\", \"ticks\": \"\"}}, \"scene\": {\"xaxis\": {\"backgroundcolor\": \"#E5ECF6\", \"gridcolor\": \"white\", \"gridwidth\": 2, \"linecolor\": \"white\", \"showbackground\": true, \"ticks\": \"\", \"zerolinecolor\": \"white\"}, \"yaxis\": {\"backgroundcolor\": \"#E5ECF6\", \"gridcolor\": \"white\", \"gridwidth\": 2, \"linecolor\": \"white\", \"showbackground\": true, \"ticks\": \"\", \"zerolinecolor\": \"white\"}, \"zaxis\": {\"backgroundcolor\": \"#E5ECF6\", \"gridcolor\": \"white\", \"gridwidth\": 2, \"linecolor\": \"white\", \"showbackground\": true, \"ticks\": \"\", \"zerolinecolor\": \"white\"}}, \"shapedefaults\": {\"line\": {\"color\": \"#2a3f5f\"}}, \"ternary\": {\"aaxis\": {\"gridcolor\": \"white\", \"linecolor\": \"white\", \"ticks\": \"\"}, \"baxis\": {\"gridcolor\": \"white\", \"linecolor\": \"white\", \"ticks\": \"\"}, \"bgcolor\": \"#E5ECF6\", \"caxis\": {\"gridcolor\": \"white\", \"linecolor\": \"white\", \"ticks\": \"\"}}, \"title\": {\"x\": 0.05}, \"xaxis\": {\"automargin\": true, \"gridcolor\": \"white\", \"linecolor\": \"white\", \"ticks\": \"\", \"title\": {\"standoff\": 15}, \"zerolinecolor\": \"white\", \"zerolinewidth\": 2}, \"yaxis\": {\"automargin\": true, \"gridcolor\": \"white\", \"linecolor\": \"white\", \"ticks\": \"\", \"title\": {\"standoff\": 15}, \"zerolinecolor\": \"white\", \"zerolinewidth\": 2}}}, \"title\": {\"text\": \"Median rating distribution\"}, \"xaxis\": {\"anchor\": \"y\", \"domain\": [0.0, 1.0], \"title\": {\"text\": \"median\"}}, \"xaxis2\": {\"anchor\": \"y2\", \"domain\": [0.0, 1.0], \"matches\": \"x\", \"showgrid\": true, \"showticklabels\": false}, \"yaxis\": {\"anchor\": \"x\", \"domain\": [0.0, 0.7326], \"title\": {\"text\": \"sum of len\"}}, \"yaxis2\": {\"anchor\": \"x2\", \"domain\": [0.7426, 1.0], \"matches\": \"y2\", \"showgrid\": false, \"showline\": false, \"showticklabels\": false, \"ticks\": \"\"}},                        {\"responsive\": true}                    ).then(function(){\n",
       "                            \n",
       "var gd = document.getElementById('c309c4a1-13b3-415b-8472-a45ed92fb0d3');\n",
       "var x = new MutationObserver(function (mutations, observer) {{\n",
       "        var display = window.getComputedStyle(gd).display;\n",
       "        if (!display || display === 'none') {{\n",
       "            console.log([gd, 'removed!']);\n",
       "            Plotly.purge(gd);\n",
       "            observer.disconnect();\n",
       "        }}\n",
       "}});\n",
       "\n",
       "// Listen for the removal of the full notebook cells\n",
       "var notebookContainer = gd.closest('#notebook-container');\n",
       "if (notebookContainer) {{\n",
       "    x.observe(notebookContainer, {childList: true});\n",
       "}}\n",
       "\n",
       "// Listen for the clearing of the current output cell\n",
       "var outputEl = gd.closest('.output');\n",
       "if (outputEl) {{\n",
       "    x.observe(outputEl, {childList: true});\n",
       "}}\n",
       "\n",
       "                        })                };                });            </script>        </div>"
      ]
     },
     "metadata": {},
     "output_type": "display_data"
    }
   ],
   "source": [
    "fig = px.histogram(stats, x=\"median\", y=\"len\", color='is_null_tag',\n",
    "                   marginal=\"rug\", title = 'Median rating distribution')\n",
    "fig.show()"
   ]
  },
  {
   "cell_type": "code",
   "execution_count": 56,
   "metadata": {},
   "outputs": [
    {
     "data": {
      "application/vnd.plotly.v1+json": {
       "config": {
        "plotlyServerURL": "https://plot.ly"
       },
       "data": [
        {
         "alignmentgroup": "True",
         "bingroup": "x",
         "histfunc": "sum",
         "hovertemplate": "tag=%{x}<br>sum of len=%{y}<extra></extra>",
         "legendgroup": "",
         "marker": {
          "color": "#636efa"
         },
         "name": "",
         "offsetgroup": "",
         "orientation": "v",
         "showlegend": false,
         "type": "histogram",
         "x": [
          null,
          9,
          null,
          null,
          null,
          null,
          1,
          null,
          null,
          null,
          null,
          null,
          null,
          null,
          null,
          null,
          null,
          16,
          null,
          null,
          4,
          null,
          null,
          null,
          null,
          null,
          null,
          null,
          null,
          null,
          null,
          null,
          null,
          null,
          null,
          null,
          null,
          null,
          null,
          null,
          null,
          null,
          null,
          null,
          null,
          null,
          null,
          null,
          3,
          null,
          null,
          null,
          null,
          null,
          null,
          null,
          null,
          null,
          null,
          null,
          null,
          370,
          2,
          null,
          null,
          null,
          null,
          null,
          null,
          null,
          null,
          null,
          null,
          null,
          null,
          2,
          null,
          null,
          null,
          null,
          null,
          null,
          null,
          null,
          null,
          null,
          null,
          null,
          null,
          null,
          null,
          null,
          null,
          null,
          null,
          null,
          null,
          null,
          null,
          null,
          null,
          null,
          5,
          null,
          null,
          2,
          null,
          null,
          null,
          null,
          null,
          3,
          null,
          null,
          null,
          null,
          null,
          null,
          14,
          null,
          null,
          null,
          null,
          null,
          48,
          null,
          null,
          null,
          null,
          null,
          null,
          4,
          null,
          null,
          null,
          null,
          null,
          2,
          null,
          null,
          null,
          null,
          null,
          null,
          null,
          null,
          null,
          null,
          null,
          null,
          null,
          null,
          null,
          null,
          null,
          null,
          null,
          null,
          null,
          null,
          1,
          null,
          null,
          null,
          null,
          6,
          1,
          null,
          null,
          null,
          null,
          null,
          null,
          null,
          null,
          null,
          3,
          null,
          null,
          null,
          null,
          null,
          null,
          35,
          null,
          null,
          null,
          null,
          null,
          null,
          null,
          null,
          20,
          null,
          null,
          null,
          null,
          null,
          null,
          null,
          null,
          null,
          null,
          null,
          3,
          null,
          null,
          null,
          null,
          null,
          null,
          null,
          null,
          null,
          null,
          null,
          null,
          null,
          null,
          null,
          null,
          null,
          null,
          null,
          null,
          3,
          null,
          null,
          null,
          null,
          null,
          null,
          null,
          null,
          null,
          null,
          null,
          null,
          null,
          null,
          null,
          null,
          null,
          null,
          null,
          null,
          null,
          null,
          null,
          null,
          null,
          null,
          null,
          null,
          null,
          2,
          null,
          null,
          null,
          null,
          null,
          null,
          null,
          null,
          null,
          null,
          null,
          null,
          null,
          null,
          null,
          null,
          null,
          1,
          null,
          null,
          null,
          null,
          null,
          null,
          null,
          null,
          null,
          null,
          null,
          null,
          null,
          1,
          4,
          null,
          4,
          null,
          null,
          null,
          null,
          null,
          null,
          null,
          null,
          1,
          null,
          null,
          null,
          null,
          8,
          null,
          null,
          null,
          null,
          null,
          null,
          null,
          null,
          null,
          null,
          null,
          null,
          41,
          3,
          null,
          null,
          null,
          null,
          null,
          null,
          null,
          7,
          null,
          null,
          null,
          null,
          null,
          null,
          null,
          null,
          10,
          null,
          null,
          null,
          null,
          2,
          null,
          null,
          null,
          null,
          null,
          null,
          null,
          null,
          null,
          null,
          null,
          null,
          null,
          null,
          5,
          45,
          null,
          null,
          null,
          null,
          null,
          null,
          null,
          null,
          null,
          null,
          null,
          null,
          null,
          null,
          null,
          null,
          null,
          null,
          null,
          null,
          null,
          null,
          null,
          null,
          null,
          null,
          null,
          null,
          null,
          null,
          null,
          null,
          null,
          null,
          null,
          null,
          null,
          null,
          null,
          null,
          null,
          null,
          null,
          null,
          null,
          null,
          null,
          null,
          null,
          null,
          null,
          null,
          null,
          null,
          null,
          null,
          null,
          null,
          null,
          null,
          null,
          5,
          null,
          null,
          null,
          null,
          273,
          null,
          null,
          null,
          null,
          null,
          null,
          null,
          null,
          null,
          null,
          4,
          null,
          null,
          null,
          3,
          null,
          null,
          null,
          null,
          null,
          null,
          null,
          null,
          null,
          null,
          null,
          null,
          null,
          null,
          null,
          null,
          null,
          null,
          null,
          null,
          null,
          null,
          5,
          null,
          null,
          null,
          null,
          null,
          null,
          null,
          null,
          null,
          null,
          null,
          1507,
          null,
          null,
          280,
          null,
          null,
          null,
          null,
          null,
          null,
          null,
          null,
          null,
          3,
          null,
          null,
          null,
          null,
          null,
          null,
          null,
          null,
          null,
          null,
          null,
          null,
          null,
          null,
          null,
          null,
          null,
          null,
          3,
          null,
          null,
          3,
          null,
          null,
          null,
          3,
          null,
          null,
          null,
          null,
          null,
          null,
          2,
          null,
          null,
          null,
          null,
          null,
          null,
          null,
          null,
          null,
          null,
          null,
          null,
          3,
          null,
          null,
          null,
          100,
          null,
          null,
          null,
          null,
          null,
          1,
          null,
          null,
          null,
          null,
          null,
          null,
          null,
          null,
          null,
          null,
          null,
          null,
          null,
          null,
          null,
          null,
          null,
          null,
          null,
          null,
          null,
          null,
          null,
          432,
          null,
          null,
          null,
          null,
          null,
          31,
          null,
          null,
          null,
          null,
          null,
          null,
          null,
          null,
          null,
          null,
          null,
          null,
          null,
          null,
          null,
          null,
          null,
          null,
          null,
          null,
          null,
          null,
          null,
          null,
          null,
          323,
          1,
          null,
          null,
          null,
          null,
          null,
          7,
          null,
          null,
          null,
          3
         ],
         "xaxis": "x",
         "y": [
          232,
          29,
          39,
          216,
          44,
          314,
          152,
          47,
          46,
          140,
          64,
          32,
          31,
          48,
          135,
          98,
          105,
          502,
          703,
          242,
          443,
          119,
          121,
          110,
          26,
          21,
          135,
          570,
          81,
          34,
          50,
          102,
          156,
          86,
          23,
          60,
          21,
          78,
          100,
          103,
          217,
          440,
          114,
          48,
          399,
          42,
          140,
          33,
          21,
          310,
          359,
          130,
          20,
          33,
          25,
          46,
          476,
          112,
          107,
          22,
          39,
          366,
          271,
          517,
          34,
          345,
          36,
          1260,
          46,
          62,
          35,
          45,
          210,
          177,
          69,
          119,
          29,
          61,
          64,
          167,
          26,
          227,
          118,
          293,
          34,
          70,
          21,
          56,
          518,
          54,
          575,
          24,
          97,
          56,
          168,
          78,
          36,
          92,
          53,
          148,
          61,
          56,
          377,
          273,
          722,
          33,
          34,
          76,
          127,
          51,
          646,
          65,
          150,
          31,
          112,
          87,
          165,
          22,
          215,
          22,
          58,
          292,
          56,
          50,
          360,
          38,
          22,
          33,
          140,
          28,
          69,
          347,
          35,
          35,
          279,
          111,
          141,
          22,
          194,
          608,
          168,
          38,
          71,
          128,
          23,
          32,
          20,
          48,
          58,
          26,
          59,
          63,
          179,
          34,
          46,
          398,
          21,
          26,
          97,
          437,
          39,
          38,
          23,
          36,
          65,
          190,
          173,
          94,
          269,
          50,
          82,
          26,
          25,
          67,
          24,
          36,
          904,
          77,
          69,
          24,
          118,
          977,
          57,
          134,
          47,
          226,
          258,
          48,
          20,
          66,
          85,
          22,
          35,
          20,
          187,
          32,
          35,
          230,
          363,
          334,
          110,
          403,
          45,
          83,
          27,
          25,
          20,
          26,
          35,
          138,
          89,
          248,
          84,
          22,
          98,
          164,
          613,
          26,
          528,
          207,
          331,
          250,
          75,
          54,
          75,
          507,
          94,
          25,
          65,
          139,
          24,
          862,
          150,
          202,
          65,
          30,
          50,
          44,
          279,
          128,
          76,
          35,
          36,
          93,
          21,
          204,
          150,
          51,
          1046,
          27,
          23,
          38,
          47,
          127,
          44,
          174,
          20,
          25,
          29,
          152,
          53,
          57,
          210,
          56,
          163,
          180,
          57,
          129,
          29,
          40,
          43,
          31,
          55,
          1346,
          403,
          41,
          28,
          20,
          176,
          196,
          21,
          237,
          35,
          88,
          36,
          106,
          152,
          1055,
          24,
          267,
          31,
          446,
          21,
          437,
          41,
          27,
          72,
          939,
          23,
          32,
          114,
          32,
          53,
          216,
          677,
          112,
          975,
          115,
          103,
          64,
          28,
          223,
          340,
          128,
          33,
          53,
          189,
          879,
          35,
          20,
          56,
          107,
          98,
          21,
          270,
          152,
          48,
          255,
          23,
          247,
          168,
          267,
          25,
          154,
          28,
          56,
          77,
          39,
          371,
          28,
          52,
          66,
          59,
          69,
          62,
          164,
          45,
          55,
          37,
          40,
          141,
          294,
          90,
          226,
          26,
          289,
          383,
          41,
          74,
          25,
          97,
          109,
          30,
          21,
          277,
          31,
          185,
          469,
          129,
          93,
          41,
          236,
          100,
          33,
          33,
          133,
          131,
          48,
          36,
          1218,
          474,
          291,
          34,
          70,
          201,
          68,
          1027,
          29,
          34,
          81,
          386,
          25,
          123,
          23,
          61,
          28,
          23,
          46,
          36,
          43,
          72,
          48,
          34,
          60,
          120,
          20,
          22,
          141,
          126,
          167,
          127,
          102,
          56,
          2698,
          94,
          51,
          67,
          93,
          155,
          141,
          37,
          93,
          23,
          138,
          306,
          88,
          84,
          300,
          58,
          58,
          20,
          260,
          22,
          233,
          42,
          106,
          122,
          635,
          21,
          33,
          45,
          20,
          37,
          42,
          77,
          84,
          78,
          1864,
          38,
          51,
          34,
          202,
          311,
          45,
          57,
          43,
          50,
          59,
          26,
          82,
          27,
          455,
          33,
          138,
          115,
          113,
          22,
          33,
          465,
          80,
          28,
          29,
          37,
          2108,
          155,
          69,
          600,
          22,
          181,
          836,
          31,
          128,
          728,
          275,
          23,
          56,
          56,
          111,
          648,
          113,
          64,
          121,
          61,
          22,
          265,
          29,
          51,
          35,
          27,
          86,
          45,
          35,
          95,
          87,
          31,
          42,
          21,
          24,
          467,
          108,
          52,
          50,
          32,
          397,
          26,
          26,
          400,
          24,
          26,
          186,
          40,
          200,
          75,
          131,
          500,
          58,
          167,
          73,
          25,
          27,
          22,
          50,
          38,
          520,
          30,
          40,
          47,
          37,
          38,
          42,
          87,
          113,
          76,
          22,
          23,
          64,
          21,
          26,
          21,
          28,
          123,
          188,
          83,
          89,
          578,
          32,
          27,
          56,
          140,
          458,
          505,
          231,
          213,
          157,
          29,
          74,
          385,
          23,
          20,
          191,
          112,
          155,
          299,
          23,
          36,
          20,
          161,
          27,
          73,
          436,
          40,
          56,
          56,
          83,
          61,
          208,
          165,
          56,
          40,
          728,
          54,
          94,
          103,
          232,
          20,
          411,
          443,
          21,
          2478,
          763,
          101,
          135,
          943,
          100,
          221,
          1115,
          187,
          831,
          37,
          1302
         ],
         "yaxis": "y"
        },
        {
         "alignmentgroup": "True",
         "boxpoints": "all",
         "fillcolor": "rgba(255,255,255,0)",
         "hoveron": "points",
         "hovertemplate": "tag=%{x}<extra></extra>",
         "jitter": 0,
         "legendgroup": "",
         "line": {
          "color": "rgba(255,255,255,0)"
         },
         "marker": {
          "color": "#636efa",
          "symbol": "line-ns-open"
         },
         "name": "",
         "offsetgroup": "",
         "showlegend": false,
         "type": "box",
         "x": [
          null,
          9,
          null,
          null,
          null,
          null,
          1,
          null,
          null,
          null,
          null,
          null,
          null,
          null,
          null,
          null,
          null,
          16,
          null,
          null,
          4,
          null,
          null,
          null,
          null,
          null,
          null,
          null,
          null,
          null,
          null,
          null,
          null,
          null,
          null,
          null,
          null,
          null,
          null,
          null,
          null,
          null,
          null,
          null,
          null,
          null,
          null,
          null,
          3,
          null,
          null,
          null,
          null,
          null,
          null,
          null,
          null,
          null,
          null,
          null,
          null,
          370,
          2,
          null,
          null,
          null,
          null,
          null,
          null,
          null,
          null,
          null,
          null,
          null,
          null,
          2,
          null,
          null,
          null,
          null,
          null,
          null,
          null,
          null,
          null,
          null,
          null,
          null,
          null,
          null,
          null,
          null,
          null,
          null,
          null,
          null,
          null,
          null,
          null,
          null,
          null,
          null,
          5,
          null,
          null,
          2,
          null,
          null,
          null,
          null,
          null,
          3,
          null,
          null,
          null,
          null,
          null,
          null,
          14,
          null,
          null,
          null,
          null,
          null,
          48,
          null,
          null,
          null,
          null,
          null,
          null,
          4,
          null,
          null,
          null,
          null,
          null,
          2,
          null,
          null,
          null,
          null,
          null,
          null,
          null,
          null,
          null,
          null,
          null,
          null,
          null,
          null,
          null,
          null,
          null,
          null,
          null,
          null,
          null,
          null,
          1,
          null,
          null,
          null,
          null,
          6,
          1,
          null,
          null,
          null,
          null,
          null,
          null,
          null,
          null,
          null,
          3,
          null,
          null,
          null,
          null,
          null,
          null,
          35,
          null,
          null,
          null,
          null,
          null,
          null,
          null,
          null,
          20,
          null,
          null,
          null,
          null,
          null,
          null,
          null,
          null,
          null,
          null,
          null,
          3,
          null,
          null,
          null,
          null,
          null,
          null,
          null,
          null,
          null,
          null,
          null,
          null,
          null,
          null,
          null,
          null,
          null,
          null,
          null,
          null,
          3,
          null,
          null,
          null,
          null,
          null,
          null,
          null,
          null,
          null,
          null,
          null,
          null,
          null,
          null,
          null,
          null,
          null,
          null,
          null,
          null,
          null,
          null,
          null,
          null,
          null,
          null,
          null,
          null,
          null,
          2,
          null,
          null,
          null,
          null,
          null,
          null,
          null,
          null,
          null,
          null,
          null,
          null,
          null,
          null,
          null,
          null,
          null,
          1,
          null,
          null,
          null,
          null,
          null,
          null,
          null,
          null,
          null,
          null,
          null,
          null,
          null,
          1,
          4,
          null,
          4,
          null,
          null,
          null,
          null,
          null,
          null,
          null,
          null,
          1,
          null,
          null,
          null,
          null,
          8,
          null,
          null,
          null,
          null,
          null,
          null,
          null,
          null,
          null,
          null,
          null,
          null,
          41,
          3,
          null,
          null,
          null,
          null,
          null,
          null,
          null,
          7,
          null,
          null,
          null,
          null,
          null,
          null,
          null,
          null,
          10,
          null,
          null,
          null,
          null,
          2,
          null,
          null,
          null,
          null,
          null,
          null,
          null,
          null,
          null,
          null,
          null,
          null,
          null,
          null,
          5,
          45,
          null,
          null,
          null,
          null,
          null,
          null,
          null,
          null,
          null,
          null,
          null,
          null,
          null,
          null,
          null,
          null,
          null,
          null,
          null,
          null,
          null,
          null,
          null,
          null,
          null,
          null,
          null,
          null,
          null,
          null,
          null,
          null,
          null,
          null,
          null,
          null,
          null,
          null,
          null,
          null,
          null,
          null,
          null,
          null,
          null,
          null,
          null,
          null,
          null,
          null,
          null,
          null,
          null,
          null,
          null,
          null,
          null,
          null,
          null,
          null,
          null,
          5,
          null,
          null,
          null,
          null,
          273,
          null,
          null,
          null,
          null,
          null,
          null,
          null,
          null,
          null,
          null,
          4,
          null,
          null,
          null,
          3,
          null,
          null,
          null,
          null,
          null,
          null,
          null,
          null,
          null,
          null,
          null,
          null,
          null,
          null,
          null,
          null,
          null,
          null,
          null,
          null,
          null,
          null,
          5,
          null,
          null,
          null,
          null,
          null,
          null,
          null,
          null,
          null,
          null,
          null,
          1507,
          null,
          null,
          280,
          null,
          null,
          null,
          null,
          null,
          null,
          null,
          null,
          null,
          3,
          null,
          null,
          null,
          null,
          null,
          null,
          null,
          null,
          null,
          null,
          null,
          null,
          null,
          null,
          null,
          null,
          null,
          null,
          3,
          null,
          null,
          3,
          null,
          null,
          null,
          3,
          null,
          null,
          null,
          null,
          null,
          null,
          2,
          null,
          null,
          null,
          null,
          null,
          null,
          null,
          null,
          null,
          null,
          null,
          null,
          3,
          null,
          null,
          null,
          100,
          null,
          null,
          null,
          null,
          null,
          1,
          null,
          null,
          null,
          null,
          null,
          null,
          null,
          null,
          null,
          null,
          null,
          null,
          null,
          null,
          null,
          null,
          null,
          null,
          null,
          null,
          null,
          null,
          null,
          432,
          null,
          null,
          null,
          null,
          null,
          31,
          null,
          null,
          null,
          null,
          null,
          null,
          null,
          null,
          null,
          null,
          null,
          null,
          null,
          null,
          null,
          null,
          null,
          null,
          null,
          null,
          null,
          null,
          null,
          null,
          null,
          323,
          1,
          null,
          null,
          null,
          null,
          null,
          7,
          null,
          null,
          null,
          3
         ],
         "xaxis": "x2",
         "yaxis": "y2"
        }
       ],
       "layout": {
        "barmode": "relative",
        "legend": {
         "tracegroupgap": 0
        },
        "template": {
         "data": {
          "bar": [
           {
            "error_x": {
             "color": "#2a3f5f"
            },
            "error_y": {
             "color": "#2a3f5f"
            },
            "marker": {
             "line": {
              "color": "#E5ECF6",
              "width": 0.5
             }
            },
            "type": "bar"
           }
          ],
          "barpolar": [
           {
            "marker": {
             "line": {
              "color": "#E5ECF6",
              "width": 0.5
             }
            },
            "type": "barpolar"
           }
          ],
          "carpet": [
           {
            "aaxis": {
             "endlinecolor": "#2a3f5f",
             "gridcolor": "white",
             "linecolor": "white",
             "minorgridcolor": "white",
             "startlinecolor": "#2a3f5f"
            },
            "baxis": {
             "endlinecolor": "#2a3f5f",
             "gridcolor": "white",
             "linecolor": "white",
             "minorgridcolor": "white",
             "startlinecolor": "#2a3f5f"
            },
            "type": "carpet"
           }
          ],
          "choropleth": [
           {
            "colorbar": {
             "outlinewidth": 0,
             "ticks": ""
            },
            "type": "choropleth"
           }
          ],
          "contour": [
           {
            "colorbar": {
             "outlinewidth": 0,
             "ticks": ""
            },
            "colorscale": [
             [
              0,
              "#0d0887"
             ],
             [
              0.1111111111111111,
              "#46039f"
             ],
             [
              0.2222222222222222,
              "#7201a8"
             ],
             [
              0.3333333333333333,
              "#9c179e"
             ],
             [
              0.4444444444444444,
              "#bd3786"
             ],
             [
              0.5555555555555556,
              "#d8576b"
             ],
             [
              0.6666666666666666,
              "#ed7953"
             ],
             [
              0.7777777777777778,
              "#fb9f3a"
             ],
             [
              0.8888888888888888,
              "#fdca26"
             ],
             [
              1,
              "#f0f921"
             ]
            ],
            "type": "contour"
           }
          ],
          "contourcarpet": [
           {
            "colorbar": {
             "outlinewidth": 0,
             "ticks": ""
            },
            "type": "contourcarpet"
           }
          ],
          "heatmap": [
           {
            "colorbar": {
             "outlinewidth": 0,
             "ticks": ""
            },
            "colorscale": [
             [
              0,
              "#0d0887"
             ],
             [
              0.1111111111111111,
              "#46039f"
             ],
             [
              0.2222222222222222,
              "#7201a8"
             ],
             [
              0.3333333333333333,
              "#9c179e"
             ],
             [
              0.4444444444444444,
              "#bd3786"
             ],
             [
              0.5555555555555556,
              "#d8576b"
             ],
             [
              0.6666666666666666,
              "#ed7953"
             ],
             [
              0.7777777777777778,
              "#fb9f3a"
             ],
             [
              0.8888888888888888,
              "#fdca26"
             ],
             [
              1,
              "#f0f921"
             ]
            ],
            "type": "heatmap"
           }
          ],
          "heatmapgl": [
           {
            "colorbar": {
             "outlinewidth": 0,
             "ticks": ""
            },
            "colorscale": [
             [
              0,
              "#0d0887"
             ],
             [
              0.1111111111111111,
              "#46039f"
             ],
             [
              0.2222222222222222,
              "#7201a8"
             ],
             [
              0.3333333333333333,
              "#9c179e"
             ],
             [
              0.4444444444444444,
              "#bd3786"
             ],
             [
              0.5555555555555556,
              "#d8576b"
             ],
             [
              0.6666666666666666,
              "#ed7953"
             ],
             [
              0.7777777777777778,
              "#fb9f3a"
             ],
             [
              0.8888888888888888,
              "#fdca26"
             ],
             [
              1,
              "#f0f921"
             ]
            ],
            "type": "heatmapgl"
           }
          ],
          "histogram": [
           {
            "marker": {
             "colorbar": {
              "outlinewidth": 0,
              "ticks": ""
             }
            },
            "type": "histogram"
           }
          ],
          "histogram2d": [
           {
            "colorbar": {
             "outlinewidth": 0,
             "ticks": ""
            },
            "colorscale": [
             [
              0,
              "#0d0887"
             ],
             [
              0.1111111111111111,
              "#46039f"
             ],
             [
              0.2222222222222222,
              "#7201a8"
             ],
             [
              0.3333333333333333,
              "#9c179e"
             ],
             [
              0.4444444444444444,
              "#bd3786"
             ],
             [
              0.5555555555555556,
              "#d8576b"
             ],
             [
              0.6666666666666666,
              "#ed7953"
             ],
             [
              0.7777777777777778,
              "#fb9f3a"
             ],
             [
              0.8888888888888888,
              "#fdca26"
             ],
             [
              1,
              "#f0f921"
             ]
            ],
            "type": "histogram2d"
           }
          ],
          "histogram2dcontour": [
           {
            "colorbar": {
             "outlinewidth": 0,
             "ticks": ""
            },
            "colorscale": [
             [
              0,
              "#0d0887"
             ],
             [
              0.1111111111111111,
              "#46039f"
             ],
             [
              0.2222222222222222,
              "#7201a8"
             ],
             [
              0.3333333333333333,
              "#9c179e"
             ],
             [
              0.4444444444444444,
              "#bd3786"
             ],
             [
              0.5555555555555556,
              "#d8576b"
             ],
             [
              0.6666666666666666,
              "#ed7953"
             ],
             [
              0.7777777777777778,
              "#fb9f3a"
             ],
             [
              0.8888888888888888,
              "#fdca26"
             ],
             [
              1,
              "#f0f921"
             ]
            ],
            "type": "histogram2dcontour"
           }
          ],
          "mesh3d": [
           {
            "colorbar": {
             "outlinewidth": 0,
             "ticks": ""
            },
            "type": "mesh3d"
           }
          ],
          "parcoords": [
           {
            "line": {
             "colorbar": {
              "outlinewidth": 0,
              "ticks": ""
             }
            },
            "type": "parcoords"
           }
          ],
          "pie": [
           {
            "automargin": true,
            "type": "pie"
           }
          ],
          "scatter": [
           {
            "marker": {
             "colorbar": {
              "outlinewidth": 0,
              "ticks": ""
             }
            },
            "type": "scatter"
           }
          ],
          "scatter3d": [
           {
            "line": {
             "colorbar": {
              "outlinewidth": 0,
              "ticks": ""
             }
            },
            "marker": {
             "colorbar": {
              "outlinewidth": 0,
              "ticks": ""
             }
            },
            "type": "scatter3d"
           }
          ],
          "scattercarpet": [
           {
            "marker": {
             "colorbar": {
              "outlinewidth": 0,
              "ticks": ""
             }
            },
            "type": "scattercarpet"
           }
          ],
          "scattergeo": [
           {
            "marker": {
             "colorbar": {
              "outlinewidth": 0,
              "ticks": ""
             }
            },
            "type": "scattergeo"
           }
          ],
          "scattergl": [
           {
            "marker": {
             "colorbar": {
              "outlinewidth": 0,
              "ticks": ""
             }
            },
            "type": "scattergl"
           }
          ],
          "scattermapbox": [
           {
            "marker": {
             "colorbar": {
              "outlinewidth": 0,
              "ticks": ""
             }
            },
            "type": "scattermapbox"
           }
          ],
          "scatterpolar": [
           {
            "marker": {
             "colorbar": {
              "outlinewidth": 0,
              "ticks": ""
             }
            },
            "type": "scatterpolar"
           }
          ],
          "scatterpolargl": [
           {
            "marker": {
             "colorbar": {
              "outlinewidth": 0,
              "ticks": ""
             }
            },
            "type": "scatterpolargl"
           }
          ],
          "scatterternary": [
           {
            "marker": {
             "colorbar": {
              "outlinewidth": 0,
              "ticks": ""
             }
            },
            "type": "scatterternary"
           }
          ],
          "surface": [
           {
            "colorbar": {
             "outlinewidth": 0,
             "ticks": ""
            },
            "colorscale": [
             [
              0,
              "#0d0887"
             ],
             [
              0.1111111111111111,
              "#46039f"
             ],
             [
              0.2222222222222222,
              "#7201a8"
             ],
             [
              0.3333333333333333,
              "#9c179e"
             ],
             [
              0.4444444444444444,
              "#bd3786"
             ],
             [
              0.5555555555555556,
              "#d8576b"
             ],
             [
              0.6666666666666666,
              "#ed7953"
             ],
             [
              0.7777777777777778,
              "#fb9f3a"
             ],
             [
              0.8888888888888888,
              "#fdca26"
             ],
             [
              1,
              "#f0f921"
             ]
            ],
            "type": "surface"
           }
          ],
          "table": [
           {
            "cells": {
             "fill": {
              "color": "#EBF0F8"
             },
             "line": {
              "color": "white"
             }
            },
            "header": {
             "fill": {
              "color": "#C8D4E3"
             },
             "line": {
              "color": "white"
             }
            },
            "type": "table"
           }
          ]
         },
         "layout": {
          "annotationdefaults": {
           "arrowcolor": "#2a3f5f",
           "arrowhead": 0,
           "arrowwidth": 1
          },
          "autotypenumbers": "strict",
          "coloraxis": {
           "colorbar": {
            "outlinewidth": 0,
            "ticks": ""
           }
          },
          "colorscale": {
           "diverging": [
            [
             0,
             "#8e0152"
            ],
            [
             0.1,
             "#c51b7d"
            ],
            [
             0.2,
             "#de77ae"
            ],
            [
             0.3,
             "#f1b6da"
            ],
            [
             0.4,
             "#fde0ef"
            ],
            [
             0.5,
             "#f7f7f7"
            ],
            [
             0.6,
             "#e6f5d0"
            ],
            [
             0.7,
             "#b8e186"
            ],
            [
             0.8,
             "#7fbc41"
            ],
            [
             0.9,
             "#4d9221"
            ],
            [
             1,
             "#276419"
            ]
           ],
           "sequential": [
            [
             0,
             "#0d0887"
            ],
            [
             0.1111111111111111,
             "#46039f"
            ],
            [
             0.2222222222222222,
             "#7201a8"
            ],
            [
             0.3333333333333333,
             "#9c179e"
            ],
            [
             0.4444444444444444,
             "#bd3786"
            ],
            [
             0.5555555555555556,
             "#d8576b"
            ],
            [
             0.6666666666666666,
             "#ed7953"
            ],
            [
             0.7777777777777778,
             "#fb9f3a"
            ],
            [
             0.8888888888888888,
             "#fdca26"
            ],
            [
             1,
             "#f0f921"
            ]
           ],
           "sequentialminus": [
            [
             0,
             "#0d0887"
            ],
            [
             0.1111111111111111,
             "#46039f"
            ],
            [
             0.2222222222222222,
             "#7201a8"
            ],
            [
             0.3333333333333333,
             "#9c179e"
            ],
            [
             0.4444444444444444,
             "#bd3786"
            ],
            [
             0.5555555555555556,
             "#d8576b"
            ],
            [
             0.6666666666666666,
             "#ed7953"
            ],
            [
             0.7777777777777778,
             "#fb9f3a"
            ],
            [
             0.8888888888888888,
             "#fdca26"
            ],
            [
             1,
             "#f0f921"
            ]
           ]
          },
          "colorway": [
           "#636efa",
           "#EF553B",
           "#00cc96",
           "#ab63fa",
           "#FFA15A",
           "#19d3f3",
           "#FF6692",
           "#B6E880",
           "#FF97FF",
           "#FECB52"
          ],
          "font": {
           "color": "#2a3f5f"
          },
          "geo": {
           "bgcolor": "white",
           "lakecolor": "white",
           "landcolor": "#E5ECF6",
           "showlakes": true,
           "showland": true,
           "subunitcolor": "white"
          },
          "hoverlabel": {
           "align": "left"
          },
          "hovermode": "closest",
          "mapbox": {
           "style": "light"
          },
          "paper_bgcolor": "white",
          "plot_bgcolor": "#E5ECF6",
          "polar": {
           "angularaxis": {
            "gridcolor": "white",
            "linecolor": "white",
            "ticks": ""
           },
           "bgcolor": "#E5ECF6",
           "radialaxis": {
            "gridcolor": "white",
            "linecolor": "white",
            "ticks": ""
           }
          },
          "scene": {
           "xaxis": {
            "backgroundcolor": "#E5ECF6",
            "gridcolor": "white",
            "gridwidth": 2,
            "linecolor": "white",
            "showbackground": true,
            "ticks": "",
            "zerolinecolor": "white"
           },
           "yaxis": {
            "backgroundcolor": "#E5ECF6",
            "gridcolor": "white",
            "gridwidth": 2,
            "linecolor": "white",
            "showbackground": true,
            "ticks": "",
            "zerolinecolor": "white"
           },
           "zaxis": {
            "backgroundcolor": "#E5ECF6",
            "gridcolor": "white",
            "gridwidth": 2,
            "linecolor": "white",
            "showbackground": true,
            "ticks": "",
            "zerolinecolor": "white"
           }
          },
          "shapedefaults": {
           "line": {
            "color": "#2a3f5f"
           }
          },
          "ternary": {
           "aaxis": {
            "gridcolor": "white",
            "linecolor": "white",
            "ticks": ""
           },
           "baxis": {
            "gridcolor": "white",
            "linecolor": "white",
            "ticks": ""
           },
           "bgcolor": "#E5ECF6",
           "caxis": {
            "gridcolor": "white",
            "linecolor": "white",
            "ticks": ""
           }
          },
          "title": {
           "x": 0.05
          },
          "xaxis": {
           "automargin": true,
           "gridcolor": "white",
           "linecolor": "white",
           "ticks": "",
           "title": {
            "standoff": 15
           },
           "zerolinecolor": "white",
           "zerolinewidth": 2
          },
          "yaxis": {
           "automargin": true,
           "gridcolor": "white",
           "linecolor": "white",
           "ticks": "",
           "title": {
            "standoff": 15
           },
           "zerolinecolor": "white",
           "zerolinewidth": 2
          }
         }
        },
        "title": {
         "text": "Count tags distribution"
        },
        "xaxis": {
         "anchor": "y",
         "domain": [
          0,
          1
         ],
         "title": {
          "text": "tag"
         }
        },
        "xaxis2": {
         "anchor": "y2",
         "domain": [
          0,
          1
         ],
         "matches": "x",
         "showgrid": true,
         "showticklabels": false
        },
        "yaxis": {
         "anchor": "x",
         "domain": [
          0,
          0.8316
         ],
         "title": {
          "text": "sum of len"
         }
        },
        "yaxis2": {
         "anchor": "x2",
         "domain": [
          0.8416,
          1
         ],
         "matches": "y2",
         "showgrid": false,
         "showline": false,
         "showticklabels": false,
         "ticks": ""
        }
       }
      },
      "text/html": [
       "<div>                            <div id=\"006e56b4-0938-43c6-995e-cacd0f93efbd\" class=\"plotly-graph-div\" style=\"height:525px; width:100%;\"></div>            <script type=\"text/javascript\">                require([\"plotly\"], function(Plotly) {                    window.PLOTLYENV=window.PLOTLYENV || {};                                    if (document.getElementById(\"006e56b4-0938-43c6-995e-cacd0f93efbd\")) {                    Plotly.newPlot(                        \"006e56b4-0938-43c6-995e-cacd0f93efbd\",                        [{\"alignmentgroup\": \"True\", \"bingroup\": \"x\", \"histfunc\": \"sum\", \"hovertemplate\": \"tag=%{x}<br>sum of len=%{y}<extra></extra>\", \"legendgroup\": \"\", \"marker\": {\"color\": \"#636efa\"}, \"name\": \"\", \"offsetgroup\": \"\", \"orientation\": \"v\", \"showlegend\": false, \"type\": \"histogram\", \"x\": [null, 9.0, null, null, null, null, 1.0, null, null, null, null, null, null, null, null, null, null, 16.0, null, null, 4.0, null, null, null, null, null, null, null, null, null, null, null, null, null, null, null, null, null, null, null, null, null, null, null, null, null, null, null, 3.0, null, null, null, null, null, null, null, null, null, null, null, null, 370.0, 2.0, null, null, null, null, null, null, null, null, null, null, null, null, 2.0, null, null, null, null, null, null, null, null, null, null, null, null, null, null, null, null, null, null, null, null, null, null, null, null, null, null, 5.0, null, null, 2.0, null, null, null, null, null, 3.0, null, null, null, null, null, null, 14.0, null, null, null, null, null, 48.0, null, null, null, null, null, null, 4.0, null, null, null, null, null, 2.0, null, null, null, null, null, null, null, null, null, null, null, null, null, null, null, null, null, null, null, null, null, null, 1.0, null, null, null, null, 6.0, 1.0, null, null, null, null, null, null, null, null, null, 3.0, null, null, null, null, null, null, 35.0, null, null, null, null, null, null, null, null, 20.0, null, null, null, null, null, null, null, null, null, null, null, 3.0, null, null, null, null, null, null, null, null, null, null, null, null, null, null, null, null, null, null, null, null, 3.0, null, null, null, null, null, null, null, null, null, null, null, null, null, null, null, null, null, null, null, null, null, null, null, null, null, null, null, null, null, 2.0, null, null, null, null, null, null, null, null, null, null, null, null, null, null, null, null, null, 1.0, null, null, null, null, null, null, null, null, null, null, null, null, null, 1.0, 4.0, null, 4.0, null, null, null, null, null, null, null, null, 1.0, null, null, null, null, 8.0, null, null, null, null, null, null, null, null, null, null, null, null, 41.0, 3.0, null, null, null, null, null, null, null, 7.0, null, null, null, null, null, null, null, null, 10.0, null, null, null, null, 2.0, null, null, null, null, null, null, null, null, null, null, null, null, null, null, 5.0, 45.0, null, null, null, null, null, null, null, null, null, null, null, null, null, null, null, null, null, null, null, null, null, null, null, null, null, null, null, null, null, null, null, null, null, null, null, null, null, null, null, null, null, null, null, null, null, null, null, null, null, null, null, null, null, null, null, null, null, null, null, null, null, 5.0, null, null, null, null, 273.0, null, null, null, null, null, null, null, null, null, null, 4.0, null, null, null, 3.0, null, null, null, null, null, null, null, null, null, null, null, null, null, null, null, null, null, null, null, null, null, null, 5.0, null, null, null, null, null, null, null, null, null, null, null, 1507.0, null, null, 280.0, null, null, null, null, null, null, null, null, null, 3.0, null, null, null, null, null, null, null, null, null, null, null, null, null, null, null, null, null, null, 3.0, null, null, 3.0, null, null, null, 3.0, null, null, null, null, null, null, 2.0, null, null, null, null, null, null, null, null, null, null, null, null, 3.0, null, null, null, 100.0, null, null, null, null, null, 1.0, null, null, null, null, null, null, null, null, null, null, null, null, null, null, null, null, null, null, null, null, null, null, null, 432.0, null, null, null, null, null, 31.0, null, null, null, null, null, null, null, null, null, null, null, null, null, null, null, null, null, null, null, null, null, null, null, null, null, 323.0, 1.0, null, null, null, null, null, 7.0, null, null, null, 3.0], \"xaxis\": \"x\", \"y\": [232.0, 29.0, 39.0, 216.0, 44.0, 314.0, 152.0, 47.0, 46.0, 140.0, 64.0, 32.0, 31.0, 48.0, 135.0, 98.0, 105.0, 502.0, 703.0, 242.0, 443.0, 119.0, 121.0, 110.0, 26.0, 21.0, 135.0, 570.0, 81.0, 34.0, 50.0, 102.0, 156.0, 86.0, 23.0, 60.0, 21.0, 78.0, 100.0, 103.0, 217.0, 440.0, 114.0, 48.0, 399.0, 42.0, 140.0, 33.0, 21.0, 310.0, 359.0, 130.0, 20.0, 33.0, 25.0, 46.0, 476.0, 112.0, 107.0, 22.0, 39.0, 366.0, 271.0, 517.0, 34.0, 345.0, 36.0, 1260.0, 46.0, 62.0, 35.0, 45.0, 210.0, 177.0, 69.0, 119.0, 29.0, 61.0, 64.0, 167.0, 26.0, 227.0, 118.0, 293.0, 34.0, 70.0, 21.0, 56.0, 518.0, 54.0, 575.0, 24.0, 97.0, 56.0, 168.0, 78.0, 36.0, 92.0, 53.0, 148.0, 61.0, 56.0, 377.0, 273.0, 722.0, 33.0, 34.0, 76.0, 127.0, 51.0, 646.0, 65.0, 150.0, 31.0, 112.0, 87.0, 165.0, 22.0, 215.0, 22.0, 58.0, 292.0, 56.0, 50.0, 360.0, 38.0, 22.0, 33.0, 140.0, 28.0, 69.0, 347.0, 35.0, 35.0, 279.0, 111.0, 141.0, 22.0, 194.0, 608.0, 168.0, 38.0, 71.0, 128.0, 23.0, 32.0, 20.0, 48.0, 58.0, 26.0, 59.0, 63.0, 179.0, 34.0, 46.0, 398.0, 21.0, 26.0, 97.0, 437.0, 39.0, 38.0, 23.0, 36.0, 65.0, 190.0, 173.0, 94.0, 269.0, 50.0, 82.0, 26.0, 25.0, 67.0, 24.0, 36.0, 904.0, 77.0, 69.0, 24.0, 118.0, 977.0, 57.0, 134.0, 47.0, 226.0, 258.0, 48.0, 20.0, 66.0, 85.0, 22.0, 35.0, 20.0, 187.0, 32.0, 35.0, 230.0, 363.0, 334.0, 110.0, 403.0, 45.0, 83.0, 27.0, 25.0, 20.0, 26.0, 35.0, 138.0, 89.0, 248.0, 84.0, 22.0, 98.0, 164.0, 613.0, 26.0, 528.0, 207.0, 331.0, 250.0, 75.0, 54.0, 75.0, 507.0, 94.0, 25.0, 65.0, 139.0, 24.0, 862.0, 150.0, 202.0, 65.0, 30.0, 50.0, 44.0, 279.0, 128.0, 76.0, 35.0, 36.0, 93.0, 21.0, 204.0, 150.0, 51.0, 1046.0, 27.0, 23.0, 38.0, 47.0, 127.0, 44.0, 174.0, 20.0, 25.0, 29.0, 152.0, 53.0, 57.0, 210.0, 56.0, 163.0, 180.0, 57.0, 129.0, 29.0, 40.0, 43.0, 31.0, 55.0, 1346.0, 403.0, 41.0, 28.0, 20.0, 176.0, 196.0, 21.0, 237.0, 35.0, 88.0, 36.0, 106.0, 152.0, 1055.0, 24.0, 267.0, 31.0, 446.0, 21.0, 437.0, 41.0, 27.0, 72.0, 939.0, 23.0, 32.0, 114.0, 32.0, 53.0, 216.0, 677.0, 112.0, 975.0, 115.0, 103.0, 64.0, 28.0, 223.0, 340.0, 128.0, 33.0, 53.0, 189.0, 879.0, 35.0, 20.0, 56.0, 107.0, 98.0, 21.0, 270.0, 152.0, 48.0, 255.0, 23.0, 247.0, 168.0, 267.0, 25.0, 154.0, 28.0, 56.0, 77.0, 39.0, 371.0, 28.0, 52.0, 66.0, 59.0, 69.0, 62.0, 164.0, 45.0, 55.0, 37.0, 40.0, 141.0, 294.0, 90.0, 226.0, 26.0, 289.0, 383.0, 41.0, 74.0, 25.0, 97.0, 109.0, 30.0, 21.0, 277.0, 31.0, 185.0, 469.0, 129.0, 93.0, 41.0, 236.0, 100.0, 33.0, 33.0, 133.0, 131.0, 48.0, 36.0, 1218.0, 474.0, 291.0, 34.0, 70.0, 201.0, 68.0, 1027.0, 29.0, 34.0, 81.0, 386.0, 25.0, 123.0, 23.0, 61.0, 28.0, 23.0, 46.0, 36.0, 43.0, 72.0, 48.0, 34.0, 60.0, 120.0, 20.0, 22.0, 141.0, 126.0, 167.0, 127.0, 102.0, 56.0, 2698.0, 94.0, 51.0, 67.0, 93.0, 155.0, 141.0, 37.0, 93.0, 23.0, 138.0, 306.0, 88.0, 84.0, 300.0, 58.0, 58.0, 20.0, 260.0, 22.0, 233.0, 42.0, 106.0, 122.0, 635.0, 21.0, 33.0, 45.0, 20.0, 37.0, 42.0, 77.0, 84.0, 78.0, 1864.0, 38.0, 51.0, 34.0, 202.0, 311.0, 45.0, 57.0, 43.0, 50.0, 59.0, 26.0, 82.0, 27.0, 455.0, 33.0, 138.0, 115.0, 113.0, 22.0, 33.0, 465.0, 80.0, 28.0, 29.0, 37.0, 2108.0, 155.0, 69.0, 600.0, 22.0, 181.0, 836.0, 31.0, 128.0, 728.0, 275.0, 23.0, 56.0, 56.0, 111.0, 648.0, 113.0, 64.0, 121.0, 61.0, 22.0, 265.0, 29.0, 51.0, 35.0, 27.0, 86.0, 45.0, 35.0, 95.0, 87.0, 31.0, 42.0, 21.0, 24.0, 467.0, 108.0, 52.0, 50.0, 32.0, 397.0, 26.0, 26.0, 400.0, 24.0, 26.0, 186.0, 40.0, 200.0, 75.0, 131.0, 500.0, 58.0, 167.0, 73.0, 25.0, 27.0, 22.0, 50.0, 38.0, 520.0, 30.0, 40.0, 47.0, 37.0, 38.0, 42.0, 87.0, 113.0, 76.0, 22.0, 23.0, 64.0, 21.0, 26.0, 21.0, 28.0, 123.0, 188.0, 83.0, 89.0, 578.0, 32.0, 27.0, 56.0, 140.0, 458.0, 505.0, 231.0, 213.0, 157.0, 29.0, 74.0, 385.0, 23.0, 20.0, 191.0, 112.0, 155.0, 299.0, 23.0, 36.0, 20.0, 161.0, 27.0, 73.0, 436.0, 40.0, 56.0, 56.0, 83.0, 61.0, 208.0, 165.0, 56.0, 40.0, 728.0, 54.0, 94.0, 103.0, 232.0, 20.0, 411.0, 443.0, 21.0, 2478.0, 763.0, 101.0, 135.0, 943.0, 100.0, 221.0, 1115.0, 187.0, 831.0, 37.0, 1302.0], \"yaxis\": \"y\"}, {\"alignmentgroup\": \"True\", \"boxpoints\": \"all\", \"fillcolor\": \"rgba(255,255,255,0)\", \"hoveron\": \"points\", \"hovertemplate\": \"tag=%{x}<extra></extra>\", \"jitter\": 0, \"legendgroup\": \"\", \"line\": {\"color\": \"rgba(255,255,255,0)\"}, \"marker\": {\"color\": \"#636efa\", \"symbol\": \"line-ns-open\"}, \"name\": \"\", \"offsetgroup\": \"\", \"showlegend\": false, \"type\": \"box\", \"x\": [null, 9.0, null, null, null, null, 1.0, null, null, null, null, null, null, null, null, null, null, 16.0, null, null, 4.0, null, null, null, null, null, null, null, null, null, null, null, null, null, null, null, null, null, null, null, null, null, null, null, null, null, null, null, 3.0, null, null, null, null, null, null, null, null, null, null, null, null, 370.0, 2.0, null, null, null, null, null, null, null, null, null, null, null, null, 2.0, null, null, null, null, null, null, null, null, null, null, null, null, null, null, null, null, null, null, null, null, null, null, null, null, null, null, 5.0, null, null, 2.0, null, null, null, null, null, 3.0, null, null, null, null, null, null, 14.0, null, null, null, null, null, 48.0, null, null, null, null, null, null, 4.0, null, null, null, null, null, 2.0, null, null, null, null, null, null, null, null, null, null, null, null, null, null, null, null, null, null, null, null, null, null, 1.0, null, null, null, null, 6.0, 1.0, null, null, null, null, null, null, null, null, null, 3.0, null, null, null, null, null, null, 35.0, null, null, null, null, null, null, null, null, 20.0, null, null, null, null, null, null, null, null, null, null, null, 3.0, null, null, null, null, null, null, null, null, null, null, null, null, null, null, null, null, null, null, null, null, 3.0, null, null, null, null, null, null, null, null, null, null, null, null, null, null, null, null, null, null, null, null, null, null, null, null, null, null, null, null, null, 2.0, null, null, null, null, null, null, null, null, null, null, null, null, null, null, null, null, null, 1.0, null, null, null, null, null, null, null, null, null, null, null, null, null, 1.0, 4.0, null, 4.0, null, null, null, null, null, null, null, null, 1.0, null, null, null, null, 8.0, null, null, null, null, null, null, null, null, null, null, null, null, 41.0, 3.0, null, null, null, null, null, null, null, 7.0, null, null, null, null, null, null, null, null, 10.0, null, null, null, null, 2.0, null, null, null, null, null, null, null, null, null, null, null, null, null, null, 5.0, 45.0, null, null, null, null, null, null, null, null, null, null, null, null, null, null, null, null, null, null, null, null, null, null, null, null, null, null, null, null, null, null, null, null, null, null, null, null, null, null, null, null, null, null, null, null, null, null, null, null, null, null, null, null, null, null, null, null, null, null, null, null, null, 5.0, null, null, null, null, 273.0, null, null, null, null, null, null, null, null, null, null, 4.0, null, null, null, 3.0, null, null, null, null, null, null, null, null, null, null, null, null, null, null, null, null, null, null, null, null, null, null, 5.0, null, null, null, null, null, null, null, null, null, null, null, 1507.0, null, null, 280.0, null, null, null, null, null, null, null, null, null, 3.0, null, null, null, null, null, null, null, null, null, null, null, null, null, null, null, null, null, null, 3.0, null, null, 3.0, null, null, null, 3.0, null, null, null, null, null, null, 2.0, null, null, null, null, null, null, null, null, null, null, null, null, 3.0, null, null, null, 100.0, null, null, null, null, null, 1.0, null, null, null, null, null, null, null, null, null, null, null, null, null, null, null, null, null, null, null, null, null, null, null, 432.0, null, null, null, null, null, 31.0, null, null, null, null, null, null, null, null, null, null, null, null, null, null, null, null, null, null, null, null, null, null, null, null, null, 323.0, 1.0, null, null, null, null, null, 7.0, null, null, null, 3.0], \"xaxis\": \"x2\", \"yaxis\": \"y2\"}],                        {\"barmode\": \"relative\", \"legend\": {\"tracegroupgap\": 0}, \"template\": {\"data\": {\"bar\": [{\"error_x\": {\"color\": \"#2a3f5f\"}, \"error_y\": {\"color\": \"#2a3f5f\"}, \"marker\": {\"line\": {\"color\": \"#E5ECF6\", \"width\": 0.5}}, \"type\": \"bar\"}], \"barpolar\": [{\"marker\": {\"line\": {\"color\": \"#E5ECF6\", \"width\": 0.5}}, \"type\": \"barpolar\"}], \"carpet\": [{\"aaxis\": {\"endlinecolor\": \"#2a3f5f\", \"gridcolor\": \"white\", \"linecolor\": \"white\", \"minorgridcolor\": \"white\", \"startlinecolor\": \"#2a3f5f\"}, \"baxis\": {\"endlinecolor\": \"#2a3f5f\", \"gridcolor\": \"white\", \"linecolor\": \"white\", \"minorgridcolor\": \"white\", \"startlinecolor\": \"#2a3f5f\"}, \"type\": \"carpet\"}], \"choropleth\": [{\"colorbar\": {\"outlinewidth\": 0, \"ticks\": \"\"}, \"type\": \"choropleth\"}], \"contour\": [{\"colorbar\": {\"outlinewidth\": 0, \"ticks\": \"\"}, \"colorscale\": [[0.0, \"#0d0887\"], [0.1111111111111111, \"#46039f\"], [0.2222222222222222, \"#7201a8\"], [0.3333333333333333, \"#9c179e\"], [0.4444444444444444, \"#bd3786\"], [0.5555555555555556, \"#d8576b\"], [0.6666666666666666, \"#ed7953\"], [0.7777777777777778, \"#fb9f3a\"], [0.8888888888888888, \"#fdca26\"], [1.0, \"#f0f921\"]], \"type\": \"contour\"}], \"contourcarpet\": [{\"colorbar\": {\"outlinewidth\": 0, \"ticks\": \"\"}, \"type\": \"contourcarpet\"}], \"heatmap\": [{\"colorbar\": {\"outlinewidth\": 0, \"ticks\": \"\"}, \"colorscale\": [[0.0, \"#0d0887\"], [0.1111111111111111, \"#46039f\"], [0.2222222222222222, \"#7201a8\"], [0.3333333333333333, \"#9c179e\"], [0.4444444444444444, \"#bd3786\"], [0.5555555555555556, \"#d8576b\"], [0.6666666666666666, \"#ed7953\"], [0.7777777777777778, \"#fb9f3a\"], [0.8888888888888888, \"#fdca26\"], [1.0, \"#f0f921\"]], \"type\": \"heatmap\"}], \"heatmapgl\": [{\"colorbar\": {\"outlinewidth\": 0, \"ticks\": \"\"}, \"colorscale\": [[0.0, \"#0d0887\"], [0.1111111111111111, \"#46039f\"], [0.2222222222222222, \"#7201a8\"], [0.3333333333333333, \"#9c179e\"], [0.4444444444444444, \"#bd3786\"], [0.5555555555555556, \"#d8576b\"], [0.6666666666666666, \"#ed7953\"], [0.7777777777777778, \"#fb9f3a\"], [0.8888888888888888, \"#fdca26\"], [1.0, \"#f0f921\"]], \"type\": \"heatmapgl\"}], \"histogram\": [{\"marker\": {\"colorbar\": {\"outlinewidth\": 0, \"ticks\": \"\"}}, \"type\": \"histogram\"}], \"histogram2d\": [{\"colorbar\": {\"outlinewidth\": 0, \"ticks\": \"\"}, \"colorscale\": [[0.0, \"#0d0887\"], [0.1111111111111111, \"#46039f\"], [0.2222222222222222, \"#7201a8\"], [0.3333333333333333, \"#9c179e\"], [0.4444444444444444, \"#bd3786\"], [0.5555555555555556, \"#d8576b\"], [0.6666666666666666, \"#ed7953\"], [0.7777777777777778, \"#fb9f3a\"], [0.8888888888888888, \"#fdca26\"], [1.0, \"#f0f921\"]], \"type\": \"histogram2d\"}], \"histogram2dcontour\": [{\"colorbar\": {\"outlinewidth\": 0, \"ticks\": \"\"}, \"colorscale\": [[0.0, \"#0d0887\"], [0.1111111111111111, \"#46039f\"], [0.2222222222222222, \"#7201a8\"], [0.3333333333333333, \"#9c179e\"], [0.4444444444444444, \"#bd3786\"], [0.5555555555555556, \"#d8576b\"], [0.6666666666666666, \"#ed7953\"], [0.7777777777777778, \"#fb9f3a\"], [0.8888888888888888, \"#fdca26\"], [1.0, \"#f0f921\"]], \"type\": \"histogram2dcontour\"}], \"mesh3d\": [{\"colorbar\": {\"outlinewidth\": 0, \"ticks\": \"\"}, \"type\": \"mesh3d\"}], \"parcoords\": [{\"line\": {\"colorbar\": {\"outlinewidth\": 0, \"ticks\": \"\"}}, \"type\": \"parcoords\"}], \"pie\": [{\"automargin\": true, \"type\": \"pie\"}], \"scatter\": [{\"marker\": {\"colorbar\": {\"outlinewidth\": 0, \"ticks\": \"\"}}, \"type\": \"scatter\"}], \"scatter3d\": [{\"line\": {\"colorbar\": {\"outlinewidth\": 0, \"ticks\": \"\"}}, \"marker\": {\"colorbar\": {\"outlinewidth\": 0, \"ticks\": \"\"}}, \"type\": \"scatter3d\"}], \"scattercarpet\": [{\"marker\": {\"colorbar\": {\"outlinewidth\": 0, \"ticks\": \"\"}}, \"type\": \"scattercarpet\"}], \"scattergeo\": [{\"marker\": {\"colorbar\": {\"outlinewidth\": 0, \"ticks\": \"\"}}, \"type\": \"scattergeo\"}], \"scattergl\": [{\"marker\": {\"colorbar\": {\"outlinewidth\": 0, \"ticks\": \"\"}}, \"type\": \"scattergl\"}], \"scattermapbox\": [{\"marker\": {\"colorbar\": {\"outlinewidth\": 0, \"ticks\": \"\"}}, \"type\": \"scattermapbox\"}], \"scatterpolar\": [{\"marker\": {\"colorbar\": {\"outlinewidth\": 0, \"ticks\": \"\"}}, \"type\": \"scatterpolar\"}], \"scatterpolargl\": [{\"marker\": {\"colorbar\": {\"outlinewidth\": 0, \"ticks\": \"\"}}, \"type\": \"scatterpolargl\"}], \"scatterternary\": [{\"marker\": {\"colorbar\": {\"outlinewidth\": 0, \"ticks\": \"\"}}, \"type\": \"scatterternary\"}], \"surface\": [{\"colorbar\": {\"outlinewidth\": 0, \"ticks\": \"\"}, \"colorscale\": [[0.0, \"#0d0887\"], [0.1111111111111111, \"#46039f\"], [0.2222222222222222, \"#7201a8\"], [0.3333333333333333, \"#9c179e\"], [0.4444444444444444, \"#bd3786\"], [0.5555555555555556, \"#d8576b\"], [0.6666666666666666, \"#ed7953\"], [0.7777777777777778, \"#fb9f3a\"], [0.8888888888888888, \"#fdca26\"], [1.0, \"#f0f921\"]], \"type\": \"surface\"}], \"table\": [{\"cells\": {\"fill\": {\"color\": \"#EBF0F8\"}, \"line\": {\"color\": \"white\"}}, \"header\": {\"fill\": {\"color\": \"#C8D4E3\"}, \"line\": {\"color\": \"white\"}}, \"type\": \"table\"}]}, \"layout\": {\"annotationdefaults\": {\"arrowcolor\": \"#2a3f5f\", \"arrowhead\": 0, \"arrowwidth\": 1}, \"autotypenumbers\": \"strict\", \"coloraxis\": {\"colorbar\": {\"outlinewidth\": 0, \"ticks\": \"\"}}, \"colorscale\": {\"diverging\": [[0, \"#8e0152\"], [0.1, \"#c51b7d\"], [0.2, \"#de77ae\"], [0.3, \"#f1b6da\"], [0.4, \"#fde0ef\"], [0.5, \"#f7f7f7\"], [0.6, \"#e6f5d0\"], [0.7, \"#b8e186\"], [0.8, \"#7fbc41\"], [0.9, \"#4d9221\"], [1, \"#276419\"]], \"sequential\": [[0.0, \"#0d0887\"], [0.1111111111111111, \"#46039f\"], [0.2222222222222222, \"#7201a8\"], [0.3333333333333333, \"#9c179e\"], [0.4444444444444444, \"#bd3786\"], [0.5555555555555556, \"#d8576b\"], [0.6666666666666666, \"#ed7953\"], [0.7777777777777778, \"#fb9f3a\"], [0.8888888888888888, \"#fdca26\"], [1.0, \"#f0f921\"]], \"sequentialminus\": [[0.0, \"#0d0887\"], [0.1111111111111111, \"#46039f\"], [0.2222222222222222, \"#7201a8\"], [0.3333333333333333, \"#9c179e\"], [0.4444444444444444, \"#bd3786\"], [0.5555555555555556, \"#d8576b\"], [0.6666666666666666, \"#ed7953\"], [0.7777777777777778, \"#fb9f3a\"], [0.8888888888888888, \"#fdca26\"], [1.0, \"#f0f921\"]]}, \"colorway\": [\"#636efa\", \"#EF553B\", \"#00cc96\", \"#ab63fa\", \"#FFA15A\", \"#19d3f3\", \"#FF6692\", \"#B6E880\", \"#FF97FF\", \"#FECB52\"], \"font\": {\"color\": \"#2a3f5f\"}, \"geo\": {\"bgcolor\": \"white\", \"lakecolor\": \"white\", \"landcolor\": \"#E5ECF6\", \"showlakes\": true, \"showland\": true, \"subunitcolor\": \"white\"}, \"hoverlabel\": {\"align\": \"left\"}, \"hovermode\": \"closest\", \"mapbox\": {\"style\": \"light\"}, \"paper_bgcolor\": \"white\", \"plot_bgcolor\": \"#E5ECF6\", \"polar\": {\"angularaxis\": {\"gridcolor\": \"white\", \"linecolor\": \"white\", \"ticks\": \"\"}, \"bgcolor\": \"#E5ECF6\", \"radialaxis\": {\"gridcolor\": \"white\", \"linecolor\": \"white\", \"ticks\": \"\"}}, \"scene\": {\"xaxis\": {\"backgroundcolor\": \"#E5ECF6\", \"gridcolor\": \"white\", \"gridwidth\": 2, \"linecolor\": \"white\", \"showbackground\": true, \"ticks\": \"\", \"zerolinecolor\": \"white\"}, \"yaxis\": {\"backgroundcolor\": \"#E5ECF6\", \"gridcolor\": \"white\", \"gridwidth\": 2, \"linecolor\": \"white\", \"showbackground\": true, \"ticks\": \"\", \"zerolinecolor\": \"white\"}, \"zaxis\": {\"backgroundcolor\": \"#E5ECF6\", \"gridcolor\": \"white\", \"gridwidth\": 2, \"linecolor\": \"white\", \"showbackground\": true, \"ticks\": \"\", \"zerolinecolor\": \"white\"}}, \"shapedefaults\": {\"line\": {\"color\": \"#2a3f5f\"}}, \"ternary\": {\"aaxis\": {\"gridcolor\": \"white\", \"linecolor\": \"white\", \"ticks\": \"\"}, \"baxis\": {\"gridcolor\": \"white\", \"linecolor\": \"white\", \"ticks\": \"\"}, \"bgcolor\": \"#E5ECF6\", \"caxis\": {\"gridcolor\": \"white\", \"linecolor\": \"white\", \"ticks\": \"\"}}, \"title\": {\"x\": 0.05}, \"xaxis\": {\"automargin\": true, \"gridcolor\": \"white\", \"linecolor\": \"white\", \"ticks\": \"\", \"title\": {\"standoff\": 15}, \"zerolinecolor\": \"white\", \"zerolinewidth\": 2}, \"yaxis\": {\"automargin\": true, \"gridcolor\": \"white\", \"linecolor\": \"white\", \"ticks\": \"\", \"title\": {\"standoff\": 15}, \"zerolinecolor\": \"white\", \"zerolinewidth\": 2}}}, \"title\": {\"text\": \"Count tags distribution\"}, \"xaxis\": {\"anchor\": \"y\", \"domain\": [0.0, 1.0], \"title\": {\"text\": \"tag\"}}, \"xaxis2\": {\"anchor\": \"y2\", \"domain\": [0.0, 1.0], \"matches\": \"x\", \"showgrid\": true, \"showticklabels\": false}, \"yaxis\": {\"anchor\": \"x\", \"domain\": [0.0, 0.8316], \"title\": {\"text\": \"sum of len\"}}, \"yaxis2\": {\"anchor\": \"x2\", \"domain\": [0.8416, 1.0], \"matches\": \"y2\", \"showgrid\": false, \"showline\": false, \"showticklabels\": false, \"ticks\": \"\"}},                        {\"responsive\": true}                    ).then(function(){\n",
       "                            \n",
       "var gd = document.getElementById('006e56b4-0938-43c6-995e-cacd0f93efbd');\n",
       "var x = new MutationObserver(function (mutations, observer) {{\n",
       "        var display = window.getComputedStyle(gd).display;\n",
       "        if (!display || display === 'none') {{\n",
       "            console.log([gd, 'removed!']);\n",
       "            Plotly.purge(gd);\n",
       "            observer.disconnect();\n",
       "        }}\n",
       "}});\n",
       "\n",
       "// Listen for the removal of the full notebook cells\n",
       "var notebookContainer = gd.closest('#notebook-container');\n",
       "if (notebookContainer) {{\n",
       "    x.observe(notebookContainer, {childList: true});\n",
       "}}\n",
       "\n",
       "// Listen for the clearing of the current output cell\n",
       "var outputEl = gd.closest('.output');\n",
       "if (outputEl) {{\n",
       "    x.observe(outputEl, {childList: true});\n",
       "}}\n",
       "\n",
       "                        })                };                });            </script>        </div>"
      ]
     },
     "metadata": {},
     "output_type": "display_data"
    }
   ],
   "source": [
    "fig = px.histogram(stats, x=\"tag\", y=\"len\", marginal=\"rug\", title = 'Count tags distribution')\n",
    "fig.show()"
   ]
  },
  {
   "cell_type": "code",
   "execution_count": 57,
   "metadata": {},
   "outputs": [],
   "source": [
    "ratings.timestamp = pd.to_datetime(ratings.timestamp, unit='s')"
   ]
  },
  {
   "cell_type": "code",
   "execution_count": 58,
   "metadata": {},
   "outputs": [
    {
     "data": {
      "text/html": [
       "<div>\n",
       "<style scoped>\n",
       "    .dataframe tbody tr th:only-of-type {\n",
       "        vertical-align: middle;\n",
       "    }\n",
       "\n",
       "    .dataframe tbody tr th {\n",
       "        vertical-align: top;\n",
       "    }\n",
       "\n",
       "    .dataframe thead th {\n",
       "        text-align: right;\n",
       "    }\n",
       "</style>\n",
       "<table border=\"1\" class=\"dataframe\">\n",
       "  <thead>\n",
       "    <tr style=\"text-align: right;\">\n",
       "      <th></th>\n",
       "      <th>userId</th>\n",
       "      <th>movieId</th>\n",
       "      <th>rating</th>\n",
       "      <th>timestamp</th>\n",
       "    </tr>\n",
       "  </thead>\n",
       "  <tbody>\n",
       "    <tr>\n",
       "      <th>0</th>\n",
       "      <td>1</td>\n",
       "      <td>1</td>\n",
       "      <td>4.0</td>\n",
       "      <td>2000-07-30 18:45:03</td>\n",
       "    </tr>\n",
       "    <tr>\n",
       "      <th>1</th>\n",
       "      <td>1</td>\n",
       "      <td>3</td>\n",
       "      <td>4.0</td>\n",
       "      <td>2000-07-30 18:20:47</td>\n",
       "    </tr>\n",
       "    <tr>\n",
       "      <th>2</th>\n",
       "      <td>1</td>\n",
       "      <td>6</td>\n",
       "      <td>4.0</td>\n",
       "      <td>2000-07-30 18:37:04</td>\n",
       "    </tr>\n",
       "    <tr>\n",
       "      <th>3</th>\n",
       "      <td>1</td>\n",
       "      <td>47</td>\n",
       "      <td>5.0</td>\n",
       "      <td>2000-07-30 19:03:35</td>\n",
       "    </tr>\n",
       "    <tr>\n",
       "      <th>4</th>\n",
       "      <td>1</td>\n",
       "      <td>50</td>\n",
       "      <td>5.0</td>\n",
       "      <td>2000-07-30 18:48:51</td>\n",
       "    </tr>\n",
       "  </tbody>\n",
       "</table>\n",
       "</div>"
      ],
      "text/plain": [
       "   userId  movieId  rating           timestamp\n",
       "0       1        1     4.0 2000-07-30 18:45:03\n",
       "1       1        3     4.0 2000-07-30 18:20:47\n",
       "2       1        6     4.0 2000-07-30 18:37:04\n",
       "3       1       47     5.0 2000-07-30 19:03:35\n",
       "4       1       50     5.0 2000-07-30 18:48:51"
      ]
     },
     "execution_count": 58,
     "metadata": {},
     "output_type": "execute_result"
    }
   ],
   "source": [
    "ratings.head()"
   ]
  },
  {
   "cell_type": "code",
   "execution_count": 59,
   "metadata": {},
   "outputs": [],
   "source": [
    "count_time_stats = ratings.groupby(ratings.timestamp.dt.to_period('M'))['timestamp'].count()"
   ]
  },
  {
   "cell_type": "code",
   "execution_count": 60,
   "metadata": {},
   "outputs": [],
   "source": [
    "count_time_stats.name = 'cnt'\n",
    "count_time_stats = count_time_stats.reset_index()"
   ]
  },
  {
   "cell_type": "code",
   "execution_count": 61,
   "metadata": {},
   "outputs": [
    {
     "data": {
      "text/html": [
       "<div>\n",
       "<style scoped>\n",
       "    .dataframe tbody tr th:only-of-type {\n",
       "        vertical-align: middle;\n",
       "    }\n",
       "\n",
       "    .dataframe tbody tr th {\n",
       "        vertical-align: top;\n",
       "    }\n",
       "\n",
       "    .dataframe thead th {\n",
       "        text-align: right;\n",
       "    }\n",
       "</style>\n",
       "<table border=\"1\" class=\"dataframe\">\n",
       "  <thead>\n",
       "    <tr style=\"text-align: right;\">\n",
       "      <th></th>\n",
       "      <th>timestamp</th>\n",
       "      <th>cnt</th>\n",
       "    </tr>\n",
       "  </thead>\n",
       "  <tbody>\n",
       "    <tr>\n",
       "      <th>0</th>\n",
       "      <td>1996-03</td>\n",
       "      <td>58</td>\n",
       "    </tr>\n",
       "    <tr>\n",
       "      <th>1</th>\n",
       "      <td>1996-04</td>\n",
       "      <td>165</td>\n",
       "    </tr>\n",
       "    <tr>\n",
       "      <th>2</th>\n",
       "      <td>1996-05</td>\n",
       "      <td>832</td>\n",
       "    </tr>\n",
       "    <tr>\n",
       "      <th>3</th>\n",
       "      <td>1996-06</td>\n",
       "      <td>883</td>\n",
       "    </tr>\n",
       "    <tr>\n",
       "      <th>4</th>\n",
       "      <td>1996-07</td>\n",
       "      <td>489</td>\n",
       "    </tr>\n",
       "  </tbody>\n",
       "</table>\n",
       "</div>"
      ],
      "text/plain": [
       "  timestamp  cnt\n",
       "0   1996-03   58\n",
       "1   1996-04  165\n",
       "2   1996-05  832\n",
       "3   1996-06  883\n",
       "4   1996-07  489"
      ]
     },
     "execution_count": 61,
     "metadata": {},
     "output_type": "execute_result"
    }
   ],
   "source": [
    "count_time_stats.head()"
   ]
  },
  {
   "cell_type": "code",
   "execution_count": 62,
   "metadata": {},
   "outputs": [],
   "source": [
    "count_time_stats.timestamp = count_time_stats.timestamp.astype(str)"
   ]
  },
  {
   "cell_type": "code",
   "execution_count": 63,
   "metadata": {},
   "outputs": [
    {
     "data": {
      "application/vnd.plotly.v1+json": {
       "config": {
        "plotlyServerURL": "https://plot.ly"
       },
       "data": [
        {
         "alignmentgroup": "True",
         "hovertemplate": "timestamp=%{x}<br>cnt=%{y}<extra></extra>",
         "legendgroup": "",
         "marker": {
          "color": "#636efa"
         },
         "name": "",
         "offsetgroup": "",
         "orientation": "v",
         "showlegend": false,
         "textposition": "auto",
         "type": "bar",
         "x": [
          "1996-03",
          "1996-04",
          "1996-05",
          "1996-06",
          "1996-07",
          "1996-08",
          "1996-09",
          "1996-10",
          "1996-11",
          "1996-12",
          "1997-01",
          "1997-02",
          "1997-03",
          "1997-04",
          "1997-05",
          "1997-06",
          "1997-07",
          "1997-09",
          "1997-10",
          "1997-11",
          "1997-12",
          "1998-01",
          "1998-02",
          "1998-03",
          "1998-05",
          "1998-06",
          "1998-07",
          "1998-08",
          "1998-10",
          "1998-11",
          "1998-12",
          "1999-01",
          "1999-02",
          "1999-03",
          "1999-05",
          "1999-06",
          "1999-07",
          "1999-08",
          "1999-09",
          "1999-10",
          "1999-11",
          "1999-12",
          "2000-01",
          "2000-02",
          "2000-03",
          "2000-04",
          "2000-05",
          "2000-06",
          "2000-07",
          "2000-08",
          "2000-09",
          "2000-10",
          "2000-11",
          "2000-12",
          "2001-01",
          "2001-02",
          "2001-03",
          "2001-04",
          "2001-05",
          "2001-06",
          "2001-07",
          "2001-08",
          "2001-09",
          "2001-10",
          "2001-11",
          "2001-12",
          "2002-01",
          "2002-02",
          "2002-03",
          "2002-04",
          "2002-05",
          "2002-06",
          "2002-07",
          "2002-08",
          "2002-09",
          "2002-10",
          "2002-11",
          "2002-12",
          "2003-01",
          "2003-02",
          "2003-03",
          "2003-04",
          "2003-05",
          "2003-06",
          "2003-07",
          "2003-08",
          "2003-09",
          "2003-10",
          "2003-11",
          "2003-12",
          "2004-01",
          "2004-02",
          "2004-03",
          "2004-04",
          "2004-05",
          "2004-06",
          "2004-07",
          "2004-08",
          "2004-09",
          "2004-10",
          "2004-11",
          "2004-12",
          "2005-01",
          "2005-02",
          "2005-03",
          "2005-04",
          "2005-05",
          "2005-06",
          "2005-07",
          "2005-08",
          "2005-09",
          "2005-10",
          "2005-11",
          "2005-12",
          "2006-01",
          "2006-02",
          "2006-03",
          "2006-04",
          "2006-05",
          "2006-06",
          "2006-07",
          "2006-08",
          "2006-09",
          "2006-10",
          "2006-11",
          "2006-12",
          "2007-01",
          "2007-02",
          "2007-03",
          "2007-04",
          "2007-05",
          "2007-06",
          "2007-07",
          "2007-08",
          "2007-09",
          "2007-10",
          "2007-11",
          "2007-12",
          "2008-01",
          "2008-02",
          "2008-03",
          "2008-04",
          "2008-05",
          "2008-06",
          "2008-07",
          "2008-08",
          "2008-09",
          "2008-10",
          "2008-11",
          "2008-12",
          "2009-01",
          "2009-02",
          "2009-03",
          "2009-04",
          "2009-05",
          "2009-06",
          "2009-07",
          "2009-08",
          "2009-09",
          "2009-10",
          "2009-11",
          "2009-12",
          "2010-01",
          "2010-02",
          "2010-03",
          "2010-04",
          "2010-05",
          "2010-06",
          "2010-07",
          "2010-08",
          "2010-09",
          "2010-10",
          "2010-11",
          "2010-12",
          "2011-01",
          "2011-02",
          "2011-03",
          "2011-04",
          "2011-05",
          "2011-06",
          "2011-07",
          "2011-08",
          "2011-09",
          "2011-10",
          "2011-11",
          "2011-12",
          "2012-01",
          "2012-02",
          "2012-03",
          "2012-04",
          "2012-05",
          "2012-06",
          "2012-07",
          "2012-08",
          "2012-09",
          "2012-10",
          "2012-11",
          "2012-12",
          "2013-01",
          "2013-02",
          "2013-03",
          "2013-04",
          "2013-05",
          "2013-06",
          "2013-07",
          "2013-08",
          "2013-09",
          "2013-10",
          "2013-11",
          "2013-12",
          "2014-01",
          "2014-02",
          "2014-03",
          "2014-04",
          "2014-05",
          "2014-06",
          "2014-07",
          "2014-08",
          "2014-09",
          "2014-10",
          "2014-11",
          "2014-12",
          "2015-01",
          "2015-02",
          "2015-03",
          "2015-04",
          "2015-05",
          "2015-06",
          "2015-07",
          "2015-08",
          "2015-09",
          "2015-10",
          "2015-11",
          "2015-12",
          "2016-01",
          "2016-02",
          "2016-03",
          "2016-04",
          "2016-05",
          "2016-06",
          "2016-07",
          "2016-08",
          "2016-09",
          "2016-10",
          "2016-11",
          "2016-12",
          "2017-01",
          "2017-02",
          "2017-03",
          "2017-04",
          "2017-05",
          "2017-06",
          "2017-07",
          "2017-08",
          "2017-09",
          "2017-10",
          "2017-11",
          "2017-12",
          "2018-01",
          "2018-02",
          "2018-03",
          "2018-04",
          "2018-05",
          "2018-06",
          "2018-07",
          "2018-08",
          "2018-09"
         ],
         "xaxis": "x",
         "y": [
          58,
          165,
          832,
          883,
          489,
          1010,
          384,
          935,
          978,
          306,
          250,
          323,
          398,
          219,
          303,
          84,
          70,
          236,
          1,
          4,
          28,
          57,
          1,
          130,
          32,
          43,
          113,
          119,
          1,
          4,
          7,
          4,
          32,
          7,
          36,
          3,
          4,
          3,
          1,
          971,
          660,
          718,
          297,
          303,
          779,
          622,
          157,
          1180,
          1081,
          2319,
          298,
          959,
          1476,
          590,
          1107,
          69,
          37,
          160,
          302,
          177,
          577,
          244,
          188,
          306,
          288,
          467,
          66,
          148,
          78,
          635,
          158,
          84,
          165,
          548,
          671,
          363,
          41,
          521,
          501,
          156,
          842,
          45,
          608,
          872,
          275,
          104,
          221,
          120,
          86,
          184,
          139,
          160,
          216,
          111,
          544,
          213,
          220,
          203,
          874,
          127,
          425,
          47,
          1172,
          445,
          1041,
          966,
          879,
          411,
          278,
          173,
          239,
          95,
          54,
          60,
          302,
          185,
          106,
          150,
          128,
          32,
          77,
          265,
          1025,
          937,
          376,
          476,
          534,
          1670,
          281,
          179,
          1349,
          661,
          64,
          1039,
          365,
          108,
          595,
          269,
          880,
          276,
          256,
          240,
          161,
          74,
          354,
          644,
          328,
          179,
          150,
          809,
          504,
          494,
          1085,
          135,
          284,
          80,
          159,
          115,
          210,
          80,
          637,
          375,
          138,
          253,
          345,
          321,
          87,
          358,
          70,
          58,
          81,
          375,
          89,
          126,
          153,
          106,
          85,
          23,
          248,
          180,
          125,
          90,
          286,
          82,
          177,
          135,
          511,
          231,
          623,
          438,
          148,
          203,
          394,
          133,
          897,
          230,
          576,
          272,
          150,
          44,
          57,
          196,
          263,
          48,
          18,
          380,
          265,
          105,
          57,
          81,
          57,
          358,
          13,
          7,
          37,
          84,
          78,
          89,
          82,
          116,
          330,
          188,
          375,
          216,
          89,
          207,
          682,
          723,
          910,
          424,
          476,
          230,
          1839,
          445,
          344,
          576,
          834,
          1755,
          297,
          103,
          966,
          62,
          355,
          603,
          604,
          204,
          193,
          420,
          549,
          923,
          2397,
          1910,
          170,
          221,
          424,
          225,
          230,
          536,
          950,
          1169,
          971,
          230,
          951,
          419,
          293,
          831,
          604
         ],
         "yaxis": "y"
        }
       ],
       "layout": {
        "barmode": "relative",
        "legend": {
         "tracegroupgap": 0
        },
        "template": {
         "data": {
          "bar": [
           {
            "error_x": {
             "color": "#2a3f5f"
            },
            "error_y": {
             "color": "#2a3f5f"
            },
            "marker": {
             "line": {
              "color": "#E5ECF6",
              "width": 0.5
             }
            },
            "type": "bar"
           }
          ],
          "barpolar": [
           {
            "marker": {
             "line": {
              "color": "#E5ECF6",
              "width": 0.5
             }
            },
            "type": "barpolar"
           }
          ],
          "carpet": [
           {
            "aaxis": {
             "endlinecolor": "#2a3f5f",
             "gridcolor": "white",
             "linecolor": "white",
             "minorgridcolor": "white",
             "startlinecolor": "#2a3f5f"
            },
            "baxis": {
             "endlinecolor": "#2a3f5f",
             "gridcolor": "white",
             "linecolor": "white",
             "minorgridcolor": "white",
             "startlinecolor": "#2a3f5f"
            },
            "type": "carpet"
           }
          ],
          "choropleth": [
           {
            "colorbar": {
             "outlinewidth": 0,
             "ticks": ""
            },
            "type": "choropleth"
           }
          ],
          "contour": [
           {
            "colorbar": {
             "outlinewidth": 0,
             "ticks": ""
            },
            "colorscale": [
             [
              0,
              "#0d0887"
             ],
             [
              0.1111111111111111,
              "#46039f"
             ],
             [
              0.2222222222222222,
              "#7201a8"
             ],
             [
              0.3333333333333333,
              "#9c179e"
             ],
             [
              0.4444444444444444,
              "#bd3786"
             ],
             [
              0.5555555555555556,
              "#d8576b"
             ],
             [
              0.6666666666666666,
              "#ed7953"
             ],
             [
              0.7777777777777778,
              "#fb9f3a"
             ],
             [
              0.8888888888888888,
              "#fdca26"
             ],
             [
              1,
              "#f0f921"
             ]
            ],
            "type": "contour"
           }
          ],
          "contourcarpet": [
           {
            "colorbar": {
             "outlinewidth": 0,
             "ticks": ""
            },
            "type": "contourcarpet"
           }
          ],
          "heatmap": [
           {
            "colorbar": {
             "outlinewidth": 0,
             "ticks": ""
            },
            "colorscale": [
             [
              0,
              "#0d0887"
             ],
             [
              0.1111111111111111,
              "#46039f"
             ],
             [
              0.2222222222222222,
              "#7201a8"
             ],
             [
              0.3333333333333333,
              "#9c179e"
             ],
             [
              0.4444444444444444,
              "#bd3786"
             ],
             [
              0.5555555555555556,
              "#d8576b"
             ],
             [
              0.6666666666666666,
              "#ed7953"
             ],
             [
              0.7777777777777778,
              "#fb9f3a"
             ],
             [
              0.8888888888888888,
              "#fdca26"
             ],
             [
              1,
              "#f0f921"
             ]
            ],
            "type": "heatmap"
           }
          ],
          "heatmapgl": [
           {
            "colorbar": {
             "outlinewidth": 0,
             "ticks": ""
            },
            "colorscale": [
             [
              0,
              "#0d0887"
             ],
             [
              0.1111111111111111,
              "#46039f"
             ],
             [
              0.2222222222222222,
              "#7201a8"
             ],
             [
              0.3333333333333333,
              "#9c179e"
             ],
             [
              0.4444444444444444,
              "#bd3786"
             ],
             [
              0.5555555555555556,
              "#d8576b"
             ],
             [
              0.6666666666666666,
              "#ed7953"
             ],
             [
              0.7777777777777778,
              "#fb9f3a"
             ],
             [
              0.8888888888888888,
              "#fdca26"
             ],
             [
              1,
              "#f0f921"
             ]
            ],
            "type": "heatmapgl"
           }
          ],
          "histogram": [
           {
            "marker": {
             "colorbar": {
              "outlinewidth": 0,
              "ticks": ""
             }
            },
            "type": "histogram"
           }
          ],
          "histogram2d": [
           {
            "colorbar": {
             "outlinewidth": 0,
             "ticks": ""
            },
            "colorscale": [
             [
              0,
              "#0d0887"
             ],
             [
              0.1111111111111111,
              "#46039f"
             ],
             [
              0.2222222222222222,
              "#7201a8"
             ],
             [
              0.3333333333333333,
              "#9c179e"
             ],
             [
              0.4444444444444444,
              "#bd3786"
             ],
             [
              0.5555555555555556,
              "#d8576b"
             ],
             [
              0.6666666666666666,
              "#ed7953"
             ],
             [
              0.7777777777777778,
              "#fb9f3a"
             ],
             [
              0.8888888888888888,
              "#fdca26"
             ],
             [
              1,
              "#f0f921"
             ]
            ],
            "type": "histogram2d"
           }
          ],
          "histogram2dcontour": [
           {
            "colorbar": {
             "outlinewidth": 0,
             "ticks": ""
            },
            "colorscale": [
             [
              0,
              "#0d0887"
             ],
             [
              0.1111111111111111,
              "#46039f"
             ],
             [
              0.2222222222222222,
              "#7201a8"
             ],
             [
              0.3333333333333333,
              "#9c179e"
             ],
             [
              0.4444444444444444,
              "#bd3786"
             ],
             [
              0.5555555555555556,
              "#d8576b"
             ],
             [
              0.6666666666666666,
              "#ed7953"
             ],
             [
              0.7777777777777778,
              "#fb9f3a"
             ],
             [
              0.8888888888888888,
              "#fdca26"
             ],
             [
              1,
              "#f0f921"
             ]
            ],
            "type": "histogram2dcontour"
           }
          ],
          "mesh3d": [
           {
            "colorbar": {
             "outlinewidth": 0,
             "ticks": ""
            },
            "type": "mesh3d"
           }
          ],
          "parcoords": [
           {
            "line": {
             "colorbar": {
              "outlinewidth": 0,
              "ticks": ""
             }
            },
            "type": "parcoords"
           }
          ],
          "pie": [
           {
            "automargin": true,
            "type": "pie"
           }
          ],
          "scatter": [
           {
            "marker": {
             "colorbar": {
              "outlinewidth": 0,
              "ticks": ""
             }
            },
            "type": "scatter"
           }
          ],
          "scatter3d": [
           {
            "line": {
             "colorbar": {
              "outlinewidth": 0,
              "ticks": ""
             }
            },
            "marker": {
             "colorbar": {
              "outlinewidth": 0,
              "ticks": ""
             }
            },
            "type": "scatter3d"
           }
          ],
          "scattercarpet": [
           {
            "marker": {
             "colorbar": {
              "outlinewidth": 0,
              "ticks": ""
             }
            },
            "type": "scattercarpet"
           }
          ],
          "scattergeo": [
           {
            "marker": {
             "colorbar": {
              "outlinewidth": 0,
              "ticks": ""
             }
            },
            "type": "scattergeo"
           }
          ],
          "scattergl": [
           {
            "marker": {
             "colorbar": {
              "outlinewidth": 0,
              "ticks": ""
             }
            },
            "type": "scattergl"
           }
          ],
          "scattermapbox": [
           {
            "marker": {
             "colorbar": {
              "outlinewidth": 0,
              "ticks": ""
             }
            },
            "type": "scattermapbox"
           }
          ],
          "scatterpolar": [
           {
            "marker": {
             "colorbar": {
              "outlinewidth": 0,
              "ticks": ""
             }
            },
            "type": "scatterpolar"
           }
          ],
          "scatterpolargl": [
           {
            "marker": {
             "colorbar": {
              "outlinewidth": 0,
              "ticks": ""
             }
            },
            "type": "scatterpolargl"
           }
          ],
          "scatterternary": [
           {
            "marker": {
             "colorbar": {
              "outlinewidth": 0,
              "ticks": ""
             }
            },
            "type": "scatterternary"
           }
          ],
          "surface": [
           {
            "colorbar": {
             "outlinewidth": 0,
             "ticks": ""
            },
            "colorscale": [
             [
              0,
              "#0d0887"
             ],
             [
              0.1111111111111111,
              "#46039f"
             ],
             [
              0.2222222222222222,
              "#7201a8"
             ],
             [
              0.3333333333333333,
              "#9c179e"
             ],
             [
              0.4444444444444444,
              "#bd3786"
             ],
             [
              0.5555555555555556,
              "#d8576b"
             ],
             [
              0.6666666666666666,
              "#ed7953"
             ],
             [
              0.7777777777777778,
              "#fb9f3a"
             ],
             [
              0.8888888888888888,
              "#fdca26"
             ],
             [
              1,
              "#f0f921"
             ]
            ],
            "type": "surface"
           }
          ],
          "table": [
           {
            "cells": {
             "fill": {
              "color": "#EBF0F8"
             },
             "line": {
              "color": "white"
             }
            },
            "header": {
             "fill": {
              "color": "#C8D4E3"
             },
             "line": {
              "color": "white"
             }
            },
            "type": "table"
           }
          ]
         },
         "layout": {
          "annotationdefaults": {
           "arrowcolor": "#2a3f5f",
           "arrowhead": 0,
           "arrowwidth": 1
          },
          "autotypenumbers": "strict",
          "coloraxis": {
           "colorbar": {
            "outlinewidth": 0,
            "ticks": ""
           }
          },
          "colorscale": {
           "diverging": [
            [
             0,
             "#8e0152"
            ],
            [
             0.1,
             "#c51b7d"
            ],
            [
             0.2,
             "#de77ae"
            ],
            [
             0.3,
             "#f1b6da"
            ],
            [
             0.4,
             "#fde0ef"
            ],
            [
             0.5,
             "#f7f7f7"
            ],
            [
             0.6,
             "#e6f5d0"
            ],
            [
             0.7,
             "#b8e186"
            ],
            [
             0.8,
             "#7fbc41"
            ],
            [
             0.9,
             "#4d9221"
            ],
            [
             1,
             "#276419"
            ]
           ],
           "sequential": [
            [
             0,
             "#0d0887"
            ],
            [
             0.1111111111111111,
             "#46039f"
            ],
            [
             0.2222222222222222,
             "#7201a8"
            ],
            [
             0.3333333333333333,
             "#9c179e"
            ],
            [
             0.4444444444444444,
             "#bd3786"
            ],
            [
             0.5555555555555556,
             "#d8576b"
            ],
            [
             0.6666666666666666,
             "#ed7953"
            ],
            [
             0.7777777777777778,
             "#fb9f3a"
            ],
            [
             0.8888888888888888,
             "#fdca26"
            ],
            [
             1,
             "#f0f921"
            ]
           ],
           "sequentialminus": [
            [
             0,
             "#0d0887"
            ],
            [
             0.1111111111111111,
             "#46039f"
            ],
            [
             0.2222222222222222,
             "#7201a8"
            ],
            [
             0.3333333333333333,
             "#9c179e"
            ],
            [
             0.4444444444444444,
             "#bd3786"
            ],
            [
             0.5555555555555556,
             "#d8576b"
            ],
            [
             0.6666666666666666,
             "#ed7953"
            ],
            [
             0.7777777777777778,
             "#fb9f3a"
            ],
            [
             0.8888888888888888,
             "#fdca26"
            ],
            [
             1,
             "#f0f921"
            ]
           ]
          },
          "colorway": [
           "#636efa",
           "#EF553B",
           "#00cc96",
           "#ab63fa",
           "#FFA15A",
           "#19d3f3",
           "#FF6692",
           "#B6E880",
           "#FF97FF",
           "#FECB52"
          ],
          "font": {
           "color": "#2a3f5f"
          },
          "geo": {
           "bgcolor": "white",
           "lakecolor": "white",
           "landcolor": "#E5ECF6",
           "showlakes": true,
           "showland": true,
           "subunitcolor": "white"
          },
          "hoverlabel": {
           "align": "left"
          },
          "hovermode": "closest",
          "mapbox": {
           "style": "light"
          },
          "paper_bgcolor": "white",
          "plot_bgcolor": "#E5ECF6",
          "polar": {
           "angularaxis": {
            "gridcolor": "white",
            "linecolor": "white",
            "ticks": ""
           },
           "bgcolor": "#E5ECF6",
           "radialaxis": {
            "gridcolor": "white",
            "linecolor": "white",
            "ticks": ""
           }
          },
          "scene": {
           "xaxis": {
            "backgroundcolor": "#E5ECF6",
            "gridcolor": "white",
            "gridwidth": 2,
            "linecolor": "white",
            "showbackground": true,
            "ticks": "",
            "zerolinecolor": "white"
           },
           "yaxis": {
            "backgroundcolor": "#E5ECF6",
            "gridcolor": "white",
            "gridwidth": 2,
            "linecolor": "white",
            "showbackground": true,
            "ticks": "",
            "zerolinecolor": "white"
           },
           "zaxis": {
            "backgroundcolor": "#E5ECF6",
            "gridcolor": "white",
            "gridwidth": 2,
            "linecolor": "white",
            "showbackground": true,
            "ticks": "",
            "zerolinecolor": "white"
           }
          },
          "shapedefaults": {
           "line": {
            "color": "#2a3f5f"
           }
          },
          "ternary": {
           "aaxis": {
            "gridcolor": "white",
            "linecolor": "white",
            "ticks": ""
           },
           "baxis": {
            "gridcolor": "white",
            "linecolor": "white",
            "ticks": ""
           },
           "bgcolor": "#E5ECF6",
           "caxis": {
            "gridcolor": "white",
            "linecolor": "white",
            "ticks": ""
           }
          },
          "title": {
           "x": 0.05
          },
          "xaxis": {
           "automargin": true,
           "gridcolor": "white",
           "linecolor": "white",
           "ticks": "",
           "title": {
            "standoff": 15
           },
           "zerolinecolor": "white",
           "zerolinewidth": 2
          },
          "yaxis": {
           "automargin": true,
           "gridcolor": "white",
           "linecolor": "white",
           "ticks": "",
           "title": {
            "standoff": 15
           },
           "zerolinecolor": "white",
           "zerolinewidth": 2
          }
         }
        },
        "title": {
         "text": "Count ratings stats"
        },
        "xaxis": {
         "anchor": "y",
         "domain": [
          0,
          1
         ],
         "title": {
          "text": "timestamp"
         }
        },
        "yaxis": {
         "anchor": "x",
         "domain": [
          0,
          1
         ],
         "title": {
          "text": "cnt"
         }
        }
       }
      },
      "text/html": [
       "<div>                            <div id=\"d42c2363-9c08-442b-9f93-58f838d08050\" class=\"plotly-graph-div\" style=\"height:525px; width:100%;\"></div>            <script type=\"text/javascript\">                require([\"plotly\"], function(Plotly) {                    window.PLOTLYENV=window.PLOTLYENV || {};                                    if (document.getElementById(\"d42c2363-9c08-442b-9f93-58f838d08050\")) {                    Plotly.newPlot(                        \"d42c2363-9c08-442b-9f93-58f838d08050\",                        [{\"alignmentgroup\": \"True\", \"hovertemplate\": \"timestamp=%{x}<br>cnt=%{y}<extra></extra>\", \"legendgroup\": \"\", \"marker\": {\"color\": \"#636efa\"}, \"name\": \"\", \"offsetgroup\": \"\", \"orientation\": \"v\", \"showlegend\": false, \"textposition\": \"auto\", \"type\": \"bar\", \"x\": [\"1996-03\", \"1996-04\", \"1996-05\", \"1996-06\", \"1996-07\", \"1996-08\", \"1996-09\", \"1996-10\", \"1996-11\", \"1996-12\", \"1997-01\", \"1997-02\", \"1997-03\", \"1997-04\", \"1997-05\", \"1997-06\", \"1997-07\", \"1997-09\", \"1997-10\", \"1997-11\", \"1997-12\", \"1998-01\", \"1998-02\", \"1998-03\", \"1998-05\", \"1998-06\", \"1998-07\", \"1998-08\", \"1998-10\", \"1998-11\", \"1998-12\", \"1999-01\", \"1999-02\", \"1999-03\", \"1999-05\", \"1999-06\", \"1999-07\", \"1999-08\", \"1999-09\", \"1999-10\", \"1999-11\", \"1999-12\", \"2000-01\", \"2000-02\", \"2000-03\", \"2000-04\", \"2000-05\", \"2000-06\", \"2000-07\", \"2000-08\", \"2000-09\", \"2000-10\", \"2000-11\", \"2000-12\", \"2001-01\", \"2001-02\", \"2001-03\", \"2001-04\", \"2001-05\", \"2001-06\", \"2001-07\", \"2001-08\", \"2001-09\", \"2001-10\", \"2001-11\", \"2001-12\", \"2002-01\", \"2002-02\", \"2002-03\", \"2002-04\", \"2002-05\", \"2002-06\", \"2002-07\", \"2002-08\", \"2002-09\", \"2002-10\", \"2002-11\", \"2002-12\", \"2003-01\", \"2003-02\", \"2003-03\", \"2003-04\", \"2003-05\", \"2003-06\", \"2003-07\", \"2003-08\", \"2003-09\", \"2003-10\", \"2003-11\", \"2003-12\", \"2004-01\", \"2004-02\", \"2004-03\", \"2004-04\", \"2004-05\", \"2004-06\", \"2004-07\", \"2004-08\", \"2004-09\", \"2004-10\", \"2004-11\", \"2004-12\", \"2005-01\", \"2005-02\", \"2005-03\", \"2005-04\", \"2005-05\", \"2005-06\", \"2005-07\", \"2005-08\", \"2005-09\", \"2005-10\", \"2005-11\", \"2005-12\", \"2006-01\", \"2006-02\", \"2006-03\", \"2006-04\", \"2006-05\", \"2006-06\", \"2006-07\", \"2006-08\", \"2006-09\", \"2006-10\", \"2006-11\", \"2006-12\", \"2007-01\", \"2007-02\", \"2007-03\", \"2007-04\", \"2007-05\", \"2007-06\", \"2007-07\", \"2007-08\", \"2007-09\", \"2007-10\", \"2007-11\", \"2007-12\", \"2008-01\", \"2008-02\", \"2008-03\", \"2008-04\", \"2008-05\", \"2008-06\", \"2008-07\", \"2008-08\", \"2008-09\", \"2008-10\", \"2008-11\", \"2008-12\", \"2009-01\", \"2009-02\", \"2009-03\", \"2009-04\", \"2009-05\", \"2009-06\", \"2009-07\", \"2009-08\", \"2009-09\", \"2009-10\", \"2009-11\", \"2009-12\", \"2010-01\", \"2010-02\", \"2010-03\", \"2010-04\", \"2010-05\", \"2010-06\", \"2010-07\", \"2010-08\", \"2010-09\", \"2010-10\", \"2010-11\", \"2010-12\", \"2011-01\", \"2011-02\", \"2011-03\", \"2011-04\", \"2011-05\", \"2011-06\", \"2011-07\", \"2011-08\", \"2011-09\", \"2011-10\", \"2011-11\", \"2011-12\", \"2012-01\", \"2012-02\", \"2012-03\", \"2012-04\", \"2012-05\", \"2012-06\", \"2012-07\", \"2012-08\", \"2012-09\", \"2012-10\", \"2012-11\", \"2012-12\", \"2013-01\", \"2013-02\", \"2013-03\", \"2013-04\", \"2013-05\", \"2013-06\", \"2013-07\", \"2013-08\", \"2013-09\", \"2013-10\", \"2013-11\", \"2013-12\", \"2014-01\", \"2014-02\", \"2014-03\", \"2014-04\", \"2014-05\", \"2014-06\", \"2014-07\", \"2014-08\", \"2014-09\", \"2014-10\", \"2014-11\", \"2014-12\", \"2015-01\", \"2015-02\", \"2015-03\", \"2015-04\", \"2015-05\", \"2015-06\", \"2015-07\", \"2015-08\", \"2015-09\", \"2015-10\", \"2015-11\", \"2015-12\", \"2016-01\", \"2016-02\", \"2016-03\", \"2016-04\", \"2016-05\", \"2016-06\", \"2016-07\", \"2016-08\", \"2016-09\", \"2016-10\", \"2016-11\", \"2016-12\", \"2017-01\", \"2017-02\", \"2017-03\", \"2017-04\", \"2017-05\", \"2017-06\", \"2017-07\", \"2017-08\", \"2017-09\", \"2017-10\", \"2017-11\", \"2017-12\", \"2018-01\", \"2018-02\", \"2018-03\", \"2018-04\", \"2018-05\", \"2018-06\", \"2018-07\", \"2018-08\", \"2018-09\"], \"xaxis\": \"x\", \"y\": [58, 165, 832, 883, 489, 1010, 384, 935, 978, 306, 250, 323, 398, 219, 303, 84, 70, 236, 1, 4, 28, 57, 1, 130, 32, 43, 113, 119, 1, 4, 7, 4, 32, 7, 36, 3, 4, 3, 1, 971, 660, 718, 297, 303, 779, 622, 157, 1180, 1081, 2319, 298, 959, 1476, 590, 1107, 69, 37, 160, 302, 177, 577, 244, 188, 306, 288, 467, 66, 148, 78, 635, 158, 84, 165, 548, 671, 363, 41, 521, 501, 156, 842, 45, 608, 872, 275, 104, 221, 120, 86, 184, 139, 160, 216, 111, 544, 213, 220, 203, 874, 127, 425, 47, 1172, 445, 1041, 966, 879, 411, 278, 173, 239, 95, 54, 60, 302, 185, 106, 150, 128, 32, 77, 265, 1025, 937, 376, 476, 534, 1670, 281, 179, 1349, 661, 64, 1039, 365, 108, 595, 269, 880, 276, 256, 240, 161, 74, 354, 644, 328, 179, 150, 809, 504, 494, 1085, 135, 284, 80, 159, 115, 210, 80, 637, 375, 138, 253, 345, 321, 87, 358, 70, 58, 81, 375, 89, 126, 153, 106, 85, 23, 248, 180, 125, 90, 286, 82, 177, 135, 511, 231, 623, 438, 148, 203, 394, 133, 897, 230, 576, 272, 150, 44, 57, 196, 263, 48, 18, 380, 265, 105, 57, 81, 57, 358, 13, 7, 37, 84, 78, 89, 82, 116, 330, 188, 375, 216, 89, 207, 682, 723, 910, 424, 476, 230, 1839, 445, 344, 576, 834, 1755, 297, 103, 966, 62, 355, 603, 604, 204, 193, 420, 549, 923, 2397, 1910, 170, 221, 424, 225, 230, 536, 950, 1169, 971, 230, 951, 419, 293, 831, 604], \"yaxis\": \"y\"}],                        {\"barmode\": \"relative\", \"legend\": {\"tracegroupgap\": 0}, \"template\": {\"data\": {\"bar\": [{\"error_x\": {\"color\": \"#2a3f5f\"}, \"error_y\": {\"color\": \"#2a3f5f\"}, \"marker\": {\"line\": {\"color\": \"#E5ECF6\", \"width\": 0.5}}, \"type\": \"bar\"}], \"barpolar\": [{\"marker\": {\"line\": {\"color\": \"#E5ECF6\", \"width\": 0.5}}, \"type\": \"barpolar\"}], \"carpet\": [{\"aaxis\": {\"endlinecolor\": \"#2a3f5f\", \"gridcolor\": \"white\", \"linecolor\": \"white\", \"minorgridcolor\": \"white\", \"startlinecolor\": \"#2a3f5f\"}, \"baxis\": {\"endlinecolor\": \"#2a3f5f\", \"gridcolor\": \"white\", \"linecolor\": \"white\", \"minorgridcolor\": \"white\", \"startlinecolor\": \"#2a3f5f\"}, \"type\": \"carpet\"}], \"choropleth\": [{\"colorbar\": {\"outlinewidth\": 0, \"ticks\": \"\"}, \"type\": \"choropleth\"}], \"contour\": [{\"colorbar\": {\"outlinewidth\": 0, \"ticks\": \"\"}, \"colorscale\": [[0.0, \"#0d0887\"], [0.1111111111111111, \"#46039f\"], [0.2222222222222222, \"#7201a8\"], [0.3333333333333333, \"#9c179e\"], [0.4444444444444444, \"#bd3786\"], [0.5555555555555556, \"#d8576b\"], [0.6666666666666666, \"#ed7953\"], [0.7777777777777778, \"#fb9f3a\"], [0.8888888888888888, \"#fdca26\"], [1.0, \"#f0f921\"]], \"type\": \"contour\"}], \"contourcarpet\": [{\"colorbar\": {\"outlinewidth\": 0, \"ticks\": \"\"}, \"type\": \"contourcarpet\"}], \"heatmap\": [{\"colorbar\": {\"outlinewidth\": 0, \"ticks\": \"\"}, \"colorscale\": [[0.0, \"#0d0887\"], [0.1111111111111111, \"#46039f\"], [0.2222222222222222, \"#7201a8\"], [0.3333333333333333, \"#9c179e\"], [0.4444444444444444, \"#bd3786\"], [0.5555555555555556, \"#d8576b\"], [0.6666666666666666, \"#ed7953\"], [0.7777777777777778, \"#fb9f3a\"], [0.8888888888888888, \"#fdca26\"], [1.0, \"#f0f921\"]], \"type\": \"heatmap\"}], \"heatmapgl\": [{\"colorbar\": {\"outlinewidth\": 0, \"ticks\": \"\"}, \"colorscale\": [[0.0, \"#0d0887\"], [0.1111111111111111, \"#46039f\"], [0.2222222222222222, \"#7201a8\"], [0.3333333333333333, \"#9c179e\"], [0.4444444444444444, \"#bd3786\"], [0.5555555555555556, \"#d8576b\"], [0.6666666666666666, \"#ed7953\"], [0.7777777777777778, \"#fb9f3a\"], [0.8888888888888888, \"#fdca26\"], [1.0, \"#f0f921\"]], \"type\": \"heatmapgl\"}], \"histogram\": [{\"marker\": {\"colorbar\": {\"outlinewidth\": 0, \"ticks\": \"\"}}, \"type\": \"histogram\"}], \"histogram2d\": [{\"colorbar\": {\"outlinewidth\": 0, \"ticks\": \"\"}, \"colorscale\": [[0.0, \"#0d0887\"], [0.1111111111111111, \"#46039f\"], [0.2222222222222222, \"#7201a8\"], [0.3333333333333333, \"#9c179e\"], [0.4444444444444444, \"#bd3786\"], [0.5555555555555556, \"#d8576b\"], [0.6666666666666666, \"#ed7953\"], [0.7777777777777778, \"#fb9f3a\"], [0.8888888888888888, \"#fdca26\"], [1.0, \"#f0f921\"]], \"type\": \"histogram2d\"}], \"histogram2dcontour\": [{\"colorbar\": {\"outlinewidth\": 0, \"ticks\": \"\"}, \"colorscale\": [[0.0, \"#0d0887\"], [0.1111111111111111, \"#46039f\"], [0.2222222222222222, \"#7201a8\"], [0.3333333333333333, \"#9c179e\"], [0.4444444444444444, \"#bd3786\"], [0.5555555555555556, \"#d8576b\"], [0.6666666666666666, \"#ed7953\"], [0.7777777777777778, \"#fb9f3a\"], [0.8888888888888888, \"#fdca26\"], [1.0, \"#f0f921\"]], \"type\": \"histogram2dcontour\"}], \"mesh3d\": [{\"colorbar\": {\"outlinewidth\": 0, \"ticks\": \"\"}, \"type\": \"mesh3d\"}], \"parcoords\": [{\"line\": {\"colorbar\": {\"outlinewidth\": 0, \"ticks\": \"\"}}, \"type\": \"parcoords\"}], \"pie\": [{\"automargin\": true, \"type\": \"pie\"}], \"scatter\": [{\"marker\": {\"colorbar\": {\"outlinewidth\": 0, \"ticks\": \"\"}}, \"type\": \"scatter\"}], \"scatter3d\": [{\"line\": {\"colorbar\": {\"outlinewidth\": 0, \"ticks\": \"\"}}, \"marker\": {\"colorbar\": {\"outlinewidth\": 0, \"ticks\": \"\"}}, \"type\": \"scatter3d\"}], \"scattercarpet\": [{\"marker\": {\"colorbar\": {\"outlinewidth\": 0, \"ticks\": \"\"}}, \"type\": \"scattercarpet\"}], \"scattergeo\": [{\"marker\": {\"colorbar\": {\"outlinewidth\": 0, \"ticks\": \"\"}}, \"type\": \"scattergeo\"}], \"scattergl\": [{\"marker\": {\"colorbar\": {\"outlinewidth\": 0, \"ticks\": \"\"}}, \"type\": \"scattergl\"}], \"scattermapbox\": [{\"marker\": {\"colorbar\": {\"outlinewidth\": 0, \"ticks\": \"\"}}, \"type\": \"scattermapbox\"}], \"scatterpolar\": [{\"marker\": {\"colorbar\": {\"outlinewidth\": 0, \"ticks\": \"\"}}, \"type\": \"scatterpolar\"}], \"scatterpolargl\": [{\"marker\": {\"colorbar\": {\"outlinewidth\": 0, \"ticks\": \"\"}}, \"type\": \"scatterpolargl\"}], \"scatterternary\": [{\"marker\": {\"colorbar\": {\"outlinewidth\": 0, \"ticks\": \"\"}}, \"type\": \"scatterternary\"}], \"surface\": [{\"colorbar\": {\"outlinewidth\": 0, \"ticks\": \"\"}, \"colorscale\": [[0.0, \"#0d0887\"], [0.1111111111111111, \"#46039f\"], [0.2222222222222222, \"#7201a8\"], [0.3333333333333333, \"#9c179e\"], [0.4444444444444444, \"#bd3786\"], [0.5555555555555556, \"#d8576b\"], [0.6666666666666666, \"#ed7953\"], [0.7777777777777778, \"#fb9f3a\"], [0.8888888888888888, \"#fdca26\"], [1.0, \"#f0f921\"]], \"type\": \"surface\"}], \"table\": [{\"cells\": {\"fill\": {\"color\": \"#EBF0F8\"}, \"line\": {\"color\": \"white\"}}, \"header\": {\"fill\": {\"color\": \"#C8D4E3\"}, \"line\": {\"color\": \"white\"}}, \"type\": \"table\"}]}, \"layout\": {\"annotationdefaults\": {\"arrowcolor\": \"#2a3f5f\", \"arrowhead\": 0, \"arrowwidth\": 1}, \"autotypenumbers\": \"strict\", \"coloraxis\": {\"colorbar\": {\"outlinewidth\": 0, \"ticks\": \"\"}}, \"colorscale\": {\"diverging\": [[0, \"#8e0152\"], [0.1, \"#c51b7d\"], [0.2, \"#de77ae\"], [0.3, \"#f1b6da\"], [0.4, \"#fde0ef\"], [0.5, \"#f7f7f7\"], [0.6, \"#e6f5d0\"], [0.7, \"#b8e186\"], [0.8, \"#7fbc41\"], [0.9, \"#4d9221\"], [1, \"#276419\"]], \"sequential\": [[0.0, \"#0d0887\"], [0.1111111111111111, \"#46039f\"], [0.2222222222222222, \"#7201a8\"], [0.3333333333333333, \"#9c179e\"], [0.4444444444444444, \"#bd3786\"], [0.5555555555555556, \"#d8576b\"], [0.6666666666666666, \"#ed7953\"], [0.7777777777777778, \"#fb9f3a\"], [0.8888888888888888, \"#fdca26\"], [1.0, \"#f0f921\"]], \"sequentialminus\": [[0.0, \"#0d0887\"], [0.1111111111111111, \"#46039f\"], [0.2222222222222222, \"#7201a8\"], [0.3333333333333333, \"#9c179e\"], [0.4444444444444444, \"#bd3786\"], [0.5555555555555556, \"#d8576b\"], [0.6666666666666666, \"#ed7953\"], [0.7777777777777778, \"#fb9f3a\"], [0.8888888888888888, \"#fdca26\"], [1.0, \"#f0f921\"]]}, \"colorway\": [\"#636efa\", \"#EF553B\", \"#00cc96\", \"#ab63fa\", \"#FFA15A\", \"#19d3f3\", \"#FF6692\", \"#B6E880\", \"#FF97FF\", \"#FECB52\"], \"font\": {\"color\": \"#2a3f5f\"}, \"geo\": {\"bgcolor\": \"white\", \"lakecolor\": \"white\", \"landcolor\": \"#E5ECF6\", \"showlakes\": true, \"showland\": true, \"subunitcolor\": \"white\"}, \"hoverlabel\": {\"align\": \"left\"}, \"hovermode\": \"closest\", \"mapbox\": {\"style\": \"light\"}, \"paper_bgcolor\": \"white\", \"plot_bgcolor\": \"#E5ECF6\", \"polar\": {\"angularaxis\": {\"gridcolor\": \"white\", \"linecolor\": \"white\", \"ticks\": \"\"}, \"bgcolor\": \"#E5ECF6\", \"radialaxis\": {\"gridcolor\": \"white\", \"linecolor\": \"white\", \"ticks\": \"\"}}, \"scene\": {\"xaxis\": {\"backgroundcolor\": \"#E5ECF6\", \"gridcolor\": \"white\", \"gridwidth\": 2, \"linecolor\": \"white\", \"showbackground\": true, \"ticks\": \"\", \"zerolinecolor\": \"white\"}, \"yaxis\": {\"backgroundcolor\": \"#E5ECF6\", \"gridcolor\": \"white\", \"gridwidth\": 2, \"linecolor\": \"white\", \"showbackground\": true, \"ticks\": \"\", \"zerolinecolor\": \"white\"}, \"zaxis\": {\"backgroundcolor\": \"#E5ECF6\", \"gridcolor\": \"white\", \"gridwidth\": 2, \"linecolor\": \"white\", \"showbackground\": true, \"ticks\": \"\", \"zerolinecolor\": \"white\"}}, \"shapedefaults\": {\"line\": {\"color\": \"#2a3f5f\"}}, \"ternary\": {\"aaxis\": {\"gridcolor\": \"white\", \"linecolor\": \"white\", \"ticks\": \"\"}, \"baxis\": {\"gridcolor\": \"white\", \"linecolor\": \"white\", \"ticks\": \"\"}, \"bgcolor\": \"#E5ECF6\", \"caxis\": {\"gridcolor\": \"white\", \"linecolor\": \"white\", \"ticks\": \"\"}}, \"title\": {\"x\": 0.05}, \"xaxis\": {\"automargin\": true, \"gridcolor\": \"white\", \"linecolor\": \"white\", \"ticks\": \"\", \"title\": {\"standoff\": 15}, \"zerolinecolor\": \"white\", \"zerolinewidth\": 2}, \"yaxis\": {\"automargin\": true, \"gridcolor\": \"white\", \"linecolor\": \"white\", \"ticks\": \"\", \"title\": {\"standoff\": 15}, \"zerolinecolor\": \"white\", \"zerolinewidth\": 2}}}, \"title\": {\"text\": \"Count ratings stats\"}, \"xaxis\": {\"anchor\": \"y\", \"domain\": [0.0, 1.0], \"title\": {\"text\": \"timestamp\"}}, \"yaxis\": {\"anchor\": \"x\", \"domain\": [0.0, 1.0], \"title\": {\"text\": \"cnt\"}}},                        {\"responsive\": true}                    ).then(function(){\n",
       "                            \n",
       "var gd = document.getElementById('d42c2363-9c08-442b-9f93-58f838d08050');\n",
       "var x = new MutationObserver(function (mutations, observer) {{\n",
       "        var display = window.getComputedStyle(gd).display;\n",
       "        if (!display || display === 'none') {{\n",
       "            console.log([gd, 'removed!']);\n",
       "            Plotly.purge(gd);\n",
       "            observer.disconnect();\n",
       "        }}\n",
       "}});\n",
       "\n",
       "// Listen for the removal of the full notebook cells\n",
       "var notebookContainer = gd.closest('#notebook-container');\n",
       "if (notebookContainer) {{\n",
       "    x.observe(notebookContainer, {childList: true});\n",
       "}}\n",
       "\n",
       "// Listen for the clearing of the current output cell\n",
       "var outputEl = gd.closest('.output');\n",
       "if (outputEl) {{\n",
       "    x.observe(outputEl, {childList: true});\n",
       "}}\n",
       "\n",
       "                        })                };                });            </script>        </div>"
      ]
     },
     "metadata": {},
     "output_type": "display_data"
    }
   ],
   "source": [
    "fig = px.bar(count_time_stats, x=\"timestamp\", y=\"cnt\", title = 'Count ratings stats')\n",
    "fig.show()"
   ]
  },
  {
   "cell_type": "markdown",
   "metadata": {},
   "source": [
    "### Train-Test Split"
   ]
  },
  {
   "cell_type": "markdown",
   "metadata": {},
   "source": [
    "#### timestamp\n",
    "\n",
    "можно делить по времени, чтобы предсказать на какой-то сезон"
   ]
  },
  {
   "cell_type": "code",
   "execution_count": 64,
   "metadata": {},
   "outputs": [],
   "source": [
    "TRESHOLD_DATE = '2018-01-01'"
   ]
  },
  {
   "cell_type": "code",
   "execution_count": 65,
   "metadata": {},
   "outputs": [],
   "source": [
    "train = ratings[ratings.timestamp<=TRESHOLD_DATE]\n",
    "test = ratings[ratings.timestamp>TRESHOLD_DATE]"
   ]
  },
  {
   "cell_type": "code",
   "execution_count": 66,
   "metadata": {},
   "outputs": [
    {
     "name": "stdout",
     "output_type": "stream",
     "text": [
      "dataset train  94418  test 6418\n",
      "unique user in train 581 test  49\n",
      "cold-user in the test  29\n"
     ]
    }
   ],
   "source": [
    "print('dataset train ', train.shape[0], ' test', test.shape[0])\n",
    "print('unique user in train', train.userId.nunique(), 'test ', test.userId.nunique())\n",
    "print('cold-user in the test ', test.userId.nunique() - test[test.userId.isin(train.userId)].userId.nunique())"
   ]
  },
  {
   "cell_type": "code",
   "execution_count": 67,
   "metadata": {},
   "outputs": [
    {
     "name": "stdout",
     "output_type": "stream",
     "text": [
      "unique user in train 8830 test  3349\n",
      "cold-item in the test  894\n"
     ]
    }
   ],
   "source": [
    "print('unique user in train', train.movieId.nunique(), 'test ', test.movieId.nunique())\n",
    "print('cold-item in the test ', test.movieId.nunique() - test[test.movieId.isin(train.movieId)].movieId.nunique())"
   ]
  },
  {
   "cell_type": "markdown",
   "metadata": {},
   "source": [
    "#### by users\n",
    "\n",
    "а можно делить по юзерам, но предсказывать для будущего"
   ]
  },
  {
   "cell_type": "code",
   "execution_count": 80,
   "metadata": {},
   "outputs": [],
   "source": [
    "TRESHOLD = 0.94\n",
    "MIN_RATE = 10"
   ]
  },
  {
   "cell_type": "code",
   "execution_count": 81,
   "metadata": {},
   "outputs": [],
   "source": [
    "ratings_filtered = ratings.groupby('userId').filter(lambda x: len(x)>=MIN_RATE)"
   ]
  },
  {
   "cell_type": "code",
   "execution_count": 82,
   "metadata": {},
   "outputs": [
    {
     "name": "stdout",
     "output_type": "stream",
     "text": [
      "Rating table after min filtering 100836\n"
     ]
    }
   ],
   "source": [
    "print('Rating table after min filtering', ratings_filtered.shape[0])"
   ]
  },
  {
   "cell_type": "code",
   "execution_count": 83,
   "metadata": {},
   "outputs": [],
   "source": [
    "train = pd.DataFrame()\n",
    "test = pd.DataFrame()\n",
    "for user in ratings_filtered.userId.unique():\n",
    "    temp_table = ratings_filtered[ratings_filtered.userId == user]\n",
    "    cnt = temp_table.shape[0]\n",
    "    size_train = round(cnt*TRESHOLD, 0)\n",
    "    train = train.append(temp_table.sort_values('timestamp').iloc[:int(size_train),:])\n",
    "    test = test.append(temp_table.sort_values('timestamp').iloc[int(size_train):,:])"
   ]
  },
  {
   "cell_type": "code",
   "execution_count": 84,
   "metadata": {},
   "outputs": [
    {
     "name": "stdout",
     "output_type": "stream",
     "text": [
      "dataset train  94797  test 6039\n",
      "unique user in train 610 test  610\n",
      "cold-user in the test  0\n"
     ]
    }
   ],
   "source": [
    "print('dataset train ', train.shape[0], ' test', test.shape[0])\n",
    "print('unique user in train', train.userId.nunique(), 'test ', test.userId.nunique())\n",
    "print('cold-user in the test ', test.userId.nunique() - test[test.userId.isin(train.userId)].userId.nunique())"
   ]
  },
  {
   "cell_type": "code",
   "execution_count": 85,
   "metadata": {},
   "outputs": [
    {
     "name": "stdout",
     "output_type": "stream",
     "text": [
      "unique user in train 9241 test  3359\n",
      "cold-item in the test  483\n"
     ]
    }
   ],
   "source": [
    "print('unique user in train', train.movieId.nunique(), 'test ', test.movieId.nunique())\n",
    "print('cold-item in the test ', test.movieId.nunique() - test[test.movieId.isin(train.movieId)].movieId.nunique())"
   ]
  },
  {
   "cell_type": "code",
   "execution_count": null,
   "metadata": {},
   "outputs": [],
   "source": []
  },
  {
   "cell_type": "code",
   "execution_count": null,
   "metadata": {},
   "outputs": [],
   "source": []
  }
 ],
 "metadata": {
  "kernelspec": {
   "display_name": "Python 3",
   "language": "python",
   "name": "python3"
  },
  "language_info": {
   "codemirror_mode": {
    "name": "ipython",
    "version": 3
   },
   "file_extension": ".py",
   "mimetype": "text/x-python",
   "name": "python",
   "nbconvert_exporter": "python",
   "pygments_lexer": "ipython3",
   "version": "3.9.5"
  },
  "toc": {
   "base_numbering": 1,
   "nav_menu": {},
   "number_sections": true,
   "sideBar": true,
   "skip_h1_title": false,
   "title_cell": "Table of Contents",
   "title_sidebar": "Contents",
   "toc_cell": false,
   "toc_position": {},
   "toc_section_display": true,
   "toc_window_display": false
  },
  "widgets": {
   "application/vnd.jupyter.widget-state+json": {
    "state": {},
    "version_major": 2,
    "version_minor": 0
   }
  }
 },
 "nbformat": 4,
 "nbformat_minor": 2
}
